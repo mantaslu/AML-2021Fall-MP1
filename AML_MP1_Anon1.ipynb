{
 "cells": [
  {
   "cell_type": "markdown",
   "source": [
    "<a id='main' name=\"main\"></a>\n",
    "# Viral Data Analysis\n",
    "\n",
    "Date: 2021.10.10\n",
    "\n",
    "Author: © 2021 Anonymous course participant\n",
    "\n",
    "This notebook is part of an individual project for [KTU IF](https://fi.ktu.edu/)  [P176M010 Advanced Machine Learning](https://admissions.ktu.edu/programme/m-software-engineering/#P176M010) class led by [M. Lukoševičius](http://mantas.info/).\n",
    "\n",
    "Here we analyze open COVID-19 data from [Our World in Data](https://ourworldindata.org/) to answer the following questions:\n",
    "\n",
    "1. [How did the crime rates change in Lithuania during the lockdowns? ](#Q1)\n",
    "1. [What is the correlation between covid cases and crime rates?](#Q2)\n",
    "1. [Is it possible to predict the crime rates based on covid cases?](#Q3)\n",
    "\n",
    "We additionally uses data from:\n",
    "* [https://www.ird.lt/lt/paslaugos/tvarkomu-valdomu-registru-ir-informaciniu-sistemu-paslaugos/nusikalstamu-veiku-zinybinio-registro-nvzr-atviri-duomenys-paslaugos/nvzr-nusikalstamumas-pagal-savivaldybes?year=2021&month=11&municipality=0]\n",
    "* [https://open-data-ls-osp-sdg.hub.arcgis.com/datasets/ba35de03e111430f88a86f7d1f351de6_0/explore]\n",
    "\n",
    "\n",
    "This work is licensed under a <a rel=\"license\" href=\"http://creativecommons.org/licenses/by/4.0/\">Creative Commons Attribution 4.0 International license</a>. <a rel=\"license\" href=\"http://creativecommons.org/licenses/by/4.0/\"><img alt=\"Creative Commons licencija\" style=\"border-width:0\" src=\"https://i.creativecommons.org/l/by/4.0/80x15.png\" /></a> "
   ],
   "metadata": {}
  },
  {
   "cell_type": "markdown",
   "source": [
    "## Load the data"
   ],
   "metadata": {}
  },
  {
   "cell_type": "code",
   "execution_count": 1,
   "source": [
    "import numpy as np\n",
    "import numpy.ma as ma\n",
    "import pandas as pd\n",
    "import matplotlib.pyplot as plt"
   ],
   "outputs": [],
   "metadata": {}
  },
  {
   "cell_type": "markdown",
   "source": [
    "Download the data to cache locally. Do this once (a day), and comment out, not to DoS the server. (adopted from https://stackoverflow.com/a/35997720)."
   ],
   "metadata": {}
  },
  {
   "cell_type": "code",
   "execution_count": 2,
   "source": [
    "import requests\n",
    "fname = 'owid-covid-data.csv'\n",
    "url = 'https://covid.ourworldindata.org/data/' + fname\n",
    "r = requests.get(url)\n",
    "open(fname, 'wb').write(r.content)"
   ],
   "outputs": [
    {
     "output_type": "execute_result",
     "data": {
      "text/plain": [
       "33717058"
      ]
     },
     "metadata": {},
     "execution_count": 2
    }
   ],
   "metadata": {}
  },
  {
   "cell_type": "markdown",
   "source": [
    "Load the file to Pandas."
   ],
   "metadata": {}
  },
  {
   "cell_type": "code",
   "execution_count": 3,
   "source": [
    "url = \"owid-covid-data.csv\" \n",
    "df = pd.read_csv(url, parse_dates=[3])"
   ],
   "outputs": [],
   "metadata": {}
  },
  {
   "cell_type": "code",
   "execution_count": 4,
   "source": [
    "df.head(5)"
   ],
   "outputs": [
    {
     "output_type": "execute_result",
     "data": {
      "text/plain": [
       "  iso_code continent     location       date  total_cases  new_cases  \\\n",
       "0      AFG      Asia  Afghanistan 2020-02-24          5.0        5.0   \n",
       "1      AFG      Asia  Afghanistan 2020-02-25          5.0        0.0   \n",
       "2      AFG      Asia  Afghanistan 2020-02-26          5.0        0.0   \n",
       "3      AFG      Asia  Afghanistan 2020-02-27          5.0        0.0   \n",
       "4      AFG      Asia  Afghanistan 2020-02-28          5.0        0.0   \n",
       "\n",
       "   new_cases_smoothed  total_deaths  new_deaths  new_deaths_smoothed  ...  \\\n",
       "0                 NaN           NaN         NaN                  NaN  ...   \n",
       "1                 NaN           NaN         NaN                  NaN  ...   \n",
       "2                 NaN           NaN         NaN                  NaN  ...   \n",
       "3                 NaN           NaN         NaN                  NaN  ...   \n",
       "4                 NaN           NaN         NaN                  NaN  ...   \n",
       "\n",
       "   female_smokers  male_smokers  handwashing_facilities  \\\n",
       "0             NaN           NaN                  37.746   \n",
       "1             NaN           NaN                  37.746   \n",
       "2             NaN           NaN                  37.746   \n",
       "3             NaN           NaN                  37.746   \n",
       "4             NaN           NaN                  37.746   \n",
       "\n",
       "   hospital_beds_per_thousand  life_expectancy  human_development_index  \\\n",
       "0                         0.5            64.83                    0.511   \n",
       "1                         0.5            64.83                    0.511   \n",
       "2                         0.5            64.83                    0.511   \n",
       "3                         0.5            64.83                    0.511   \n",
       "4                         0.5            64.83                    0.511   \n",
       "\n",
       "   excess_mortality_cumulative_absolute  excess_mortality_cumulative  \\\n",
       "0                                   NaN                          NaN   \n",
       "1                                   NaN                          NaN   \n",
       "2                                   NaN                          NaN   \n",
       "3                                   NaN                          NaN   \n",
       "4                                   NaN                          NaN   \n",
       "\n",
       "   excess_mortality  excess_mortality_cumulative_per_million  \n",
       "0               NaN                                      NaN  \n",
       "1               NaN                                      NaN  \n",
       "2               NaN                                      NaN  \n",
       "3               NaN                                      NaN  \n",
       "4               NaN                                      NaN  \n",
       "\n",
       "[5 rows x 65 columns]"
      ],
      "text/html": "<div>\n<style scoped>\n    .dataframe tbody tr th:only-of-type {\n        vertical-align: middle;\n    }\n\n    .dataframe tbody tr th {\n        vertical-align: top;\n    }\n\n    .dataframe thead th {\n        text-align: right;\n    }\n</style>\n<table border=\"1\" class=\"dataframe\">\n  <thead>\n    <tr style=\"text-align: right;\">\n      <th></th>\n      <th>iso_code</th>\n      <th>continent</th>\n      <th>location</th>\n      <th>date</th>\n      <th>total_cases</th>\n      <th>new_cases</th>\n      <th>new_cases_smoothed</th>\n      <th>total_deaths</th>\n      <th>new_deaths</th>\n      <th>new_deaths_smoothed</th>\n      <th>...</th>\n      <th>female_smokers</th>\n      <th>male_smokers</th>\n      <th>handwashing_facilities</th>\n      <th>hospital_beds_per_thousand</th>\n      <th>life_expectancy</th>\n      <th>human_development_index</th>\n      <th>excess_mortality_cumulative_absolute</th>\n      <th>excess_mortality_cumulative</th>\n      <th>excess_mortality</th>\n      <th>excess_mortality_cumulative_per_million</th>\n    </tr>\n  </thead>\n  <tbody>\n    <tr>\n      <th>0</th>\n      <td>AFG</td>\n      <td>Asia</td>\n      <td>Afghanistan</td>\n      <td>2020-02-24</td>\n      <td>5.0</td>\n      <td>5.0</td>\n      <td>NaN</td>\n      <td>NaN</td>\n      <td>NaN</td>\n      <td>NaN</td>\n      <td>...</td>\n      <td>NaN</td>\n      <td>NaN</td>\n      <td>37.746</td>\n      <td>0.5</td>\n      <td>64.83</td>\n      <td>0.511</td>\n      <td>NaN</td>\n      <td>NaN</td>\n      <td>NaN</td>\n      <td>NaN</td>\n    </tr>\n    <tr>\n      <th>1</th>\n      <td>AFG</td>\n      <td>Asia</td>\n      <td>Afghanistan</td>\n      <td>2020-02-25</td>\n      <td>5.0</td>\n      <td>0.0</td>\n      <td>NaN</td>\n      <td>NaN</td>\n      <td>NaN</td>\n      <td>NaN</td>\n      <td>...</td>\n      <td>NaN</td>\n      <td>NaN</td>\n      <td>37.746</td>\n      <td>0.5</td>\n      <td>64.83</td>\n      <td>0.511</td>\n      <td>NaN</td>\n      <td>NaN</td>\n      <td>NaN</td>\n      <td>NaN</td>\n    </tr>\n    <tr>\n      <th>2</th>\n      <td>AFG</td>\n      <td>Asia</td>\n      <td>Afghanistan</td>\n      <td>2020-02-26</td>\n      <td>5.0</td>\n      <td>0.0</td>\n      <td>NaN</td>\n      <td>NaN</td>\n      <td>NaN</td>\n      <td>NaN</td>\n      <td>...</td>\n      <td>NaN</td>\n      <td>NaN</td>\n      <td>37.746</td>\n      <td>0.5</td>\n      <td>64.83</td>\n      <td>0.511</td>\n      <td>NaN</td>\n      <td>NaN</td>\n      <td>NaN</td>\n      <td>NaN</td>\n    </tr>\n    <tr>\n      <th>3</th>\n      <td>AFG</td>\n      <td>Asia</td>\n      <td>Afghanistan</td>\n      <td>2020-02-27</td>\n      <td>5.0</td>\n      <td>0.0</td>\n      <td>NaN</td>\n      <td>NaN</td>\n      <td>NaN</td>\n      <td>NaN</td>\n      <td>...</td>\n      <td>NaN</td>\n      <td>NaN</td>\n      <td>37.746</td>\n      <td>0.5</td>\n      <td>64.83</td>\n      <td>0.511</td>\n      <td>NaN</td>\n      <td>NaN</td>\n      <td>NaN</td>\n      <td>NaN</td>\n    </tr>\n    <tr>\n      <th>4</th>\n      <td>AFG</td>\n      <td>Asia</td>\n      <td>Afghanistan</td>\n      <td>2020-02-28</td>\n      <td>5.0</td>\n      <td>0.0</td>\n      <td>NaN</td>\n      <td>NaN</td>\n      <td>NaN</td>\n      <td>NaN</td>\n      <td>...</td>\n      <td>NaN</td>\n      <td>NaN</td>\n      <td>37.746</td>\n      <td>0.5</td>\n      <td>64.83</td>\n      <td>0.511</td>\n      <td>NaN</td>\n      <td>NaN</td>\n      <td>NaN</td>\n      <td>NaN</td>\n    </tr>\n  </tbody>\n</table>\n<p>5 rows × 65 columns</p>\n</div>"
     },
     "metadata": {},
     "execution_count": 4
    }
   ],
   "metadata": {
    "scrolled": true
   }
  },
  {
   "cell_type": "code",
   "execution_count": 5,
   "metadata": {},
   "outputs": [
    {
     "output_type": "execute_result",
     "data": {
      "text/plain": [
       "         total_cases    new_cases  new_cases_smoothed  total_deaths  \\\n",
       "count     591.000000   591.000000          586.000000    567.000000   \n",
       "mean   128718.844332   597.781726          592.589476   2061.028219   \n",
       "std    124675.418525   771.319364          720.644945   1945.726360   \n",
       "min         1.000000     0.000000            0.000000      1.000000   \n",
       "25%      1999.500000    24.000000           28.785500     64.000000   \n",
       "50%    112912.000000   281.000000          340.143000   1837.000000   \n",
       "75%    265799.500000   896.000000          937.571500   4179.000000   \n",
       "max    353289.000000  3984.000000         3065.429000   5248.000000   \n",
       "\n",
       "       new_deaths  new_deaths_smoothed  total_cases_per_million  \\\n",
       "count  567.000000           586.000000               591.000000   \n",
       "mean     9.255732             8.843271             47853.326438   \n",
       "std     11.890097            11.315621             46350.117022   \n",
       "min      0.000000             0.000000                 0.372000   \n",
       "25%      0.000000             0.429000               743.347000   \n",
       "50%      4.000000             3.500000             41976.875000   \n",
       "75%     14.000000            12.429000             98815.292500   \n",
       "max     61.000000            47.143000            131340.939000   \n",
       "\n",
       "       new_cases_per_million  new_cases_smoothed_per_million  \\\n",
       "count             591.000000                      586.000000   \n",
       "mean              222.235107                      220.304794   \n",
       "std               286.750524                      267.911485   \n",
       "min                 0.000000                        0.000000   \n",
       "25%                 8.922000                       10.701500   \n",
       "50%               104.466000                      126.454000   \n",
       "75%               333.102500                      348.557500   \n",
       "max              1481.117000                     1139.623000   \n",
       "\n",
       "       total_deaths_per_million  ...  female_smokers  male_smokers  \\\n",
       "count                567.000000  ...    5.910000e+02         591.0   \n",
       "mean                 766.220811  ...    2.130000e+01          38.0   \n",
       "std                  723.355485  ...    3.555723e-15           0.0   \n",
       "min                    0.372000  ...    2.130000e+01          38.0   \n",
       "25%                   23.793000  ...    2.130000e+01          38.0   \n",
       "50%                  682.935000  ...    2.130000e+01          38.0   \n",
       "75%                 1553.611500  ...    2.130000e+01          38.0   \n",
       "max                 1951.029000  ...    2.130000e+01          38.0   \n",
       "\n",
       "       handwashing_facilities  hospital_beds_per_thousand  life_expectancy  \\\n",
       "count                     0.0                5.910000e+02     5.910000e+02   \n",
       "mean                      NaN                6.560000e+00     7.593000e+01   \n",
       "std                       NaN                8.889308e-16     1.422289e-14   \n",
       "min                       NaN                6.560000e+00     7.593000e+01   \n",
       "25%                       NaN                6.560000e+00     7.593000e+01   \n",
       "50%                       NaN                6.560000e+00     7.593000e+01   \n",
       "75%                       NaN                6.560000e+00     7.593000e+01   \n",
       "max                       NaN                6.560000e+00     7.593000e+01   \n",
       "\n",
       "       human_development_index  excess_mortality_cumulative_absolute  \\\n",
       "count             5.910000e+02                             83.000000   \n",
       "mean              8.820000e-01                           4528.450602   \n",
       "std               1.111163e-16                           4022.949478   \n",
       "min               8.820000e-01                           -568.400000   \n",
       "25%               8.820000e-01                            562.050000   \n",
       "50%               8.820000e-01                           4189.600000   \n",
       "75%               8.820000e-01                           8198.550000   \n",
       "max               8.820000e-01                          11068.700000   \n",
       "\n",
       "       excess_mortality_cumulative  excess_mortality  \\\n",
       "count                    83.000000         83.000000   \n",
       "mean                      8.900602         19.695422   \n",
       "std                       7.785089         19.541597   \n",
       "min                      -7.220000         -8.760000   \n",
       "25%                       2.540000          7.740000   \n",
       "50%                      11.630000         14.650000   \n",
       "75%                      15.950000         23.510000   \n",
       "max                      17.170000         86.610000   \n",
       "\n",
       "       excess_mortality_cumulative_per_million  \n",
       "count                                83.000000  \n",
       "mean                               1683.525252  \n",
       "std                                1495.596978  \n",
       "min                                -211.311956  \n",
       "25%                                 208.951240  \n",
       "50%                                1557.552023  \n",
       "75%                                3047.944467  \n",
       "max                                4114.969467  \n",
       "\n",
       "[8 rows x 60 columns]"
      ],
      "text/html": "<div>\n<style scoped>\n    .dataframe tbody tr th:only-of-type {\n        vertical-align: middle;\n    }\n\n    .dataframe tbody tr th {\n        vertical-align: top;\n    }\n\n    .dataframe thead th {\n        text-align: right;\n    }\n</style>\n<table border=\"1\" class=\"dataframe\">\n  <thead>\n    <tr style=\"text-align: right;\">\n      <th></th>\n      <th>total_cases</th>\n      <th>new_cases</th>\n      <th>new_cases_smoothed</th>\n      <th>total_deaths</th>\n      <th>new_deaths</th>\n      <th>new_deaths_smoothed</th>\n      <th>total_cases_per_million</th>\n      <th>new_cases_per_million</th>\n      <th>new_cases_smoothed_per_million</th>\n      <th>total_deaths_per_million</th>\n      <th>...</th>\n      <th>female_smokers</th>\n      <th>male_smokers</th>\n      <th>handwashing_facilities</th>\n      <th>hospital_beds_per_thousand</th>\n      <th>life_expectancy</th>\n      <th>human_development_index</th>\n      <th>excess_mortality_cumulative_absolute</th>\n      <th>excess_mortality_cumulative</th>\n      <th>excess_mortality</th>\n      <th>excess_mortality_cumulative_per_million</th>\n    </tr>\n  </thead>\n  <tbody>\n    <tr>\n      <th>count</th>\n      <td>591.000000</td>\n      <td>591.000000</td>\n      <td>586.000000</td>\n      <td>567.000000</td>\n      <td>567.000000</td>\n      <td>586.000000</td>\n      <td>591.000000</td>\n      <td>591.000000</td>\n      <td>586.000000</td>\n      <td>567.000000</td>\n      <td>...</td>\n      <td>5.910000e+02</td>\n      <td>591.0</td>\n      <td>0.0</td>\n      <td>5.910000e+02</td>\n      <td>5.910000e+02</td>\n      <td>5.910000e+02</td>\n      <td>83.000000</td>\n      <td>83.000000</td>\n      <td>83.000000</td>\n      <td>83.000000</td>\n    </tr>\n    <tr>\n      <th>mean</th>\n      <td>128718.844332</td>\n      <td>597.781726</td>\n      <td>592.589476</td>\n      <td>2061.028219</td>\n      <td>9.255732</td>\n      <td>8.843271</td>\n      <td>47853.326438</td>\n      <td>222.235107</td>\n      <td>220.304794</td>\n      <td>766.220811</td>\n      <td>...</td>\n      <td>2.130000e+01</td>\n      <td>38.0</td>\n      <td>NaN</td>\n      <td>6.560000e+00</td>\n      <td>7.593000e+01</td>\n      <td>8.820000e-01</td>\n      <td>4528.450602</td>\n      <td>8.900602</td>\n      <td>19.695422</td>\n      <td>1683.525252</td>\n    </tr>\n    <tr>\n      <th>std</th>\n      <td>124675.418525</td>\n      <td>771.319364</td>\n      <td>720.644945</td>\n      <td>1945.726360</td>\n      <td>11.890097</td>\n      <td>11.315621</td>\n      <td>46350.117022</td>\n      <td>286.750524</td>\n      <td>267.911485</td>\n      <td>723.355485</td>\n      <td>...</td>\n      <td>3.555723e-15</td>\n      <td>0.0</td>\n      <td>NaN</td>\n      <td>8.889308e-16</td>\n      <td>1.422289e-14</td>\n      <td>1.111163e-16</td>\n      <td>4022.949478</td>\n      <td>7.785089</td>\n      <td>19.541597</td>\n      <td>1495.596978</td>\n    </tr>\n    <tr>\n      <th>min</th>\n      <td>1.000000</td>\n      <td>0.000000</td>\n      <td>0.000000</td>\n      <td>1.000000</td>\n      <td>0.000000</td>\n      <td>0.000000</td>\n      <td>0.372000</td>\n      <td>0.000000</td>\n      <td>0.000000</td>\n      <td>0.372000</td>\n      <td>...</td>\n      <td>2.130000e+01</td>\n      <td>38.0</td>\n      <td>NaN</td>\n      <td>6.560000e+00</td>\n      <td>7.593000e+01</td>\n      <td>8.820000e-01</td>\n      <td>-568.400000</td>\n      <td>-7.220000</td>\n      <td>-8.760000</td>\n      <td>-211.311956</td>\n    </tr>\n    <tr>\n      <th>25%</th>\n      <td>1999.500000</td>\n      <td>24.000000</td>\n      <td>28.785500</td>\n      <td>64.000000</td>\n      <td>0.000000</td>\n      <td>0.429000</td>\n      <td>743.347000</td>\n      <td>8.922000</td>\n      <td>10.701500</td>\n      <td>23.793000</td>\n      <td>...</td>\n      <td>2.130000e+01</td>\n      <td>38.0</td>\n      <td>NaN</td>\n      <td>6.560000e+00</td>\n      <td>7.593000e+01</td>\n      <td>8.820000e-01</td>\n      <td>562.050000</td>\n      <td>2.540000</td>\n      <td>7.740000</td>\n      <td>208.951240</td>\n    </tr>\n    <tr>\n      <th>50%</th>\n      <td>112912.000000</td>\n      <td>281.000000</td>\n      <td>340.143000</td>\n      <td>1837.000000</td>\n      <td>4.000000</td>\n      <td>3.500000</td>\n      <td>41976.875000</td>\n      <td>104.466000</td>\n      <td>126.454000</td>\n      <td>682.935000</td>\n      <td>...</td>\n      <td>2.130000e+01</td>\n      <td>38.0</td>\n      <td>NaN</td>\n      <td>6.560000e+00</td>\n      <td>7.593000e+01</td>\n      <td>8.820000e-01</td>\n      <td>4189.600000</td>\n      <td>11.630000</td>\n      <td>14.650000</td>\n      <td>1557.552023</td>\n    </tr>\n    <tr>\n      <th>75%</th>\n      <td>265799.500000</td>\n      <td>896.000000</td>\n      <td>937.571500</td>\n      <td>4179.000000</td>\n      <td>14.000000</td>\n      <td>12.429000</td>\n      <td>98815.292500</td>\n      <td>333.102500</td>\n      <td>348.557500</td>\n      <td>1553.611500</td>\n      <td>...</td>\n      <td>2.130000e+01</td>\n      <td>38.0</td>\n      <td>NaN</td>\n      <td>6.560000e+00</td>\n      <td>7.593000e+01</td>\n      <td>8.820000e-01</td>\n      <td>8198.550000</td>\n      <td>15.950000</td>\n      <td>23.510000</td>\n      <td>3047.944467</td>\n    </tr>\n    <tr>\n      <th>max</th>\n      <td>353289.000000</td>\n      <td>3984.000000</td>\n      <td>3065.429000</td>\n      <td>5248.000000</td>\n      <td>61.000000</td>\n      <td>47.143000</td>\n      <td>131340.939000</td>\n      <td>1481.117000</td>\n      <td>1139.623000</td>\n      <td>1951.029000</td>\n      <td>...</td>\n      <td>2.130000e+01</td>\n      <td>38.0</td>\n      <td>NaN</td>\n      <td>6.560000e+00</td>\n      <td>7.593000e+01</td>\n      <td>8.820000e-01</td>\n      <td>11068.700000</td>\n      <td>17.170000</td>\n      <td>86.610000</td>\n      <td>4114.969467</td>\n    </tr>\n  </tbody>\n</table>\n<p>8 rows × 60 columns</p>\n</div>"
     },
     "metadata": {},
     "execution_count": 5
    }
   ],
   "source": [
    "lt_covid = df[df['location'] == 'Lithuania']\n",
    "lt_covid.describe()"
   ]
  },
  {
   "cell_type": "code",
   "execution_count": 6,
   "metadata": {},
   "outputs": [
    {
     "output_type": "execute_result",
     "data": {
      "text/plain": [
       "       new_cases       date  year  month\n",
       "64995        1.0 2020-02-29  2020      2\n",
       "64996        0.0 2020-03-01  2020      3\n",
       "64997        0.0 2020-03-02  2020      3\n",
       "64998        0.0 2020-03-03  2020      3\n",
       "64999        0.0 2020-03-04  2020      3"
      ],
      "text/html": "<div>\n<style scoped>\n    .dataframe tbody tr th:only-of-type {\n        vertical-align: middle;\n    }\n\n    .dataframe tbody tr th {\n        vertical-align: top;\n    }\n\n    .dataframe thead th {\n        text-align: right;\n    }\n</style>\n<table border=\"1\" class=\"dataframe\">\n  <thead>\n    <tr style=\"text-align: right;\">\n      <th></th>\n      <th>new_cases</th>\n      <th>date</th>\n      <th>year</th>\n      <th>month</th>\n    </tr>\n  </thead>\n  <tbody>\n    <tr>\n      <th>64995</th>\n      <td>1.0</td>\n      <td>2020-02-29</td>\n      <td>2020</td>\n      <td>2</td>\n    </tr>\n    <tr>\n      <th>64996</th>\n      <td>0.0</td>\n      <td>2020-03-01</td>\n      <td>2020</td>\n      <td>3</td>\n    </tr>\n    <tr>\n      <th>64997</th>\n      <td>0.0</td>\n      <td>2020-03-02</td>\n      <td>2020</td>\n      <td>3</td>\n    </tr>\n    <tr>\n      <th>64998</th>\n      <td>0.0</td>\n      <td>2020-03-03</td>\n      <td>2020</td>\n      <td>3</td>\n    </tr>\n    <tr>\n      <th>64999</th>\n      <td>0.0</td>\n      <td>2020-03-04</td>\n      <td>2020</td>\n      <td>3</td>\n    </tr>\n  </tbody>\n</table>\n</div>"
     },
     "metadata": {},
     "execution_count": 6
    }
   ],
   "source": [
    "lt_covid = lt_covid[['new_cases', 'date']]\n",
    "lt_covid['year'] = pd.DatetimeIndex(lt_covid['date'].values).year\n",
    "lt_covid['month'] = pd.DatetimeIndex(lt_covid['date'].values).month\n",
    "\n",
    "lt_covid.head(5)"
   ]
  },
  {
   "cell_type": "markdown",
   "source": [
    "[back to the top](#main)\n",
    "<a id='Q1' name='Q1'></a>\n",
    "## 1. How did the crime rates change in Lithuania during the lockdowns?"
   ],
   "metadata": {}
  },
  {
   "source": [
    "data_2019 = pd.read_csv('2019.csv', sep=';')\n",
    "data_2020 = pd.read_csv('2020.csv', sep=';')\n",
    "data_2021 = pd.read_csv('2021.csv', sep=';')"
   ],
   "cell_type": "code",
   "metadata": {},
   "execution_count": 7,
   "outputs": []
  },
  {
   "source": [
    "#### In this part We will analyze generic type of crime rates"
   ],
   "cell_type": "markdown",
   "metadata": {}
  },
  {
   "cell_type": "code",
   "execution_count": 8,
   "metadata": {},
   "outputs": [
    {
     "output_type": "execute_result",
     "data": {
      "text/plain": [
       "   Metai               Mėnuo Savivaldybė  \\\n",
       "0   2019   Sausis - Rugsėjis  Respublika   \n",
       "1   2019  Sausis - Rugpjūtis  Respublika   \n",
       "\n",
       "   Nusikalstamų veikų skaičius 100 tukstančių gyventojų  \\\n",
       "0                                             1405.0      \n",
       "1                                             1260.4      \n",
       "\n",
       "   Nusikalstamų veikų skaičius 100 tukstančių gyventojų pagal sunkius nusikaltimus  \\\n",
       "0                                               75.2                                 \n",
       "1                                               67.8                                 \n",
       "\n",
       "   Nusikalstamos veikos  Nusikalstamos veikos Ištirta (%)  Nusikaltimai  \\\n",
       "0                 39226                              49.2         36304   \n",
       "1                 35190                              48.5         32644   \n",
       "\n",
       "   Nusikaltimai Ištirta (%)  Nusižengimai  ...  \\\n",
       "0                      48.6          2922  ...   \n",
       "1                      47.8          2546  ...   \n",
       "\n",
       "   Kelių transporto eismo saugumo ar transporto priemonių eksploatavimo taisyklių pažeidimai - 281 str.  \\\n",
       "0                                               1611                                                      \n",
       "1                                               1535                                                      \n",
       "\n",
       "   Kelių transporto eismo saugumo ar transporto priemonių eksploatavimo taisyklių pažeidimai - 281 str. Ištirta (%)  \\\n",
       "0                                               80.1                                                                  \n",
       "1                                               80.8                                                                  \n",
       "\n",
       "   Eismo saugumo taisyklių pažeidimai, dėl kurių žuvo žmogus ( 281 str. 5, 6 d.)  \\\n",
       "0                                                 98                               \n",
       "1                                                 89                               \n",
       "\n",
       "   Eismo saugumo taisyklių pažeidimai, dėl kurių žuvo žmogus ( 281 str. 5, 6 d.) Ištirta (%)  \\\n",
       "0                                               44.9                                           \n",
       "1                                               46.8                                           \n",
       "\n",
       "   Viešosios tvarkos pažeidimai - 284 str.  \\\n",
       "0                                     1437   \n",
       "1                                     1307   \n",
       "\n",
       "   Viešosios tvarkos pažeidimai - 284 str. Ištirta (%)  \\\n",
       "0                                               58.5     \n",
       "1                                               56.8     \n",
       "\n",
       "   Nusikalstamos veikos, susijusios su psichotropinėmis ir narkotinėmis medžiagomis  \\\n",
       "0                                               2308                                  \n",
       "1                                               2018                                  \n",
       "\n",
       "   Nusikalstamos veikos, susijusios su psichotropinėmis ir narkotinėmis medžiagomis Ištirta (%)  \\\n",
       "0                                               57.0                                              \n",
       "1                                               56.9                                              \n",
       "\n",
       "   Nusikalstamos veikos, padarytos narkotinio ar psichotropinio apsvaigimo būklėje  \\\n",
       "0                                                367                                 \n",
       "1                                                334                                 \n",
       "\n",
       "   Nusikalstamos veikos, padarytos narkotinio ar psichotropinio apsvaigimo būklėje Lyg. dalis  \n",
       "0                                                1.5                                           \n",
       "1                                                1.6                                           \n",
       "\n",
       "[2 rows x 61 columns]"
      ],
      "text/html": "<div>\n<style scoped>\n    .dataframe tbody tr th:only-of-type {\n        vertical-align: middle;\n    }\n\n    .dataframe tbody tr th {\n        vertical-align: top;\n    }\n\n    .dataframe thead th {\n        text-align: right;\n    }\n</style>\n<table border=\"1\" class=\"dataframe\">\n  <thead>\n    <tr style=\"text-align: right;\">\n      <th></th>\n      <th>Metai</th>\n      <th>Mėnuo</th>\n      <th>Savivaldybė</th>\n      <th>Nusikalstamų veikų skaičius 100 tukstančių gyventojų</th>\n      <th>Nusikalstamų veikų skaičius 100 tukstančių gyventojų pagal sunkius nusikaltimus</th>\n      <th>Nusikalstamos veikos</th>\n      <th>Nusikalstamos veikos Ištirta (%)</th>\n      <th>Nusikaltimai</th>\n      <th>Nusikaltimai Ištirta (%)</th>\n      <th>Nusižengimai</th>\n      <th>...</th>\n      <th>Kelių transporto eismo saugumo ar transporto priemonių eksploatavimo taisyklių pažeidimai - 281 str.</th>\n      <th>Kelių transporto eismo saugumo ar transporto priemonių eksploatavimo taisyklių pažeidimai - 281 str. Ištirta (%)</th>\n      <th>Eismo saugumo taisyklių pažeidimai, dėl kurių žuvo žmogus ( 281 str. 5, 6 d.)</th>\n      <th>Eismo saugumo taisyklių pažeidimai, dėl kurių žuvo žmogus ( 281 str. 5, 6 d.) Ištirta (%)</th>\n      <th>Viešosios tvarkos pažeidimai - 284 str.</th>\n      <th>Viešosios tvarkos pažeidimai - 284 str. Ištirta (%)</th>\n      <th>Nusikalstamos veikos, susijusios su psichotropinėmis ir narkotinėmis medžiagomis</th>\n      <th>Nusikalstamos veikos, susijusios su psichotropinėmis ir narkotinėmis medžiagomis Ištirta (%)</th>\n      <th>Nusikalstamos veikos, padarytos narkotinio ar psichotropinio apsvaigimo būklėje</th>\n      <th>Nusikalstamos veikos, padarytos narkotinio ar psichotropinio apsvaigimo būklėje Lyg. dalis</th>\n    </tr>\n  </thead>\n  <tbody>\n    <tr>\n      <th>0</th>\n      <td>2019</td>\n      <td>Sausis - Rugsėjis</td>\n      <td>Respublika</td>\n      <td>1405.0</td>\n      <td>75.2</td>\n      <td>39226</td>\n      <td>49.2</td>\n      <td>36304</td>\n      <td>48.6</td>\n      <td>2922</td>\n      <td>...</td>\n      <td>1611</td>\n      <td>80.1</td>\n      <td>98</td>\n      <td>44.9</td>\n      <td>1437</td>\n      <td>58.5</td>\n      <td>2308</td>\n      <td>57.0</td>\n      <td>367</td>\n      <td>1.5</td>\n    </tr>\n    <tr>\n      <th>1</th>\n      <td>2019</td>\n      <td>Sausis - Rugpjūtis</td>\n      <td>Respublika</td>\n      <td>1260.4</td>\n      <td>67.8</td>\n      <td>35190</td>\n      <td>48.5</td>\n      <td>32644</td>\n      <td>47.8</td>\n      <td>2546</td>\n      <td>...</td>\n      <td>1535</td>\n      <td>80.8</td>\n      <td>89</td>\n      <td>46.8</td>\n      <td>1307</td>\n      <td>56.8</td>\n      <td>2018</td>\n      <td>56.9</td>\n      <td>334</td>\n      <td>1.6</td>\n    </tr>\n  </tbody>\n</table>\n<p>2 rows × 61 columns</p>\n</div>"
     },
     "metadata": {},
     "execution_count": 8
    }
   ],
   "source": [
    "data_2019.head(2)"
   ]
  },
  {
   "source": [
    "#### The dataset contains many different columns about various crime rates, investigates cases and etc.\n",
    "#### The most important columns are: Month, district and Nusikalstamos veikos.\n",
    "#### Cumulative sum of crimes"
   ],
   "cell_type": "markdown",
   "metadata": {}
  },
  {
   "source": [
    "### We drop all columns that contain substring: Ištirta or Lyg. dalis\n",
    "### These columns are not relevant for the analysis"
   ],
   "cell_type": "markdown",
   "metadata": {}
  },
  {
   "cell_type": "code",
   "execution_count": 9,
   "metadata": {},
   "outputs": [
    {
     "output_type": "stream",
     "name": "stdout",
     "text": [
      "Before we had 61 columns and now we have 33\n"
     ]
    }
   ],
   "source": [
    "drop_columns = [col for col in data_2019.columns if 'Ištirta' in col or 'Lyg. dalis' in col]\n",
    "crime_data_2019 = data_2019.drop(labels=drop_columns, axis=1)\n",
    "crime_data_2020 = data_2020.drop(labels=drop_columns, axis=1)\n",
    "crime_data_2021 = data_2021.drop(labels=drop_columns, axis=1)\n",
    "\n",
    "print(f'Before we had {data_2019.shape[1]} columns and now we have {crime_data_2019.shape[1]}')"
   ]
  },
  {
   "source": [
    "## Since we have monthly cumulative sum, we will find how many crimes were commited each month"
   ],
   "cell_type": "markdown",
   "metadata": {}
  },
  {
   "cell_type": "code",
   "execution_count": 10,
   "metadata": {},
   "outputs": [
    {
     "output_type": "execute_result",
     "data": {
      "text/plain": [
       "    Metai             Mėnuo      Savivaldybė  \\\n",
       "23   2019   Sausis - Sausis  Akmenės rajonas   \n",
       "19   2019  Sausis - Vasaris  Akmenės rajonas   \n",
       "\n",
       "    Nusikalstamų veikų skaičius 100 tukstančių gyventojų  \\\n",
       "23                                              102.9      \n",
       "19                                              200.7      \n",
       "\n",
       "    Nusikalstamų veikų skaičius 100 tukstančių gyventojų pagal sunkius nusikaltimus  \\\n",
       "23                                                5.1                                 \n",
       "19                                                5.1                                 \n",
       "\n",
       "    Nusikalstamos veikos  Nusikaltimai  Nusižengimai  \\\n",
       "23                    20            20             0   \n",
       "19                    39            36             3   \n",
       "\n",
       "    Sunkūs ir labai sunkūs nusikaltimai  \\\n",
       "23                                    1   \n",
       "19                                    1   \n",
       "\n",
       "    Nusikalstamos veikos, padarytos viešose vietose  ...  \\\n",
       "23                                                3  ...   \n",
       "19                                                5  ...   \n",
       "\n",
       "    Turto prievartavimai - 181 str.  Sukčiavimai - 182 str.  \\\n",
       "23                                0                       2   \n",
       "19                                0                       2   \n",
       "\n",
       "    Kontrabanda - 199 str.  \\\n",
       "23                       0   \n",
       "19                       0   \n",
       "\n",
       "    Neteisėtas namų gamybos stiprių alkoholinių gėrimų ir aparatų jiems gaminti gaminimas, laikymas, gabenimas turint tikslų realizuoti ar realizavimas - 201 str.  \\\n",
       "23                                                  0                                                                                                                \n",
       "19                                                  0                                                                                                                \n",
       "\n",
       "    Kelių transporto eismo saugumo ar transporto priemonių eksploatavimo taisyklių pažeidimai - 281 str.  \\\n",
       "23                                                  0                                                      \n",
       "19                                                  2                                                      \n",
       "\n",
       "    Eismo saugumo taisyklių pažeidimai, dėl kurių žuvo žmogus ( 281 str. 5, 6 d.)  \\\n",
       "23                                                  0                               \n",
       "19                                                  0                               \n",
       "\n",
       "    Viešosios tvarkos pažeidimai - 284 str.  \\\n",
       "23                                        1   \n",
       "19                                        2   \n",
       "\n",
       "    Nusikalstamos veikos, susijusios su psichotropinėmis ir narkotinėmis medžiagomis  \\\n",
       "23                                                  0                                  \n",
       "19                                                  1                                  \n",
       "\n",
       "    Nusikalstamos veikos, padarytos narkotinio ar psichotropinio apsvaigimo būklėje  \\\n",
       "23                                                  0                                 \n",
       "19                                                  0                                 \n",
       "\n",
       "    Month  \n",
       "23      1  \n",
       "19      2  \n",
       "\n",
       "[2 rows x 34 columns]"
      ],
      "text/html": "<div>\n<style scoped>\n    .dataframe tbody tr th:only-of-type {\n        vertical-align: middle;\n    }\n\n    .dataframe tbody tr th {\n        vertical-align: top;\n    }\n\n    .dataframe thead th {\n        text-align: right;\n    }\n</style>\n<table border=\"1\" class=\"dataframe\">\n  <thead>\n    <tr style=\"text-align: right;\">\n      <th></th>\n      <th>Metai</th>\n      <th>Mėnuo</th>\n      <th>Savivaldybė</th>\n      <th>Nusikalstamų veikų skaičius 100 tukstančių gyventojų</th>\n      <th>Nusikalstamų veikų skaičius 100 tukstančių gyventojų pagal sunkius nusikaltimus</th>\n      <th>Nusikalstamos veikos</th>\n      <th>Nusikaltimai</th>\n      <th>Nusižengimai</th>\n      <th>Sunkūs ir labai sunkūs nusikaltimai</th>\n      <th>Nusikalstamos veikos, padarytos viešose vietose</th>\n      <th>...</th>\n      <th>Turto prievartavimai - 181 str.</th>\n      <th>Sukčiavimai - 182 str.</th>\n      <th>Kontrabanda - 199 str.</th>\n      <th>Neteisėtas namų gamybos stiprių alkoholinių gėrimų ir aparatų jiems gaminti gaminimas, laikymas, gabenimas turint tikslų realizuoti ar realizavimas - 201 str.</th>\n      <th>Kelių transporto eismo saugumo ar transporto priemonių eksploatavimo taisyklių pažeidimai - 281 str.</th>\n      <th>Eismo saugumo taisyklių pažeidimai, dėl kurių žuvo žmogus ( 281 str. 5, 6 d.)</th>\n      <th>Viešosios tvarkos pažeidimai - 284 str.</th>\n      <th>Nusikalstamos veikos, susijusios su psichotropinėmis ir narkotinėmis medžiagomis</th>\n      <th>Nusikalstamos veikos, padarytos narkotinio ar psichotropinio apsvaigimo būklėje</th>\n      <th>Month</th>\n    </tr>\n  </thead>\n  <tbody>\n    <tr>\n      <th>23</th>\n      <td>2019</td>\n      <td>Sausis - Sausis</td>\n      <td>Akmenės rajonas</td>\n      <td>102.9</td>\n      <td>5.1</td>\n      <td>20</td>\n      <td>20</td>\n      <td>0</td>\n      <td>1</td>\n      <td>3</td>\n      <td>...</td>\n      <td>0</td>\n      <td>2</td>\n      <td>0</td>\n      <td>0</td>\n      <td>0</td>\n      <td>0</td>\n      <td>1</td>\n      <td>0</td>\n      <td>0</td>\n      <td>1</td>\n    </tr>\n    <tr>\n      <th>19</th>\n      <td>2019</td>\n      <td>Sausis - Vasaris</td>\n      <td>Akmenės rajonas</td>\n      <td>200.7</td>\n      <td>5.1</td>\n      <td>39</td>\n      <td>36</td>\n      <td>3</td>\n      <td>1</td>\n      <td>5</td>\n      <td>...</td>\n      <td>0</td>\n      <td>2</td>\n      <td>0</td>\n      <td>0</td>\n      <td>2</td>\n      <td>0</td>\n      <td>2</td>\n      <td>1</td>\n      <td>0</td>\n      <td>2</td>\n    </tr>\n  </tbody>\n</table>\n<p>2 rows × 34 columns</p>\n</div>"
     },
     "metadata": {},
     "execution_count": 10
    }
   ],
   "source": [
    "month_name_mapping = {'Sausis': 1, 'Vasaris': 2, 'Kovas': 3, 'Balandis': 4, \n",
    "                        'Gegužė': 5, 'Birželis': 6, 'Liepa': 7, 'Rugpjūtis': 8,\n",
    "                        'Rugsėjis': 9, 'Spalis': 10, 'Lapkritis': 11, 'Gruodis': 12}\n",
    "\n",
    "reverse_month_name_mapping = {v:k for k, v in month_name_mapping.items()}\n",
    "\n",
    "\n",
    "def add_month_values(month_name_mapping, df):\n",
    "    month = [month_name_mapping.get(month_range.split(' - ')[1], None)\\\n",
    "         for month_range in df['Mėnuo'].values]\n",
    "    df['Month'] = month\n",
    "    df.sort_values(by=['Savivaldybė', 'Month'], ascending=True, inplace=True)\n",
    "\n",
    "add_month_values(month_name_mapping, crime_data_2019)\n",
    "add_month_values(month_name_mapping, crime_data_2020)\n",
    "add_month_values(month_name_mapping, crime_data_2021)\n",
    "\n",
    "crime_data_2019.head(2)"
   ]
  },
  {
   "cell_type": "code",
   "execution_count": 11,
   "metadata": {},
   "outputs": [
    {
     "output_type": "execute_result",
     "data": {
      "text/plain": [
       "                Mėnuo  Month\n",
       "11    Sausis - Sausis      1\n",
       "10   Sausis - Vasaris      2\n",
       "9      Sausis - Kovas      3\n",
       "8   Sausis - Balandis      4\n",
       "7     Sausis - Gegužė      5"
      ],
      "text/html": "<div>\n<style scoped>\n    .dataframe tbody tr th:only-of-type {\n        vertical-align: middle;\n    }\n\n    .dataframe tbody tr th {\n        vertical-align: top;\n    }\n\n    .dataframe thead th {\n        text-align: right;\n    }\n</style>\n<table border=\"1\" class=\"dataframe\">\n  <thead>\n    <tr style=\"text-align: right;\">\n      <th></th>\n      <th>Mėnuo</th>\n      <th>Month</th>\n    </tr>\n  </thead>\n  <tbody>\n    <tr>\n      <th>11</th>\n      <td>Sausis - Sausis</td>\n      <td>1</td>\n    </tr>\n    <tr>\n      <th>10</th>\n      <td>Sausis - Vasaris</td>\n      <td>2</td>\n    </tr>\n    <tr>\n      <th>9</th>\n      <td>Sausis - Kovas</td>\n      <td>3</td>\n    </tr>\n    <tr>\n      <th>8</th>\n      <td>Sausis - Balandis</td>\n      <td>4</td>\n    </tr>\n    <tr>\n      <th>7</th>\n      <td>Sausis - Gegužė</td>\n      <td>5</td>\n    </tr>\n  </tbody>\n</table>\n</div>"
     },
     "metadata": {},
     "execution_count": 11
    }
   ],
   "source": [
    "crime_data_2021[['Mėnuo', 'Month']].head(5)"
   ]
  },
  {
   "source": [
    "### We have cumulative sum data but in some cases the number of crimes in following month is smaller than in current month. This can mean that some crime claims were dropped or their category was changed."
   ],
   "cell_type": "markdown",
   "metadata": {}
  },
  {
   "cell_type": "code",
   "execution_count": 12,
   "metadata": {},
   "outputs": [],
   "source": [
    "def remove_cumulative_sum(df):\n",
    "    new_df = pd.DataFrame()\n",
    "    df_sorted = df.sort_values(by=['Savivaldybė', 'Month'], ascending=True)\n",
    "    unique_columns =  df_sorted['Savivaldybė'].unique()\n",
    "    grouped_df = df_sorted.groupby('Savivaldybė')\n",
    "    cat_columns = ['Savivaldybė', 'Month', 'Mėnuo', 'Metai']\n",
    "\n",
    "    for col in unique_columns:\n",
    "        res = grouped_df.get_group(col).iloc[:, 3:-1]\n",
    "        res -= res.shift(1).fillna(0)\n",
    "        new_df = new_df.append(res)\n",
    "    new_df[cat_columns] = df_sorted[cat_columns].values\n",
    "    return new_df\n",
    "        "
   ]
  },
  {
   "cell_type": "code",
   "execution_count": 13,
   "metadata": {},
   "outputs": [
    {
     "output_type": "execute_result",
     "data": {
      "text/plain": [
       "    Nusikalstamų veikų skaičius 100 tukstančių gyventojų  \\\n",
       "23                                              102.9      \n",
       "19                                               97.8      \n",
       "\n",
       "    Nusikalstamų veikų skaičius 100 tukstančių gyventojų pagal sunkius nusikaltimus  \\\n",
       "23                                                5.1                                 \n",
       "19                                                0.0                                 \n",
       "\n",
       "    Nusikalstamos veikos  Nusikaltimai  Nusižengimai  \\\n",
       "23                  20.0          20.0           0.0   \n",
       "19                  19.0          16.0           3.0   \n",
       "\n",
       "    Sunkūs ir labai sunkūs nusikaltimai  \\\n",
       "23                                  1.0   \n",
       "19                                  0.0   \n",
       "\n",
       "    Nusikalstamos veikos, padarytos viešose vietose  \\\n",
       "23                                              3.0   \n",
       "19                                              2.0   \n",
       "\n",
       "    Nusikalstamos veikos, padarytos panaudojant šaunamąjį ginklą  \\\n",
       "23                                                0.0              \n",
       "19                                                0.0              \n",
       "\n",
       "    Nusikalstamos veikos, padarytos nepilnamečių asmenų  \\\n",
       "23                                                0.0     \n",
       "19                                                1.0     \n",
       "\n",
       "    Nusikalstamos veikos, padarytos asmenų, anksčiau padariusių nusikalstamas veikas  \\\n",
       "23                                                0.0                                  \n",
       "19                                                0.0                                  \n",
       "\n",
       "    ...  \\\n",
       "23  ...   \n",
       "19  ...   \n",
       "\n",
       "    Neteisėtas namų gamybos stiprių alkoholinių gėrimų ir aparatų jiems gaminti gaminimas, laikymas, gabenimas turint tikslų realizuoti ar realizavimas - 201 str.  \\\n",
       "23                                                0.0                                                                                                                \n",
       "19                                                0.0                                                                                                                \n",
       "\n",
       "    Kelių transporto eismo saugumo ar transporto priemonių eksploatavimo taisyklių pažeidimai - 281 str.  \\\n",
       "23                                                0.0                                                      \n",
       "19                                                2.0                                                      \n",
       "\n",
       "    Eismo saugumo taisyklių pažeidimai, dėl kurių žuvo žmogus ( 281 str. 5, 6 d.)  \\\n",
       "23                                                0.0                               \n",
       "19                                                0.0                               \n",
       "\n",
       "    Viešosios tvarkos pažeidimai - 284 str.  \\\n",
       "23                                      1.0   \n",
       "19                                      1.0   \n",
       "\n",
       "    Nusikalstamos veikos, susijusios su psichotropinėmis ir narkotinėmis medžiagomis  \\\n",
       "23                                                0.0                                  \n",
       "19                                                1.0                                  \n",
       "\n",
       "    Nusikalstamos veikos, padarytos narkotinio ar psichotropinio apsvaigimo būklėje  \\\n",
       "23                                                0.0                                 \n",
       "19                                                0.0                                 \n",
       "\n",
       "        Savivaldybė  Month             Mėnuo  Metai  \n",
       "23  Akmenės rajonas      1   Sausis - Sausis   2019  \n",
       "19  Akmenės rajonas      2  Sausis - Vasaris   2019  \n",
       "\n",
       "[2 rows x 34 columns]"
      ],
      "text/html": "<div>\n<style scoped>\n    .dataframe tbody tr th:only-of-type {\n        vertical-align: middle;\n    }\n\n    .dataframe tbody tr th {\n        vertical-align: top;\n    }\n\n    .dataframe thead th {\n        text-align: right;\n    }\n</style>\n<table border=\"1\" class=\"dataframe\">\n  <thead>\n    <tr style=\"text-align: right;\">\n      <th></th>\n      <th>Nusikalstamų veikų skaičius 100 tukstančių gyventojų</th>\n      <th>Nusikalstamų veikų skaičius 100 tukstančių gyventojų pagal sunkius nusikaltimus</th>\n      <th>Nusikalstamos veikos</th>\n      <th>Nusikaltimai</th>\n      <th>Nusižengimai</th>\n      <th>Sunkūs ir labai sunkūs nusikaltimai</th>\n      <th>Nusikalstamos veikos, padarytos viešose vietose</th>\n      <th>Nusikalstamos veikos, padarytos panaudojant šaunamąjį ginklą</th>\n      <th>Nusikalstamos veikos, padarytos nepilnamečių asmenų</th>\n      <th>Nusikalstamos veikos, padarytos asmenų, anksčiau padariusių nusikalstamas veikas</th>\n      <th>...</th>\n      <th>Neteisėtas namų gamybos stiprių alkoholinių gėrimų ir aparatų jiems gaminti gaminimas, laikymas, gabenimas turint tikslų realizuoti ar realizavimas - 201 str.</th>\n      <th>Kelių transporto eismo saugumo ar transporto priemonių eksploatavimo taisyklių pažeidimai - 281 str.</th>\n      <th>Eismo saugumo taisyklių pažeidimai, dėl kurių žuvo žmogus ( 281 str. 5, 6 d.)</th>\n      <th>Viešosios tvarkos pažeidimai - 284 str.</th>\n      <th>Nusikalstamos veikos, susijusios su psichotropinėmis ir narkotinėmis medžiagomis</th>\n      <th>Nusikalstamos veikos, padarytos narkotinio ar psichotropinio apsvaigimo būklėje</th>\n      <th>Savivaldybė</th>\n      <th>Month</th>\n      <th>Mėnuo</th>\n      <th>Metai</th>\n    </tr>\n  </thead>\n  <tbody>\n    <tr>\n      <th>23</th>\n      <td>102.9</td>\n      <td>5.1</td>\n      <td>20.0</td>\n      <td>20.0</td>\n      <td>0.0</td>\n      <td>1.0</td>\n      <td>3.0</td>\n      <td>0.0</td>\n      <td>0.0</td>\n      <td>0.0</td>\n      <td>...</td>\n      <td>0.0</td>\n      <td>0.0</td>\n      <td>0.0</td>\n      <td>1.0</td>\n      <td>0.0</td>\n      <td>0.0</td>\n      <td>Akmenės rajonas</td>\n      <td>1</td>\n      <td>Sausis - Sausis</td>\n      <td>2019</td>\n    </tr>\n    <tr>\n      <th>19</th>\n      <td>97.8</td>\n      <td>0.0</td>\n      <td>19.0</td>\n      <td>16.0</td>\n      <td>3.0</td>\n      <td>0.0</td>\n      <td>2.0</td>\n      <td>0.0</td>\n      <td>1.0</td>\n      <td>0.0</td>\n      <td>...</td>\n      <td>0.0</td>\n      <td>2.0</td>\n      <td>0.0</td>\n      <td>1.0</td>\n      <td>1.0</td>\n      <td>0.0</td>\n      <td>Akmenės rajonas</td>\n      <td>2</td>\n      <td>Sausis - Vasaris</td>\n      <td>2019</td>\n    </tr>\n  </tbody>\n</table>\n<p>2 rows × 34 columns</p>\n</div>"
     },
     "metadata": {},
     "execution_count": 13
    }
   ],
   "source": [
    "crime_data = pd.DataFrame()\n",
    "for dat in [crime_data_2019, crime_data_2020, crime_data_2021]:\n",
    "    crime_data = crime_data.append(remove_cumulative_sum(dat))\n",
    "\n",
    "crime_data.head(2)"
   ]
  },
  {
   "source": [
    "#### Creating shorter column names (max 10 words)"
   ],
   "cell_type": "markdown",
   "metadata": {}
  },
  {
   "cell_type": "code",
   "execution_count": 14,
   "metadata": {},
   "outputs": [],
   "source": [
    "crime_data.columns = list(map(lambda x: ' '.join(x.split(' ')[:10]) if len(x.split(' ')) > 10 else x, crime_data.columns))"
   ]
  },
  {
   "cell_type": "code",
   "execution_count": 15,
   "metadata": {},
   "outputs": [],
   "source": [
    "analyze_columns = crime_data.columns[:-4]"
   ]
  },
  {
   "source": [
    "### We will analyze crimes in  2019, 2020, 2021 April and May months.\n",
    "#### source: [https://lt.wikipedia.org/wiki/COVID-19_pandemija_Lietuvoje]\n",
    "#### 1st lockdown: March 16 - June 17\n",
    "#### 2nd lockdown: November 4 - July 1st\n",
    "#### We will analyze periods from April till May"
   ],
   "cell_type": "markdown",
   "metadata": {}
  },
  {
   "cell_type": "code",
   "execution_count": 16,
   "metadata": {},
   "outputs": [
    {
     "output_type": "execute_result",
     "data": {
      "text/plain": [
       "   Nusikalstamų veikų skaičius 100 tukstančių gyventojų  \\\n",
       "5                                              163.4      \n",
       "4                                              157.8      \n",
       "\n",
       "   Nusikalstamų veikų skaičius 100 tukstančių gyventojų pagal sunkius nusikaltimus  \\\n",
       "5                                                9.4                                 \n",
       "4                                                9.1                                 \n",
       "\n",
       "   Nusikalstamos veikos  Nusikaltimai  Nusižengimai  \\\n",
       "5                4566.0        4254.0         312.0   \n",
       "4                4409.0        4085.0         324.0   \n",
       "\n",
       "   Sunkūs ir labai sunkūs nusikaltimai  \\\n",
       "5                                262.0   \n",
       "4                                255.0   \n",
       "\n",
       "   Nusikalstamos veikos, padarytos viešose vietose  \\\n",
       "5                                            851.0   \n",
       "4                                            851.0   \n",
       "\n",
       "   Nusikalstamos veikos, padarytos panaudojant šaunamąjį ginklą  \\\n",
       "5                                                4.0              \n",
       "4                                                2.0              \n",
       "\n",
       "   Nusikalstamos veikos, padarytos nepilnamečių asmenų  \\\n",
       "5                                              214.0     \n",
       "4                                              178.0     \n",
       "\n",
       "   Nusikalstamos veikos, padarytos asmenų, anksčiau padariusių nusikalstamas veikas  \\\n",
       "5                                              265.0                                  \n",
       "4                                              309.0                                  \n",
       "\n",
       "   ...  \\\n",
       "5  ...   \n",
       "4  ...   \n",
       "\n",
       "   Neteisėtas namų gamybos stiprių alkoholinių gėrimų ir aparatų jiems gaminti  \\\n",
       "5                                                8.0                             \n",
       "4                                                1.0                             \n",
       "\n",
       "   Kelių transporto eismo saugumo ar transporto priemonių eksploatavimo taisyklių pažeidimai  \\\n",
       "5                                               79.0                                           \n",
       "4                                               74.0                                           \n",
       "\n",
       "   Eismo saugumo taisyklių pažeidimai, dėl kurių žuvo žmogus ( 281  \\\n",
       "5                                               11.0                 \n",
       "4                                                1.0                 \n",
       "\n",
       "   Viešosios tvarkos pažeidimai - 284 str.  \\\n",
       "5                                    170.0   \n",
       "4                                    168.0   \n",
       "\n",
       "   Nusikalstamos veikos, susijusios su psichotropinėmis ir narkotinėmis medžiagomis  \\\n",
       "5                                              263.0                                  \n",
       "4                                              232.0                                  \n",
       "\n",
       "   Nusikalstamos veikos, padarytos narkotinio ar psichotropinio apsvaigimo būklėje  \\\n",
       "5                                               44.0                                 \n",
       "4                                               93.0                                 \n",
       "\n",
       "   Savivaldybė  Month              Mėnuo  Metai  \n",
       "5   Respublika      4  Sausis - Balandis   2019  \n",
       "4   Respublika      5    Sausis - Gegužė   2019  \n",
       "\n",
       "[2 rows x 34 columns]"
      ],
      "text/html": "<div>\n<style scoped>\n    .dataframe tbody tr th:only-of-type {\n        vertical-align: middle;\n    }\n\n    .dataframe tbody tr th {\n        vertical-align: top;\n    }\n\n    .dataframe thead th {\n        text-align: right;\n    }\n</style>\n<table border=\"1\" class=\"dataframe\">\n  <thead>\n    <tr style=\"text-align: right;\">\n      <th></th>\n      <th>Nusikalstamų veikų skaičius 100 tukstančių gyventojų</th>\n      <th>Nusikalstamų veikų skaičius 100 tukstančių gyventojų pagal sunkius nusikaltimus</th>\n      <th>Nusikalstamos veikos</th>\n      <th>Nusikaltimai</th>\n      <th>Nusižengimai</th>\n      <th>Sunkūs ir labai sunkūs nusikaltimai</th>\n      <th>Nusikalstamos veikos, padarytos viešose vietose</th>\n      <th>Nusikalstamos veikos, padarytos panaudojant šaunamąjį ginklą</th>\n      <th>Nusikalstamos veikos, padarytos nepilnamečių asmenų</th>\n      <th>Nusikalstamos veikos, padarytos asmenų, anksčiau padariusių nusikalstamas veikas</th>\n      <th>...</th>\n      <th>Neteisėtas namų gamybos stiprių alkoholinių gėrimų ir aparatų jiems gaminti</th>\n      <th>Kelių transporto eismo saugumo ar transporto priemonių eksploatavimo taisyklių pažeidimai</th>\n      <th>Eismo saugumo taisyklių pažeidimai, dėl kurių žuvo žmogus ( 281</th>\n      <th>Viešosios tvarkos pažeidimai - 284 str.</th>\n      <th>Nusikalstamos veikos, susijusios su psichotropinėmis ir narkotinėmis medžiagomis</th>\n      <th>Nusikalstamos veikos, padarytos narkotinio ar psichotropinio apsvaigimo būklėje</th>\n      <th>Savivaldybė</th>\n      <th>Month</th>\n      <th>Mėnuo</th>\n      <th>Metai</th>\n    </tr>\n  </thead>\n  <tbody>\n    <tr>\n      <th>5</th>\n      <td>163.4</td>\n      <td>9.4</td>\n      <td>4566.0</td>\n      <td>4254.0</td>\n      <td>312.0</td>\n      <td>262.0</td>\n      <td>851.0</td>\n      <td>4.0</td>\n      <td>214.0</td>\n      <td>265.0</td>\n      <td>...</td>\n      <td>8.0</td>\n      <td>79.0</td>\n      <td>11.0</td>\n      <td>170.0</td>\n      <td>263.0</td>\n      <td>44.0</td>\n      <td>Respublika</td>\n      <td>4</td>\n      <td>Sausis - Balandis</td>\n      <td>2019</td>\n    </tr>\n    <tr>\n      <th>4</th>\n      <td>157.8</td>\n      <td>9.1</td>\n      <td>4409.0</td>\n      <td>4085.0</td>\n      <td>324.0</td>\n      <td>255.0</td>\n      <td>851.0</td>\n      <td>2.0</td>\n      <td>178.0</td>\n      <td>309.0</td>\n      <td>...</td>\n      <td>1.0</td>\n      <td>74.0</td>\n      <td>1.0</td>\n      <td>168.0</td>\n      <td>232.0</td>\n      <td>93.0</td>\n      <td>Respublika</td>\n      <td>5</td>\n      <td>Sausis - Gegužė</td>\n      <td>2019</td>\n    </tr>\n  </tbody>\n</table>\n<p>2 rows × 34 columns</p>\n</div>"
     },
     "metadata": {},
     "execution_count": 16
    }
   ],
   "source": [
    "total_analysis_cases = crime_data[(crime_data['Month'].isin([4, 5])) & ( crime_data['Savivaldybė'] == 'Respublika')]\n",
    "total_analysis_cases.head(2)"
   ]
  },
  {
   "cell_type": "code",
   "execution_count": 17,
   "metadata": {},
   "outputs": [
    {
     "output_type": "execute_result",
     "data": {
      "text/plain": [
       "Text(0.5, 1.0, 'Total crime rates')"
      ]
     },
     "metadata": {},
     "execution_count": 17
    },
    {
     "output_type": "display_data",
     "data": {
      "text/plain": "<Figure size 504x360 with 1 Axes>",
      "image/svg+xml": "<?xml version=\"1.0\" encoding=\"utf-8\" standalone=\"no\"?>\r\n<!DOCTYPE svg PUBLIC \"-//W3C//DTD SVG 1.1//EN\"\r\n  \"http://www.w3.org/Graphics/SVG/1.1/DTD/svg11.dtd\">\r\n<svg height=\"347.44625pt\" version=\"1.1\" viewBox=\"0 0 451.128125 347.44625\" width=\"451.128125pt\" xmlns=\"http://www.w3.org/2000/svg\" xmlns:xlink=\"http://www.w3.org/1999/xlink\">\r\n <metadata>\r\n  <rdf:RDF xmlns:cc=\"http://creativecommons.org/ns#\" xmlns:dc=\"http://purl.org/dc/elements/1.1/\" xmlns:rdf=\"http://www.w3.org/1999/02/22-rdf-syntax-ns#\">\r\n   <cc:Work>\r\n    <dc:type rdf:resource=\"http://purl.org/dc/dcmitype/StillImage\"/>\r\n    <dc:date>2021-10-12T23:30:26.300082</dc:date>\r\n    <dc:format>image/svg+xml</dc:format>\r\n    <dc:creator>\r\n     <cc:Agent>\r\n      <dc:title>Matplotlib v3.4.2, https://matplotlib.org/</dc:title>\r\n     </cc:Agent>\r\n    </dc:creator>\r\n   </cc:Work>\r\n  </rdf:RDF>\r\n </metadata>\r\n <defs>\r\n  <style type=\"text/css\">*{stroke-linecap:butt;stroke-linejoin:round;}</style>\r\n </defs>\r\n <g id=\"figure_1\">\r\n  <g id=\"patch_1\">\r\n   <path d=\"M 0 347.44625 \r\nL 451.128125 347.44625 \r\nL 451.128125 0 \r\nL 0 0 \r\nz\r\n\" style=\"fill:none;\"/>\r\n  </g>\r\n  <g id=\"axes_1\">\r\n   <g id=\"patch_2\">\r\n    <path d=\"M 53.328125 294.118125 \r\nL 443.928125 294.118125 \r\nL 443.928125 22.318125 \r\nL 53.328125 22.318125 \r\nz\r\n\" style=\"fill:#ffffff;\"/>\r\n   </g>\r\n   <g id=\"patch_3\">\r\n    <path clip-path=\"url(#pd7bc3d55b9)\" d=\"M 85.878125 294.118125 \r\nL 150.978125 294.118125 \r\nL 150.978125 35.260982 \r\nL 85.878125 35.260982 \r\nz\r\n\" style=\"fill:#1f77b4;\"/>\r\n   </g>\r\n   <g id=\"patch_4\">\r\n    <path clip-path=\"url(#pd7bc3d55b9)\" d=\"M 216.078125 294.118125 \r\nL 281.178125 294.118125 \r\nL 281.178125 75.784022 \r\nL 216.078125 75.784022 \r\nz\r\n\" style=\"fill:#1f77b4;\"/>\r\n   </g>\r\n   <g id=\"patch_5\">\r\n    <path clip-path=\"url(#pd7bc3d55b9)\" d=\"M 346.278125 294.118125 \r\nL 411.378125 294.118125 \r\nL 411.378125 88.243776 \r\nL 346.278125 88.243776 \r\nz\r\n\" style=\"fill:#1f77b4;\"/>\r\n   </g>\r\n   <g id=\"matplotlib.axis_1\">\r\n    <g id=\"xtick_1\">\r\n     <g id=\"line2d_1\">\r\n      <defs>\r\n       <path d=\"M 0 0 \r\nL 0 3.5 \r\n\" id=\"m71fc9770fc\" style=\"stroke:#000000;stroke-width:0.8;\"/>\r\n      </defs>\r\n      <g>\r\n       <use style=\"stroke:#000000;stroke-width:0.8;\" x=\"118.428125\" xlink:href=\"#m71fc9770fc\" y=\"294.118125\"/>\r\n      </g>\r\n     </g>\r\n     <g id=\"text_1\">\r\n      <!-- 2019 -->\r\n      <g transform=\"translate(121.1875 326.568125)rotate(-90)scale(0.1 -0.1)\">\r\n       <defs>\r\n        <path d=\"M 1228 531 \r\nL 3431 531 \r\nL 3431 0 \r\nL 469 0 \r\nL 469 531 \r\nQ 828 903 1448 1529 \r\nQ 2069 2156 2228 2338 \r\nQ 2531 2678 2651 2914 \r\nQ 2772 3150 2772 3378 \r\nQ 2772 3750 2511 3984 \r\nQ 2250 4219 1831 4219 \r\nQ 1534 4219 1204 4116 \r\nQ 875 4013 500 3803 \r\nL 500 4441 \r\nQ 881 4594 1212 4672 \r\nQ 1544 4750 1819 4750 \r\nQ 2544 4750 2975 4387 \r\nQ 3406 4025 3406 3419 \r\nQ 3406 3131 3298 2873 \r\nQ 3191 2616 2906 2266 \r\nQ 2828 2175 2409 1742 \r\nQ 1991 1309 1228 531 \r\nz\r\n\" id=\"DejaVuSans-32\" transform=\"scale(0.015625)\"/>\r\n        <path d=\"M 2034 4250 \r\nQ 1547 4250 1301 3770 \r\nQ 1056 3291 1056 2328 \r\nQ 1056 1369 1301 889 \r\nQ 1547 409 2034 409 \r\nQ 2525 409 2770 889 \r\nQ 3016 1369 3016 2328 \r\nQ 3016 3291 2770 3770 \r\nQ 2525 4250 2034 4250 \r\nz\r\nM 2034 4750 \r\nQ 2819 4750 3233 4129 \r\nQ 3647 3509 3647 2328 \r\nQ 3647 1150 3233 529 \r\nQ 2819 -91 2034 -91 \r\nQ 1250 -91 836 529 \r\nQ 422 1150 422 2328 \r\nQ 422 3509 836 4129 \r\nQ 1250 4750 2034 4750 \r\nz\r\n\" id=\"DejaVuSans-30\" transform=\"scale(0.015625)\"/>\r\n        <path d=\"M 794 531 \r\nL 1825 531 \r\nL 1825 4091 \r\nL 703 3866 \r\nL 703 4441 \r\nL 1819 4666 \r\nL 2450 4666 \r\nL 2450 531 \r\nL 3481 531 \r\nL 3481 0 \r\nL 794 0 \r\nL 794 531 \r\nz\r\n\" id=\"DejaVuSans-31\" transform=\"scale(0.015625)\"/>\r\n        <path d=\"M 703 97 \r\nL 703 672 \r\nQ 941 559 1184 500 \r\nQ 1428 441 1663 441 \r\nQ 2288 441 2617 861 \r\nQ 2947 1281 2994 2138 \r\nQ 2813 1869 2534 1725 \r\nQ 2256 1581 1919 1581 \r\nQ 1219 1581 811 2004 \r\nQ 403 2428 403 3163 \r\nQ 403 3881 828 4315 \r\nQ 1253 4750 1959 4750 \r\nQ 2769 4750 3195 4129 \r\nQ 3622 3509 3622 2328 \r\nQ 3622 1225 3098 567 \r\nQ 2575 -91 1691 -91 \r\nQ 1453 -91 1209 -44 \r\nQ 966 3 703 97 \r\nz\r\nM 1959 2075 \r\nQ 2384 2075 2632 2365 \r\nQ 2881 2656 2881 3163 \r\nQ 2881 3666 2632 3958 \r\nQ 2384 4250 1959 4250 \r\nQ 1534 4250 1286 3958 \r\nQ 1038 3666 1038 3163 \r\nQ 1038 2656 1286 2365 \r\nQ 1534 2075 1959 2075 \r\nz\r\n\" id=\"DejaVuSans-39\" transform=\"scale(0.015625)\"/>\r\n       </defs>\r\n       <use xlink:href=\"#DejaVuSans-32\"/>\r\n       <use x=\"63.623047\" xlink:href=\"#DejaVuSans-30\"/>\r\n       <use x=\"127.246094\" xlink:href=\"#DejaVuSans-31\"/>\r\n       <use x=\"190.869141\" xlink:href=\"#DejaVuSans-39\"/>\r\n      </g>\r\n     </g>\r\n    </g>\r\n    <g id=\"xtick_2\">\r\n     <g id=\"line2d_2\">\r\n      <g>\r\n       <use style=\"stroke:#000000;stroke-width:0.8;\" x=\"248.628125\" xlink:href=\"#m71fc9770fc\" y=\"294.118125\"/>\r\n      </g>\r\n     </g>\r\n     <g id=\"text_2\">\r\n      <!-- 2020 -->\r\n      <g transform=\"translate(251.3875 326.568125)rotate(-90)scale(0.1 -0.1)\">\r\n       <use xlink:href=\"#DejaVuSans-32\"/>\r\n       <use x=\"63.623047\" xlink:href=\"#DejaVuSans-30\"/>\r\n       <use x=\"127.246094\" xlink:href=\"#DejaVuSans-32\"/>\r\n       <use x=\"190.869141\" xlink:href=\"#DejaVuSans-30\"/>\r\n      </g>\r\n     </g>\r\n    </g>\r\n    <g id=\"xtick_3\">\r\n     <g id=\"line2d_3\">\r\n      <g>\r\n       <use style=\"stroke:#000000;stroke-width:0.8;\" x=\"378.828125\" xlink:href=\"#m71fc9770fc\" y=\"294.118125\"/>\r\n      </g>\r\n     </g>\r\n     <g id=\"text_3\">\r\n      <!-- 2021 -->\r\n      <g transform=\"translate(381.5875 326.568125)rotate(-90)scale(0.1 -0.1)\">\r\n       <use xlink:href=\"#DejaVuSans-32\"/>\r\n       <use x=\"63.623047\" xlink:href=\"#DejaVuSans-30\"/>\r\n       <use x=\"127.246094\" xlink:href=\"#DejaVuSans-32\"/>\r\n       <use x=\"190.869141\" xlink:href=\"#DejaVuSans-31\"/>\r\n      </g>\r\n     </g>\r\n    </g>\r\n    <g id=\"text_4\">\r\n     <!-- Metai -->\r\n     <g transform=\"translate(234.824219 338.166562)scale(0.1 -0.1)\">\r\n      <defs>\r\n       <path d=\"M 628 4666 \r\nL 1569 4666 \r\nL 2759 1491 \r\nL 3956 4666 \r\nL 4897 4666 \r\nL 4897 0 \r\nL 4281 0 \r\nL 4281 4097 \r\nL 3078 897 \r\nL 2444 897 \r\nL 1241 4097 \r\nL 1241 0 \r\nL 628 0 \r\nL 628 4666 \r\nz\r\n\" id=\"DejaVuSans-4d\" transform=\"scale(0.015625)\"/>\r\n       <path d=\"M 3597 1894 \r\nL 3597 1613 \r\nL 953 1613 \r\nQ 991 1019 1311 708 \r\nQ 1631 397 2203 397 \r\nQ 2534 397 2845 478 \r\nQ 3156 559 3463 722 \r\nL 3463 178 \r\nQ 3153 47 2828 -22 \r\nQ 2503 -91 2169 -91 \r\nQ 1331 -91 842 396 \r\nQ 353 884 353 1716 \r\nQ 353 2575 817 3079 \r\nQ 1281 3584 2069 3584 \r\nQ 2775 3584 3186 3129 \r\nQ 3597 2675 3597 1894 \r\nz\r\nM 3022 2063 \r\nQ 3016 2534 2758 2815 \r\nQ 2500 3097 2075 3097 \r\nQ 1594 3097 1305 2825 \r\nQ 1016 2553 972 2059 \r\nL 3022 2063 \r\nz\r\n\" id=\"DejaVuSans-65\" transform=\"scale(0.015625)\"/>\r\n       <path d=\"M 1172 4494 \r\nL 1172 3500 \r\nL 2356 3500 \r\nL 2356 3053 \r\nL 1172 3053 \r\nL 1172 1153 \r\nQ 1172 725 1289 603 \r\nQ 1406 481 1766 481 \r\nL 2356 481 \r\nL 2356 0 \r\nL 1766 0 \r\nQ 1100 0 847 248 \r\nQ 594 497 594 1153 \r\nL 594 3053 \r\nL 172 3053 \r\nL 172 3500 \r\nL 594 3500 \r\nL 594 4494 \r\nL 1172 4494 \r\nz\r\n\" id=\"DejaVuSans-74\" transform=\"scale(0.015625)\"/>\r\n       <path d=\"M 2194 1759 \r\nQ 1497 1759 1228 1600 \r\nQ 959 1441 959 1056 \r\nQ 959 750 1161 570 \r\nQ 1363 391 1709 391 \r\nQ 2188 391 2477 730 \r\nQ 2766 1069 2766 1631 \r\nL 2766 1759 \r\nL 2194 1759 \r\nz\r\nM 3341 1997 \r\nL 3341 0 \r\nL 2766 0 \r\nL 2766 531 \r\nQ 2569 213 2275 61 \r\nQ 1981 -91 1556 -91 \r\nQ 1019 -91 701 211 \r\nQ 384 513 384 1019 \r\nQ 384 1609 779 1909 \r\nQ 1175 2209 1959 2209 \r\nL 2766 2209 \r\nL 2766 2266 \r\nQ 2766 2663 2505 2880 \r\nQ 2244 3097 1772 3097 \r\nQ 1472 3097 1187 3025 \r\nQ 903 2953 641 2809 \r\nL 641 3341 \r\nQ 956 3463 1253 3523 \r\nQ 1550 3584 1831 3584 \r\nQ 2591 3584 2966 3190 \r\nQ 3341 2797 3341 1997 \r\nz\r\n\" id=\"DejaVuSans-61\" transform=\"scale(0.015625)\"/>\r\n       <path d=\"M 603 3500 \r\nL 1178 3500 \r\nL 1178 0 \r\nL 603 0 \r\nL 603 3500 \r\nz\r\nM 603 4863 \r\nL 1178 4863 \r\nL 1178 4134 \r\nL 603 4134 \r\nL 603 4863 \r\nz\r\n\" id=\"DejaVuSans-69\" transform=\"scale(0.015625)\"/>\r\n      </defs>\r\n      <use xlink:href=\"#DejaVuSans-4d\"/>\r\n      <use x=\"86.279297\" xlink:href=\"#DejaVuSans-65\"/>\r\n      <use x=\"147.802734\" xlink:href=\"#DejaVuSans-74\"/>\r\n      <use x=\"187.011719\" xlink:href=\"#DejaVuSans-61\"/>\r\n      <use x=\"248.291016\" xlink:href=\"#DejaVuSans-69\"/>\r\n     </g>\r\n    </g>\r\n   </g>\r\n   <g id=\"matplotlib.axis_2\">\r\n    <g id=\"ytick_1\">\r\n     <g id=\"line2d_4\">\r\n      <defs>\r\n       <path d=\"M 0 0 \r\nL -3.5 0 \r\n\" id=\"mc04a35738e\" style=\"stroke:#000000;stroke-width:0.8;\"/>\r\n      </defs>\r\n      <g>\r\n       <use style=\"stroke:#000000;stroke-width:0.8;\" x=\"53.328125\" xlink:href=\"#mc04a35738e\" y=\"294.118125\"/>\r\n      </g>\r\n     </g>\r\n     <g id=\"text_5\">\r\n      <!-- 0 -->\r\n      <g transform=\"translate(39.965625 297.917344)scale(0.1 -0.1)\">\r\n       <use xlink:href=\"#DejaVuSans-30\"/>\r\n      </g>\r\n     </g>\r\n    </g>\r\n    <g id=\"ytick_2\">\r\n     <g id=\"line2d_5\">\r\n      <g>\r\n       <use style=\"stroke:#000000;stroke-width:0.8;\" x=\"53.328125\" xlink:href=\"#mc04a35738e\" y=\"236.434082\"/>\r\n      </g>\r\n     </g>\r\n     <g id=\"text_6\">\r\n      <!-- 2000 -->\r\n      <g transform=\"translate(20.878125 240.233301)scale(0.1 -0.1)\">\r\n       <use xlink:href=\"#DejaVuSans-32\"/>\r\n       <use x=\"63.623047\" xlink:href=\"#DejaVuSans-30\"/>\r\n       <use x=\"127.246094\" xlink:href=\"#DejaVuSans-30\"/>\r\n       <use x=\"190.869141\" xlink:href=\"#DejaVuSans-30\"/>\r\n      </g>\r\n     </g>\r\n    </g>\r\n    <g id=\"ytick_3\">\r\n     <g id=\"line2d_6\">\r\n      <g>\r\n       <use style=\"stroke:#000000;stroke-width:0.8;\" x=\"53.328125\" xlink:href=\"#mc04a35738e\" y=\"178.750039\"/>\r\n      </g>\r\n     </g>\r\n     <g id=\"text_7\">\r\n      <!-- 4000 -->\r\n      <g transform=\"translate(20.878125 182.549258)scale(0.1 -0.1)\">\r\n       <defs>\r\n        <path d=\"M 2419 4116 \r\nL 825 1625 \r\nL 2419 1625 \r\nL 2419 4116 \r\nz\r\nM 2253 4666 \r\nL 3047 4666 \r\nL 3047 1625 \r\nL 3713 1625 \r\nL 3713 1100 \r\nL 3047 1100 \r\nL 3047 0 \r\nL 2419 0 \r\nL 2419 1100 \r\nL 313 1100 \r\nL 313 1709 \r\nL 2253 4666 \r\nz\r\n\" id=\"DejaVuSans-34\" transform=\"scale(0.015625)\"/>\r\n       </defs>\r\n       <use xlink:href=\"#DejaVuSans-34\"/>\r\n       <use x=\"63.623047\" xlink:href=\"#DejaVuSans-30\"/>\r\n       <use x=\"127.246094\" xlink:href=\"#DejaVuSans-30\"/>\r\n       <use x=\"190.869141\" xlink:href=\"#DejaVuSans-30\"/>\r\n      </g>\r\n     </g>\r\n    </g>\r\n    <g id=\"ytick_4\">\r\n     <g id=\"line2d_7\">\r\n      <g>\r\n       <use style=\"stroke:#000000;stroke-width:0.8;\" x=\"53.328125\" xlink:href=\"#mc04a35738e\" y=\"121.065996\"/>\r\n      </g>\r\n     </g>\r\n     <g id=\"text_8\">\r\n      <!-- 6000 -->\r\n      <g transform=\"translate(20.878125 124.865215)scale(0.1 -0.1)\">\r\n       <defs>\r\n        <path d=\"M 2113 2584 \r\nQ 1688 2584 1439 2293 \r\nQ 1191 2003 1191 1497 \r\nQ 1191 994 1439 701 \r\nQ 1688 409 2113 409 \r\nQ 2538 409 2786 701 \r\nQ 3034 994 3034 1497 \r\nQ 3034 2003 2786 2293 \r\nQ 2538 2584 2113 2584 \r\nz\r\nM 3366 4563 \r\nL 3366 3988 \r\nQ 3128 4100 2886 4159 \r\nQ 2644 4219 2406 4219 \r\nQ 1781 4219 1451 3797 \r\nQ 1122 3375 1075 2522 \r\nQ 1259 2794 1537 2939 \r\nQ 1816 3084 2150 3084 \r\nQ 2853 3084 3261 2657 \r\nQ 3669 2231 3669 1497 \r\nQ 3669 778 3244 343 \r\nQ 2819 -91 2113 -91 \r\nQ 1303 -91 875 529 \r\nQ 447 1150 447 2328 \r\nQ 447 3434 972 4092 \r\nQ 1497 4750 2381 4750 \r\nQ 2619 4750 2861 4703 \r\nQ 3103 4656 3366 4563 \r\nz\r\n\" id=\"DejaVuSans-36\" transform=\"scale(0.015625)\"/>\r\n       </defs>\r\n       <use xlink:href=\"#DejaVuSans-36\"/>\r\n       <use x=\"63.623047\" xlink:href=\"#DejaVuSans-30\"/>\r\n       <use x=\"127.246094\" xlink:href=\"#DejaVuSans-30\"/>\r\n       <use x=\"190.869141\" xlink:href=\"#DejaVuSans-30\"/>\r\n      </g>\r\n     </g>\r\n    </g>\r\n    <g id=\"ytick_5\">\r\n     <g id=\"line2d_8\">\r\n      <g>\r\n       <use style=\"stroke:#000000;stroke-width:0.8;\" x=\"53.328125\" xlink:href=\"#mc04a35738e\" y=\"63.381953\"/>\r\n      </g>\r\n     </g>\r\n     <g id=\"text_9\">\r\n      <!-- 8000 -->\r\n      <g transform=\"translate(20.878125 67.181172)scale(0.1 -0.1)\">\r\n       <defs>\r\n        <path d=\"M 2034 2216 \r\nQ 1584 2216 1326 1975 \r\nQ 1069 1734 1069 1313 \r\nQ 1069 891 1326 650 \r\nQ 1584 409 2034 409 \r\nQ 2484 409 2743 651 \r\nQ 3003 894 3003 1313 \r\nQ 3003 1734 2745 1975 \r\nQ 2488 2216 2034 2216 \r\nz\r\nM 1403 2484 \r\nQ 997 2584 770 2862 \r\nQ 544 3141 544 3541 \r\nQ 544 4100 942 4425 \r\nQ 1341 4750 2034 4750 \r\nQ 2731 4750 3128 4425 \r\nQ 3525 4100 3525 3541 \r\nQ 3525 3141 3298 2862 \r\nQ 3072 2584 2669 2484 \r\nQ 3125 2378 3379 2068 \r\nQ 3634 1759 3634 1313 \r\nQ 3634 634 3220 271 \r\nQ 2806 -91 2034 -91 \r\nQ 1263 -91 848 271 \r\nQ 434 634 434 1313 \r\nQ 434 1759 690 2068 \r\nQ 947 2378 1403 2484 \r\nz\r\nM 1172 3481 \r\nQ 1172 3119 1398 2916 \r\nQ 1625 2713 2034 2713 \r\nQ 2441 2713 2670 2916 \r\nQ 2900 3119 2900 3481 \r\nQ 2900 3844 2670 4047 \r\nQ 2441 4250 2034 4250 \r\nQ 1625 4250 1398 4047 \r\nQ 1172 3844 1172 3481 \r\nz\r\n\" id=\"DejaVuSans-38\" transform=\"scale(0.015625)\"/>\r\n       </defs>\r\n       <use xlink:href=\"#DejaVuSans-38\"/>\r\n       <use x=\"63.623047\" xlink:href=\"#DejaVuSans-30\"/>\r\n       <use x=\"127.246094\" xlink:href=\"#DejaVuSans-30\"/>\r\n       <use x=\"190.869141\" xlink:href=\"#DejaVuSans-30\"/>\r\n      </g>\r\n     </g>\r\n    </g>\r\n    <g id=\"text_10\">\r\n     <!-- Cases -->\r\n     <g transform=\"translate(14.798438 173.059531)rotate(-90)scale(0.1 -0.1)\">\r\n      <defs>\r\n       <path d=\"M 4122 4306 \r\nL 4122 3641 \r\nQ 3803 3938 3442 4084 \r\nQ 3081 4231 2675 4231 \r\nQ 1875 4231 1450 3742 \r\nQ 1025 3253 1025 2328 \r\nQ 1025 1406 1450 917 \r\nQ 1875 428 2675 428 \r\nQ 3081 428 3442 575 \r\nQ 3803 722 4122 1019 \r\nL 4122 359 \r\nQ 3791 134 3420 21 \r\nQ 3050 -91 2638 -91 \r\nQ 1578 -91 968 557 \r\nQ 359 1206 359 2328 \r\nQ 359 3453 968 4101 \r\nQ 1578 4750 2638 4750 \r\nQ 3056 4750 3426 4639 \r\nQ 3797 4528 4122 4306 \r\nz\r\n\" id=\"DejaVuSans-43\" transform=\"scale(0.015625)\"/>\r\n       <path d=\"M 2834 3397 \r\nL 2834 2853 \r\nQ 2591 2978 2328 3040 \r\nQ 2066 3103 1784 3103 \r\nQ 1356 3103 1142 2972 \r\nQ 928 2841 928 2578 \r\nQ 928 2378 1081 2264 \r\nQ 1234 2150 1697 2047 \r\nL 1894 2003 \r\nQ 2506 1872 2764 1633 \r\nQ 3022 1394 3022 966 \r\nQ 3022 478 2636 193 \r\nQ 2250 -91 1575 -91 \r\nQ 1294 -91 989 -36 \r\nQ 684 19 347 128 \r\nL 347 722 \r\nQ 666 556 975 473 \r\nQ 1284 391 1588 391 \r\nQ 1994 391 2212 530 \r\nQ 2431 669 2431 922 \r\nQ 2431 1156 2273 1281 \r\nQ 2116 1406 1581 1522 \r\nL 1381 1569 \r\nQ 847 1681 609 1914 \r\nQ 372 2147 372 2553 \r\nQ 372 3047 722 3315 \r\nQ 1072 3584 1716 3584 \r\nQ 2034 3584 2315 3537 \r\nQ 2597 3491 2834 3397 \r\nz\r\n\" id=\"DejaVuSans-73\" transform=\"scale(0.015625)\"/>\r\n      </defs>\r\n      <use xlink:href=\"#DejaVuSans-43\"/>\r\n      <use x=\"69.824219\" xlink:href=\"#DejaVuSans-61\"/>\r\n      <use x=\"131.103516\" xlink:href=\"#DejaVuSans-73\"/>\r\n      <use x=\"183.203125\" xlink:href=\"#DejaVuSans-65\"/>\r\n      <use x=\"244.726562\" xlink:href=\"#DejaVuSans-73\"/>\r\n     </g>\r\n    </g>\r\n   </g>\r\n   <g id=\"patch_6\">\r\n    <path d=\"M 53.328125 294.118125 \r\nL 53.328125 22.318125 \r\n\" style=\"fill:none;stroke:#000000;stroke-linecap:square;stroke-linejoin:miter;stroke-width:0.8;\"/>\r\n   </g>\r\n   <g id=\"patch_7\">\r\n    <path d=\"M 443.928125 294.118125 \r\nL 443.928125 22.318125 \r\n\" style=\"fill:none;stroke:#000000;stroke-linecap:square;stroke-linejoin:miter;stroke-width:0.8;\"/>\r\n   </g>\r\n   <g id=\"patch_8\">\r\n    <path d=\"M 53.328125 294.118125 \r\nL 443.928125 294.118125 \r\n\" style=\"fill:none;stroke:#000000;stroke-linecap:square;stroke-linejoin:miter;stroke-width:0.8;\"/>\r\n   </g>\r\n   <g id=\"patch_9\">\r\n    <path d=\"M 53.328125 22.318125 \r\nL 443.928125 22.318125 \r\n\" style=\"fill:none;stroke:#000000;stroke-linecap:square;stroke-linejoin:miter;stroke-width:0.8;\"/>\r\n   </g>\r\n   <g id=\"text_11\">\r\n    <!-- Total crime rates -->\r\n    <g transform=\"translate(198.520625 16.318125)scale(0.12 -0.12)\">\r\n     <defs>\r\n      <path d=\"M -19 4666 \r\nL 3928 4666 \r\nL 3928 4134 \r\nL 2272 4134 \r\nL 2272 0 \r\nL 1638 0 \r\nL 1638 4134 \r\nL -19 4134 \r\nL -19 4666 \r\nz\r\n\" id=\"DejaVuSans-54\" transform=\"scale(0.015625)\"/>\r\n      <path d=\"M 1959 3097 \r\nQ 1497 3097 1228 2736 \r\nQ 959 2375 959 1747 \r\nQ 959 1119 1226 758 \r\nQ 1494 397 1959 397 \r\nQ 2419 397 2687 759 \r\nQ 2956 1122 2956 1747 \r\nQ 2956 2369 2687 2733 \r\nQ 2419 3097 1959 3097 \r\nz\r\nM 1959 3584 \r\nQ 2709 3584 3137 3096 \r\nQ 3566 2609 3566 1747 \r\nQ 3566 888 3137 398 \r\nQ 2709 -91 1959 -91 \r\nQ 1206 -91 779 398 \r\nQ 353 888 353 1747 \r\nQ 353 2609 779 3096 \r\nQ 1206 3584 1959 3584 \r\nz\r\n\" id=\"DejaVuSans-6f\" transform=\"scale(0.015625)\"/>\r\n      <path d=\"M 603 4863 \r\nL 1178 4863 \r\nL 1178 0 \r\nL 603 0 \r\nL 603 4863 \r\nz\r\n\" id=\"DejaVuSans-6c\" transform=\"scale(0.015625)\"/>\r\n      <path id=\"DejaVuSans-20\" transform=\"scale(0.015625)\"/>\r\n      <path d=\"M 3122 3366 \r\nL 3122 2828 \r\nQ 2878 2963 2633 3030 \r\nQ 2388 3097 2138 3097 \r\nQ 1578 3097 1268 2742 \r\nQ 959 2388 959 1747 \r\nQ 959 1106 1268 751 \r\nQ 1578 397 2138 397 \r\nQ 2388 397 2633 464 \r\nQ 2878 531 3122 666 \r\nL 3122 134 \r\nQ 2881 22 2623 -34 \r\nQ 2366 -91 2075 -91 \r\nQ 1284 -91 818 406 \r\nQ 353 903 353 1747 \r\nQ 353 2603 823 3093 \r\nQ 1294 3584 2113 3584 \r\nQ 2378 3584 2631 3529 \r\nQ 2884 3475 3122 3366 \r\nz\r\n\" id=\"DejaVuSans-63\" transform=\"scale(0.015625)\"/>\r\n      <path d=\"M 2631 2963 \r\nQ 2534 3019 2420 3045 \r\nQ 2306 3072 2169 3072 \r\nQ 1681 3072 1420 2755 \r\nQ 1159 2438 1159 1844 \r\nL 1159 0 \r\nL 581 0 \r\nL 581 3500 \r\nL 1159 3500 \r\nL 1159 2956 \r\nQ 1341 3275 1631 3429 \r\nQ 1922 3584 2338 3584 \r\nQ 2397 3584 2469 3576 \r\nQ 2541 3569 2628 3553 \r\nL 2631 2963 \r\nz\r\n\" id=\"DejaVuSans-72\" transform=\"scale(0.015625)\"/>\r\n      <path d=\"M 3328 2828 \r\nQ 3544 3216 3844 3400 \r\nQ 4144 3584 4550 3584 \r\nQ 5097 3584 5394 3201 \r\nQ 5691 2819 5691 2113 \r\nL 5691 0 \r\nL 5113 0 \r\nL 5113 2094 \r\nQ 5113 2597 4934 2840 \r\nQ 4756 3084 4391 3084 \r\nQ 3944 3084 3684 2787 \r\nQ 3425 2491 3425 1978 \r\nL 3425 0 \r\nL 2847 0 \r\nL 2847 2094 \r\nQ 2847 2600 2669 2842 \r\nQ 2491 3084 2119 3084 \r\nQ 1678 3084 1418 2786 \r\nQ 1159 2488 1159 1978 \r\nL 1159 0 \r\nL 581 0 \r\nL 581 3500 \r\nL 1159 3500 \r\nL 1159 2956 \r\nQ 1356 3278 1631 3431 \r\nQ 1906 3584 2284 3584 \r\nQ 2666 3584 2933 3390 \r\nQ 3200 3197 3328 2828 \r\nz\r\n\" id=\"DejaVuSans-6d\" transform=\"scale(0.015625)\"/>\r\n     </defs>\r\n     <use xlink:href=\"#DejaVuSans-54\"/>\r\n     <use x=\"44.083984\" xlink:href=\"#DejaVuSans-6f\"/>\r\n     <use x=\"105.265625\" xlink:href=\"#DejaVuSans-74\"/>\r\n     <use x=\"144.474609\" xlink:href=\"#DejaVuSans-61\"/>\r\n     <use x=\"205.753906\" xlink:href=\"#DejaVuSans-6c\"/>\r\n     <use x=\"233.537109\" xlink:href=\"#DejaVuSans-20\"/>\r\n     <use x=\"265.324219\" xlink:href=\"#DejaVuSans-63\"/>\r\n     <use x=\"320.304688\" xlink:href=\"#DejaVuSans-72\"/>\r\n     <use x=\"361.417969\" xlink:href=\"#DejaVuSans-69\"/>\r\n     <use x=\"389.201172\" xlink:href=\"#DejaVuSans-6d\"/>\r\n     <use x=\"486.613281\" xlink:href=\"#DejaVuSans-65\"/>\r\n     <use x=\"548.136719\" xlink:href=\"#DejaVuSans-20\"/>\r\n     <use x=\"579.923828\" xlink:href=\"#DejaVuSans-72\"/>\r\n     <use x=\"621.037109\" xlink:href=\"#DejaVuSans-61\"/>\r\n     <use x=\"682.316406\" xlink:href=\"#DejaVuSans-74\"/>\r\n     <use x=\"721.525391\" xlink:href=\"#DejaVuSans-65\"/>\r\n     <use x=\"783.048828\" xlink:href=\"#DejaVuSans-73\"/>\r\n    </g>\r\n   </g>\r\n  </g>\r\n </g>\r\n <defs>\r\n  <clipPath id=\"pd7bc3d55b9\">\r\n   <rect height=\"271.8\" width=\"390.6\" x=\"53.328125\" y=\"22.318125\"/>\r\n  </clipPath>\r\n </defs>\r\n</svg>\r\n",
      "image/png": "[encoded data removed]"
     },
     "metadata": {
      "needs_background": "light"
     }
    }
   ],
   "source": [
    "f, ax = plt.subplots(1, figsize=(7, 5))\n",
    "total_analysis_cases.pivot_table(values='Nusikalstamos veikos', columns='Metai', aggfunc='sum').T.plot.bar(ax=ax, legend=False)\n",
    "ax.set_ylabel('Cases')\n",
    "ax.set_title('Total crime rates')"
   ]
  },
  {
   "source": [
    "### Total crime cases decreased during quarantine, compared to 2019. Crime rates in 2021 slightly lower than in 2020"
   ],
   "cell_type": "markdown",
   "metadata": {}
  },
  {
   "cell_type": "markdown",
   "source": [
    "[back to the top](#main)\n",
    "<a id='Q2' name='Q2'></a>\n",
    "## 2. What is the correlation between covid cases and crime rates?"
   ],
   "metadata": {}
  },
  {
   "cell_type": "code",
   "execution_count": 18,
   "metadata": {},
   "outputs": [
    {
     "output_type": "execute_result",
     "data": {
      "text/plain": [
       "   year  month  new_cases\n",
       "0  2020      2        1.0\n",
       "1  2020      3      467.0\n",
       "2  2020      4      907.0\n",
       "3  2020      5      292.0\n",
       "4  2020      6      145.0"
      ],
      "text/html": "<div>\n<style scoped>\n    .dataframe tbody tr th:only-of-type {\n        vertical-align: middle;\n    }\n\n    .dataframe tbody tr th {\n        vertical-align: top;\n    }\n\n    .dataframe thead th {\n        text-align: right;\n    }\n</style>\n<table border=\"1\" class=\"dataframe\">\n  <thead>\n    <tr style=\"text-align: right;\">\n      <th></th>\n      <th>year</th>\n      <th>month</th>\n      <th>new_cases</th>\n    </tr>\n  </thead>\n  <tbody>\n    <tr>\n      <th>0</th>\n      <td>2020</td>\n      <td>2</td>\n      <td>1.0</td>\n    </tr>\n    <tr>\n      <th>1</th>\n      <td>2020</td>\n      <td>3</td>\n      <td>467.0</td>\n    </tr>\n    <tr>\n      <th>2</th>\n      <td>2020</td>\n      <td>4</td>\n      <td>907.0</td>\n    </tr>\n    <tr>\n      <th>3</th>\n      <td>2020</td>\n      <td>5</td>\n      <td>292.0</td>\n    </tr>\n    <tr>\n      <th>4</th>\n      <td>2020</td>\n      <td>6</td>\n      <td>145.0</td>\n    </tr>\n  </tbody>\n</table>\n</div>"
     },
     "metadata": {},
     "execution_count": 18
    }
   ],
   "source": [
    "lt_covid_monthly = lt_covid.groupby(['year', 'month']).sum().reset_index()\n",
    "lt_covid_monthly.head(5)"
   ]
  },
  {
   "cell_type": "code",
   "execution_count": 19,
   "metadata": {},
   "outputs": [
    {
     "output_type": "stream",
     "name": "stdout",
     "text": [
      "After merge our new dataframe shape is: (17, 4)\n"
     ]
    }
   ],
   "source": [
    "republic_crime_data = crime_data[crime_data['Savivaldybė'] == 'Respublika'][['Nusikalstamos veikos', 'Month', 'Metai']]\n",
    "republic_crime_data.rename(columns={'Metai': 'year', 'Month': 'month'}, inplace=True)\n",
    "\n",
    "combined_data = pd.merge(lt_covid_monthly, republic_crime_data, how='left', on=['year', 'month'])\n",
    "combined_data.dropna(inplace=True)\n",
    "print(f'After merge our new dataframe shape is: {combined_data.shape}')"
   ]
  },
  {
   "source": [
    "#### We will use Spearman correlation since it's not parametric test that does not require data normality."
   ],
   "cell_type": "markdown",
   "metadata": {}
  },
  {
   "cell_type": "code",
   "execution_count": 20,
   "metadata": {},
   "outputs": [
    {
     "output_type": "stream",
     "name": "stdout",
     "text": [
      "Spearman correlation coefficient: -0.9068627450980394 || p value 5.182872510350788e-07\n"
     ]
    }
   ],
   "source": [
    "from scipy.stats import spearmanr\n",
    "\n",
    "spearman_corr = spearmanr(combined_data['new_cases'].values, combined_data['Nusikalstamos veikos'])\n",
    "print(f'Spearman correlation coefficient: {spearman_corr[0]} || p value {spearman_corr[1]}')"
   ]
  },
  {
   "source": [
    "#### We have strong negative correlation between covid cases and criminal activities. The correlation coefficient is -0.9 indicating that crime rates decrease with higher covid numbers. The p value is below 0.05 indicating that two sets of data are correlated. Since we got strong negative correlation, we can check confidence interval"
   ],
   "cell_type": "markdown",
   "metadata": {}
  },
  {
   "cell_type": "code",
   "execution_count": 21,
   "metadata": {},
   "outputs": [
    {
     "output_type": "stream",
     "name": "stdout",
     "text": [
      "Spearman correlation coefficient confidence range between -0.9663130312801643 and -0.7555391870904961\n"
     ]
    }
   ],
   "source": [
    "# Source: https://stats.stackexchange.com/questions/18887/how-to-calculate-a-confidence-interval-for-spearmans-rank-correlation\n",
    "import math\n",
    "\n",
    "def get_confidence(r, num):\n",
    "    \"\"\"95 % confidence interval\"\"\"\n",
    "    stderr = 1.0 / math.sqrt(num - 3)\n",
    "    delta = 1.96 * stderr\n",
    "    lower = math.tanh(math.atanh(r) - delta)\n",
    "    upper = math.tanh(math.atanh(r) + delta)\n",
    "    return lower, upper\n",
    "\n",
    "conf = get_confidence(spearman_corr[0], len(combined_data))\n",
    "print(f'Spearman correlation coefficient confidence range between {conf[0]} and {conf[1]}')"
   ]
  },
  {
   "source": [
    "#### Such confidence interval indicates, that the real spearman correlation coefficient value for population is between -0.96 and -0.75 indicating strong negative relationship between covid rates and crime rates"
   ],
   "cell_type": "markdown",
   "metadata": {}
  },
  {
   "source": [
    "#### Applying spearman correlation to criminal type data and checking null hypothesis"
   ],
   "cell_type": "markdown",
   "metadata": {}
  },
  {
   "cell_type": "code",
   "execution_count": 22,
   "metadata": {},
   "outputs": [],
   "source": [
    "all_columns = list(analyze_columns) + ['Metai', 'Month']\n",
    "full_republic_crime_data = crime_data[crime_data['Savivaldybė'] == 'Respublika'][all_columns]\n",
    "full_republic_crime_data.rename(columns={'Metai': 'year', 'Month': 'month'}, inplace=True)\n",
    "combined_data_full = pd.merge(lt_covid_monthly, full_republic_crime_data, how='left', on=['year', 'month'])\n",
    "combined_data_full.dropna(inplace=True)\n",
    "\n",
    "correlated_columns, uncorrelated_columns = [], []\n",
    "spearman_values = []\n",
    "for col in analyze_columns:\n",
    "    if col == 'Nusikalstamos veikos':\n",
    "        continue\n",
    "    spearman_corr = spearmanr(combined_data_full['new_cases'].values, combined_data_full[col].values)\n",
    "    spm = float(spearman_corr[0])\n",
    "    if spearman_corr[1] <= 0.05:\n",
    "        correlated_columns.append(col)\n",
    "        spearman_values.append(spm)\n",
    "    else:\n",
    "        uncorrelated_columns.append(col)"
   ]
  },
  {
   "cell_type": "code",
   "execution_count": 23,
   "metadata": {},
   "outputs": [
    {
     "output_type": "stream",
     "name": "stdout",
     "text": [
      "Number of crime types that do not have any correlation with covid cases: 18\nNumber of crime types that do have correlation with covid cases: 11\n"
     ]
    }
   ],
   "source": [
    "print(f'Number of crime types that do not have any correlation with covid cases: {len(uncorrelated_columns)}')\n",
    "print(f'Number of crime types that do have correlation with covid cases: {len(correlated_columns)}')"
   ]
  },
  {
   "cell_type": "code",
   "execution_count": 24,
   "metadata": {},
   "outputs": [
    {
     "output_type": "execute_result",
     "data": {
      "text/plain": [
       "                                               column  corr_coef\n",
       "1                                        Nusikaltimai  -0.919118\n",
       "0   Nusikalstamų veikų skaičius 100 tukstančių gyv...  -0.906863\n",
       "6                                Privačios nuosavybės  -0.840491\n",
       "5                                 Vagystės - 178 str.  -0.823529\n",
       "10            Viešosios tvarkos pažeidimai - 284 str.  -0.820356\n",
       "2     Nusikalstamos veikos, padarytos viešose vietose  -0.762255\n",
       "7                               Iš gyvenamųjų patalpų  -0.734970\n",
       "9                                 Plėšimai - 180 str.  -0.716218\n",
       "4    Nusikalstamos veikos, padarytos neblaivių asmenų  -0.541667\n",
       "3   Nusikalstamos veikos, padarytos nepilnamečių a...  -0.500000\n",
       "8                                         Automobilių  -0.484961"
      ],
      "text/html": "<div>\n<style scoped>\n    .dataframe tbody tr th:only-of-type {\n        vertical-align: middle;\n    }\n\n    .dataframe tbody tr th {\n        vertical-align: top;\n    }\n\n    .dataframe thead th {\n        text-align: right;\n    }\n</style>\n<table border=\"1\" class=\"dataframe\">\n  <thead>\n    <tr style=\"text-align: right;\">\n      <th></th>\n      <th>column</th>\n      <th>corr_coef</th>\n    </tr>\n  </thead>\n  <tbody>\n    <tr>\n      <th>1</th>\n      <td>Nusikaltimai</td>\n      <td>-0.919118</td>\n    </tr>\n    <tr>\n      <th>0</th>\n      <td>Nusikalstamų veikų skaičius 100 tukstančių gyv...</td>\n      <td>-0.906863</td>\n    </tr>\n    <tr>\n      <th>6</th>\n      <td>Privačios nuosavybės</td>\n      <td>-0.840491</td>\n    </tr>\n    <tr>\n      <th>5</th>\n      <td>Vagystės - 178 str.</td>\n      <td>-0.823529</td>\n    </tr>\n    <tr>\n      <th>10</th>\n      <td>Viešosios tvarkos pažeidimai - 284 str.</td>\n      <td>-0.820356</td>\n    </tr>\n    <tr>\n      <th>2</th>\n      <td>Nusikalstamos veikos, padarytos viešose vietose</td>\n      <td>-0.762255</td>\n    </tr>\n    <tr>\n      <th>7</th>\n      <td>Iš gyvenamųjų patalpų</td>\n      <td>-0.734970</td>\n    </tr>\n    <tr>\n      <th>9</th>\n      <td>Plėšimai - 180 str.</td>\n      <td>-0.716218</td>\n    </tr>\n    <tr>\n      <th>4</th>\n      <td>Nusikalstamos veikos, padarytos neblaivių asmenų</td>\n      <td>-0.541667</td>\n    </tr>\n    <tr>\n      <th>3</th>\n      <td>Nusikalstamos veikos, padarytos nepilnamečių a...</td>\n      <td>-0.500000</td>\n    </tr>\n    <tr>\n      <th>8</th>\n      <td>Automobilių</td>\n      <td>-0.484961</td>\n    </tr>\n  </tbody>\n</table>\n</div>"
     },
     "metadata": {},
     "execution_count": 24
    }
   ],
   "source": [
    "pd.DataFrame.from_dict({'column' : correlated_columns, 'corr_coef': spearman_values}).sort_values(by='corr_coef', ascending=True)"
   ]
  },
  {
   "source": [
    "#### 5 of 11 correlated columns are related to theft\n",
    "#### 2 of 11 correlated columns are related to crimes in public spaces"
   ],
   "cell_type": "markdown",
   "metadata": {}
  },
  {
   "cell_type": "markdown",
   "source": [
    "[back to the top](#main)\n",
    "<a id='Q3' name='Q3'></a>\n",
    "## 3. Is it possible to predict the crime rates based on covid cases?"
   ],
   "metadata": {}
  },
  {
   "source": [
    "#### We only have 16 observations in the dataset. We need to increase the number of samples if we want to apply machine learning methods."
   ],
   "cell_type": "markdown",
   "metadata": {}
  },
  {
   "cell_type": "code",
   "execution_count": 25,
   "metadata": {},
   "outputs": [],
   "source": [
    "additional_covid_data = pd.read_csv('Agreguoti_COVID19_atvejai_ir_mirtys.csv')"
   ]
  },
  {
   "cell_type": "code",
   "execution_count": 26,
   "metadata": {},
   "outputs": [
    {
     "output_type": "execute_result",
     "data": {
      "text/plain": [
       "        object_id municipality_name        date      sex age_gr  new_cases  \\\n",
       "0               1  Vilniaus m. sav.  2021-10-08  Moteris    0-9         58   \n",
       "1               2  Vilniaus m. sav.  2021-10-08  Moteris  10-19         48   \n",
       "2               3  Vilniaus m. sav.  2021-10-08  Moteris  20-29         22   \n",
       "3               4  Vilniaus m. sav.  2021-10-08  Moteris  30-39         57   \n",
       "4               5  Vilniaus m. sav.  2021-10-08  Moteris  40-49         37   \n",
       "...           ...               ...         ...      ...    ...        ...   \n",
       "162034     162035       Nenustatyta  2020-03-01    Vyras  30-39          0   \n",
       "162035     162036       Nenustatyta  2020-02-27    Vyras  20-29          0   \n",
       "162036     162037       Nenustatyta  2020-02-15    Vyras  40-49          0   \n",
       "162037     162038       Nenustatyta  2020-02-09    Vyras  50-59          0   \n",
       "162038     162039       Nenustatyta  2020-02-04    Vyras  80-89          0   \n",
       "\n",
       "        deaths_all  deaths_cov1  deaths_cov2  deaths_cov3  \n",
       "0                0            0            0            0  \n",
       "1                0            0            0            0  \n",
       "2                0            0            0            0  \n",
       "3                0            0            0            0  \n",
       "4                0            0            0            0  \n",
       "...            ...          ...          ...          ...  \n",
       "162034           1            0            0            0  \n",
       "162035           1            0            0            0  \n",
       "162036           1            0            0            0  \n",
       "162037           1            0            0            0  \n",
       "162038           1            0            0            0  \n",
       "\n",
       "[162039 rows x 10 columns]"
      ],
      "text/html": "<div>\n<style scoped>\n    .dataframe tbody tr th:only-of-type {\n        vertical-align: middle;\n    }\n\n    .dataframe tbody tr th {\n        vertical-align: top;\n    }\n\n    .dataframe thead th {\n        text-align: right;\n    }\n</style>\n<table border=\"1\" class=\"dataframe\">\n  <thead>\n    <tr style=\"text-align: right;\">\n      <th></th>\n      <th>object_id</th>\n      <th>municipality_name</th>\n      <th>date</th>\n      <th>sex</th>\n      <th>age_gr</th>\n      <th>new_cases</th>\n      <th>deaths_all</th>\n      <th>deaths_cov1</th>\n      <th>deaths_cov2</th>\n      <th>deaths_cov3</th>\n    </tr>\n  </thead>\n  <tbody>\n    <tr>\n      <th>0</th>\n      <td>1</td>\n      <td>Vilniaus m. sav.</td>\n      <td>2021-10-08</td>\n      <td>Moteris</td>\n      <td>0-9</td>\n      <td>58</td>\n      <td>0</td>\n      <td>0</td>\n      <td>0</td>\n      <td>0</td>\n    </tr>\n    <tr>\n      <th>1</th>\n      <td>2</td>\n      <td>Vilniaus m. sav.</td>\n      <td>2021-10-08</td>\n      <td>Moteris</td>\n      <td>10-19</td>\n      <td>48</td>\n      <td>0</td>\n      <td>0</td>\n      <td>0</td>\n      <td>0</td>\n    </tr>\n    <tr>\n      <th>2</th>\n      <td>3</td>\n      <td>Vilniaus m. sav.</td>\n      <td>2021-10-08</td>\n      <td>Moteris</td>\n      <td>20-29</td>\n      <td>22</td>\n      <td>0</td>\n      <td>0</td>\n      <td>0</td>\n      <td>0</td>\n    </tr>\n    <tr>\n      <th>3</th>\n      <td>4</td>\n      <td>Vilniaus m. sav.</td>\n      <td>2021-10-08</td>\n      <td>Moteris</td>\n      <td>30-39</td>\n      <td>57</td>\n      <td>0</td>\n      <td>0</td>\n      <td>0</td>\n      <td>0</td>\n    </tr>\n    <tr>\n      <th>4</th>\n      <td>5</td>\n      <td>Vilniaus m. sav.</td>\n      <td>2021-10-08</td>\n      <td>Moteris</td>\n      <td>40-49</td>\n      <td>37</td>\n      <td>0</td>\n      <td>0</td>\n      <td>0</td>\n      <td>0</td>\n    </tr>\n    <tr>\n      <th>...</th>\n      <td>...</td>\n      <td>...</td>\n      <td>...</td>\n      <td>...</td>\n      <td>...</td>\n      <td>...</td>\n      <td>...</td>\n      <td>...</td>\n      <td>...</td>\n      <td>...</td>\n    </tr>\n    <tr>\n      <th>162034</th>\n      <td>162035</td>\n      <td>Nenustatyta</td>\n      <td>2020-03-01</td>\n      <td>Vyras</td>\n      <td>30-39</td>\n      <td>0</td>\n      <td>1</td>\n      <td>0</td>\n      <td>0</td>\n      <td>0</td>\n    </tr>\n    <tr>\n      <th>162035</th>\n      <td>162036</td>\n      <td>Nenustatyta</td>\n      <td>2020-02-27</td>\n      <td>Vyras</td>\n      <td>20-29</td>\n      <td>0</td>\n      <td>1</td>\n      <td>0</td>\n      <td>0</td>\n      <td>0</td>\n    </tr>\n    <tr>\n      <th>162036</th>\n      <td>162037</td>\n      <td>Nenustatyta</td>\n      <td>2020-02-15</td>\n      <td>Vyras</td>\n      <td>40-49</td>\n      <td>0</td>\n      <td>1</td>\n      <td>0</td>\n      <td>0</td>\n      <td>0</td>\n    </tr>\n    <tr>\n      <th>162037</th>\n      <td>162038</td>\n      <td>Nenustatyta</td>\n      <td>2020-02-09</td>\n      <td>Vyras</td>\n      <td>50-59</td>\n      <td>0</td>\n      <td>1</td>\n      <td>0</td>\n      <td>0</td>\n      <td>0</td>\n    </tr>\n    <tr>\n      <th>162038</th>\n      <td>162039</td>\n      <td>Nenustatyta</td>\n      <td>2020-02-04</td>\n      <td>Vyras</td>\n      <td>80-89</td>\n      <td>0</td>\n      <td>1</td>\n      <td>0</td>\n      <td>0</td>\n      <td>0</td>\n    </tr>\n  </tbody>\n</table>\n<p>162039 rows × 10 columns</p>\n</div>"
     },
     "metadata": {},
     "execution_count": 26
    }
   ],
   "source": [
    "additional_covid_data"
   ]
  },
  {
   "cell_type": "code",
   "execution_count": 27,
   "metadata": {},
   "outputs": [
    {
     "output_type": "execute_result",
     "data": {
      "text/plain": [
       "Vilniaus m. sav.     9807\n",
       "Kauno m. sav.        8444\n",
       "Klaipėdos m. sav.    6846\n",
       "Vilniaus r. sav.     5649\n",
       "Šiaulių m. sav.      5642\n",
       "                     ... \n",
       "Rietavo sav.          738\n",
       "Pagėgių sav.          609\n",
       "Nenustatyta           580\n",
       "Birštono sav.         349\n",
       "Neringos sav.         263\n",
       "Name: municipality_name, Length: 61, dtype: int64"
      ]
     },
     "metadata": {},
     "execution_count": 27
    }
   ],
   "source": [
    "additional_covid_data['municipality_name'].value_counts()"
   ]
  },
  {
   "cell_type": "code",
   "execution_count": 28,
   "metadata": {},
   "outputs": [
    {
     "output_type": "execute_result",
     "data": {
      "text/plain": [
       "(161459, 10)"
      ]
     },
     "metadata": {},
     "execution_count": 28
    }
   ],
   "source": [
    "additional_covid_data = additional_covid_data[additional_covid_data['municipality_name'] != 'Nenustatyta']\n",
    "additional_covid_data.shape"
   ]
  },
  {
   "cell_type": "code",
   "execution_count": 29,
   "metadata": {},
   "outputs": [
    {
     "output_type": "execute_result",
     "data": {
      "text/plain": [
       "   object_id municipality_name        date      sex age_gr  new_cases  \\\n",
       "0          1  Vilniaus m. sav.  2021-10-08  Moteris    0-9         58   \n",
       "1          2  Vilniaus m. sav.  2021-10-08  Moteris  10-19         48   \n",
       "\n",
       "   deaths_all  deaths_cov1  deaths_cov2  deaths_cov3  \n",
       "0           0            0            0            0  \n",
       "1           0            0            0            0  "
      ],
      "text/html": "<div>\n<style scoped>\n    .dataframe tbody tr th:only-of-type {\n        vertical-align: middle;\n    }\n\n    .dataframe tbody tr th {\n        vertical-align: top;\n    }\n\n    .dataframe thead th {\n        text-align: right;\n    }\n</style>\n<table border=\"1\" class=\"dataframe\">\n  <thead>\n    <tr style=\"text-align: right;\">\n      <th></th>\n      <th>object_id</th>\n      <th>municipality_name</th>\n      <th>date</th>\n      <th>sex</th>\n      <th>age_gr</th>\n      <th>new_cases</th>\n      <th>deaths_all</th>\n      <th>deaths_cov1</th>\n      <th>deaths_cov2</th>\n      <th>deaths_cov3</th>\n    </tr>\n  </thead>\n  <tbody>\n    <tr>\n      <th>0</th>\n      <td>1</td>\n      <td>Vilniaus m. sav.</td>\n      <td>2021-10-08</td>\n      <td>Moteris</td>\n      <td>0-9</td>\n      <td>58</td>\n      <td>0</td>\n      <td>0</td>\n      <td>0</td>\n      <td>0</td>\n    </tr>\n    <tr>\n      <th>1</th>\n      <td>2</td>\n      <td>Vilniaus m. sav.</td>\n      <td>2021-10-08</td>\n      <td>Moteris</td>\n      <td>10-19</td>\n      <td>48</td>\n      <td>0</td>\n      <td>0</td>\n      <td>0</td>\n      <td>0</td>\n    </tr>\n  </tbody>\n</table>\n</div>"
     },
     "metadata": {},
     "execution_count": 29
    }
   ],
   "source": [
    "additional_covid_data.head(2)"
   ]
  },
  {
   "source": [
    "#### Creating categorical variable one hot encodings since we will aggregated the data. Otherwise categorical data would be lost"
   ],
   "cell_type": "markdown",
   "metadata": {}
  },
  {
   "cell_type": "code",
   "execution_count": 30,
   "metadata": {},
   "outputs": [
    {
     "output_type": "execute_result",
     "data": {
      "text/plain": [
       "      year  month   municipality_name  object_id  new_cases  deaths_all  \\\n",
       "0     2020      2     Akmenės r. sav.    1529887          0          38   \n",
       "1     2020      2     Alytaus m. sav.    1713218          0          48   \n",
       "2     2020      2     Alytaus r. sav.    2617383          0          71   \n",
       "3     2020      2    Anykščių r. sav.    1688720          0          44   \n",
       "4     2020      2       Birštono sav.      46503          0           1   \n",
       "...    ...    ...                 ...        ...        ...         ...   \n",
       "1255  2021     10     Šiaulių r. sav.   11496362        178          12   \n",
       "1256  2021     10     Šilalės r. sav.    8110930         88          10   \n",
       "1257  2021     10     Šilutės r. sav.   11162348        240          22   \n",
       "1258  2021     10    Širvintų r. sav.    5179526         49           5   \n",
       "1259  2021     10  Švenčionių r. sav.    6832826         68          11   \n",
       "\n",
       "      deaths_cov1  deaths_cov2  deaths_cov3  sex_Moteris  ...  age_20-29  \\\n",
       "0               0            0            0         15.0  ...        2.0   \n",
       "1               0            0            0         19.0  ...        0.0   \n",
       "2               0            0            0         27.0  ...        0.0   \n",
       "3               0            0            0         21.0  ...        0.0   \n",
       "4               0            0            0          0.0  ...        0.0   \n",
       "...           ...          ...          ...          ...  ...        ...   \n",
       "1255            2            2            2         53.0  ...        7.0   \n",
       "1256            2            3            4         40.0  ...        7.0   \n",
       "1257            9           10           10         48.0  ...        9.0   \n",
       "1258            0            0            0         23.0  ...        4.0   \n",
       "1259            2            2            2         26.0  ...        4.0   \n",
       "\n",
       "      age_30-39  age_40-49  age_50-59  age_60-69  age_70-79  age_80-89  \\\n",
       "0           1.0        4.0        7.0        6.0        6.0        8.0   \n",
       "1           0.0        1.0        6.0        8.0       13.0        6.0   \n",
       "2           1.0        8.0       10.0        9.0       12.0       13.0   \n",
       "3           1.0        4.0        3.0        3.0        6.0       13.0   \n",
       "4           0.0        0.0        0.0        0.0        0.0        0.0   \n",
       "...         ...        ...        ...        ...        ...        ...   \n",
       "1255       12.0       10.0       16.0       10.0       10.0        7.0   \n",
       "1256        7.0        9.0        8.0        8.0        6.0        4.0   \n",
       "1257       10.0       12.0       12.0       11.0        9.0        8.0   \n",
       "1258        3.0        5.0        3.0        6.0        4.0        6.0   \n",
       "1259        8.0        8.0        6.0        6.0        8.0        5.0   \n",
       "\n",
       "      age_90-99  age_Centenarianai  age_Nenustatyta  \n",
       "0           3.0                0.0              0.0  \n",
       "1          10.0                0.0              0.0  \n",
       "2           6.0                1.0              0.0  \n",
       "3           7.0                0.0              0.0  \n",
       "4           1.0                0.0              0.0  \n",
       "...         ...                ...              ...  \n",
       "1255        2.0                0.0              0.0  \n",
       "1256        2.0                0.0              0.0  \n",
       "1257        0.0                1.0              1.0  \n",
       "1258        2.0                0.0              0.0  \n",
       "1259        1.0                0.0              0.0  \n",
       "\n",
       "[1260 rows x 24 columns]"
      ],
      "text/html": "<div>\n<style scoped>\n    .dataframe tbody tr th:only-of-type {\n        vertical-align: middle;\n    }\n\n    .dataframe tbody tr th {\n        vertical-align: top;\n    }\n\n    .dataframe thead th {\n        text-align: right;\n    }\n</style>\n<table border=\"1\" class=\"dataframe\">\n  <thead>\n    <tr style=\"text-align: right;\">\n      <th></th>\n      <th>year</th>\n      <th>month</th>\n      <th>municipality_name</th>\n      <th>object_id</th>\n      <th>new_cases</th>\n      <th>deaths_all</th>\n      <th>deaths_cov1</th>\n      <th>deaths_cov2</th>\n      <th>deaths_cov3</th>\n      <th>sex_Moteris</th>\n      <th>...</th>\n      <th>age_20-29</th>\n      <th>age_30-39</th>\n      <th>age_40-49</th>\n      <th>age_50-59</th>\n      <th>age_60-69</th>\n      <th>age_70-79</th>\n      <th>age_80-89</th>\n      <th>age_90-99</th>\n      <th>age_Centenarianai</th>\n      <th>age_Nenustatyta</th>\n    </tr>\n  </thead>\n  <tbody>\n    <tr>\n      <th>0</th>\n      <td>2020</td>\n      <td>2</td>\n      <td>Akmenės r. sav.</td>\n      <td>1529887</td>\n      <td>0</td>\n      <td>38</td>\n      <td>0</td>\n      <td>0</td>\n      <td>0</td>\n      <td>15.0</td>\n      <td>...</td>\n      <td>2.0</td>\n      <td>1.0</td>\n      <td>4.0</td>\n      <td>7.0</td>\n      <td>6.0</td>\n      <td>6.0</td>\n      <td>8.0</td>\n      <td>3.0</td>\n      <td>0.0</td>\n      <td>0.0</td>\n    </tr>\n    <tr>\n      <th>1</th>\n      <td>2020</td>\n      <td>2</td>\n      <td>Alytaus m. sav.</td>\n      <td>1713218</td>\n      <td>0</td>\n      <td>48</td>\n      <td>0</td>\n      <td>0</td>\n      <td>0</td>\n      <td>19.0</td>\n      <td>...</td>\n      <td>0.0</td>\n      <td>0.0</td>\n      <td>1.0</td>\n      <td>6.0</td>\n      <td>8.0</td>\n      <td>13.0</td>\n      <td>6.0</td>\n      <td>10.0</td>\n      <td>0.0</td>\n      <td>0.0</td>\n    </tr>\n    <tr>\n      <th>2</th>\n      <td>2020</td>\n      <td>2</td>\n      <td>Alytaus r. sav.</td>\n      <td>2617383</td>\n      <td>0</td>\n      <td>71</td>\n      <td>0</td>\n      <td>0</td>\n      <td>0</td>\n      <td>27.0</td>\n      <td>...</td>\n      <td>0.0</td>\n      <td>1.0</td>\n      <td>8.0</td>\n      <td>10.0</td>\n      <td>9.0</td>\n      <td>12.0</td>\n      <td>13.0</td>\n      <td>6.0</td>\n      <td>1.0</td>\n      <td>0.0</td>\n    </tr>\n    <tr>\n      <th>3</th>\n      <td>2020</td>\n      <td>2</td>\n      <td>Anykščių r. sav.</td>\n      <td>1688720</td>\n      <td>0</td>\n      <td>44</td>\n      <td>0</td>\n      <td>0</td>\n      <td>0</td>\n      <td>21.0</td>\n      <td>...</td>\n      <td>0.0</td>\n      <td>1.0</td>\n      <td>4.0</td>\n      <td>3.0</td>\n      <td>3.0</td>\n      <td>6.0</td>\n      <td>13.0</td>\n      <td>7.0</td>\n      <td>0.0</td>\n      <td>0.0</td>\n    </tr>\n    <tr>\n      <th>4</th>\n      <td>2020</td>\n      <td>2</td>\n      <td>Birštono sav.</td>\n      <td>46503</td>\n      <td>0</td>\n      <td>1</td>\n      <td>0</td>\n      <td>0</td>\n      <td>0</td>\n      <td>0.0</td>\n      <td>...</td>\n      <td>0.0</td>\n      <td>0.0</td>\n      <td>0.0</td>\n      <td>0.0</td>\n      <td>0.0</td>\n      <td>0.0</td>\n      <td>0.0</td>\n      <td>1.0</td>\n      <td>0.0</td>\n      <td>0.0</td>\n    </tr>\n    <tr>\n      <th>...</th>\n      <td>...</td>\n      <td>...</td>\n      <td>...</td>\n      <td>...</td>\n      <td>...</td>\n      <td>...</td>\n      <td>...</td>\n      <td>...</td>\n      <td>...</td>\n      <td>...</td>\n      <td>...</td>\n      <td>...</td>\n      <td>...</td>\n      <td>...</td>\n      <td>...</td>\n      <td>...</td>\n      <td>...</td>\n      <td>...</td>\n      <td>...</td>\n      <td>...</td>\n      <td>...</td>\n    </tr>\n    <tr>\n      <th>1255</th>\n      <td>2021</td>\n      <td>10</td>\n      <td>Šiaulių r. sav.</td>\n      <td>11496362</td>\n      <td>178</td>\n      <td>12</td>\n      <td>2</td>\n      <td>2</td>\n      <td>2</td>\n      <td>53.0</td>\n      <td>...</td>\n      <td>7.0</td>\n      <td>12.0</td>\n      <td>10.0</td>\n      <td>16.0</td>\n      <td>10.0</td>\n      <td>10.0</td>\n      <td>7.0</td>\n      <td>2.0</td>\n      <td>0.0</td>\n      <td>0.0</td>\n    </tr>\n    <tr>\n      <th>1256</th>\n      <td>2021</td>\n      <td>10</td>\n      <td>Šilalės r. sav.</td>\n      <td>8110930</td>\n      <td>88</td>\n      <td>10</td>\n      <td>2</td>\n      <td>3</td>\n      <td>4</td>\n      <td>40.0</td>\n      <td>...</td>\n      <td>7.0</td>\n      <td>7.0</td>\n      <td>9.0</td>\n      <td>8.0</td>\n      <td>8.0</td>\n      <td>6.0</td>\n      <td>4.0</td>\n      <td>2.0</td>\n      <td>0.0</td>\n      <td>0.0</td>\n    </tr>\n    <tr>\n      <th>1257</th>\n      <td>2021</td>\n      <td>10</td>\n      <td>Šilutės r. sav.</td>\n      <td>11162348</td>\n      <td>240</td>\n      <td>22</td>\n      <td>9</td>\n      <td>10</td>\n      <td>10</td>\n      <td>48.0</td>\n      <td>...</td>\n      <td>9.0</td>\n      <td>10.0</td>\n      <td>12.0</td>\n      <td>12.0</td>\n      <td>11.0</td>\n      <td>9.0</td>\n      <td>8.0</td>\n      <td>0.0</td>\n      <td>1.0</td>\n      <td>1.0</td>\n    </tr>\n    <tr>\n      <th>1258</th>\n      <td>2021</td>\n      <td>10</td>\n      <td>Širvintų r. sav.</td>\n      <td>5179526</td>\n      <td>49</td>\n      <td>5</td>\n      <td>0</td>\n      <td>0</td>\n      <td>0</td>\n      <td>23.0</td>\n      <td>...</td>\n      <td>4.0</td>\n      <td>3.0</td>\n      <td>5.0</td>\n      <td>3.0</td>\n      <td>6.0</td>\n      <td>4.0</td>\n      <td>6.0</td>\n      <td>2.0</td>\n      <td>0.0</td>\n      <td>0.0</td>\n    </tr>\n    <tr>\n      <th>1259</th>\n      <td>2021</td>\n      <td>10</td>\n      <td>Švenčionių r. sav.</td>\n      <td>6832826</td>\n      <td>68</td>\n      <td>11</td>\n      <td>2</td>\n      <td>2</td>\n      <td>2</td>\n      <td>26.0</td>\n      <td>...</td>\n      <td>4.0</td>\n      <td>8.0</td>\n      <td>8.0</td>\n      <td>6.0</td>\n      <td>6.0</td>\n      <td>8.0</td>\n      <td>5.0</td>\n      <td>1.0</td>\n      <td>0.0</td>\n      <td>0.0</td>\n    </tr>\n  </tbody>\n</table>\n<p>1260 rows × 24 columns</p>\n</div>"
     },
     "metadata": {},
     "execution_count": 30
    }
   ],
   "source": [
    "additional_covid_data['year'] = pd.DatetimeIndex(additional_covid_data['date'].values).year\n",
    "additional_covid_data['month'] = pd.DatetimeIndex(additional_covid_data['date'].values).month\n",
    "\n",
    "sex_dummies = pd.get_dummies(additional_covid_data['sex'], prefix='sex')\n",
    "additional_covid_data[sex_dummies.columns] = sex_dummies\n",
    "\n",
    "age_group_dummies = sex_dummies = pd.get_dummies(additional_covid_data['age_gr'], prefix='age')\n",
    "additional_covid_data[age_group_dummies.columns] = age_group_dummies\n",
    "\n",
    "additional_covid_data_monthly = additional_covid_data.groupby(['year', 'month', 'municipality_name']).sum().reset_index()\n",
    "additional_covid_data_monthly"
   ]
  },
  {
   "source": [
    "#### There are some municipality naming inconsistencies between 2 datasets, so we will fix it."
   ],
   "cell_type": "markdown",
   "metadata": {}
  },
  {
   "cell_type": "code",
   "execution_count": 31,
   "metadata": {},
   "outputs": [
    {
     "output_type": "execute_result",
     "data": {
      "text/plain": [
       "0          Akmenės r. sav.\n",
       "1          Alytaus m. sav.\n",
       "2          Alytaus r. sav.\n",
       "3         Anykščių r. sav.\n",
       "4            Birštono sav.\n",
       "               ...        \n",
       "1255       Šiaulių r. sav.\n",
       "1256       Šilalės r. sav.\n",
       "1257       Šilutės r. sav.\n",
       "1258      Širvintų r. sav.\n",
       "1259    Švenčionių r. sav.\n",
       "Name: municipality_name, Length: 1260, dtype: object"
      ]
     },
     "metadata": {},
     "execution_count": 31
    }
   ],
   "source": [
    "additional_covid_data_monthly['municipality_name']"
   ]
  },
  {
   "cell_type": "code",
   "execution_count": 32,
   "metadata": {},
   "outputs": [
    {
     "output_type": "execute_result",
     "data": {
      "text/plain": [
       "23        Akmenės rajonas\n",
       "19        Akmenės rajonas\n",
       "18        Akmenės rajonas\n",
       "17        Akmenės rajonas\n",
       "16        Akmenės rajonas\n",
       "              ...        \n",
       "262    Švenčionių rajonas\n",
       "261    Švenčionių rajonas\n",
       "260    Švenčionių rajonas\n",
       "259    Švenčionių rajonas\n",
       "258    Švenčionių rajonas\n",
       "Name: Savivaldybė, Length: 1830, dtype: object"
      ]
     },
     "metadata": {},
     "execution_count": 32
    }
   ],
   "source": [
    "crime_data['Savivaldybė']"
   ]
  },
  {
   "cell_type": "code",
   "execution_count": 33,
   "metadata": {},
   "outputs": [],
   "source": [
    "additional_covid_data_monthly['municipality_name_fixed'] = additional_covid_data_monthly['municipality_name'].apply(\n",
    "                                                                                lambda x: x.replace('r.' ,'rajonas')\n",
    "                                                                                            .replace('m.', 'miestas').split(' sav')[0])"
   ]
  },
  {
   "cell_type": "code",
   "execution_count": 34,
   "metadata": {},
   "outputs": [
    {
     "output_type": "stream",
     "name": "stdout",
     "text": [
      "Mapped municipalities: 49\nNot mapped municipalities: 11\n"
     ]
    }
   ],
   "source": [
    "mapped_values = len(set(additional_covid_data_monthly['municipality_name_fixed'].values).intersection(set(crime_data['Savivaldybė'].values)))\n",
    "print(f'Mapped municipalities: {mapped_values}')\n",
    "not_mapped_values = len(set(additional_covid_data_monthly['municipality_name_fixed'])) - mapped_values\n",
    "print(f'Not mapped municipalities: {not_mapped_values}')"
   ]
  },
  {
   "source": [
    "#### Manually will fix the rest of observations"
   ],
   "cell_type": "markdown",
   "metadata": {}
  },
  {
   "cell_type": "code",
   "execution_count": 35,
   "metadata": {},
   "outputs": [],
   "source": [
    "mapping_muni_dict = {'Birštono': 'Birštonas', 'Druskininkų': 'Druskininkai', 'Elektrėnų': 'Elektrėnai',\n",
    "'Kalvarijos':'Kalvarijos savivaldybė', 'Kazlų Rūdos': 'Kazlų Rūdos savivaldybė', 'Marijampolės':'Marijampolės PK',\n",
    "'Neringos': 'Neringa', 'Pagėgių':'Pagėgių savivaldybė', 'Palangos miestas':'Palanga', 'Rietavo': 'Rietavo savivaldybė',\n",
    "'Visagino': 'Visaginas'}\n",
    "\n",
    "additional_covid_data_monthly['municipality_name_fixed'] = [mapping_muni_dict.get(v, v) for v in additional_covid_data_monthly['municipality_name_fixed'].values]\n",
    "\n",
    "additional_covid_data_monthly.rename(columns={'municipality_name_fixed': 'Savivaldybė'}, inplace=True)\n",
    "crime_data.rename(columns={'Metai': 'year', 'Month': 'month'}, inplace=True)"
   ]
  },
  {
   "source": [
    "#### Keep only 4 columns from crime dataset: crime rate, year, month and municipality"
   ],
   "cell_type": "markdown",
   "metadata": {}
  },
  {
   "cell_type": "code",
   "execution_count": 36,
   "metadata": {},
   "outputs": [],
   "source": [
    "crime_data_keep = crime_data[['Nusikalstamos veikos', 'year', 'month', 'Savivaldybė']]"
   ]
  },
  {
   "cell_type": "code",
   "execution_count": 37,
   "metadata": {},
   "outputs": [
    {
     "output_type": "execute_result",
     "data": {
      "text/plain": [
       "{'Respublika'}"
      ]
     },
     "metadata": {},
     "execution_count": 37
    }
   ],
   "source": [
    "set(crime_data['Savivaldybė'].values) - set(additional_covid_data_monthly['Savivaldybė'].values)"
   ]
  },
  {
   "source": [
    "#### Only Respublika value was not mapped, therefore it won't exist in merged dataset."
   ],
   "cell_type": "markdown",
   "metadata": {}
  },
  {
   "cell_type": "code",
   "execution_count": 38,
   "metadata": {},
   "outputs": [
    {
     "output_type": "stream",
     "name": "stdout",
     "text": [
      "New dataset shape: (1020, 26)\n"
     ]
    },
    {
     "output_type": "execute_result",
     "data": {
      "text/plain": [
       "   year  month municipality_name  object_id  new_cases  deaths_all  \\\n",
       "0  2020      2   Akmenės r. sav.    1529887          0          38   \n",
       "1  2020      2   Alytaus m. sav.    1713218          0          48   \n",
       "2  2020      2   Alytaus r. sav.    2617383          0          71   \n",
       "3  2020      2  Anykščių r. sav.    1688720          0          44   \n",
       "4  2020      2     Birštono sav.      46503          0           1   \n",
       "\n",
       "   deaths_cov1  deaths_cov2  deaths_cov3  sex_Moteris  ...  age_40-49  \\\n",
       "0            0            0            0         15.0  ...        4.0   \n",
       "1            0            0            0         19.0  ...        1.0   \n",
       "2            0            0            0         27.0  ...        8.0   \n",
       "3            0            0            0         21.0  ...        4.0   \n",
       "4            0            0            0          0.0  ...        0.0   \n",
       "\n",
       "   age_50-59  age_60-69  age_70-79  age_80-89  age_90-99  age_Centenarianai  \\\n",
       "0        7.0        6.0        6.0        8.0        3.0                0.0   \n",
       "1        6.0        8.0       13.0        6.0       10.0                0.0   \n",
       "2       10.0        9.0       12.0       13.0        6.0                1.0   \n",
       "3        3.0        3.0        6.0       13.0        7.0                0.0   \n",
       "4        0.0        0.0        0.0        0.0        1.0                0.0   \n",
       "\n",
       "   age_Nenustatyta       Savivaldybė  Nusikalstamos veikos  \n",
       "0              0.0   Akmenės rajonas                   7.0  \n",
       "1              0.0   Alytaus miestas                  82.0  \n",
       "2              0.0   Alytaus rajonas                  32.0  \n",
       "3              0.0  Anykščių rajonas                  12.0  \n",
       "4              0.0         Birštonas                   2.0  \n",
       "\n",
       "[5 rows x 26 columns]"
      ],
      "text/html": "<div>\n<style scoped>\n    .dataframe tbody tr th:only-of-type {\n        vertical-align: middle;\n    }\n\n    .dataframe tbody tr th {\n        vertical-align: top;\n    }\n\n    .dataframe thead th {\n        text-align: right;\n    }\n</style>\n<table border=\"1\" class=\"dataframe\">\n  <thead>\n    <tr style=\"text-align: right;\">\n      <th></th>\n      <th>year</th>\n      <th>month</th>\n      <th>municipality_name</th>\n      <th>object_id</th>\n      <th>new_cases</th>\n      <th>deaths_all</th>\n      <th>deaths_cov1</th>\n      <th>deaths_cov2</th>\n      <th>deaths_cov3</th>\n      <th>sex_Moteris</th>\n      <th>...</th>\n      <th>age_40-49</th>\n      <th>age_50-59</th>\n      <th>age_60-69</th>\n      <th>age_70-79</th>\n      <th>age_80-89</th>\n      <th>age_90-99</th>\n      <th>age_Centenarianai</th>\n      <th>age_Nenustatyta</th>\n      <th>Savivaldybė</th>\n      <th>Nusikalstamos veikos</th>\n    </tr>\n  </thead>\n  <tbody>\n    <tr>\n      <th>0</th>\n      <td>2020</td>\n      <td>2</td>\n      <td>Akmenės r. sav.</td>\n      <td>1529887</td>\n      <td>0</td>\n      <td>38</td>\n      <td>0</td>\n      <td>0</td>\n      <td>0</td>\n      <td>15.0</td>\n      <td>...</td>\n      <td>4.0</td>\n      <td>7.0</td>\n      <td>6.0</td>\n      <td>6.0</td>\n      <td>8.0</td>\n      <td>3.0</td>\n      <td>0.0</td>\n      <td>0.0</td>\n      <td>Akmenės rajonas</td>\n      <td>7.0</td>\n    </tr>\n    <tr>\n      <th>1</th>\n      <td>2020</td>\n      <td>2</td>\n      <td>Alytaus m. sav.</td>\n      <td>1713218</td>\n      <td>0</td>\n      <td>48</td>\n      <td>0</td>\n      <td>0</td>\n      <td>0</td>\n      <td>19.0</td>\n      <td>...</td>\n      <td>1.0</td>\n      <td>6.0</td>\n      <td>8.0</td>\n      <td>13.0</td>\n      <td>6.0</td>\n      <td>10.0</td>\n      <td>0.0</td>\n      <td>0.0</td>\n      <td>Alytaus miestas</td>\n      <td>82.0</td>\n    </tr>\n    <tr>\n      <th>2</th>\n      <td>2020</td>\n      <td>2</td>\n      <td>Alytaus r. sav.</td>\n      <td>2617383</td>\n      <td>0</td>\n      <td>71</td>\n      <td>0</td>\n      <td>0</td>\n      <td>0</td>\n      <td>27.0</td>\n      <td>...</td>\n      <td>8.0</td>\n      <td>10.0</td>\n      <td>9.0</td>\n      <td>12.0</td>\n      <td>13.0</td>\n      <td>6.0</td>\n      <td>1.0</td>\n      <td>0.0</td>\n      <td>Alytaus rajonas</td>\n      <td>32.0</td>\n    </tr>\n    <tr>\n      <th>3</th>\n      <td>2020</td>\n      <td>2</td>\n      <td>Anykščių r. sav.</td>\n      <td>1688720</td>\n      <td>0</td>\n      <td>44</td>\n      <td>0</td>\n      <td>0</td>\n      <td>0</td>\n      <td>21.0</td>\n      <td>...</td>\n      <td>4.0</td>\n      <td>3.0</td>\n      <td>3.0</td>\n      <td>6.0</td>\n      <td>13.0</td>\n      <td>7.0</td>\n      <td>0.0</td>\n      <td>0.0</td>\n      <td>Anykščių rajonas</td>\n      <td>12.0</td>\n    </tr>\n    <tr>\n      <th>4</th>\n      <td>2020</td>\n      <td>2</td>\n      <td>Birštono sav.</td>\n      <td>46503</td>\n      <td>0</td>\n      <td>1</td>\n      <td>0</td>\n      <td>0</td>\n      <td>0</td>\n      <td>0.0</td>\n      <td>...</td>\n      <td>0.0</td>\n      <td>0.0</td>\n      <td>0.0</td>\n      <td>0.0</td>\n      <td>0.0</td>\n      <td>1.0</td>\n      <td>0.0</td>\n      <td>0.0</td>\n      <td>Birštonas</td>\n      <td>2.0</td>\n    </tr>\n  </tbody>\n</table>\n<p>5 rows × 26 columns</p>\n</div>"
     },
     "metadata": {},
     "execution_count": 38
    }
   ],
   "source": [
    "final_data = pd.merge(additional_covid_data_monthly, crime_data_keep, how='left', on=['year', 'month', 'Savivaldybė'])\n",
    "final_data.dropna(inplace=True)\n",
    "print(f'New dataset shape: {final_data.shape}')\n",
    "final_data.head(5)"
   ]
  },
  {
   "source": [
    "#### Finally we have a dataset with 1020 samples and 26 columns"
   ],
   "cell_type": "markdown",
   "metadata": {}
  },
  {
   "cell_type": "code",
   "execution_count": 39,
   "metadata": {},
   "outputs": [],
   "source": [
    "final_data.drop(labels=['object_id', 'municipality_name', 'Savivaldybė'], axis=1, inplace=True)"
   ]
  },
  {
   "source": [
    "#### Now we can finally apply machine learning methods\n",
    "#### We will use 5-fold cross validation with different models"
   ],
   "cell_type": "markdown",
   "metadata": {}
  },
  {
   "cell_type": "code",
   "execution_count": 40,
   "metadata": {},
   "outputs": [],
   "source": [
    "from sklearn.preprocessing import StandardScaler\n",
    "from sklearn.model_selection import KFold\n",
    "\n",
    "\n",
    "def evaluate_model_k_folds(model_name, model, metric, x, y, n_folds):\n",
    "    \"\"\"Applies 5 fold validation on model and measures the results with the metric, standardizes data before training.\"\"\"\n",
    "    kf = KFold(n_splits=n_folds, shuffle=True, random_state=42)\n",
    "    results = []\n",
    "    for i, (train_index, test_index) in enumerate(kf.split(X)):\n",
    "        X_train, X_test = X.iloc[train_index], X.iloc[test_index]\n",
    "        y_train, y_test = y.iloc[train_index], y.iloc[test_index]\n",
    "\n",
    "        if len(X.columns) == 1: # it is required for standard scaler to reshape datasets with single column\n",
    "            X_train = X_train.values.reshape(-1, 1)\n",
    "            X_test = X_test.values.reshape(-1, 1)\n",
    "\n",
    "        scaler = StandardScaler()\n",
    "        X_train = scaler.fit_transform(X_train)\n",
    "        X_test = scaler.transform(X_test)\n",
    "\n",
    "        model.fit(X=X_train, y=y_train)\n",
    "        train_pred = model.predict(X_train)\n",
    "        test_pred = model.predict(X_test)\n",
    "\n",
    "        train_res = metric(y_train, train_pred)\n",
    "        test_res = metric(y_test, test_pred)\n",
    "        results.append([model_name, i+1, train_res, test_res])\n",
    "    return pd.DataFrame(results, columns=['model name', 'fold_n' ,'train score', 'test score'])\n",
    "\n",
    "\n",
    "def evaluate_models(X, Y, models, metric, n_splits):\n",
    "    \"\"\"Iterating through all models and averaging k-fold results.\"\"\"\n",
    "    model_results = pd.DataFrame()\n",
    "    for model_name, model in models.items():\n",
    "        res = evaluate_model_k_folds(model_name, model, metric, X, Y, n_splits)\n",
    "        model_results = model_results.append(res)\n",
    "    results_df = model_results.pivot_table(values=['train score', 'test score'], columns=['model name'], aggfunc='mean').T\n",
    "    return results_df\n"
   ]
  },
  {
   "source": [
    "#### We will use different regressors in order to determine if it's possible to predict crime rate based on covid cases\n",
    "- DecisionTreeRegressor\n",
    "- LinearRegression\n",
    "- Ridge\n",
    "- Lasso\n",
    "- ElasticNet\n",
    "- BayesianRidge\n",
    "- ARDRegression\n",
    "- KNeighborsRegressor"
   ],
   "cell_type": "markdown",
   "metadata": {}
  },
  {
   "source": [
    "#### First we will check results with new cases column "
   ],
   "cell_type": "markdown",
   "metadata": {}
  },
  {
   "cell_type": "code",
   "execution_count": 41,
   "metadata": {},
   "outputs": [],
   "source": [
    "from sklearn.tree import DecisionTreeRegressor\n",
    "from sklearn.linear_model import LinearRegression, Ridge, Lasso, ElasticNet, BayesianRidge, ARDRegression\n",
    "from sklearn.neighbors import KNeighborsRegressor\n",
    "\n",
    "models = {'Linear regression': LinearRegression(), 'Ridge': Ridge(), 'Lasso': Lasso(), 'ElasticNet': ElasticNet(), 'BayesianRidge': BayesianRidge(), 'ARDRegression': ARDRegression(), 'Decision tree': DecisionTreeRegressor(random_state=42), 'Decision tree with params': DecisionTreeRegressor(min_samples_split=5, min_samples_leaf=3, random_state=42), 'KNN': KNeighborsRegressor()}\n"
   ]
  },
  {
   "cell_type": "code",
   "execution_count": 42,
   "metadata": {},
   "outputs": [],
   "source": [
    "from sklearn.metrics import r2_score\n",
    "\n",
    "n_splits = 5\n",
    "X = final_data[['new_cases']]\n",
    "Y = final_data['Nusikalstamos veikos']\n",
    "\n",
    "covid_cases_results = evaluate_models(X, Y, models, r2_score, n_splits)"
   ]
  },
  {
   "cell_type": "code",
   "execution_count": 43,
   "metadata": {},
   "outputs": [
    {
     "output_type": "execute_result",
     "data": {
      "text/plain": [
       "Text(0, 0.5, 'r2 score')"
      ]
     },
     "metadata": {},
     "execution_count": 43
    },
    {
     "output_type": "display_data",
     "data": {
      "text/plain": "<Figure size 504x360 with 1 Axes>",
      "image/svg+xml": "<?xml version=\"1.0\" encoding=\"utf-8\" standalone=\"no\"?>\r\n<!DOCTYPE svg PUBLIC \"-//W3C//DTD SVG 1.1//EN\"\r\n  \"http://www.w3.org/Graphics/SVG/1.1/DTD/svg11.dtd\">\r\n<svg height=\"317.99625pt\" version=\"1.1\" viewBox=\"0 0 556.778125 317.99625\" width=\"556.778125pt\" xmlns=\"http://www.w3.org/2000/svg\" xmlns:xlink=\"http://www.w3.org/1999/xlink\">\r\n <metadata>\r\n  <rdf:RDF xmlns:cc=\"http://creativecommons.org/ns#\" xmlns:dc=\"http://purl.org/dc/elements/1.1/\" xmlns:rdf=\"http://www.w3.org/1999/02/22-rdf-syntax-ns#\">\r\n   <cc:Work>\r\n    <dc:type rdf:resource=\"http://purl.org/dc/dcmitype/StillImage\"/>\r\n    <dc:date>2021-10-12T23:30:32.562077</dc:date>\r\n    <dc:format>image/svg+xml</dc:format>\r\n    <dc:creator>\r\n     <cc:Agent>\r\n      <dc:title>Matplotlib v3.4.2, https://matplotlib.org/</dc:title>\r\n     </cc:Agent>\r\n    </dc:creator>\r\n   </cc:Work>\r\n  </rdf:RDF>\r\n </metadata>\r\n <defs>\r\n  <style type=\"text/css\">*{stroke-linecap:butt;stroke-linejoin:round;}</style>\r\n </defs>\r\n <g id=\"figure_1\">\r\n  <g id=\"patch_1\">\r\n   <path d=\"M 0 317.99625 \r\nL 556.778125 317.99625 \r\nL 556.778125 0 \r\nL 0 0 \r\nz\r\n\" style=\"fill:none;\"/>\r\n  </g>\r\n  <g id=\"axes_1\">\r\n   <g id=\"patch_2\">\r\n    <path d=\"M 158.978125 294.118125 \r\nL 549.578125 294.118125 \r\nL 549.578125 22.318125 \r\nL 158.978125 22.318125 \r\nz\r\n\" style=\"fill:#ffffff;\"/>\r\n   </g>\r\n   <g id=\"patch_3\">\r\n    <path clip-path=\"url(#pb219b75512)\" d=\"M 331.107313 286.568125 \r\nL 393.079248 286.568125 \r\nL 393.079248 279.018125 \r\nL 331.107313 279.018125 \r\nz\r\n\" style=\"fill:#1f77b4;\"/>\r\n   </g>\r\n   <g id=\"patch_4\">\r\n    <path clip-path=\"url(#pb219b75512)\" d=\"M 331.107313 256.368125 \r\nL 393.079248 256.368125 \r\nL 393.079248 248.818125 \r\nL 331.107313 248.818125 \r\nz\r\n\" style=\"fill:#1f77b4;\"/>\r\n   </g>\r\n   <g id=\"patch_5\">\r\n    <path clip-path=\"url(#pb219b75512)\" d=\"M 331.107313 226.168125 \r\nL 176.73267 226.168125 \r\nL 176.73267 218.618125 \r\nL 331.107313 218.618125 \r\nz\r\n\" style=\"fill:#1f77b4;\"/>\r\n   </g>\r\n   <g id=\"patch_6\">\r\n    <path clip-path=\"url(#pb219b75512)\" d=\"M 331.107313 195.968125 \r\nL 323.028472 195.968125 \r\nL 323.028472 188.418125 \r\nL 331.107313 188.418125 \r\nz\r\n\" style=\"fill:#1f77b4;\"/>\r\n   </g>\r\n   <g id=\"patch_7\">\r\n    <path clip-path=\"url(#pb219b75512)\" d=\"M 331.107313 165.768125 \r\nL 388.607152 165.768125 \r\nL 388.607152 158.218125 \r\nL 331.107313 158.218125 \r\nz\r\n\" style=\"fill:#1f77b4;\"/>\r\n   </g>\r\n   <g id=\"patch_8\">\r\n    <path clip-path=\"url(#pb219b75512)\" d=\"M 331.107313 135.568125 \r\nL 353.248877 135.568125 \r\nL 353.248877 128.018125 \r\nL 331.107313 128.018125 \r\nz\r\n\" style=\"fill:#1f77b4;\"/>\r\n   </g>\r\n   <g id=\"patch_9\">\r\n    <path clip-path=\"url(#pb219b75512)\" d=\"M 331.107313 105.368125 \r\nL 393.178472 105.368125 \r\nL 393.178472 97.818125 \r\nL 331.107313 97.818125 \r\nz\r\n\" style=\"fill:#1f77b4;\"/>\r\n   </g>\r\n   <g id=\"patch_10\">\r\n    <path clip-path=\"url(#pb219b75512)\" d=\"M 331.107313 75.168125 \r\nL 393.077442 75.168125 \r\nL 393.077442 67.618125 \r\nL 331.107313 67.618125 \r\nz\r\n\" style=\"fill:#1f77b4;\"/>\r\n   </g>\r\n   <g id=\"patch_11\">\r\n    <path clip-path=\"url(#pb219b75512)\" d=\"M 331.107313 44.968125 \r\nL 393.092581 44.968125 \r\nL 393.092581 37.418125 \r\nL 331.107313 37.418125 \r\nz\r\n\" style=\"fill:#1f77b4;\"/>\r\n   </g>\r\n   <g id=\"patch_12\">\r\n    <path clip-path=\"url(#pb219b75512)\" d=\"M 331.107313 279.018125 \r\nL 400.949968 279.018125 \r\nL 400.949968 271.468125 \r\nL 331.107313 271.468125 \r\nz\r\n\" style=\"fill:#ff7f0e;\"/>\r\n   </g>\r\n   <g id=\"patch_13\">\r\n    <path clip-path=\"url(#pb219b75512)\" d=\"M 331.107313 248.818125 \r\nL 400.949968 248.818125 \r\nL 400.949968 241.268125 \r\nL 331.107313 241.268125 \r\nz\r\n\" style=\"fill:#ff7f0e;\"/>\r\n   </g>\r\n   <g id=\"patch_14\">\r\n    <path clip-path=\"url(#pb219b75512)\" d=\"M 331.107313 218.618125 \r\nL 531.82358 218.618125 \r\nL 531.82358 211.068125 \r\nL 331.107313 211.068125 \r\nz\r\n\" style=\"fill:#ff7f0e;\"/>\r\n   </g>\r\n   <g id=\"patch_15\">\r\n    <path clip-path=\"url(#pb219b75512)\" d=\"M 331.107313 188.418125 \r\nL 458.117185 188.418125 \r\nL 458.117185 180.868125 \r\nL 331.107313 180.868125 \r\nz\r\n\" style=\"fill:#ff7f0e;\"/>\r\n   </g>\r\n   <g id=\"patch_16\">\r\n    <path clip-path=\"url(#pb219b75512)\" d=\"M 331.107313 158.218125 \r\nL 392.936453 158.218125 \r\nL 392.936453 150.668125 \r\nL 331.107313 150.668125 \r\nz\r\n\" style=\"fill:#ff7f0e;\"/>\r\n   </g>\r\n   <g id=\"patch_17\">\r\n    <path clip-path=\"url(#pb219b75512)\" d=\"M 331.107313 128.018125 \r\nL 430.385776 128.018125 \r\nL 430.385776 120.468125 \r\nL 331.107313 120.468125 \r\nz\r\n\" style=\"fill:#ff7f0e;\"/>\r\n   </g>\r\n   <g id=\"patch_18\">\r\n    <path clip-path=\"url(#pb219b75512)\" d=\"M 331.107313 97.818125 \r\nL 400.932384 97.818125 \r\nL 400.932384 90.268125 \r\nL 331.107313 90.268125 \r\nz\r\n\" style=\"fill:#ff7f0e;\"/>\r\n   </g>\r\n   <g id=\"patch_19\">\r\n    <path clip-path=\"url(#pb219b75512)\" d=\"M 331.107313 67.618125 \r\nL 400.950963 67.618125 \r\nL 400.950963 60.068125 \r\nL 331.107313 60.068125 \r\nz\r\n\" style=\"fill:#ff7f0e;\"/>\r\n   </g>\r\n   <g id=\"patch_20\">\r\n    <path clip-path=\"url(#pb219b75512)\" d=\"M 331.107313 37.418125 \r\nL 400.950859 37.418125 \r\nL 400.950859 29.868125 \r\nL 331.107313 29.868125 \r\nz\r\n\" style=\"fill:#ff7f0e;\"/>\r\n   </g>\r\n   <g id=\"matplotlib.axis_1\">\r\n    <g id=\"xtick_1\">\r\n     <g id=\"line2d_1\">\r\n      <defs>\r\n       <path d=\"M 0 0 \r\nL 0 3.5 \r\n\" id=\"m7ee8379ce4\" style=\"stroke:#000000;stroke-width:0.8;\"/>\r\n      </defs>\r\n      <g>\r\n       <use style=\"stroke:#000000;stroke-width:0.8;\" x=\"162.944463\" xlink:href=\"#m7ee8379ce4\" y=\"294.118125\"/>\r\n      </g>\r\n     </g>\r\n     <g id=\"text_1\">\r\n      <!-- −0.6 -->\r\n      <g transform=\"translate(150.803056 308.716563)scale(0.1 -0.1)\">\r\n       <defs>\r\n        <path d=\"M 678 2272 \r\nL 4684 2272 \r\nL 4684 1741 \r\nL 678 1741 \r\nL 678 2272 \r\nz\r\n\" id=\"DejaVuSans-2212\" transform=\"scale(0.015625)\"/>\r\n        <path d=\"M 2034 4250 \r\nQ 1547 4250 1301 3770 \r\nQ 1056 3291 1056 2328 \r\nQ 1056 1369 1301 889 \r\nQ 1547 409 2034 409 \r\nQ 2525 409 2770 889 \r\nQ 3016 1369 3016 2328 \r\nQ 3016 3291 2770 3770 \r\nQ 2525 4250 2034 4250 \r\nz\r\nM 2034 4750 \r\nQ 2819 4750 3233 4129 \r\nQ 3647 3509 3647 2328 \r\nQ 3647 1150 3233 529 \r\nQ 2819 -91 2034 -91 \r\nQ 1250 -91 836 529 \r\nQ 422 1150 422 2328 \r\nQ 422 3509 836 4129 \r\nQ 1250 4750 2034 4750 \r\nz\r\n\" id=\"DejaVuSans-30\" transform=\"scale(0.015625)\"/>\r\n        <path d=\"M 684 794 \r\nL 1344 794 \r\nL 1344 0 \r\nL 684 0 \r\nL 684 794 \r\nz\r\n\" id=\"DejaVuSans-2e\" transform=\"scale(0.015625)\"/>\r\n        <path d=\"M 2113 2584 \r\nQ 1688 2584 1439 2293 \r\nQ 1191 2003 1191 1497 \r\nQ 1191 994 1439 701 \r\nQ 1688 409 2113 409 \r\nQ 2538 409 2786 701 \r\nQ 3034 994 3034 1497 \r\nQ 3034 2003 2786 2293 \r\nQ 2538 2584 2113 2584 \r\nz\r\nM 3366 4563 \r\nL 3366 3988 \r\nQ 3128 4100 2886 4159 \r\nQ 2644 4219 2406 4219 \r\nQ 1781 4219 1451 3797 \r\nQ 1122 3375 1075 2522 \r\nQ 1259 2794 1537 2939 \r\nQ 1816 3084 2150 3084 \r\nQ 2853 3084 3261 2657 \r\nQ 3669 2231 3669 1497 \r\nQ 3669 778 3244 343 \r\nQ 2819 -91 2113 -91 \r\nQ 1303 -91 875 529 \r\nQ 447 1150 447 2328 \r\nQ 447 3434 972 4092 \r\nQ 1497 4750 2381 4750 \r\nQ 2619 4750 2861 4703 \r\nQ 3103 4656 3366 4563 \r\nz\r\n\" id=\"DejaVuSans-36\" transform=\"scale(0.015625)\"/>\r\n       </defs>\r\n       <use xlink:href=\"#DejaVuSans-2212\"/>\r\n       <use x=\"83.789062\" xlink:href=\"#DejaVuSans-30\"/>\r\n       <use x=\"147.412109\" xlink:href=\"#DejaVuSans-2e\"/>\r\n       <use x=\"179.199219\" xlink:href=\"#DejaVuSans-36\"/>\r\n      </g>\r\n     </g>\r\n    </g>\r\n    <g id=\"xtick_2\">\r\n     <g id=\"line2d_2\">\r\n      <g>\r\n       <use style=\"stroke:#000000;stroke-width:0.8;\" x=\"218.998746\" xlink:href=\"#m7ee8379ce4\" y=\"294.118125\"/>\r\n      </g>\r\n     </g>\r\n     <g id=\"text_2\">\r\n      <!-- −0.4 -->\r\n      <g transform=\"translate(206.85734 308.716563)scale(0.1 -0.1)\">\r\n       <defs>\r\n        <path d=\"M 2419 4116 \r\nL 825 1625 \r\nL 2419 1625 \r\nL 2419 4116 \r\nz\r\nM 2253 4666 \r\nL 3047 4666 \r\nL 3047 1625 \r\nL 3713 1625 \r\nL 3713 1100 \r\nL 3047 1100 \r\nL 3047 0 \r\nL 2419 0 \r\nL 2419 1100 \r\nL 313 1100 \r\nL 313 1709 \r\nL 2253 4666 \r\nz\r\n\" id=\"DejaVuSans-34\" transform=\"scale(0.015625)\"/>\r\n       </defs>\r\n       <use xlink:href=\"#DejaVuSans-2212\"/>\r\n       <use x=\"83.789062\" xlink:href=\"#DejaVuSans-30\"/>\r\n       <use x=\"147.412109\" xlink:href=\"#DejaVuSans-2e\"/>\r\n       <use x=\"179.199219\" xlink:href=\"#DejaVuSans-34\"/>\r\n      </g>\r\n     </g>\r\n    </g>\r\n    <g id=\"xtick_3\">\r\n     <g id=\"line2d_3\">\r\n      <g>\r\n       <use style=\"stroke:#000000;stroke-width:0.8;\" x=\"275.05303\" xlink:href=\"#m7ee8379ce4\" y=\"294.118125\"/>\r\n      </g>\r\n     </g>\r\n     <g id=\"text_3\">\r\n      <!-- −0.2 -->\r\n      <g transform=\"translate(262.911624 308.716563)scale(0.1 -0.1)\">\r\n       <defs>\r\n        <path d=\"M 1228 531 \r\nL 3431 531 \r\nL 3431 0 \r\nL 469 0 \r\nL 469 531 \r\nQ 828 903 1448 1529 \r\nQ 2069 2156 2228 2338 \r\nQ 2531 2678 2651 2914 \r\nQ 2772 3150 2772 3378 \r\nQ 2772 3750 2511 3984 \r\nQ 2250 4219 1831 4219 \r\nQ 1534 4219 1204 4116 \r\nQ 875 4013 500 3803 \r\nL 500 4441 \r\nQ 881 4594 1212 4672 \r\nQ 1544 4750 1819 4750 \r\nQ 2544 4750 2975 4387 \r\nQ 3406 4025 3406 3419 \r\nQ 3406 3131 3298 2873 \r\nQ 3191 2616 2906 2266 \r\nQ 2828 2175 2409 1742 \r\nQ 1991 1309 1228 531 \r\nz\r\n\" id=\"DejaVuSans-32\" transform=\"scale(0.015625)\"/>\r\n       </defs>\r\n       <use xlink:href=\"#DejaVuSans-2212\"/>\r\n       <use x=\"83.789062\" xlink:href=\"#DejaVuSans-30\"/>\r\n       <use x=\"147.412109\" xlink:href=\"#DejaVuSans-2e\"/>\r\n       <use x=\"179.199219\" xlink:href=\"#DejaVuSans-32\"/>\r\n      </g>\r\n     </g>\r\n    </g>\r\n    <g id=\"xtick_4\">\r\n     <g id=\"line2d_4\">\r\n      <g>\r\n       <use style=\"stroke:#000000;stroke-width:0.8;\" x=\"331.107313\" xlink:href=\"#m7ee8379ce4\" y=\"294.118125\"/>\r\n      </g>\r\n     </g>\r\n     <g id=\"text_4\">\r\n      <!-- 0.0 -->\r\n      <g transform=\"translate(323.155751 308.716563)scale(0.1 -0.1)\">\r\n       <use xlink:href=\"#DejaVuSans-30\"/>\r\n       <use x=\"63.623047\" xlink:href=\"#DejaVuSans-2e\"/>\r\n       <use x=\"95.410156\" xlink:href=\"#DejaVuSans-30\"/>\r\n      </g>\r\n     </g>\r\n    </g>\r\n    <g id=\"xtick_5\">\r\n     <g id=\"line2d_5\">\r\n      <g>\r\n       <use style=\"stroke:#000000;stroke-width:0.8;\" x=\"387.161597\" xlink:href=\"#m7ee8379ce4\" y=\"294.118125\"/>\r\n      </g>\r\n     </g>\r\n     <g id=\"text_5\">\r\n      <!-- 0.2 -->\r\n      <g transform=\"translate(379.210035 308.716563)scale(0.1 -0.1)\">\r\n       <use xlink:href=\"#DejaVuSans-30\"/>\r\n       <use x=\"63.623047\" xlink:href=\"#DejaVuSans-2e\"/>\r\n       <use x=\"95.410156\" xlink:href=\"#DejaVuSans-32\"/>\r\n      </g>\r\n     </g>\r\n    </g>\r\n    <g id=\"xtick_6\">\r\n     <g id=\"line2d_6\">\r\n      <g>\r\n       <use style=\"stroke:#000000;stroke-width:0.8;\" x=\"443.215881\" xlink:href=\"#m7ee8379ce4\" y=\"294.118125\"/>\r\n      </g>\r\n     </g>\r\n     <g id=\"text_6\">\r\n      <!-- 0.4 -->\r\n      <g transform=\"translate(435.264318 308.716563)scale(0.1 -0.1)\">\r\n       <use xlink:href=\"#DejaVuSans-30\"/>\r\n       <use x=\"63.623047\" xlink:href=\"#DejaVuSans-2e\"/>\r\n       <use x=\"95.410156\" xlink:href=\"#DejaVuSans-34\"/>\r\n      </g>\r\n     </g>\r\n    </g>\r\n    <g id=\"xtick_7\">\r\n     <g id=\"line2d_7\">\r\n      <g>\r\n       <use style=\"stroke:#000000;stroke-width:0.8;\" x=\"499.270164\" xlink:href=\"#m7ee8379ce4\" y=\"294.118125\"/>\r\n      </g>\r\n     </g>\r\n     <g id=\"text_7\">\r\n      <!-- 0.6 -->\r\n      <g transform=\"translate(491.318602 308.716563)scale(0.1 -0.1)\">\r\n       <use xlink:href=\"#DejaVuSans-30\"/>\r\n       <use x=\"63.623047\" xlink:href=\"#DejaVuSans-2e\"/>\r\n       <use x=\"95.410156\" xlink:href=\"#DejaVuSans-36\"/>\r\n      </g>\r\n     </g>\r\n    </g>\r\n   </g>\r\n   <g id=\"matplotlib.axis_2\">\r\n    <g id=\"ytick_1\">\r\n     <g id=\"line2d_8\">\r\n      <defs>\r\n       <path d=\"M 0 0 \r\nL -3.5 0 \r\n\" id=\"m2a1d8cf928\" style=\"stroke:#000000;stroke-width:0.8;\"/>\r\n      </defs>\r\n      <g>\r\n       <use style=\"stroke:#000000;stroke-width:0.8;\" x=\"158.978125\" xlink:href=\"#m2a1d8cf928\" y=\"279.018125\"/>\r\n      </g>\r\n     </g>\r\n     <g id=\"text_8\">\r\n      <!-- ARDRegression -->\r\n      <g transform=\"translate(75.796875 282.817344)scale(0.1 -0.1)\">\r\n       <defs>\r\n        <path d=\"M 2188 4044 \r\nL 1331 1722 \r\nL 3047 1722 \r\nL 2188 4044 \r\nz\r\nM 1831 4666 \r\nL 2547 4666 \r\nL 4325 0 \r\nL 3669 0 \r\nL 3244 1197 \r\nL 1141 1197 \r\nL 716 0 \r\nL 50 0 \r\nL 1831 4666 \r\nz\r\n\" id=\"DejaVuSans-41\" transform=\"scale(0.015625)\"/>\r\n        <path d=\"M 2841 2188 \r\nQ 3044 2119 3236 1894 \r\nQ 3428 1669 3622 1275 \r\nL 4263 0 \r\nL 3584 0 \r\nL 2988 1197 \r\nQ 2756 1666 2539 1819 \r\nQ 2322 1972 1947 1972 \r\nL 1259 1972 \r\nL 1259 0 \r\nL 628 0 \r\nL 628 4666 \r\nL 2053 4666 \r\nQ 2853 4666 3247 4331 \r\nQ 3641 3997 3641 3322 \r\nQ 3641 2881 3436 2590 \r\nQ 3231 2300 2841 2188 \r\nz\r\nM 1259 4147 \r\nL 1259 2491 \r\nL 2053 2491 \r\nQ 2509 2491 2742 2702 \r\nQ 2975 2913 2975 3322 \r\nQ 2975 3731 2742 3939 \r\nQ 2509 4147 2053 4147 \r\nL 1259 4147 \r\nz\r\n\" id=\"DejaVuSans-52\" transform=\"scale(0.015625)\"/>\r\n        <path d=\"M 1259 4147 \r\nL 1259 519 \r\nL 2022 519 \r\nQ 2988 519 3436 956 \r\nQ 3884 1394 3884 2338 \r\nQ 3884 3275 3436 3711 \r\nQ 2988 4147 2022 4147 \r\nL 1259 4147 \r\nz\r\nM 628 4666 \r\nL 1925 4666 \r\nQ 3281 4666 3915 4102 \r\nQ 4550 3538 4550 2338 \r\nQ 4550 1131 3912 565 \r\nQ 3275 0 1925 0 \r\nL 628 0 \r\nL 628 4666 \r\nz\r\n\" id=\"DejaVuSans-44\" transform=\"scale(0.015625)\"/>\r\n        <path d=\"M 3597 1894 \r\nL 3597 1613 \r\nL 953 1613 \r\nQ 991 1019 1311 708 \r\nQ 1631 397 2203 397 \r\nQ 2534 397 2845 478 \r\nQ 3156 559 3463 722 \r\nL 3463 178 \r\nQ 3153 47 2828 -22 \r\nQ 2503 -91 2169 -91 \r\nQ 1331 -91 842 396 \r\nQ 353 884 353 1716 \r\nQ 353 2575 817 3079 \r\nQ 1281 3584 2069 3584 \r\nQ 2775 3584 3186 3129 \r\nQ 3597 2675 3597 1894 \r\nz\r\nM 3022 2063 \r\nQ 3016 2534 2758 2815 \r\nQ 2500 3097 2075 3097 \r\nQ 1594 3097 1305 2825 \r\nQ 1016 2553 972 2059 \r\nL 3022 2063 \r\nz\r\n\" id=\"DejaVuSans-65\" transform=\"scale(0.015625)\"/>\r\n        <path d=\"M 2906 1791 \r\nQ 2906 2416 2648 2759 \r\nQ 2391 3103 1925 3103 \r\nQ 1463 3103 1205 2759 \r\nQ 947 2416 947 1791 \r\nQ 947 1169 1205 825 \r\nQ 1463 481 1925 481 \r\nQ 2391 481 2648 825 \r\nQ 2906 1169 2906 1791 \r\nz\r\nM 3481 434 \r\nQ 3481 -459 3084 -895 \r\nQ 2688 -1331 1869 -1331 \r\nQ 1566 -1331 1297 -1286 \r\nQ 1028 -1241 775 -1147 \r\nL 775 -588 \r\nQ 1028 -725 1275 -790 \r\nQ 1522 -856 1778 -856 \r\nQ 2344 -856 2625 -561 \r\nQ 2906 -266 2906 331 \r\nL 2906 616 \r\nQ 2728 306 2450 153 \r\nQ 2172 0 1784 0 \r\nQ 1141 0 747 490 \r\nQ 353 981 353 1791 \r\nQ 353 2603 747 3093 \r\nQ 1141 3584 1784 3584 \r\nQ 2172 3584 2450 3431 \r\nQ 2728 3278 2906 2969 \r\nL 2906 3500 \r\nL 3481 3500 \r\nL 3481 434 \r\nz\r\n\" id=\"DejaVuSans-67\" transform=\"scale(0.015625)\"/>\r\n        <path d=\"M 2631 2963 \r\nQ 2534 3019 2420 3045 \r\nQ 2306 3072 2169 3072 \r\nQ 1681 3072 1420 2755 \r\nQ 1159 2438 1159 1844 \r\nL 1159 0 \r\nL 581 0 \r\nL 581 3500 \r\nL 1159 3500 \r\nL 1159 2956 \r\nQ 1341 3275 1631 3429 \r\nQ 1922 3584 2338 3584 \r\nQ 2397 3584 2469 3576 \r\nQ 2541 3569 2628 3553 \r\nL 2631 2963 \r\nz\r\n\" id=\"DejaVuSans-72\" transform=\"scale(0.015625)\"/>\r\n        <path d=\"M 2834 3397 \r\nL 2834 2853 \r\nQ 2591 2978 2328 3040 \r\nQ 2066 3103 1784 3103 \r\nQ 1356 3103 1142 2972 \r\nQ 928 2841 928 2578 \r\nQ 928 2378 1081 2264 \r\nQ 1234 2150 1697 2047 \r\nL 1894 2003 \r\nQ 2506 1872 2764 1633 \r\nQ 3022 1394 3022 966 \r\nQ 3022 478 2636 193 \r\nQ 2250 -91 1575 -91 \r\nQ 1294 -91 989 -36 \r\nQ 684 19 347 128 \r\nL 347 722 \r\nQ 666 556 975 473 \r\nQ 1284 391 1588 391 \r\nQ 1994 391 2212 530 \r\nQ 2431 669 2431 922 \r\nQ 2431 1156 2273 1281 \r\nQ 2116 1406 1581 1522 \r\nL 1381 1569 \r\nQ 847 1681 609 1914 \r\nQ 372 2147 372 2553 \r\nQ 372 3047 722 3315 \r\nQ 1072 3584 1716 3584 \r\nQ 2034 3584 2315 3537 \r\nQ 2597 3491 2834 3397 \r\nz\r\n\" id=\"DejaVuSans-73\" transform=\"scale(0.015625)\"/>\r\n        <path d=\"M 603 3500 \r\nL 1178 3500 \r\nL 1178 0 \r\nL 603 0 \r\nL 603 3500 \r\nz\r\nM 603 4863 \r\nL 1178 4863 \r\nL 1178 4134 \r\nL 603 4134 \r\nL 603 4863 \r\nz\r\n\" id=\"DejaVuSans-69\" transform=\"scale(0.015625)\"/>\r\n        <path d=\"M 1959 3097 \r\nQ 1497 3097 1228 2736 \r\nQ 959 2375 959 1747 \r\nQ 959 1119 1226 758 \r\nQ 1494 397 1959 397 \r\nQ 2419 397 2687 759 \r\nQ 2956 1122 2956 1747 \r\nQ 2956 2369 2687 2733 \r\nQ 2419 3097 1959 3097 \r\nz\r\nM 1959 3584 \r\nQ 2709 3584 3137 3096 \r\nQ 3566 2609 3566 1747 \r\nQ 3566 888 3137 398 \r\nQ 2709 -91 1959 -91 \r\nQ 1206 -91 779 398 \r\nQ 353 888 353 1747 \r\nQ 353 2609 779 3096 \r\nQ 1206 3584 1959 3584 \r\nz\r\n\" id=\"DejaVuSans-6f\" transform=\"scale(0.015625)\"/>\r\n        <path d=\"M 3513 2113 \r\nL 3513 0 \r\nL 2938 0 \r\nL 2938 2094 \r\nQ 2938 2591 2744 2837 \r\nQ 2550 3084 2163 3084 \r\nQ 1697 3084 1428 2787 \r\nQ 1159 2491 1159 1978 \r\nL 1159 0 \r\nL 581 0 \r\nL 581 3500 \r\nL 1159 3500 \r\nL 1159 2956 \r\nQ 1366 3272 1645 3428 \r\nQ 1925 3584 2291 3584 \r\nQ 2894 3584 3203 3211 \r\nQ 3513 2838 3513 2113 \r\nz\r\n\" id=\"DejaVuSans-6e\" transform=\"scale(0.015625)\"/>\r\n       </defs>\r\n       <use xlink:href=\"#DejaVuSans-41\"/>\r\n       <use x=\"68.408203\" xlink:href=\"#DejaVuSans-52\"/>\r\n       <use x=\"137.890625\" xlink:href=\"#DejaVuSans-44\"/>\r\n       <use x=\"214.892578\" xlink:href=\"#DejaVuSans-52\"/>\r\n       <use x=\"279.875\" xlink:href=\"#DejaVuSans-65\"/>\r\n       <use x=\"341.398438\" xlink:href=\"#DejaVuSans-67\"/>\r\n       <use x=\"404.875\" xlink:href=\"#DejaVuSans-72\"/>\r\n       <use x=\"443.738281\" xlink:href=\"#DejaVuSans-65\"/>\r\n       <use x=\"505.261719\" xlink:href=\"#DejaVuSans-73\"/>\r\n       <use x=\"557.361328\" xlink:href=\"#DejaVuSans-73\"/>\r\n       <use x=\"609.460938\" xlink:href=\"#DejaVuSans-69\"/>\r\n       <use x=\"637.244141\" xlink:href=\"#DejaVuSans-6f\"/>\r\n       <use x=\"698.425781\" xlink:href=\"#DejaVuSans-6e\"/>\r\n      </g>\r\n     </g>\r\n    </g>\r\n    <g id=\"ytick_2\">\r\n     <g id=\"line2d_9\">\r\n      <g>\r\n       <use style=\"stroke:#000000;stroke-width:0.8;\" x=\"158.978125\" xlink:href=\"#m2a1d8cf928\" y=\"248.818125\"/>\r\n      </g>\r\n     </g>\r\n     <g id=\"text_9\">\r\n      <!-- BayesianRidge -->\r\n      <g transform=\"translate(77.8875 252.617344)scale(0.1 -0.1)\">\r\n       <defs>\r\n        <path d=\"M 1259 2228 \r\nL 1259 519 \r\nL 2272 519 \r\nQ 2781 519 3026 730 \r\nQ 3272 941 3272 1375 \r\nQ 3272 1813 3026 2020 \r\nQ 2781 2228 2272 2228 \r\nL 1259 2228 \r\nz\r\nM 1259 4147 \r\nL 1259 2741 \r\nL 2194 2741 \r\nQ 2656 2741 2882 2914 \r\nQ 3109 3088 3109 3444 \r\nQ 3109 3797 2882 3972 \r\nQ 2656 4147 2194 4147 \r\nL 1259 4147 \r\nz\r\nM 628 4666 \r\nL 2241 4666 \r\nQ 2963 4666 3353 4366 \r\nQ 3744 4066 3744 3513 \r\nQ 3744 3084 3544 2831 \r\nQ 3344 2578 2956 2516 \r\nQ 3422 2416 3680 2098 \r\nQ 3938 1781 3938 1306 \r\nQ 3938 681 3513 340 \r\nQ 3088 0 2303 0 \r\nL 628 0 \r\nL 628 4666 \r\nz\r\n\" id=\"DejaVuSans-42\" transform=\"scale(0.015625)\"/>\r\n        <path d=\"M 2194 1759 \r\nQ 1497 1759 1228 1600 \r\nQ 959 1441 959 1056 \r\nQ 959 750 1161 570 \r\nQ 1363 391 1709 391 \r\nQ 2188 391 2477 730 \r\nQ 2766 1069 2766 1631 \r\nL 2766 1759 \r\nL 2194 1759 \r\nz\r\nM 3341 1997 \r\nL 3341 0 \r\nL 2766 0 \r\nL 2766 531 \r\nQ 2569 213 2275 61 \r\nQ 1981 -91 1556 -91 \r\nQ 1019 -91 701 211 \r\nQ 384 513 384 1019 \r\nQ 384 1609 779 1909 \r\nQ 1175 2209 1959 2209 \r\nL 2766 2209 \r\nL 2766 2266 \r\nQ 2766 2663 2505 2880 \r\nQ 2244 3097 1772 3097 \r\nQ 1472 3097 1187 3025 \r\nQ 903 2953 641 2809 \r\nL 641 3341 \r\nQ 956 3463 1253 3523 \r\nQ 1550 3584 1831 3584 \r\nQ 2591 3584 2966 3190 \r\nQ 3341 2797 3341 1997 \r\nz\r\n\" id=\"DejaVuSans-61\" transform=\"scale(0.015625)\"/>\r\n        <path d=\"M 2059 -325 \r\nQ 1816 -950 1584 -1140 \r\nQ 1353 -1331 966 -1331 \r\nL 506 -1331 \r\nL 506 -850 \r\nL 844 -850 \r\nQ 1081 -850 1212 -737 \r\nQ 1344 -625 1503 -206 \r\nL 1606 56 \r\nL 191 3500 \r\nL 800 3500 \r\nL 1894 763 \r\nL 2988 3500 \r\nL 3597 3500 \r\nL 2059 -325 \r\nz\r\n\" id=\"DejaVuSans-79\" transform=\"scale(0.015625)\"/>\r\n        <path d=\"M 2906 2969 \r\nL 2906 4863 \r\nL 3481 4863 \r\nL 3481 0 \r\nL 2906 0 \r\nL 2906 525 \r\nQ 2725 213 2448 61 \r\nQ 2172 -91 1784 -91 \r\nQ 1150 -91 751 415 \r\nQ 353 922 353 1747 \r\nQ 353 2572 751 3078 \r\nQ 1150 3584 1784 3584 \r\nQ 2172 3584 2448 3432 \r\nQ 2725 3281 2906 2969 \r\nz\r\nM 947 1747 \r\nQ 947 1113 1208 752 \r\nQ 1469 391 1925 391 \r\nQ 2381 391 2643 752 \r\nQ 2906 1113 2906 1747 \r\nQ 2906 2381 2643 2742 \r\nQ 2381 3103 1925 3103 \r\nQ 1469 3103 1208 2742 \r\nQ 947 2381 947 1747 \r\nz\r\n\" id=\"DejaVuSans-64\" transform=\"scale(0.015625)\"/>\r\n       </defs>\r\n       <use xlink:href=\"#DejaVuSans-42\"/>\r\n       <use x=\"68.603516\" xlink:href=\"#DejaVuSans-61\"/>\r\n       <use x=\"129.882812\" xlink:href=\"#DejaVuSans-79\"/>\r\n       <use x=\"189.0625\" xlink:href=\"#DejaVuSans-65\"/>\r\n       <use x=\"250.585938\" xlink:href=\"#DejaVuSans-73\"/>\r\n       <use x=\"302.685547\" xlink:href=\"#DejaVuSans-69\"/>\r\n       <use x=\"330.46875\" xlink:href=\"#DejaVuSans-61\"/>\r\n       <use x=\"391.748047\" xlink:href=\"#DejaVuSans-6e\"/>\r\n       <use x=\"455.126953\" xlink:href=\"#DejaVuSans-52\"/>\r\n       <use x=\"524.609375\" xlink:href=\"#DejaVuSans-69\"/>\r\n       <use x=\"552.392578\" xlink:href=\"#DejaVuSans-64\"/>\r\n       <use x=\"615.869141\" xlink:href=\"#DejaVuSans-67\"/>\r\n       <use x=\"679.345703\" xlink:href=\"#DejaVuSans-65\"/>\r\n      </g>\r\n     </g>\r\n    </g>\r\n    <g id=\"ytick_3\">\r\n     <g id=\"line2d_10\">\r\n      <g>\r\n       <use style=\"stroke:#000000;stroke-width:0.8;\" x=\"158.978125\" xlink:href=\"#m2a1d8cf928\" y=\"218.618125\"/>\r\n      </g>\r\n     </g>\r\n     <g id=\"text_10\">\r\n      <!-- Decision tree -->\r\n      <g transform=\"translate(86.114063 222.417344)scale(0.1 -0.1)\">\r\n       <defs>\r\n        <path d=\"M 3122 3366 \r\nL 3122 2828 \r\nQ 2878 2963 2633 3030 \r\nQ 2388 3097 2138 3097 \r\nQ 1578 3097 1268 2742 \r\nQ 959 2388 959 1747 \r\nQ 959 1106 1268 751 \r\nQ 1578 397 2138 397 \r\nQ 2388 397 2633 464 \r\nQ 2878 531 3122 666 \r\nL 3122 134 \r\nQ 2881 22 2623 -34 \r\nQ 2366 -91 2075 -91 \r\nQ 1284 -91 818 406 \r\nQ 353 903 353 1747 \r\nQ 353 2603 823 3093 \r\nQ 1294 3584 2113 3584 \r\nQ 2378 3584 2631 3529 \r\nQ 2884 3475 3122 3366 \r\nz\r\n\" id=\"DejaVuSans-63\" transform=\"scale(0.015625)\"/>\r\n        <path id=\"DejaVuSans-20\" transform=\"scale(0.015625)\"/>\r\n        <path d=\"M 1172 4494 \r\nL 1172 3500 \r\nL 2356 3500 \r\nL 2356 3053 \r\nL 1172 3053 \r\nL 1172 1153 \r\nQ 1172 725 1289 603 \r\nQ 1406 481 1766 481 \r\nL 2356 481 \r\nL 2356 0 \r\nL 1766 0 \r\nQ 1100 0 847 248 \r\nQ 594 497 594 1153 \r\nL 594 3053 \r\nL 172 3053 \r\nL 172 3500 \r\nL 594 3500 \r\nL 594 4494 \r\nL 1172 4494 \r\nz\r\n\" id=\"DejaVuSans-74\" transform=\"scale(0.015625)\"/>\r\n       </defs>\r\n       <use xlink:href=\"#DejaVuSans-44\"/>\r\n       <use x=\"77.001953\" xlink:href=\"#DejaVuSans-65\"/>\r\n       <use x=\"138.525391\" xlink:href=\"#DejaVuSans-63\"/>\r\n       <use x=\"193.505859\" xlink:href=\"#DejaVuSans-69\"/>\r\n       <use x=\"221.289062\" xlink:href=\"#DejaVuSans-73\"/>\r\n       <use x=\"273.388672\" xlink:href=\"#DejaVuSans-69\"/>\r\n       <use x=\"301.171875\" xlink:href=\"#DejaVuSans-6f\"/>\r\n       <use x=\"362.353516\" xlink:href=\"#DejaVuSans-6e\"/>\r\n       <use x=\"425.732422\" xlink:href=\"#DejaVuSans-20\"/>\r\n       <use x=\"457.519531\" xlink:href=\"#DejaVuSans-74\"/>\r\n       <use x=\"496.728516\" xlink:href=\"#DejaVuSans-72\"/>\r\n       <use x=\"535.591797\" xlink:href=\"#DejaVuSans-65\"/>\r\n       <use x=\"597.115234\" xlink:href=\"#DejaVuSans-65\"/>\r\n      </g>\r\n     </g>\r\n    </g>\r\n    <g id=\"ytick_4\">\r\n     <g id=\"line2d_11\">\r\n      <g>\r\n       <use style=\"stroke:#000000;stroke-width:0.8;\" x=\"158.978125\" xlink:href=\"#m2a1d8cf928\" y=\"188.418125\"/>\r\n      </g>\r\n     </g>\r\n     <g id=\"text_11\">\r\n      <!-- Decision tree with params -->\r\n      <g transform=\"translate(20.878125 192.217344)scale(0.1 -0.1)\">\r\n       <defs>\r\n        <path d=\"M 269 3500 \r\nL 844 3500 \r\nL 1563 769 \r\nL 2278 3500 \r\nL 2956 3500 \r\nL 3675 769 \r\nL 4391 3500 \r\nL 4966 3500 \r\nL 4050 0 \r\nL 3372 0 \r\nL 2619 2869 \r\nL 1863 0 \r\nL 1184 0 \r\nL 269 3500 \r\nz\r\n\" id=\"DejaVuSans-77\" transform=\"scale(0.015625)\"/>\r\n        <path d=\"M 3513 2113 \r\nL 3513 0 \r\nL 2938 0 \r\nL 2938 2094 \r\nQ 2938 2591 2744 2837 \r\nQ 2550 3084 2163 3084 \r\nQ 1697 3084 1428 2787 \r\nQ 1159 2491 1159 1978 \r\nL 1159 0 \r\nL 581 0 \r\nL 581 4863 \r\nL 1159 4863 \r\nL 1159 2956 \r\nQ 1366 3272 1645 3428 \r\nQ 1925 3584 2291 3584 \r\nQ 2894 3584 3203 3211 \r\nQ 3513 2838 3513 2113 \r\nz\r\n\" id=\"DejaVuSans-68\" transform=\"scale(0.015625)\"/>\r\n        <path d=\"M 1159 525 \r\nL 1159 -1331 \r\nL 581 -1331 \r\nL 581 3500 \r\nL 1159 3500 \r\nL 1159 2969 \r\nQ 1341 3281 1617 3432 \r\nQ 1894 3584 2278 3584 \r\nQ 2916 3584 3314 3078 \r\nQ 3713 2572 3713 1747 \r\nQ 3713 922 3314 415 \r\nQ 2916 -91 2278 -91 \r\nQ 1894 -91 1617 61 \r\nQ 1341 213 1159 525 \r\nz\r\nM 3116 1747 \r\nQ 3116 2381 2855 2742 \r\nQ 2594 3103 2138 3103 \r\nQ 1681 3103 1420 2742 \r\nQ 1159 2381 1159 1747 \r\nQ 1159 1113 1420 752 \r\nQ 1681 391 2138 391 \r\nQ 2594 391 2855 752 \r\nQ 3116 1113 3116 1747 \r\nz\r\n\" id=\"DejaVuSans-70\" transform=\"scale(0.015625)\"/>\r\n        <path d=\"M 3328 2828 \r\nQ 3544 3216 3844 3400 \r\nQ 4144 3584 4550 3584 \r\nQ 5097 3584 5394 3201 \r\nQ 5691 2819 5691 2113 \r\nL 5691 0 \r\nL 5113 0 \r\nL 5113 2094 \r\nQ 5113 2597 4934 2840 \r\nQ 4756 3084 4391 3084 \r\nQ 3944 3084 3684 2787 \r\nQ 3425 2491 3425 1978 \r\nL 3425 0 \r\nL 2847 0 \r\nL 2847 2094 \r\nQ 2847 2600 2669 2842 \r\nQ 2491 3084 2119 3084 \r\nQ 1678 3084 1418 2786 \r\nQ 1159 2488 1159 1978 \r\nL 1159 0 \r\nL 581 0 \r\nL 581 3500 \r\nL 1159 3500 \r\nL 1159 2956 \r\nQ 1356 3278 1631 3431 \r\nQ 1906 3584 2284 3584 \r\nQ 2666 3584 2933 3390 \r\nQ 3200 3197 3328 2828 \r\nz\r\n\" id=\"DejaVuSans-6d\" transform=\"scale(0.015625)\"/>\r\n       </defs>\r\n       <use xlink:href=\"#DejaVuSans-44\"/>\r\n       <use x=\"77.001953\" xlink:href=\"#DejaVuSans-65\"/>\r\n       <use x=\"138.525391\" xlink:href=\"#DejaVuSans-63\"/>\r\n       <use x=\"193.505859\" xlink:href=\"#DejaVuSans-69\"/>\r\n       <use x=\"221.289062\" xlink:href=\"#DejaVuSans-73\"/>\r\n       <use x=\"273.388672\" xlink:href=\"#DejaVuSans-69\"/>\r\n       <use x=\"301.171875\" xlink:href=\"#DejaVuSans-6f\"/>\r\n       <use x=\"362.353516\" xlink:href=\"#DejaVuSans-6e\"/>\r\n       <use x=\"425.732422\" xlink:href=\"#DejaVuSans-20\"/>\r\n       <use x=\"457.519531\" xlink:href=\"#DejaVuSans-74\"/>\r\n       <use x=\"496.728516\" xlink:href=\"#DejaVuSans-72\"/>\r\n       <use x=\"535.591797\" xlink:href=\"#DejaVuSans-65\"/>\r\n       <use x=\"597.115234\" xlink:href=\"#DejaVuSans-65\"/>\r\n       <use x=\"658.638672\" xlink:href=\"#DejaVuSans-20\"/>\r\n       <use x=\"690.425781\" xlink:href=\"#DejaVuSans-77\"/>\r\n       <use x=\"772.212891\" xlink:href=\"#DejaVuSans-69\"/>\r\n       <use x=\"799.996094\" xlink:href=\"#DejaVuSans-74\"/>\r\n       <use x=\"839.205078\" xlink:href=\"#DejaVuSans-68\"/>\r\n       <use x=\"902.583984\" xlink:href=\"#DejaVuSans-20\"/>\r\n       <use x=\"934.371094\" xlink:href=\"#DejaVuSans-70\"/>\r\n       <use x=\"997.847656\" xlink:href=\"#DejaVuSans-61\"/>\r\n       <use x=\"1059.126953\" xlink:href=\"#DejaVuSans-72\"/>\r\n       <use x=\"1100.240234\" xlink:href=\"#DejaVuSans-61\"/>\r\n       <use x=\"1161.519531\" xlink:href=\"#DejaVuSans-6d\"/>\r\n       <use x=\"1258.931641\" xlink:href=\"#DejaVuSans-73\"/>\r\n      </g>\r\n     </g>\r\n    </g>\r\n    <g id=\"ytick_5\">\r\n     <g id=\"line2d_12\">\r\n      <g>\r\n       <use style=\"stroke:#000000;stroke-width:0.8;\" x=\"158.978125\" xlink:href=\"#m2a1d8cf928\" y=\"158.218125\"/>\r\n      </g>\r\n     </g>\r\n     <g id=\"text_12\">\r\n      <!-- ElasticNet -->\r\n      <g transform=\"translate(101.792188 162.017344)scale(0.1 -0.1)\">\r\n       <defs>\r\n        <path d=\"M 628 4666 \r\nL 3578 4666 \r\nL 3578 4134 \r\nL 1259 4134 \r\nL 1259 2753 \r\nL 3481 2753 \r\nL 3481 2222 \r\nL 1259 2222 \r\nL 1259 531 \r\nL 3634 531 \r\nL 3634 0 \r\nL 628 0 \r\nL 628 4666 \r\nz\r\n\" id=\"DejaVuSans-45\" transform=\"scale(0.015625)\"/>\r\n        <path d=\"M 603 4863 \r\nL 1178 4863 \r\nL 1178 0 \r\nL 603 0 \r\nL 603 4863 \r\nz\r\n\" id=\"DejaVuSans-6c\" transform=\"scale(0.015625)\"/>\r\n        <path d=\"M 628 4666 \r\nL 1478 4666 \r\nL 3547 763 \r\nL 3547 4666 \r\nL 4159 4666 \r\nL 4159 0 \r\nL 3309 0 \r\nL 1241 3903 \r\nL 1241 0 \r\nL 628 0 \r\nL 628 4666 \r\nz\r\n\" id=\"DejaVuSans-4e\" transform=\"scale(0.015625)\"/>\r\n       </defs>\r\n       <use xlink:href=\"#DejaVuSans-45\"/>\r\n       <use x=\"63.183594\" xlink:href=\"#DejaVuSans-6c\"/>\r\n       <use x=\"90.966797\" xlink:href=\"#DejaVuSans-61\"/>\r\n       <use x=\"152.246094\" xlink:href=\"#DejaVuSans-73\"/>\r\n       <use x=\"204.345703\" xlink:href=\"#DejaVuSans-74\"/>\r\n       <use x=\"243.554688\" xlink:href=\"#DejaVuSans-69\"/>\r\n       <use x=\"271.337891\" xlink:href=\"#DejaVuSans-63\"/>\r\n       <use x=\"326.318359\" xlink:href=\"#DejaVuSans-4e\"/>\r\n       <use x=\"401.123047\" xlink:href=\"#DejaVuSans-65\"/>\r\n       <use x=\"462.646484\" xlink:href=\"#DejaVuSans-74\"/>\r\n      </g>\r\n     </g>\r\n    </g>\r\n    <g id=\"ytick_6\">\r\n     <g id=\"line2d_13\">\r\n      <g>\r\n       <use style=\"stroke:#000000;stroke-width:0.8;\" x=\"158.978125\" xlink:href=\"#m2a1d8cf928\" y=\"128.018125\"/>\r\n      </g>\r\n     </g>\r\n     <g id=\"text_13\">\r\n      <!-- KNN -->\r\n      <g transform=\"translate(130.457812 131.817344)scale(0.1 -0.1)\">\r\n       <defs>\r\n        <path d=\"M 628 4666 \r\nL 1259 4666 \r\nL 1259 2694 \r\nL 3353 4666 \r\nL 4166 4666 \r\nL 1850 2491 \r\nL 4331 0 \r\nL 3500 0 \r\nL 1259 2247 \r\nL 1259 0 \r\nL 628 0 \r\nL 628 4666 \r\nz\r\n\" id=\"DejaVuSans-4b\" transform=\"scale(0.015625)\"/>\r\n       </defs>\r\n       <use xlink:href=\"#DejaVuSans-4b\"/>\r\n       <use x=\"65.576172\" xlink:href=\"#DejaVuSans-4e\"/>\r\n       <use x=\"140.380859\" xlink:href=\"#DejaVuSans-4e\"/>\r\n      </g>\r\n     </g>\r\n    </g>\r\n    <g id=\"ytick_7\">\r\n     <g id=\"line2d_14\">\r\n      <g>\r\n       <use style=\"stroke:#000000;stroke-width:0.8;\" x=\"158.978125\" xlink:href=\"#m2a1d8cf928\" y=\"97.818125\"/>\r\n      </g>\r\n     </g>\r\n     <g id=\"text_14\">\r\n      <!-- Lasso -->\r\n      <g transform=\"translate(123.740625 101.617344)scale(0.1 -0.1)\">\r\n       <defs>\r\n        <path d=\"M 628 4666 \r\nL 1259 4666 \r\nL 1259 531 \r\nL 3531 531 \r\nL 3531 0 \r\nL 628 0 \r\nL 628 4666 \r\nz\r\n\" id=\"DejaVuSans-4c\" transform=\"scale(0.015625)\"/>\r\n       </defs>\r\n       <use xlink:href=\"#DejaVuSans-4c\"/>\r\n       <use x=\"55.712891\" xlink:href=\"#DejaVuSans-61\"/>\r\n       <use x=\"116.992188\" xlink:href=\"#DejaVuSans-73\"/>\r\n       <use x=\"169.091797\" xlink:href=\"#DejaVuSans-73\"/>\r\n       <use x=\"221.191406\" xlink:href=\"#DejaVuSans-6f\"/>\r\n      </g>\r\n     </g>\r\n    </g>\r\n    <g id=\"ytick_8\">\r\n     <g id=\"line2d_15\">\r\n      <g>\r\n       <use style=\"stroke:#000000;stroke-width:0.8;\" x=\"158.978125\" xlink:href=\"#m2a1d8cf928\" y=\"67.618125\"/>\r\n      </g>\r\n     </g>\r\n     <g id=\"text_15\">\r\n      <!-- Linear regression -->\r\n      <g transform=\"translate(65.640625 71.417344)scale(0.1 -0.1)\">\r\n       <use xlink:href=\"#DejaVuSans-4c\"/>\r\n       <use x=\"55.712891\" xlink:href=\"#DejaVuSans-69\"/>\r\n       <use x=\"83.496094\" xlink:href=\"#DejaVuSans-6e\"/>\r\n       <use x=\"146.875\" xlink:href=\"#DejaVuSans-65\"/>\r\n       <use x=\"208.398438\" xlink:href=\"#DejaVuSans-61\"/>\r\n       <use x=\"269.677734\" xlink:href=\"#DejaVuSans-72\"/>\r\n       <use x=\"310.791016\" xlink:href=\"#DejaVuSans-20\"/>\r\n       <use x=\"342.578125\" xlink:href=\"#DejaVuSans-72\"/>\r\n       <use x=\"381.441406\" xlink:href=\"#DejaVuSans-65\"/>\r\n       <use x=\"442.964844\" xlink:href=\"#DejaVuSans-67\"/>\r\n       <use x=\"506.441406\" xlink:href=\"#DejaVuSans-72\"/>\r\n       <use x=\"545.304688\" xlink:href=\"#DejaVuSans-65\"/>\r\n       <use x=\"606.828125\" xlink:href=\"#DejaVuSans-73\"/>\r\n       <use x=\"658.927734\" xlink:href=\"#DejaVuSans-73\"/>\r\n       <use x=\"711.027344\" xlink:href=\"#DejaVuSans-69\"/>\r\n       <use x=\"738.810547\" xlink:href=\"#DejaVuSans-6f\"/>\r\n       <use x=\"799.992188\" xlink:href=\"#DejaVuSans-6e\"/>\r\n      </g>\r\n     </g>\r\n    </g>\r\n    <g id=\"ytick_9\">\r\n     <g id=\"line2d_16\">\r\n      <g>\r\n       <use style=\"stroke:#000000;stroke-width:0.8;\" x=\"158.978125\" xlink:href=\"#m2a1d8cf928\" y=\"37.418125\"/>\r\n      </g>\r\n     </g>\r\n     <g id=\"text_16\">\r\n      <!-- Ridge -->\r\n      <g transform=\"translate(123.401563 41.217344)scale(0.1 -0.1)\">\r\n       <use xlink:href=\"#DejaVuSans-52\"/>\r\n       <use x=\"69.482422\" xlink:href=\"#DejaVuSans-69\"/>\r\n       <use x=\"97.265625\" xlink:href=\"#DejaVuSans-64\"/>\r\n       <use x=\"160.742188\" xlink:href=\"#DejaVuSans-67\"/>\r\n       <use x=\"224.21875\" xlink:href=\"#DejaVuSans-65\"/>\r\n      </g>\r\n     </g>\r\n    </g>\r\n    <g id=\"text_17\">\r\n     <!-- r2 score -->\r\n     <g transform=\"translate(14.798438 178.476719)rotate(-90)scale(0.1 -0.1)\">\r\n      <use xlink:href=\"#DejaVuSans-72\"/>\r\n      <use x=\"41.113281\" xlink:href=\"#DejaVuSans-32\"/>\r\n      <use x=\"104.736328\" xlink:href=\"#DejaVuSans-20\"/>\r\n      <use x=\"136.523438\" xlink:href=\"#DejaVuSans-73\"/>\r\n      <use x=\"188.623047\" xlink:href=\"#DejaVuSans-63\"/>\r\n      <use x=\"243.603516\" xlink:href=\"#DejaVuSans-6f\"/>\r\n      <use x=\"304.785156\" xlink:href=\"#DejaVuSans-72\"/>\r\n      <use x=\"343.648438\" xlink:href=\"#DejaVuSans-65\"/>\r\n     </g>\r\n    </g>\r\n   </g>\r\n   <g id=\"patch_21\">\r\n    <path d=\"M 158.978125 294.118125 \r\nL 158.978125 22.318125 \r\n\" style=\"fill:none;stroke:#000000;stroke-linecap:square;stroke-linejoin:miter;stroke-width:0.8;\"/>\r\n   </g>\r\n   <g id=\"patch_22\">\r\n    <path d=\"M 549.578125 294.118125 \r\nL 549.578125 22.318125 \r\n\" style=\"fill:none;stroke:#000000;stroke-linecap:square;stroke-linejoin:miter;stroke-width:0.8;\"/>\r\n   </g>\r\n   <g id=\"patch_23\">\r\n    <path d=\"M 158.978125 294.118125 \r\nL 549.578125 294.118125 \r\n\" style=\"fill:none;stroke:#000000;stroke-linecap:square;stroke-linejoin:miter;stroke-width:0.8;\"/>\r\n   </g>\r\n   <g id=\"patch_24\">\r\n    <path d=\"M 158.978125 22.318125 \r\nL 549.578125 22.318125 \r\n\" style=\"fill:none;stroke:#000000;stroke-linecap:square;stroke-linejoin:miter;stroke-width:0.8;\"/>\r\n   </g>\r\n   <g id=\"text_18\">\r\n    <!-- R2 score for each model -->\r\n    <g transform=\"translate(281.140938 16.318125)scale(0.12 -0.12)\">\r\n     <defs>\r\n      <path d=\"M 2375 4863 \r\nL 2375 4384 \r\nL 1825 4384 \r\nQ 1516 4384 1395 4259 \r\nQ 1275 4134 1275 3809 \r\nL 1275 3500 \r\nL 2222 3500 \r\nL 2222 3053 \r\nL 1275 3053 \r\nL 1275 0 \r\nL 697 0 \r\nL 697 3053 \r\nL 147 3053 \r\nL 147 3500 \r\nL 697 3500 \r\nL 697 3744 \r\nQ 697 4328 969 4595 \r\nQ 1241 4863 1831 4863 \r\nL 2375 4863 \r\nz\r\n\" id=\"DejaVuSans-66\" transform=\"scale(0.015625)\"/>\r\n     </defs>\r\n     <use xlink:href=\"#DejaVuSans-52\"/>\r\n     <use x=\"69.482422\" xlink:href=\"#DejaVuSans-32\"/>\r\n     <use x=\"133.105469\" xlink:href=\"#DejaVuSans-20\"/>\r\n     <use x=\"164.892578\" xlink:href=\"#DejaVuSans-73\"/>\r\n     <use x=\"216.992188\" xlink:href=\"#DejaVuSans-63\"/>\r\n     <use x=\"271.972656\" xlink:href=\"#DejaVuSans-6f\"/>\r\n     <use x=\"333.154297\" xlink:href=\"#DejaVuSans-72\"/>\r\n     <use x=\"372.017578\" xlink:href=\"#DejaVuSans-65\"/>\r\n     <use x=\"433.541016\" xlink:href=\"#DejaVuSans-20\"/>\r\n     <use x=\"465.328125\" xlink:href=\"#DejaVuSans-66\"/>\r\n     <use x=\"500.533203\" xlink:href=\"#DejaVuSans-6f\"/>\r\n     <use x=\"561.714844\" xlink:href=\"#DejaVuSans-72\"/>\r\n     <use x=\"602.828125\" xlink:href=\"#DejaVuSans-20\"/>\r\n     <use x=\"634.615234\" xlink:href=\"#DejaVuSans-65\"/>\r\n     <use x=\"696.138672\" xlink:href=\"#DejaVuSans-61\"/>\r\n     <use x=\"757.417969\" xlink:href=\"#DejaVuSans-63\"/>\r\n     <use x=\"812.398438\" xlink:href=\"#DejaVuSans-68\"/>\r\n     <use x=\"875.777344\" xlink:href=\"#DejaVuSans-20\"/>\r\n     <use x=\"907.564453\" xlink:href=\"#DejaVuSans-6d\"/>\r\n     <use x=\"1004.976562\" xlink:href=\"#DejaVuSans-6f\"/>\r\n     <use x=\"1066.158203\" xlink:href=\"#DejaVuSans-64\"/>\r\n     <use x=\"1129.634766\" xlink:href=\"#DejaVuSans-65\"/>\r\n     <use x=\"1191.158203\" xlink:href=\"#DejaVuSans-6c\"/>\r\n    </g>\r\n   </g>\r\n   <g id=\"legend_1\">\r\n    <g id=\"patch_25\">\r\n     <path d=\"M 457.259375 59.674375 \r\nL 542.578125 59.674375 \r\nQ 544.578125 59.674375 544.578125 57.674375 \r\nL 544.578125 29.318125 \r\nQ 544.578125 27.318125 542.578125 27.318125 \r\nL 457.259375 27.318125 \r\nQ 455.259375 27.318125 455.259375 29.318125 \r\nL 455.259375 57.674375 \r\nQ 455.259375 59.674375 457.259375 59.674375 \r\nz\r\n\" style=\"fill:#ffffff;opacity:0.8;stroke:#cccccc;stroke-linejoin:miter;\"/>\r\n    </g>\r\n    <g id=\"patch_26\">\r\n     <path d=\"M 459.259375 38.916562 \r\nL 479.259375 38.916562 \r\nL 479.259375 31.916562 \r\nL 459.259375 31.916562 \r\nz\r\n\" style=\"fill:#1f77b4;\"/>\r\n    </g>\r\n    <g id=\"text_19\">\r\n     <!-- test score -->\r\n     <g transform=\"translate(487.259375 38.916562)scale(0.1 -0.1)\">\r\n      <use xlink:href=\"#DejaVuSans-74\"/>\r\n      <use x=\"39.208984\" xlink:href=\"#DejaVuSans-65\"/>\r\n      <use x=\"100.732422\" xlink:href=\"#DejaVuSans-73\"/>\r\n      <use x=\"152.832031\" xlink:href=\"#DejaVuSans-74\"/>\r\n      <use x=\"192.041016\" xlink:href=\"#DejaVuSans-20\"/>\r\n      <use x=\"223.828125\" xlink:href=\"#DejaVuSans-73\"/>\r\n      <use x=\"275.927734\" xlink:href=\"#DejaVuSans-63\"/>\r\n      <use x=\"330.908203\" xlink:href=\"#DejaVuSans-6f\"/>\r\n      <use x=\"392.089844\" xlink:href=\"#DejaVuSans-72\"/>\r\n      <use x=\"430.953125\" xlink:href=\"#DejaVuSans-65\"/>\r\n     </g>\r\n    </g>\r\n    <g id=\"patch_27\">\r\n     <path d=\"M 459.259375 53.594688 \r\nL 479.259375 53.594688 \r\nL 479.259375 46.594688 \r\nL 459.259375 46.594688 \r\nz\r\n\" style=\"fill:#ff7f0e;\"/>\r\n    </g>\r\n    <g id=\"text_20\">\r\n     <!-- train score -->\r\n     <g transform=\"translate(487.259375 53.594688)scale(0.1 -0.1)\">\r\n      <use xlink:href=\"#DejaVuSans-74\"/>\r\n      <use x=\"39.208984\" xlink:href=\"#DejaVuSans-72\"/>\r\n      <use x=\"80.322266\" xlink:href=\"#DejaVuSans-61\"/>\r\n      <use x=\"141.601562\" xlink:href=\"#DejaVuSans-69\"/>\r\n      <use x=\"169.384766\" xlink:href=\"#DejaVuSans-6e\"/>\r\n      <use x=\"232.763672\" xlink:href=\"#DejaVuSans-20\"/>\r\n      <use x=\"264.550781\" xlink:href=\"#DejaVuSans-73\"/>\r\n      <use x=\"316.650391\" xlink:href=\"#DejaVuSans-63\"/>\r\n      <use x=\"371.630859\" xlink:href=\"#DejaVuSans-6f\"/>\r\n      <use x=\"432.8125\" xlink:href=\"#DejaVuSans-72\"/>\r\n      <use x=\"471.675781\" xlink:href=\"#DejaVuSans-65\"/>\r\n     </g>\r\n    </g>\r\n   </g>\r\n  </g>\r\n </g>\r\n <defs>\r\n  <clipPath id=\"pb219b75512\">\r\n   <rect height=\"271.8\" width=\"390.6\" x=\"158.978125\" y=\"22.318125\"/>\r\n  </clipPath>\r\n </defs>\r\n</svg>\r\n",
      "image/png": "[encoded data removed]"
     },
     "metadata": {
      "needs_background": "light"
     }
    }
   ],
   "source": [
    "f, ax = plt.subplots(1, figsize=(7, 5))\n",
    "covid_cases_results.plot.barh(ax=ax)\n",
    "ax.set_title('R2 score for each model')\n",
    "ax.set_ylabel('r2 score')"
   ]
  },
  {
   "source": [
    "#### Based on the results we can see that all algorithms have pretty low test R2 score\n",
    "#### Decision tree with default parameters performed worst. All linear regression algorithms perform similarly and reached around 0.2 r2 score\n",
    "#### In conclusion, we cannot predict crime rates based on monthly covid cases"
   ],
   "cell_type": "markdown",
   "metadata": {}
  },
  {
   "source": [
    "#### Now we will use all columns and try to see if models perform better "
   ],
   "cell_type": "markdown",
   "metadata": {}
  },
  {
   "cell_type": "code",
   "execution_count": 44,
   "metadata": {},
   "outputs": [],
   "source": [
    "X = final_data.drop(labels=['year', 'month', 'Nusikalstamos veikos'], axis=1)\n",
    "Y = final_data['Nusikalstamos veikos']\n",
    "\n",
    "covid_results = evaluate_models(X, Y, models, r2_score, n_splits)"
   ]
  },
  {
   "cell_type": "code",
   "execution_count": 45,
   "metadata": {},
   "outputs": [
    {
     "output_type": "execute_result",
     "data": {
      "text/plain": [
       "Text(0.5, 1.0, 'Results')"
      ]
     },
     "metadata": {},
     "execution_count": 45
    },
    {
     "output_type": "display_data",
     "data": {
      "text/plain": "<Figure size 504x360 with 1 Axes>",
      "image/svg+xml": "<?xml version=\"1.0\" encoding=\"utf-8\" standalone=\"no\"?>\r\n<!DOCTYPE svg PUBLIC \"-//W3C//DTD SVG 1.1//EN\"\r\n  \"http://www.w3.org/Graphics/SVG/1.1/DTD/svg11.dtd\">\r\n<svg height=\"317.99625pt\" version=\"1.1\" viewBox=\"0 0 556.778125 317.99625\" width=\"556.778125pt\" xmlns=\"http://www.w3.org/2000/svg\" xmlns:xlink=\"http://www.w3.org/1999/xlink\">\r\n <metadata>\r\n  <rdf:RDF xmlns:cc=\"http://creativecommons.org/ns#\" xmlns:dc=\"http://purl.org/dc/elements/1.1/\" xmlns:rdf=\"http://www.w3.org/1999/02/22-rdf-syntax-ns#\">\r\n   <cc:Work>\r\n    <dc:type rdf:resource=\"http://purl.org/dc/dcmitype/StillImage\"/>\r\n    <dc:date>2021-10-12T23:30:33.981075</dc:date>\r\n    <dc:format>image/svg+xml</dc:format>\r\n    <dc:creator>\r\n     <cc:Agent>\r\n      <dc:title>Matplotlib v3.4.2, https://matplotlib.org/</dc:title>\r\n     </cc:Agent>\r\n    </dc:creator>\r\n   </cc:Work>\r\n  </rdf:RDF>\r\n </metadata>\r\n <defs>\r\n  <style type=\"text/css\">*{stroke-linecap:butt;stroke-linejoin:round;}</style>\r\n </defs>\r\n <g id=\"figure_1\">\r\n  <g id=\"patch_1\">\r\n   <path d=\"M 0 317.99625 \r\nL 556.778125 317.99625 \r\nL 556.778125 0 \r\nL 0 0 \r\nz\r\n\" style=\"fill:none;\"/>\r\n  </g>\r\n  <g id=\"axes_1\">\r\n   <g id=\"patch_2\">\r\n    <path d=\"M 158.978125 294.118125 \r\nL 549.578125 294.118125 \r\nL 549.578125 22.318125 \r\nL 158.978125 22.318125 \r\nz\r\n\" style=\"fill:#ffffff;\"/>\r\n   </g>\r\n   <g id=\"patch_3\">\r\n    <path clip-path=\"url(#p12b29b4230)\" d=\"M 158.978125 286.568125 \r\nL 474.114194 286.568125 \r\nL 474.114194 279.018125 \r\nL 158.978125 279.018125 \r\nz\r\n\" style=\"fill:#1f77b4;\"/>\r\n   </g>\r\n   <g id=\"patch_4\">\r\n    <path clip-path=\"url(#p12b29b4230)\" d=\"M 158.978125 256.368125 \r\nL 473.728481 256.368125 \r\nL 473.728481 248.818125 \r\nL 158.978125 248.818125 \r\nz\r\n\" style=\"fill:#1f77b4;\"/>\r\n   </g>\r\n   <g id=\"patch_5\">\r\n    <path clip-path=\"url(#p12b29b4230)\" d=\"M 158.978125 226.168125 \r\nL 420.578689 226.168125 \r\nL 420.578689 218.618125 \r\nL 158.978125 218.618125 \r\nz\r\n\" style=\"fill:#1f77b4;\"/>\r\n   </g>\r\n   <g id=\"patch_6\">\r\n    <path clip-path=\"url(#p12b29b4230)\" d=\"M 158.978125 195.968125 \r\nL 473.380819 195.968125 \r\nL 473.380819 188.418125 \r\nL 158.978125 188.418125 \r\nz\r\n\" style=\"fill:#1f77b4;\"/>\r\n   </g>\r\n   <g id=\"patch_7\">\r\n    <path clip-path=\"url(#p12b29b4230)\" d=\"M 158.978125 165.768125 \r\nL 440.558875 165.768125 \r\nL 440.558875 158.218125 \r\nL 158.978125 158.218125 \r\nz\r\n\" style=\"fill:#1f77b4;\"/>\r\n   </g>\r\n   <g id=\"patch_8\">\r\n    <path clip-path=\"url(#p12b29b4230)\" d=\"M 158.978125 135.568125 \r\nL 472.301775 135.568125 \r\nL 472.301775 128.018125 \r\nL 158.978125 128.018125 \r\nz\r\n\" style=\"fill:#1f77b4;\"/>\r\n   </g>\r\n   <g id=\"patch_9\">\r\n    <path clip-path=\"url(#p12b29b4230)\" d=\"M 158.978125 105.368125 \r\nL 478.038193 105.368125 \r\nL 478.038193 97.818125 \r\nL 158.978125 97.818125 \r\nz\r\n\" style=\"fill:#1f77b4;\"/>\r\n   </g>\r\n   <g id=\"patch_10\">\r\n    <path clip-path=\"url(#p12b29b4230)\" d=\"M 158.978125 75.168125 \r\nL 473.276071 75.168125 \r\nL 473.276071 67.618125 \r\nL 158.978125 67.618125 \r\nz\r\n\" style=\"fill:#1f77b4;\"/>\r\n   </g>\r\n   <g id=\"patch_11\">\r\n    <path clip-path=\"url(#p12b29b4230)\" d=\"M 158.978125 44.968125 \r\nL 474.029953 44.968125 \r\nL 474.029953 37.418125 \r\nL 158.978125 37.418125 \r\nz\r\n\" style=\"fill:#1f77b4;\"/>\r\n   </g>\r\n   <g id=\"patch_12\">\r\n    <path clip-path=\"url(#p12b29b4230)\" d=\"M 158.978125 279.018125 \r\nL 497.306352 279.018125 \r\nL 497.306352 271.468125 \r\nL 158.978125 271.468125 \r\nz\r\n\" style=\"fill:#ff7f0e;\"/>\r\n   </g>\r\n   <g id=\"patch_13\">\r\n    <path clip-path=\"url(#p12b29b4230)\" d=\"M 158.978125 248.818125 \r\nL 497.62023 248.818125 \r\nL 497.62023 241.268125 \r\nL 158.978125 241.268125 \r\nz\r\n\" style=\"fill:#ff7f0e;\"/>\r\n   </g>\r\n   <g id=\"patch_14\">\r\n    <path clip-path=\"url(#p12b29b4230)\" d=\"M 158.978125 218.618125 \r\nL 530.978125 218.618125 \r\nL 530.978125 211.068125 \r\nL 158.978125 211.068125 \r\nz\r\n\" style=\"fill:#ff7f0e;\"/>\r\n   </g>\r\n   <g id=\"patch_15\">\r\n    <path clip-path=\"url(#p12b29b4230)\" d=\"M 158.978125 188.418125 \r\nL 517.424995 188.418125 \r\nL 517.424995 180.868125 \r\nL 158.978125 180.868125 \r\nz\r\n\" style=\"fill:#ff7f0e;\"/>\r\n   </g>\r\n   <g id=\"patch_16\">\r\n    <path clip-path=\"url(#p12b29b4230)\" d=\"M 158.978125 158.218125 \r\nL 447.115366 158.218125 \r\nL 447.115366 150.668125 \r\nL 158.978125 150.668125 \r\nz\r\n\" style=\"fill:#ff7f0e;\"/>\r\n   </g>\r\n   <g id=\"patch_17\">\r\n    <path clip-path=\"url(#p12b29b4230)\" d=\"M 158.978125 128.018125 \r\nL 488.071011 128.018125 \r\nL 488.071011 120.468125 \r\nL 158.978125 120.468125 \r\nz\r\n\" style=\"fill:#ff7f0e;\"/>\r\n   </g>\r\n   <g id=\"patch_18\">\r\n    <path clip-path=\"url(#p12b29b4230)\" d=\"M 158.978125 97.818125 \r\nL 496.031505 97.818125 \r\nL 496.031505 90.268125 \r\nL 158.978125 90.268125 \r\nz\r\n\" style=\"fill:#ff7f0e;\"/>\r\n   </g>\r\n   <g id=\"patch_19\">\r\n    <path clip-path=\"url(#p12b29b4230)\" d=\"M 158.978125 67.618125 \r\nL 497.680457 67.618125 \r\nL 497.680457 60.068125 \r\nL 158.978125 60.068125 \r\nz\r\n\" style=\"fill:#ff7f0e;\"/>\r\n   </g>\r\n   <g id=\"patch_20\">\r\n    <path clip-path=\"url(#p12b29b4230)\" d=\"M 158.978125 37.418125 \r\nL 497.587158 37.418125 \r\nL 497.587158 29.868125 \r\nL 158.978125 29.868125 \r\nz\r\n\" style=\"fill:#ff7f0e;\"/>\r\n   </g>\r\n   <g id=\"matplotlib.axis_1\">\r\n    <g id=\"xtick_1\">\r\n     <g id=\"line2d_1\">\r\n      <defs>\r\n       <path d=\"M 0 0 \r\nL 0 3.5 \r\n\" id=\"m0c4fd97225\" style=\"stroke:#000000;stroke-width:0.8;\"/>\r\n      </defs>\r\n      <g>\r\n       <use style=\"stroke:#000000;stroke-width:0.8;\" x=\"158.978125\" xlink:href=\"#m0c4fd97225\" y=\"294.118125\"/>\r\n      </g>\r\n     </g>\r\n     <g id=\"text_1\">\r\n      <!-- 0.0 -->\r\n      <g transform=\"translate(151.026563 308.716563)scale(0.1 -0.1)\">\r\n       <defs>\r\n        <path d=\"M 2034 4250 \r\nQ 1547 4250 1301 3770 \r\nQ 1056 3291 1056 2328 \r\nQ 1056 1369 1301 889 \r\nQ 1547 409 2034 409 \r\nQ 2525 409 2770 889 \r\nQ 3016 1369 3016 2328 \r\nQ 3016 3291 2770 3770 \r\nQ 2525 4250 2034 4250 \r\nz\r\nM 2034 4750 \r\nQ 2819 4750 3233 4129 \r\nQ 3647 3509 3647 2328 \r\nQ 3647 1150 3233 529 \r\nQ 2819 -91 2034 -91 \r\nQ 1250 -91 836 529 \r\nQ 422 1150 422 2328 \r\nQ 422 3509 836 4129 \r\nQ 1250 4750 2034 4750 \r\nz\r\n\" id=\"DejaVuSans-30\" transform=\"scale(0.015625)\"/>\r\n        <path d=\"M 684 794 \r\nL 1344 794 \r\nL 1344 0 \r\nL 684 0 \r\nL 684 794 \r\nz\r\n\" id=\"DejaVuSans-2e\" transform=\"scale(0.015625)\"/>\r\n       </defs>\r\n       <use xlink:href=\"#DejaVuSans-30\"/>\r\n       <use x=\"63.623047\" xlink:href=\"#DejaVuSans-2e\"/>\r\n       <use x=\"95.410156\" xlink:href=\"#DejaVuSans-30\"/>\r\n      </g>\r\n     </g>\r\n    </g>\r\n    <g id=\"xtick_2\">\r\n     <g id=\"line2d_2\">\r\n      <g>\r\n       <use style=\"stroke:#000000;stroke-width:0.8;\" x=\"233.378125\" xlink:href=\"#m0c4fd97225\" y=\"294.118125\"/>\r\n      </g>\r\n     </g>\r\n     <g id=\"text_2\">\r\n      <!-- 0.2 -->\r\n      <g transform=\"translate(225.426563 308.716563)scale(0.1 -0.1)\">\r\n       <defs>\r\n        <path d=\"M 1228 531 \r\nL 3431 531 \r\nL 3431 0 \r\nL 469 0 \r\nL 469 531 \r\nQ 828 903 1448 1529 \r\nQ 2069 2156 2228 2338 \r\nQ 2531 2678 2651 2914 \r\nQ 2772 3150 2772 3378 \r\nQ 2772 3750 2511 3984 \r\nQ 2250 4219 1831 4219 \r\nQ 1534 4219 1204 4116 \r\nQ 875 4013 500 3803 \r\nL 500 4441 \r\nQ 881 4594 1212 4672 \r\nQ 1544 4750 1819 4750 \r\nQ 2544 4750 2975 4387 \r\nQ 3406 4025 3406 3419 \r\nQ 3406 3131 3298 2873 \r\nQ 3191 2616 2906 2266 \r\nQ 2828 2175 2409 1742 \r\nQ 1991 1309 1228 531 \r\nz\r\n\" id=\"DejaVuSans-32\" transform=\"scale(0.015625)\"/>\r\n       </defs>\r\n       <use xlink:href=\"#DejaVuSans-30\"/>\r\n       <use x=\"63.623047\" xlink:href=\"#DejaVuSans-2e\"/>\r\n       <use x=\"95.410156\" xlink:href=\"#DejaVuSans-32\"/>\r\n      </g>\r\n     </g>\r\n    </g>\r\n    <g id=\"xtick_3\">\r\n     <g id=\"line2d_3\">\r\n      <g>\r\n       <use style=\"stroke:#000000;stroke-width:0.8;\" x=\"307.778125\" xlink:href=\"#m0c4fd97225\" y=\"294.118125\"/>\r\n      </g>\r\n     </g>\r\n     <g id=\"text_3\">\r\n      <!-- 0.4 -->\r\n      <g transform=\"translate(299.826563 308.716563)scale(0.1 -0.1)\">\r\n       <defs>\r\n        <path d=\"M 2419 4116 \r\nL 825 1625 \r\nL 2419 1625 \r\nL 2419 4116 \r\nz\r\nM 2253 4666 \r\nL 3047 4666 \r\nL 3047 1625 \r\nL 3713 1625 \r\nL 3713 1100 \r\nL 3047 1100 \r\nL 3047 0 \r\nL 2419 0 \r\nL 2419 1100 \r\nL 313 1100 \r\nL 313 1709 \r\nL 2253 4666 \r\nz\r\n\" id=\"DejaVuSans-34\" transform=\"scale(0.015625)\"/>\r\n       </defs>\r\n       <use xlink:href=\"#DejaVuSans-30\"/>\r\n       <use x=\"63.623047\" xlink:href=\"#DejaVuSans-2e\"/>\r\n       <use x=\"95.410156\" xlink:href=\"#DejaVuSans-34\"/>\r\n      </g>\r\n     </g>\r\n    </g>\r\n    <g id=\"xtick_4\">\r\n     <g id=\"line2d_4\">\r\n      <g>\r\n       <use style=\"stroke:#000000;stroke-width:0.8;\" x=\"382.178125\" xlink:href=\"#m0c4fd97225\" y=\"294.118125\"/>\r\n      </g>\r\n     </g>\r\n     <g id=\"text_4\">\r\n      <!-- 0.6 -->\r\n      <g transform=\"translate(374.226562 308.716563)scale(0.1 -0.1)\">\r\n       <defs>\r\n        <path d=\"M 2113 2584 \r\nQ 1688 2584 1439 2293 \r\nQ 1191 2003 1191 1497 \r\nQ 1191 994 1439 701 \r\nQ 1688 409 2113 409 \r\nQ 2538 409 2786 701 \r\nQ 3034 994 3034 1497 \r\nQ 3034 2003 2786 2293 \r\nQ 2538 2584 2113 2584 \r\nz\r\nM 3366 4563 \r\nL 3366 3988 \r\nQ 3128 4100 2886 4159 \r\nQ 2644 4219 2406 4219 \r\nQ 1781 4219 1451 3797 \r\nQ 1122 3375 1075 2522 \r\nQ 1259 2794 1537 2939 \r\nQ 1816 3084 2150 3084 \r\nQ 2853 3084 3261 2657 \r\nQ 3669 2231 3669 1497 \r\nQ 3669 778 3244 343 \r\nQ 2819 -91 2113 -91 \r\nQ 1303 -91 875 529 \r\nQ 447 1150 447 2328 \r\nQ 447 3434 972 4092 \r\nQ 1497 4750 2381 4750 \r\nQ 2619 4750 2861 4703 \r\nQ 3103 4656 3366 4563 \r\nz\r\n\" id=\"DejaVuSans-36\" transform=\"scale(0.015625)\"/>\r\n       </defs>\r\n       <use xlink:href=\"#DejaVuSans-30\"/>\r\n       <use x=\"63.623047\" xlink:href=\"#DejaVuSans-2e\"/>\r\n       <use x=\"95.410156\" xlink:href=\"#DejaVuSans-36\"/>\r\n      </g>\r\n     </g>\r\n    </g>\r\n    <g id=\"xtick_5\">\r\n     <g id=\"line2d_5\">\r\n      <g>\r\n       <use style=\"stroke:#000000;stroke-width:0.8;\" x=\"456.578125\" xlink:href=\"#m0c4fd97225\" y=\"294.118125\"/>\r\n      </g>\r\n     </g>\r\n     <g id=\"text_5\">\r\n      <!-- 0.8 -->\r\n      <g transform=\"translate(448.626562 308.716563)scale(0.1 -0.1)\">\r\n       <defs>\r\n        <path d=\"M 2034 2216 \r\nQ 1584 2216 1326 1975 \r\nQ 1069 1734 1069 1313 \r\nQ 1069 891 1326 650 \r\nQ 1584 409 2034 409 \r\nQ 2484 409 2743 651 \r\nQ 3003 894 3003 1313 \r\nQ 3003 1734 2745 1975 \r\nQ 2488 2216 2034 2216 \r\nz\r\nM 1403 2484 \r\nQ 997 2584 770 2862 \r\nQ 544 3141 544 3541 \r\nQ 544 4100 942 4425 \r\nQ 1341 4750 2034 4750 \r\nQ 2731 4750 3128 4425 \r\nQ 3525 4100 3525 3541 \r\nQ 3525 3141 3298 2862 \r\nQ 3072 2584 2669 2484 \r\nQ 3125 2378 3379 2068 \r\nQ 3634 1759 3634 1313 \r\nQ 3634 634 3220 271 \r\nQ 2806 -91 2034 -91 \r\nQ 1263 -91 848 271 \r\nQ 434 634 434 1313 \r\nQ 434 1759 690 2068 \r\nQ 947 2378 1403 2484 \r\nz\r\nM 1172 3481 \r\nQ 1172 3119 1398 2916 \r\nQ 1625 2713 2034 2713 \r\nQ 2441 2713 2670 2916 \r\nQ 2900 3119 2900 3481 \r\nQ 2900 3844 2670 4047 \r\nQ 2441 4250 2034 4250 \r\nQ 1625 4250 1398 4047 \r\nQ 1172 3844 1172 3481 \r\nz\r\n\" id=\"DejaVuSans-38\" transform=\"scale(0.015625)\"/>\r\n       </defs>\r\n       <use xlink:href=\"#DejaVuSans-30\"/>\r\n       <use x=\"63.623047\" xlink:href=\"#DejaVuSans-2e\"/>\r\n       <use x=\"95.410156\" xlink:href=\"#DejaVuSans-38\"/>\r\n      </g>\r\n     </g>\r\n    </g>\r\n    <g id=\"xtick_6\">\r\n     <g id=\"line2d_6\">\r\n      <g>\r\n       <use style=\"stroke:#000000;stroke-width:0.8;\" x=\"530.978125\" xlink:href=\"#m0c4fd97225\" y=\"294.118125\"/>\r\n      </g>\r\n     </g>\r\n     <g id=\"text_6\">\r\n      <!-- 1.0 -->\r\n      <g transform=\"translate(523.026562 308.716563)scale(0.1 -0.1)\">\r\n       <defs>\r\n        <path d=\"M 794 531 \r\nL 1825 531 \r\nL 1825 4091 \r\nL 703 3866 \r\nL 703 4441 \r\nL 1819 4666 \r\nL 2450 4666 \r\nL 2450 531 \r\nL 3481 531 \r\nL 3481 0 \r\nL 794 0 \r\nL 794 531 \r\nz\r\n\" id=\"DejaVuSans-31\" transform=\"scale(0.015625)\"/>\r\n       </defs>\r\n       <use xlink:href=\"#DejaVuSans-31\"/>\r\n       <use x=\"63.623047\" xlink:href=\"#DejaVuSans-2e\"/>\r\n       <use x=\"95.410156\" xlink:href=\"#DejaVuSans-30\"/>\r\n      </g>\r\n     </g>\r\n    </g>\r\n   </g>\r\n   <g id=\"matplotlib.axis_2\">\r\n    <g id=\"ytick_1\">\r\n     <g id=\"line2d_7\">\r\n      <defs>\r\n       <path d=\"M 0 0 \r\nL -3.5 0 \r\n\" id=\"m399f231f41\" style=\"stroke:#000000;stroke-width:0.8;\"/>\r\n      </defs>\r\n      <g>\r\n       <use style=\"stroke:#000000;stroke-width:0.8;\" x=\"158.978125\" xlink:href=\"#m399f231f41\" y=\"279.018125\"/>\r\n      </g>\r\n     </g>\r\n     <g id=\"text_7\">\r\n      <!-- ARDRegression -->\r\n      <g transform=\"translate(75.796875 282.817344)scale(0.1 -0.1)\">\r\n       <defs>\r\n        <path d=\"M 2188 4044 \r\nL 1331 1722 \r\nL 3047 1722 \r\nL 2188 4044 \r\nz\r\nM 1831 4666 \r\nL 2547 4666 \r\nL 4325 0 \r\nL 3669 0 \r\nL 3244 1197 \r\nL 1141 1197 \r\nL 716 0 \r\nL 50 0 \r\nL 1831 4666 \r\nz\r\n\" id=\"DejaVuSans-41\" transform=\"scale(0.015625)\"/>\r\n        <path d=\"M 2841 2188 \r\nQ 3044 2119 3236 1894 \r\nQ 3428 1669 3622 1275 \r\nL 4263 0 \r\nL 3584 0 \r\nL 2988 1197 \r\nQ 2756 1666 2539 1819 \r\nQ 2322 1972 1947 1972 \r\nL 1259 1972 \r\nL 1259 0 \r\nL 628 0 \r\nL 628 4666 \r\nL 2053 4666 \r\nQ 2853 4666 3247 4331 \r\nQ 3641 3997 3641 3322 \r\nQ 3641 2881 3436 2590 \r\nQ 3231 2300 2841 2188 \r\nz\r\nM 1259 4147 \r\nL 1259 2491 \r\nL 2053 2491 \r\nQ 2509 2491 2742 2702 \r\nQ 2975 2913 2975 3322 \r\nQ 2975 3731 2742 3939 \r\nQ 2509 4147 2053 4147 \r\nL 1259 4147 \r\nz\r\n\" id=\"DejaVuSans-52\" transform=\"scale(0.015625)\"/>\r\n        <path d=\"M 1259 4147 \r\nL 1259 519 \r\nL 2022 519 \r\nQ 2988 519 3436 956 \r\nQ 3884 1394 3884 2338 \r\nQ 3884 3275 3436 3711 \r\nQ 2988 4147 2022 4147 \r\nL 1259 4147 \r\nz\r\nM 628 4666 \r\nL 1925 4666 \r\nQ 3281 4666 3915 4102 \r\nQ 4550 3538 4550 2338 \r\nQ 4550 1131 3912 565 \r\nQ 3275 0 1925 0 \r\nL 628 0 \r\nL 628 4666 \r\nz\r\n\" id=\"DejaVuSans-44\" transform=\"scale(0.015625)\"/>\r\n        <path d=\"M 3597 1894 \r\nL 3597 1613 \r\nL 953 1613 \r\nQ 991 1019 1311 708 \r\nQ 1631 397 2203 397 \r\nQ 2534 397 2845 478 \r\nQ 3156 559 3463 722 \r\nL 3463 178 \r\nQ 3153 47 2828 -22 \r\nQ 2503 -91 2169 -91 \r\nQ 1331 -91 842 396 \r\nQ 353 884 353 1716 \r\nQ 353 2575 817 3079 \r\nQ 1281 3584 2069 3584 \r\nQ 2775 3584 3186 3129 \r\nQ 3597 2675 3597 1894 \r\nz\r\nM 3022 2063 \r\nQ 3016 2534 2758 2815 \r\nQ 2500 3097 2075 3097 \r\nQ 1594 3097 1305 2825 \r\nQ 1016 2553 972 2059 \r\nL 3022 2063 \r\nz\r\n\" id=\"DejaVuSans-65\" transform=\"scale(0.015625)\"/>\r\n        <path d=\"M 2906 1791 \r\nQ 2906 2416 2648 2759 \r\nQ 2391 3103 1925 3103 \r\nQ 1463 3103 1205 2759 \r\nQ 947 2416 947 1791 \r\nQ 947 1169 1205 825 \r\nQ 1463 481 1925 481 \r\nQ 2391 481 2648 825 \r\nQ 2906 1169 2906 1791 \r\nz\r\nM 3481 434 \r\nQ 3481 -459 3084 -895 \r\nQ 2688 -1331 1869 -1331 \r\nQ 1566 -1331 1297 -1286 \r\nQ 1028 -1241 775 -1147 \r\nL 775 -588 \r\nQ 1028 -725 1275 -790 \r\nQ 1522 -856 1778 -856 \r\nQ 2344 -856 2625 -561 \r\nQ 2906 -266 2906 331 \r\nL 2906 616 \r\nQ 2728 306 2450 153 \r\nQ 2172 0 1784 0 \r\nQ 1141 0 747 490 \r\nQ 353 981 353 1791 \r\nQ 353 2603 747 3093 \r\nQ 1141 3584 1784 3584 \r\nQ 2172 3584 2450 3431 \r\nQ 2728 3278 2906 2969 \r\nL 2906 3500 \r\nL 3481 3500 \r\nL 3481 434 \r\nz\r\n\" id=\"DejaVuSans-67\" transform=\"scale(0.015625)\"/>\r\n        <path d=\"M 2631 2963 \r\nQ 2534 3019 2420 3045 \r\nQ 2306 3072 2169 3072 \r\nQ 1681 3072 1420 2755 \r\nQ 1159 2438 1159 1844 \r\nL 1159 0 \r\nL 581 0 \r\nL 581 3500 \r\nL 1159 3500 \r\nL 1159 2956 \r\nQ 1341 3275 1631 3429 \r\nQ 1922 3584 2338 3584 \r\nQ 2397 3584 2469 3576 \r\nQ 2541 3569 2628 3553 \r\nL 2631 2963 \r\nz\r\n\" id=\"DejaVuSans-72\" transform=\"scale(0.015625)\"/>\r\n        <path d=\"M 2834 3397 \r\nL 2834 2853 \r\nQ 2591 2978 2328 3040 \r\nQ 2066 3103 1784 3103 \r\nQ 1356 3103 1142 2972 \r\nQ 928 2841 928 2578 \r\nQ 928 2378 1081 2264 \r\nQ 1234 2150 1697 2047 \r\nL 1894 2003 \r\nQ 2506 1872 2764 1633 \r\nQ 3022 1394 3022 966 \r\nQ 3022 478 2636 193 \r\nQ 2250 -91 1575 -91 \r\nQ 1294 -91 989 -36 \r\nQ 684 19 347 128 \r\nL 347 722 \r\nQ 666 556 975 473 \r\nQ 1284 391 1588 391 \r\nQ 1994 391 2212 530 \r\nQ 2431 669 2431 922 \r\nQ 2431 1156 2273 1281 \r\nQ 2116 1406 1581 1522 \r\nL 1381 1569 \r\nQ 847 1681 609 1914 \r\nQ 372 2147 372 2553 \r\nQ 372 3047 722 3315 \r\nQ 1072 3584 1716 3584 \r\nQ 2034 3584 2315 3537 \r\nQ 2597 3491 2834 3397 \r\nz\r\n\" id=\"DejaVuSans-73\" transform=\"scale(0.015625)\"/>\r\n        <path d=\"M 603 3500 \r\nL 1178 3500 \r\nL 1178 0 \r\nL 603 0 \r\nL 603 3500 \r\nz\r\nM 603 4863 \r\nL 1178 4863 \r\nL 1178 4134 \r\nL 603 4134 \r\nL 603 4863 \r\nz\r\n\" id=\"DejaVuSans-69\" transform=\"scale(0.015625)\"/>\r\n        <path d=\"M 1959 3097 \r\nQ 1497 3097 1228 2736 \r\nQ 959 2375 959 1747 \r\nQ 959 1119 1226 758 \r\nQ 1494 397 1959 397 \r\nQ 2419 397 2687 759 \r\nQ 2956 1122 2956 1747 \r\nQ 2956 2369 2687 2733 \r\nQ 2419 3097 1959 3097 \r\nz\r\nM 1959 3584 \r\nQ 2709 3584 3137 3096 \r\nQ 3566 2609 3566 1747 \r\nQ 3566 888 3137 398 \r\nQ 2709 -91 1959 -91 \r\nQ 1206 -91 779 398 \r\nQ 353 888 353 1747 \r\nQ 353 2609 779 3096 \r\nQ 1206 3584 1959 3584 \r\nz\r\n\" id=\"DejaVuSans-6f\" transform=\"scale(0.015625)\"/>\r\n        <path d=\"M 3513 2113 \r\nL 3513 0 \r\nL 2938 0 \r\nL 2938 2094 \r\nQ 2938 2591 2744 2837 \r\nQ 2550 3084 2163 3084 \r\nQ 1697 3084 1428 2787 \r\nQ 1159 2491 1159 1978 \r\nL 1159 0 \r\nL 581 0 \r\nL 581 3500 \r\nL 1159 3500 \r\nL 1159 2956 \r\nQ 1366 3272 1645 3428 \r\nQ 1925 3584 2291 3584 \r\nQ 2894 3584 3203 3211 \r\nQ 3513 2838 3513 2113 \r\nz\r\n\" id=\"DejaVuSans-6e\" transform=\"scale(0.015625)\"/>\r\n       </defs>\r\n       <use xlink:href=\"#DejaVuSans-41\"/>\r\n       <use x=\"68.408203\" xlink:href=\"#DejaVuSans-52\"/>\r\n       <use x=\"137.890625\" xlink:href=\"#DejaVuSans-44\"/>\r\n       <use x=\"214.892578\" xlink:href=\"#DejaVuSans-52\"/>\r\n       <use x=\"279.875\" xlink:href=\"#DejaVuSans-65\"/>\r\n       <use x=\"341.398438\" xlink:href=\"#DejaVuSans-67\"/>\r\n       <use x=\"404.875\" xlink:href=\"#DejaVuSans-72\"/>\r\n       <use x=\"443.738281\" xlink:href=\"#DejaVuSans-65\"/>\r\n       <use x=\"505.261719\" xlink:href=\"#DejaVuSans-73\"/>\r\n       <use x=\"557.361328\" xlink:href=\"#DejaVuSans-73\"/>\r\n       <use x=\"609.460938\" xlink:href=\"#DejaVuSans-69\"/>\r\n       <use x=\"637.244141\" xlink:href=\"#DejaVuSans-6f\"/>\r\n       <use x=\"698.425781\" xlink:href=\"#DejaVuSans-6e\"/>\r\n      </g>\r\n     </g>\r\n    </g>\r\n    <g id=\"ytick_2\">\r\n     <g id=\"line2d_8\">\r\n      <g>\r\n       <use style=\"stroke:#000000;stroke-width:0.8;\" x=\"158.978125\" xlink:href=\"#m399f231f41\" y=\"248.818125\"/>\r\n      </g>\r\n     </g>\r\n     <g id=\"text_8\">\r\n      <!-- BayesianRidge -->\r\n      <g transform=\"translate(77.8875 252.617344)scale(0.1 -0.1)\">\r\n       <defs>\r\n        <path d=\"M 1259 2228 \r\nL 1259 519 \r\nL 2272 519 \r\nQ 2781 519 3026 730 \r\nQ 3272 941 3272 1375 \r\nQ 3272 1813 3026 2020 \r\nQ 2781 2228 2272 2228 \r\nL 1259 2228 \r\nz\r\nM 1259 4147 \r\nL 1259 2741 \r\nL 2194 2741 \r\nQ 2656 2741 2882 2914 \r\nQ 3109 3088 3109 3444 \r\nQ 3109 3797 2882 3972 \r\nQ 2656 4147 2194 4147 \r\nL 1259 4147 \r\nz\r\nM 628 4666 \r\nL 2241 4666 \r\nQ 2963 4666 3353 4366 \r\nQ 3744 4066 3744 3513 \r\nQ 3744 3084 3544 2831 \r\nQ 3344 2578 2956 2516 \r\nQ 3422 2416 3680 2098 \r\nQ 3938 1781 3938 1306 \r\nQ 3938 681 3513 340 \r\nQ 3088 0 2303 0 \r\nL 628 0 \r\nL 628 4666 \r\nz\r\n\" id=\"DejaVuSans-42\" transform=\"scale(0.015625)\"/>\r\n        <path d=\"M 2194 1759 \r\nQ 1497 1759 1228 1600 \r\nQ 959 1441 959 1056 \r\nQ 959 750 1161 570 \r\nQ 1363 391 1709 391 \r\nQ 2188 391 2477 730 \r\nQ 2766 1069 2766 1631 \r\nL 2766 1759 \r\nL 2194 1759 \r\nz\r\nM 3341 1997 \r\nL 3341 0 \r\nL 2766 0 \r\nL 2766 531 \r\nQ 2569 213 2275 61 \r\nQ 1981 -91 1556 -91 \r\nQ 1019 -91 701 211 \r\nQ 384 513 384 1019 \r\nQ 384 1609 779 1909 \r\nQ 1175 2209 1959 2209 \r\nL 2766 2209 \r\nL 2766 2266 \r\nQ 2766 2663 2505 2880 \r\nQ 2244 3097 1772 3097 \r\nQ 1472 3097 1187 3025 \r\nQ 903 2953 641 2809 \r\nL 641 3341 \r\nQ 956 3463 1253 3523 \r\nQ 1550 3584 1831 3584 \r\nQ 2591 3584 2966 3190 \r\nQ 3341 2797 3341 1997 \r\nz\r\n\" id=\"DejaVuSans-61\" transform=\"scale(0.015625)\"/>\r\n        <path d=\"M 2059 -325 \r\nQ 1816 -950 1584 -1140 \r\nQ 1353 -1331 966 -1331 \r\nL 506 -1331 \r\nL 506 -850 \r\nL 844 -850 \r\nQ 1081 -850 1212 -737 \r\nQ 1344 -625 1503 -206 \r\nL 1606 56 \r\nL 191 3500 \r\nL 800 3500 \r\nL 1894 763 \r\nL 2988 3500 \r\nL 3597 3500 \r\nL 2059 -325 \r\nz\r\n\" id=\"DejaVuSans-79\" transform=\"scale(0.015625)\"/>\r\n        <path d=\"M 2906 2969 \r\nL 2906 4863 \r\nL 3481 4863 \r\nL 3481 0 \r\nL 2906 0 \r\nL 2906 525 \r\nQ 2725 213 2448 61 \r\nQ 2172 -91 1784 -91 \r\nQ 1150 -91 751 415 \r\nQ 353 922 353 1747 \r\nQ 353 2572 751 3078 \r\nQ 1150 3584 1784 3584 \r\nQ 2172 3584 2448 3432 \r\nQ 2725 3281 2906 2969 \r\nz\r\nM 947 1747 \r\nQ 947 1113 1208 752 \r\nQ 1469 391 1925 391 \r\nQ 2381 391 2643 752 \r\nQ 2906 1113 2906 1747 \r\nQ 2906 2381 2643 2742 \r\nQ 2381 3103 1925 3103 \r\nQ 1469 3103 1208 2742 \r\nQ 947 2381 947 1747 \r\nz\r\n\" id=\"DejaVuSans-64\" transform=\"scale(0.015625)\"/>\r\n       </defs>\r\n       <use xlink:href=\"#DejaVuSans-42\"/>\r\n       <use x=\"68.603516\" xlink:href=\"#DejaVuSans-61\"/>\r\n       <use x=\"129.882812\" xlink:href=\"#DejaVuSans-79\"/>\r\n       <use x=\"189.0625\" xlink:href=\"#DejaVuSans-65\"/>\r\n       <use x=\"250.585938\" xlink:href=\"#DejaVuSans-73\"/>\r\n       <use x=\"302.685547\" xlink:href=\"#DejaVuSans-69\"/>\r\n       <use x=\"330.46875\" xlink:href=\"#DejaVuSans-61\"/>\r\n       <use x=\"391.748047\" xlink:href=\"#DejaVuSans-6e\"/>\r\n       <use x=\"455.126953\" xlink:href=\"#DejaVuSans-52\"/>\r\n       <use x=\"524.609375\" xlink:href=\"#DejaVuSans-69\"/>\r\n       <use x=\"552.392578\" xlink:href=\"#DejaVuSans-64\"/>\r\n       <use x=\"615.869141\" xlink:href=\"#DejaVuSans-67\"/>\r\n       <use x=\"679.345703\" xlink:href=\"#DejaVuSans-65\"/>\r\n      </g>\r\n     </g>\r\n    </g>\r\n    <g id=\"ytick_3\">\r\n     <g id=\"line2d_9\">\r\n      <g>\r\n       <use style=\"stroke:#000000;stroke-width:0.8;\" x=\"158.978125\" xlink:href=\"#m399f231f41\" y=\"218.618125\"/>\r\n      </g>\r\n     </g>\r\n     <g id=\"text_9\">\r\n      <!-- Decision tree -->\r\n      <g transform=\"translate(86.114063 222.417344)scale(0.1 -0.1)\">\r\n       <defs>\r\n        <path d=\"M 3122 3366 \r\nL 3122 2828 \r\nQ 2878 2963 2633 3030 \r\nQ 2388 3097 2138 3097 \r\nQ 1578 3097 1268 2742 \r\nQ 959 2388 959 1747 \r\nQ 959 1106 1268 751 \r\nQ 1578 397 2138 397 \r\nQ 2388 397 2633 464 \r\nQ 2878 531 3122 666 \r\nL 3122 134 \r\nQ 2881 22 2623 -34 \r\nQ 2366 -91 2075 -91 \r\nQ 1284 -91 818 406 \r\nQ 353 903 353 1747 \r\nQ 353 2603 823 3093 \r\nQ 1294 3584 2113 3584 \r\nQ 2378 3584 2631 3529 \r\nQ 2884 3475 3122 3366 \r\nz\r\n\" id=\"DejaVuSans-63\" transform=\"scale(0.015625)\"/>\r\n        <path id=\"DejaVuSans-20\" transform=\"scale(0.015625)\"/>\r\n        <path d=\"M 1172 4494 \r\nL 1172 3500 \r\nL 2356 3500 \r\nL 2356 3053 \r\nL 1172 3053 \r\nL 1172 1153 \r\nQ 1172 725 1289 603 \r\nQ 1406 481 1766 481 \r\nL 2356 481 \r\nL 2356 0 \r\nL 1766 0 \r\nQ 1100 0 847 248 \r\nQ 594 497 594 1153 \r\nL 594 3053 \r\nL 172 3053 \r\nL 172 3500 \r\nL 594 3500 \r\nL 594 4494 \r\nL 1172 4494 \r\nz\r\n\" id=\"DejaVuSans-74\" transform=\"scale(0.015625)\"/>\r\n       </defs>\r\n       <use xlink:href=\"#DejaVuSans-44\"/>\r\n       <use x=\"77.001953\" xlink:href=\"#DejaVuSans-65\"/>\r\n       <use x=\"138.525391\" xlink:href=\"#DejaVuSans-63\"/>\r\n       <use x=\"193.505859\" xlink:href=\"#DejaVuSans-69\"/>\r\n       <use x=\"221.289062\" xlink:href=\"#DejaVuSans-73\"/>\r\n       <use x=\"273.388672\" xlink:href=\"#DejaVuSans-69\"/>\r\n       <use x=\"301.171875\" xlink:href=\"#DejaVuSans-6f\"/>\r\n       <use x=\"362.353516\" xlink:href=\"#DejaVuSans-6e\"/>\r\n       <use x=\"425.732422\" xlink:href=\"#DejaVuSans-20\"/>\r\n       <use x=\"457.519531\" xlink:href=\"#DejaVuSans-74\"/>\r\n       <use x=\"496.728516\" xlink:href=\"#DejaVuSans-72\"/>\r\n       <use x=\"535.591797\" xlink:href=\"#DejaVuSans-65\"/>\r\n       <use x=\"597.115234\" xlink:href=\"#DejaVuSans-65\"/>\r\n      </g>\r\n     </g>\r\n    </g>\r\n    <g id=\"ytick_4\">\r\n     <g id=\"line2d_10\">\r\n      <g>\r\n       <use style=\"stroke:#000000;stroke-width:0.8;\" x=\"158.978125\" xlink:href=\"#m399f231f41\" y=\"188.418125\"/>\r\n      </g>\r\n     </g>\r\n     <g id=\"text_10\">\r\n      <!-- Decision tree with params -->\r\n      <g transform=\"translate(20.878125 192.217344)scale(0.1 -0.1)\">\r\n       <defs>\r\n        <path d=\"M 269 3500 \r\nL 844 3500 \r\nL 1563 769 \r\nL 2278 3500 \r\nL 2956 3500 \r\nL 3675 769 \r\nL 4391 3500 \r\nL 4966 3500 \r\nL 4050 0 \r\nL 3372 0 \r\nL 2619 2869 \r\nL 1863 0 \r\nL 1184 0 \r\nL 269 3500 \r\nz\r\n\" id=\"DejaVuSans-77\" transform=\"scale(0.015625)\"/>\r\n        <path d=\"M 3513 2113 \r\nL 3513 0 \r\nL 2938 0 \r\nL 2938 2094 \r\nQ 2938 2591 2744 2837 \r\nQ 2550 3084 2163 3084 \r\nQ 1697 3084 1428 2787 \r\nQ 1159 2491 1159 1978 \r\nL 1159 0 \r\nL 581 0 \r\nL 581 4863 \r\nL 1159 4863 \r\nL 1159 2956 \r\nQ 1366 3272 1645 3428 \r\nQ 1925 3584 2291 3584 \r\nQ 2894 3584 3203 3211 \r\nQ 3513 2838 3513 2113 \r\nz\r\n\" id=\"DejaVuSans-68\" transform=\"scale(0.015625)\"/>\r\n        <path d=\"M 1159 525 \r\nL 1159 -1331 \r\nL 581 -1331 \r\nL 581 3500 \r\nL 1159 3500 \r\nL 1159 2969 \r\nQ 1341 3281 1617 3432 \r\nQ 1894 3584 2278 3584 \r\nQ 2916 3584 3314 3078 \r\nQ 3713 2572 3713 1747 \r\nQ 3713 922 3314 415 \r\nQ 2916 -91 2278 -91 \r\nQ 1894 -91 1617 61 \r\nQ 1341 213 1159 525 \r\nz\r\nM 3116 1747 \r\nQ 3116 2381 2855 2742 \r\nQ 2594 3103 2138 3103 \r\nQ 1681 3103 1420 2742 \r\nQ 1159 2381 1159 1747 \r\nQ 1159 1113 1420 752 \r\nQ 1681 391 2138 391 \r\nQ 2594 391 2855 752 \r\nQ 3116 1113 3116 1747 \r\nz\r\n\" id=\"DejaVuSans-70\" transform=\"scale(0.015625)\"/>\r\n        <path d=\"M 3328 2828 \r\nQ 3544 3216 3844 3400 \r\nQ 4144 3584 4550 3584 \r\nQ 5097 3584 5394 3201 \r\nQ 5691 2819 5691 2113 \r\nL 5691 0 \r\nL 5113 0 \r\nL 5113 2094 \r\nQ 5113 2597 4934 2840 \r\nQ 4756 3084 4391 3084 \r\nQ 3944 3084 3684 2787 \r\nQ 3425 2491 3425 1978 \r\nL 3425 0 \r\nL 2847 0 \r\nL 2847 2094 \r\nQ 2847 2600 2669 2842 \r\nQ 2491 3084 2119 3084 \r\nQ 1678 3084 1418 2786 \r\nQ 1159 2488 1159 1978 \r\nL 1159 0 \r\nL 581 0 \r\nL 581 3500 \r\nL 1159 3500 \r\nL 1159 2956 \r\nQ 1356 3278 1631 3431 \r\nQ 1906 3584 2284 3584 \r\nQ 2666 3584 2933 3390 \r\nQ 3200 3197 3328 2828 \r\nz\r\n\" id=\"DejaVuSans-6d\" transform=\"scale(0.015625)\"/>\r\n       </defs>\r\n       <use xlink:href=\"#DejaVuSans-44\"/>\r\n       <use x=\"77.001953\" xlink:href=\"#DejaVuSans-65\"/>\r\n       <use x=\"138.525391\" xlink:href=\"#DejaVuSans-63\"/>\r\n       <use x=\"193.505859\" xlink:href=\"#DejaVuSans-69\"/>\r\n       <use x=\"221.289062\" xlink:href=\"#DejaVuSans-73\"/>\r\n       <use x=\"273.388672\" xlink:href=\"#DejaVuSans-69\"/>\r\n       <use x=\"301.171875\" xlink:href=\"#DejaVuSans-6f\"/>\r\n       <use x=\"362.353516\" xlink:href=\"#DejaVuSans-6e\"/>\r\n       <use x=\"425.732422\" xlink:href=\"#DejaVuSans-20\"/>\r\n       <use x=\"457.519531\" xlink:href=\"#DejaVuSans-74\"/>\r\n       <use x=\"496.728516\" xlink:href=\"#DejaVuSans-72\"/>\r\n       <use x=\"535.591797\" xlink:href=\"#DejaVuSans-65\"/>\r\n       <use x=\"597.115234\" xlink:href=\"#DejaVuSans-65\"/>\r\n       <use x=\"658.638672\" xlink:href=\"#DejaVuSans-20\"/>\r\n       <use x=\"690.425781\" xlink:href=\"#DejaVuSans-77\"/>\r\n       <use x=\"772.212891\" xlink:href=\"#DejaVuSans-69\"/>\r\n       <use x=\"799.996094\" xlink:href=\"#DejaVuSans-74\"/>\r\n       <use x=\"839.205078\" xlink:href=\"#DejaVuSans-68\"/>\r\n       <use x=\"902.583984\" xlink:href=\"#DejaVuSans-20\"/>\r\n       <use x=\"934.371094\" xlink:href=\"#DejaVuSans-70\"/>\r\n       <use x=\"997.847656\" xlink:href=\"#DejaVuSans-61\"/>\r\n       <use x=\"1059.126953\" xlink:href=\"#DejaVuSans-72\"/>\r\n       <use x=\"1100.240234\" xlink:href=\"#DejaVuSans-61\"/>\r\n       <use x=\"1161.519531\" xlink:href=\"#DejaVuSans-6d\"/>\r\n       <use x=\"1258.931641\" xlink:href=\"#DejaVuSans-73\"/>\r\n      </g>\r\n     </g>\r\n    </g>\r\n    <g id=\"ytick_5\">\r\n     <g id=\"line2d_11\">\r\n      <g>\r\n       <use style=\"stroke:#000000;stroke-width:0.8;\" x=\"158.978125\" xlink:href=\"#m399f231f41\" y=\"158.218125\"/>\r\n      </g>\r\n     </g>\r\n     <g id=\"text_11\">\r\n      <!-- ElasticNet -->\r\n      <g transform=\"translate(101.792188 162.017344)scale(0.1 -0.1)\">\r\n       <defs>\r\n        <path d=\"M 628 4666 \r\nL 3578 4666 \r\nL 3578 4134 \r\nL 1259 4134 \r\nL 1259 2753 \r\nL 3481 2753 \r\nL 3481 2222 \r\nL 1259 2222 \r\nL 1259 531 \r\nL 3634 531 \r\nL 3634 0 \r\nL 628 0 \r\nL 628 4666 \r\nz\r\n\" id=\"DejaVuSans-45\" transform=\"scale(0.015625)\"/>\r\n        <path d=\"M 603 4863 \r\nL 1178 4863 \r\nL 1178 0 \r\nL 603 0 \r\nL 603 4863 \r\nz\r\n\" id=\"DejaVuSans-6c\" transform=\"scale(0.015625)\"/>\r\n        <path d=\"M 628 4666 \r\nL 1478 4666 \r\nL 3547 763 \r\nL 3547 4666 \r\nL 4159 4666 \r\nL 4159 0 \r\nL 3309 0 \r\nL 1241 3903 \r\nL 1241 0 \r\nL 628 0 \r\nL 628 4666 \r\nz\r\n\" id=\"DejaVuSans-4e\" transform=\"scale(0.015625)\"/>\r\n       </defs>\r\n       <use xlink:href=\"#DejaVuSans-45\"/>\r\n       <use x=\"63.183594\" xlink:href=\"#DejaVuSans-6c\"/>\r\n       <use x=\"90.966797\" xlink:href=\"#DejaVuSans-61\"/>\r\n       <use x=\"152.246094\" xlink:href=\"#DejaVuSans-73\"/>\r\n       <use x=\"204.345703\" xlink:href=\"#DejaVuSans-74\"/>\r\n       <use x=\"243.554688\" xlink:href=\"#DejaVuSans-69\"/>\r\n       <use x=\"271.337891\" xlink:href=\"#DejaVuSans-63\"/>\r\n       <use x=\"326.318359\" xlink:href=\"#DejaVuSans-4e\"/>\r\n       <use x=\"401.123047\" xlink:href=\"#DejaVuSans-65\"/>\r\n       <use x=\"462.646484\" xlink:href=\"#DejaVuSans-74\"/>\r\n      </g>\r\n     </g>\r\n    </g>\r\n    <g id=\"ytick_6\">\r\n     <g id=\"line2d_12\">\r\n      <g>\r\n       <use style=\"stroke:#000000;stroke-width:0.8;\" x=\"158.978125\" xlink:href=\"#m399f231f41\" y=\"128.018125\"/>\r\n      </g>\r\n     </g>\r\n     <g id=\"text_12\">\r\n      <!-- KNN -->\r\n      <g transform=\"translate(130.457812 131.817344)scale(0.1 -0.1)\">\r\n       <defs>\r\n        <path d=\"M 628 4666 \r\nL 1259 4666 \r\nL 1259 2694 \r\nL 3353 4666 \r\nL 4166 4666 \r\nL 1850 2491 \r\nL 4331 0 \r\nL 3500 0 \r\nL 1259 2247 \r\nL 1259 0 \r\nL 628 0 \r\nL 628 4666 \r\nz\r\n\" id=\"DejaVuSans-4b\" transform=\"scale(0.015625)\"/>\r\n       </defs>\r\n       <use xlink:href=\"#DejaVuSans-4b\"/>\r\n       <use x=\"65.576172\" xlink:href=\"#DejaVuSans-4e\"/>\r\n       <use x=\"140.380859\" xlink:href=\"#DejaVuSans-4e\"/>\r\n      </g>\r\n     </g>\r\n    </g>\r\n    <g id=\"ytick_7\">\r\n     <g id=\"line2d_13\">\r\n      <g>\r\n       <use style=\"stroke:#000000;stroke-width:0.8;\" x=\"158.978125\" xlink:href=\"#m399f231f41\" y=\"97.818125\"/>\r\n      </g>\r\n     </g>\r\n     <g id=\"text_13\">\r\n      <!-- Lasso -->\r\n      <g transform=\"translate(123.740625 101.617344)scale(0.1 -0.1)\">\r\n       <defs>\r\n        <path d=\"M 628 4666 \r\nL 1259 4666 \r\nL 1259 531 \r\nL 3531 531 \r\nL 3531 0 \r\nL 628 0 \r\nL 628 4666 \r\nz\r\n\" id=\"DejaVuSans-4c\" transform=\"scale(0.015625)\"/>\r\n       </defs>\r\n       <use xlink:href=\"#DejaVuSans-4c\"/>\r\n       <use x=\"55.712891\" xlink:href=\"#DejaVuSans-61\"/>\r\n       <use x=\"116.992188\" xlink:href=\"#DejaVuSans-73\"/>\r\n       <use x=\"169.091797\" xlink:href=\"#DejaVuSans-73\"/>\r\n       <use x=\"221.191406\" xlink:href=\"#DejaVuSans-6f\"/>\r\n      </g>\r\n     </g>\r\n    </g>\r\n    <g id=\"ytick_8\">\r\n     <g id=\"line2d_14\">\r\n      <g>\r\n       <use style=\"stroke:#000000;stroke-width:0.8;\" x=\"158.978125\" xlink:href=\"#m399f231f41\" y=\"67.618125\"/>\r\n      </g>\r\n     </g>\r\n     <g id=\"text_14\">\r\n      <!-- Linear regression -->\r\n      <g transform=\"translate(65.640625 71.417344)scale(0.1 -0.1)\">\r\n       <use xlink:href=\"#DejaVuSans-4c\"/>\r\n       <use x=\"55.712891\" xlink:href=\"#DejaVuSans-69\"/>\r\n       <use x=\"83.496094\" xlink:href=\"#DejaVuSans-6e\"/>\r\n       <use x=\"146.875\" xlink:href=\"#DejaVuSans-65\"/>\r\n       <use x=\"208.398438\" xlink:href=\"#DejaVuSans-61\"/>\r\n       <use x=\"269.677734\" xlink:href=\"#DejaVuSans-72\"/>\r\n       <use x=\"310.791016\" xlink:href=\"#DejaVuSans-20\"/>\r\n       <use x=\"342.578125\" xlink:href=\"#DejaVuSans-72\"/>\r\n       <use x=\"381.441406\" xlink:href=\"#DejaVuSans-65\"/>\r\n       <use x=\"442.964844\" xlink:href=\"#DejaVuSans-67\"/>\r\n       <use x=\"506.441406\" xlink:href=\"#DejaVuSans-72\"/>\r\n       <use x=\"545.304688\" xlink:href=\"#DejaVuSans-65\"/>\r\n       <use x=\"606.828125\" xlink:href=\"#DejaVuSans-73\"/>\r\n       <use x=\"658.927734\" xlink:href=\"#DejaVuSans-73\"/>\r\n       <use x=\"711.027344\" xlink:href=\"#DejaVuSans-69\"/>\r\n       <use x=\"738.810547\" xlink:href=\"#DejaVuSans-6f\"/>\r\n       <use x=\"799.992188\" xlink:href=\"#DejaVuSans-6e\"/>\r\n      </g>\r\n     </g>\r\n    </g>\r\n    <g id=\"ytick_9\">\r\n     <g id=\"line2d_15\">\r\n      <g>\r\n       <use style=\"stroke:#000000;stroke-width:0.8;\" x=\"158.978125\" xlink:href=\"#m399f231f41\" y=\"37.418125\"/>\r\n      </g>\r\n     </g>\r\n     <g id=\"text_15\">\r\n      <!-- Ridge -->\r\n      <g transform=\"translate(123.401563 41.217344)scale(0.1 -0.1)\">\r\n       <use xlink:href=\"#DejaVuSans-52\"/>\r\n       <use x=\"69.482422\" xlink:href=\"#DejaVuSans-69\"/>\r\n       <use x=\"97.265625\" xlink:href=\"#DejaVuSans-64\"/>\r\n       <use x=\"160.742188\" xlink:href=\"#DejaVuSans-67\"/>\r\n       <use x=\"224.21875\" xlink:href=\"#DejaVuSans-65\"/>\r\n      </g>\r\n     </g>\r\n    </g>\r\n    <g id=\"text_16\">\r\n     <!-- model name -->\r\n     <g transform=\"translate(14.798438 189.556406)rotate(-90)scale(0.1 -0.1)\">\r\n      <use xlink:href=\"#DejaVuSans-6d\"/>\r\n      <use x=\"97.412109\" xlink:href=\"#DejaVuSans-6f\"/>\r\n      <use x=\"158.59375\" xlink:href=\"#DejaVuSans-64\"/>\r\n      <use x=\"222.070312\" xlink:href=\"#DejaVuSans-65\"/>\r\n      <use x=\"283.59375\" xlink:href=\"#DejaVuSans-6c\"/>\r\n      <use x=\"311.376953\" xlink:href=\"#DejaVuSans-20\"/>\r\n      <use x=\"343.164062\" xlink:href=\"#DejaVuSans-6e\"/>\r\n      <use x=\"406.542969\" xlink:href=\"#DejaVuSans-61\"/>\r\n      <use x=\"467.822266\" xlink:href=\"#DejaVuSans-6d\"/>\r\n      <use x=\"565.234375\" xlink:href=\"#DejaVuSans-65\"/>\r\n     </g>\r\n    </g>\r\n   </g>\r\n   <g id=\"patch_21\">\r\n    <path d=\"M 158.978125 294.118125 \r\nL 158.978125 22.318125 \r\n\" style=\"fill:none;stroke:#000000;stroke-linecap:square;stroke-linejoin:miter;stroke-width:0.8;\"/>\r\n   </g>\r\n   <g id=\"patch_22\">\r\n    <path d=\"M 549.578125 294.118125 \r\nL 549.578125 22.318125 \r\n\" style=\"fill:none;stroke:#000000;stroke-linecap:square;stroke-linejoin:miter;stroke-width:0.8;\"/>\r\n   </g>\r\n   <g id=\"patch_23\">\r\n    <path d=\"M 158.978125 294.118125 \r\nL 549.578125 294.118125 \r\n\" style=\"fill:none;stroke:#000000;stroke-linecap:square;stroke-linejoin:miter;stroke-width:0.8;\"/>\r\n   </g>\r\n   <g id=\"patch_24\">\r\n    <path d=\"M 158.978125 22.318125 \r\nL 549.578125 22.318125 \r\n\" style=\"fill:none;stroke:#000000;stroke-linecap:square;stroke-linejoin:miter;stroke-width:0.8;\"/>\r\n   </g>\r\n   <g id=\"text_17\">\r\n    <!-- Results -->\r\n    <g transform=\"translate(332.614375 16.318125)scale(0.12 -0.12)\">\r\n     <defs>\r\n      <path d=\"M 544 1381 \r\nL 544 3500 \r\nL 1119 3500 \r\nL 1119 1403 \r\nQ 1119 906 1312 657 \r\nQ 1506 409 1894 409 \r\nQ 2359 409 2629 706 \r\nQ 2900 1003 2900 1516 \r\nL 2900 3500 \r\nL 3475 3500 \r\nL 3475 0 \r\nL 2900 0 \r\nL 2900 538 \r\nQ 2691 219 2414 64 \r\nQ 2138 -91 1772 -91 \r\nQ 1169 -91 856 284 \r\nQ 544 659 544 1381 \r\nz\r\nM 1991 3584 \r\nL 1991 3584 \r\nz\r\n\" id=\"DejaVuSans-75\" transform=\"scale(0.015625)\"/>\r\n     </defs>\r\n     <use xlink:href=\"#DejaVuSans-52\"/>\r\n     <use x=\"64.982422\" xlink:href=\"#DejaVuSans-65\"/>\r\n     <use x=\"126.505859\" xlink:href=\"#DejaVuSans-73\"/>\r\n     <use x=\"178.605469\" xlink:href=\"#DejaVuSans-75\"/>\r\n     <use x=\"241.984375\" xlink:href=\"#DejaVuSans-6c\"/>\r\n     <use x=\"269.767578\" xlink:href=\"#DejaVuSans-74\"/>\r\n     <use x=\"308.976562\" xlink:href=\"#DejaVuSans-73\"/>\r\n    </g>\r\n   </g>\r\n   <g id=\"legend_1\">\r\n    <g id=\"patch_25\">\r\n     <path d=\"M 457.259375 174.39625 \r\nL 542.578125 174.39625 \r\nQ 544.578125 174.39625 544.578125 172.39625 \r\nL 544.578125 144.04 \r\nQ 544.578125 142.04 542.578125 142.04 \r\nL 457.259375 142.04 \r\nQ 455.259375 142.04 455.259375 144.04 \r\nL 455.259375 172.39625 \r\nQ 455.259375 174.39625 457.259375 174.39625 \r\nz\r\n\" style=\"fill:#ffffff;opacity:0.8;stroke:#cccccc;stroke-linejoin:miter;\"/>\r\n    </g>\r\n    <g id=\"patch_26\">\r\n     <path d=\"M 459.259375 153.638438 \r\nL 479.259375 153.638438 \r\nL 479.259375 146.638438 \r\nL 459.259375 146.638438 \r\nz\r\n\" style=\"fill:#1f77b4;\"/>\r\n    </g>\r\n    <g id=\"text_18\">\r\n     <!-- test score -->\r\n     <g transform=\"translate(487.259375 153.638438)scale(0.1 -0.1)\">\r\n      <use xlink:href=\"#DejaVuSans-74\"/>\r\n      <use x=\"39.208984\" xlink:href=\"#DejaVuSans-65\"/>\r\n      <use x=\"100.732422\" xlink:href=\"#DejaVuSans-73\"/>\r\n      <use x=\"152.832031\" xlink:href=\"#DejaVuSans-74\"/>\r\n      <use x=\"192.041016\" xlink:href=\"#DejaVuSans-20\"/>\r\n      <use x=\"223.828125\" xlink:href=\"#DejaVuSans-73\"/>\r\n      <use x=\"275.927734\" xlink:href=\"#DejaVuSans-63\"/>\r\n      <use x=\"330.908203\" xlink:href=\"#DejaVuSans-6f\"/>\r\n      <use x=\"392.089844\" xlink:href=\"#DejaVuSans-72\"/>\r\n      <use x=\"430.953125\" xlink:href=\"#DejaVuSans-65\"/>\r\n     </g>\r\n    </g>\r\n    <g id=\"patch_27\">\r\n     <path d=\"M 459.259375 168.316563 \r\nL 479.259375 168.316563 \r\nL 479.259375 161.316563 \r\nL 459.259375 161.316563 \r\nz\r\n\" style=\"fill:#ff7f0e;\"/>\r\n    </g>\r\n    <g id=\"text_19\">\r\n     <!-- train score -->\r\n     <g transform=\"translate(487.259375 168.316563)scale(0.1 -0.1)\">\r\n      <use xlink:href=\"#DejaVuSans-74\"/>\r\n      <use x=\"39.208984\" xlink:href=\"#DejaVuSans-72\"/>\r\n      <use x=\"80.322266\" xlink:href=\"#DejaVuSans-61\"/>\r\n      <use x=\"141.601562\" xlink:href=\"#DejaVuSans-69\"/>\r\n      <use x=\"169.384766\" xlink:href=\"#DejaVuSans-6e\"/>\r\n      <use x=\"232.763672\" xlink:href=\"#DejaVuSans-20\"/>\r\n      <use x=\"264.550781\" xlink:href=\"#DejaVuSans-73\"/>\r\n      <use x=\"316.650391\" xlink:href=\"#DejaVuSans-63\"/>\r\n      <use x=\"371.630859\" xlink:href=\"#DejaVuSans-6f\"/>\r\n      <use x=\"432.8125\" xlink:href=\"#DejaVuSans-72\"/>\r\n      <use x=\"471.675781\" xlink:href=\"#DejaVuSans-65\"/>\r\n     </g>\r\n    </g>\r\n   </g>\r\n  </g>\r\n </g>\r\n <defs>\r\n  <clipPath id=\"p12b29b4230\">\r\n   <rect height=\"271.8\" width=\"390.6\" x=\"158.978125\" y=\"22.318125\"/>\r\n  </clipPath>\r\n </defs>\r\n</svg>\r\n",
      "image/png": "[encoded data removed]"
     },
     "metadata": {
      "needs_background": "light"
     }
    }
   ],
   "source": [
    "f, ax = plt.subplots(1, figsize=(7, 5))\n",
    "covid_results.plot.barh(ax=ax)\n",
    "ax.set_title('Results')"
   ]
  },
  {
   "source": [
    "#### Using all columns we reach better results, most models have higher than 0.6 score on test set. \n",
    "#### All models except decision tree with defaults parameters and elastic net reached r2 score on test set above 0.8. \n",
    "#### Such score indicates, that it's possible to predict covid rates using full covid data: number of cases, deaths, age groups and gender"
   ],
   "cell_type": "markdown",
   "metadata": {}
  }
 ],
 "metadata": {
  "kernelspec": {
   "name": "python3",
   "display_name": "Python 3.8.0 64-bit ('PSS_OCR-4l00g-Qu': pipenv)",
   "metadata": {
    "interpreter": {
     "hash": "5b7b97dfb9520b1e4f71a165e03242345099135fd9ee99dc76e9ac9baeffb198"
    }
   }
  },
  "language_info": {
   "codemirror_mode": {
    "name": "ipython",
    "version": 3
   },
   "file_extension": ".py",
   "mimetype": "text/x-python",
   "name": "python",
   "nbconvert_exporter": "python",
   "pygments_lexer": "ipython3",
   "version": "3.8.0"
  },
  "interpreter": {
   "hash": "31988ec4efb078c568e270cbee2e0369cb9699924389bb9f96dad601ce81bab9"
  }
 },
 "nbformat": 4,
 "nbformat_minor": 4
}