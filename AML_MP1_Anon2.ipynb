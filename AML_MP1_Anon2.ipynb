{
 "cells": [
  {
   "cell_type": "markdown",
   "metadata": {},
   "source": [
    "# Viral Data Analysis\n",
    "\n",
    "Date: 2021.10.11\n",
    "\n",
    "Author: © 2021 Anonymous course participant\n",
    "\n",
    "This notebook is part of an individual project for [KTU IF](https://fi.ktu.edu/) [P176M010 Advanced Machine Learning](https://admissions.ktu.edu/programme/m-software-engineering/#P176M010) class led by [M. Lukoševičius](http://mantas.info/).\n",
    "\n",
    "Here we analyze open COVID-19 data from https://ourworldindata.org/ to answer the following questions:\n",
    "\n",
    "1. [When did the OECD countries that spend most on healthcare per capita in 2019 had vaccinated (with one dose) at least 70% of the population?](#Q1)\n",
    "1. [Does lower corruption in country correlates to percent of people vaccinated? (Europe)](#Q2)\n",
    "1. [Can we predict when certain percent of population is vaccinated in France?](#Q3)\n",
    "\n",
    "Additional data:\n",
    "1. OECD https://stats.oecd.org/Index.aspx?ThemeTreeId=9#\n",
    "2. CPI https://www.transparency.org/en/cpi/2020/table/nzl\n",
    "\n",
    "This work is licensed under a <a rel=\"license\" href=\"http://creativecommons.org/licenses/by/4.0/\">Creative Commons Attribution 4.0 International license</a>. <a rel=\"license\" href=\"http://creativecommons.org/licenses/by/4.0/\"><img alt=\"Creative Commons licencija\" style=\"border-width:0\" src=\"https://i.creativecommons.org/l/by/4.0/80x15.png\" /></a> "
   ]
  },
  {
   "cell_type": "markdown",
   "metadata": {},
   "source": [
    "## Preparations"
   ]
  },
  {
   "cell_type": "code",
   "execution_count": 1,
   "metadata": {},
   "outputs": [],
   "source": [
    "import numpy as np\n",
    "import numpy.ma as ma\n",
    "import pandas as pd\n",
    "import matplotlib.pyplot as plt\n",
    "import seaborn as sns\n",
    "import matplotlib.dates as mdates\n",
    "import statsmodels.api as sm\n",
    "\n",
    "from sklearn.linear_model import LinearRegression\n",
    "from statsmodels.tsa.ar_model import AutoReg"
   ]
  },
  {
   "cell_type": "markdown",
   "metadata": {},
   "source": [
    "Download the data to cache locally. Do this once (a day), and comment out again, not to DoS the server. (adopted from https://stackoverflow.com/a/35997720)."
   ]
  },
  {
   "cell_type": "code",
   "execution_count": 2,
   "metadata": {},
   "outputs": [
    {
     "data": {
      "text/plain": [
       "33717058"
      ]
     },
     "execution_count": 2,
     "metadata": {},
     "output_type": "execute_result"
    }
   ],
   "source": [
    "# import requests\n",
    "# fname = 'owid-covid-data.csv'\n",
    "# url = 'https://covid.ourworldindata.org/data/' + fname\n",
    "# r = requests.get(url)\n",
    "# open(fname, 'wb').write(r.content)"
   ]
  },
  {
   "cell_type": "markdown",
   "metadata": {},
   "source": [
    "Load the file to Pandas."
   ]
  },
  {
   "cell_type": "code",
   "execution_count": 3,
   "metadata": {},
   "outputs": [],
   "source": [
    "#url = \"https://covid.ourworldindata.org/data/owid-covid-data.csv\"\n",
    "# download the file locally when developing, not to DoS the server:\n",
    "url = \"owid-covid-data.csv\" \n",
    "df = pd.read_csv(url, parse_dates=[3])"
   ]
  },
  {
   "cell_type": "markdown",
   "metadata": {},
   "source": [
    "Check the columns available."
   ]
  },
  {
   "cell_type": "code",
   "execution_count": 4,
   "metadata": {},
   "outputs": [
    {
     "data": {
      "text/plain": [
       "Index(['iso_code', 'continent', 'location', 'date', 'total_cases', 'new_cases',\n",
       "       'new_cases_smoothed', 'total_deaths', 'new_deaths',\n",
       "       'new_deaths_smoothed', 'total_cases_per_million',\n",
       "       'new_cases_per_million', 'new_cases_smoothed_per_million',\n",
       "       'total_deaths_per_million', 'new_deaths_per_million',\n",
       "       'new_deaths_smoothed_per_million', 'reproduction_rate', 'icu_patients',\n",
       "       'icu_patients_per_million', 'hosp_patients',\n",
       "       'hosp_patients_per_million', 'weekly_icu_admissions',\n",
       "       'weekly_icu_admissions_per_million', 'weekly_hosp_admissions',\n",
       "       'weekly_hosp_admissions_per_million', 'new_tests', 'total_tests',\n",
       "       'total_tests_per_thousand', 'new_tests_per_thousand',\n",
       "       'new_tests_smoothed', 'new_tests_smoothed_per_thousand',\n",
       "       'positive_rate', 'tests_per_case', 'tests_units', 'total_vaccinations',\n",
       "       'people_vaccinated', 'people_fully_vaccinated', 'total_boosters',\n",
       "       'new_vaccinations', 'new_vaccinations_smoothed',\n",
       "       'total_vaccinations_per_hundred', 'people_vaccinated_per_hundred',\n",
       "       'people_fully_vaccinated_per_hundred', 'total_boosters_per_hundred',\n",
       "       'new_vaccinations_smoothed_per_million', 'stringency_index',\n",
       "       'population', 'population_density', 'median_age', 'aged_65_older',\n",
       "       'aged_70_older', 'gdp_per_capita', 'extreme_poverty',\n",
       "       'cardiovasc_death_rate', 'diabetes_prevalence', 'female_smokers',\n",
       "       'male_smokers', 'handwashing_facilities', 'hospital_beds_per_thousand',\n",
       "       'life_expectancy', 'human_development_index',\n",
       "       'excess_mortality_cumulative_absolute', 'excess_mortality_cumulative',\n",
       "       'excess_mortality', 'excess_mortality_cumulative_per_million'],\n",
       "      dtype='object')"
      ]
     },
     "execution_count": 4,
     "metadata": {},
     "output_type": "execute_result"
    }
   ],
   "source": [
    "df.columns"
   ]
  },
  {
   "cell_type": "markdown",
   "metadata": {},
   "source": [
    "### Prepare OECD data\n",
    "Load and prepare OECD (Organisation for Economic Co-operation and Development) data from https://stats.oecd.org/Index.aspx?ThemeTreeId=9#"
   ]
  },
  {
   "cell_type": "code",
   "execution_count": 5,
   "metadata": {},
   "outputs": [
    {
     "data": {
      "text/plain": [
       "Index(['HF', 'Financing scheme', 'HC', 'Function', 'HP', 'Provider', 'MEASURE',\n",
       "       'Measure', 'LOCATION', 'Country', 'TIME', 'Year', 'Unit Code', 'Unit',\n",
       "       'PowerCode Code', 'PowerCode', 'Reference Period Code',\n",
       "       'Reference Period', 'Value', 'Flag Codes', 'Flags'],\n",
       "      dtype='object')"
      ]
     },
     "execution_count": 5,
     "metadata": {},
     "output_type": "execute_result"
    }
   ],
   "source": [
    "path = \"oecd.csv\" \n",
    "oecd_df = pd.read_csv(path)\n",
    "oecd_df.columns"
   ]
  },
  {
   "cell_type": "markdown",
   "metadata": {},
   "source": [
    "Filter out irrelevent data and data that has some flags on it (those indicate that data is prediction, not clear and etc.)"
   ]
  },
  {
   "cell_type": "code",
   "execution_count": 6,
   "metadata": {},
   "outputs": [
    {
     "data": {
      "text/html": [
       "<div>\n",
       "<style scoped>\n",
       "    .dataframe tbody tr th:only-of-type {\n",
       "        vertical-align: middle;\n",
       "    }\n",
       "\n",
       "    .dataframe tbody tr th {\n",
       "        vertical-align: top;\n",
       "    }\n",
       "\n",
       "    .dataframe thead th {\n",
       "        text-align: right;\n",
       "    }\n",
       "</style>\n",
       "<table border=\"1\" class=\"dataframe\">\n",
       "  <thead>\n",
       "    <tr style=\"text-align: right;\">\n",
       "      <th></th>\n",
       "      <th>Year</th>\n",
       "      <th>LOCATION</th>\n",
       "      <th>Country</th>\n",
       "      <th>Unit Code</th>\n",
       "      <th>Unit</th>\n",
       "      <th>Value</th>\n",
       "    </tr>\n",
       "  </thead>\n",
       "  <tbody>\n",
       "    <tr>\n",
       "      <th>53</th>\n",
       "      <td>2019</td>\n",
       "      <td>AUT</td>\n",
       "      <td>Austria</td>\n",
       "      <td>USD</td>\n",
       "      <td>US Dollar</td>\n",
       "      <td>5705.102</td>\n",
       "    </tr>\n",
       "    <tr>\n",
       "      <th>84</th>\n",
       "      <td>2019</td>\n",
       "      <td>BEL</td>\n",
       "      <td>Belgium</td>\n",
       "      <td>USD</td>\n",
       "      <td>US Dollar</td>\n",
       "      <td>5458.401</td>\n",
       "    </tr>\n",
       "    <tr>\n",
       "      <th>12017</th>\n",
       "      <td>2019</td>\n",
       "      <td>TUR</td>\n",
       "      <td>Turkey</td>\n",
       "      <td>USD</td>\n",
       "      <td>US Dollar</td>\n",
       "      <td>1266.935</td>\n",
       "    </tr>\n",
       "    <tr>\n",
       "      <th>12562</th>\n",
       "      <td>2019</td>\n",
       "      <td>USA</td>\n",
       "      <td>United States</td>\n",
       "      <td>USD</td>\n",
       "      <td>US Dollar</td>\n",
       "      <td>10948.475</td>\n",
       "    </tr>\n",
       "    <tr>\n",
       "      <th>15832</th>\n",
       "      <td>2019</td>\n",
       "      <td>ISL</td>\n",
       "      <td>Iceland</td>\n",
       "      <td>USD</td>\n",
       "      <td>US Dollar</td>\n",
       "      <td>4540.762</td>\n",
       "    </tr>\n",
       "    <tr>\n",
       "      <th>23786</th>\n",
       "      <td>2019</td>\n",
       "      <td>CHL</td>\n",
       "      <td>Chile</td>\n",
       "      <td>USD</td>\n",
       "      <td>US Dollar</td>\n",
       "      <td>2291.464</td>\n",
       "    </tr>\n",
       "    <tr>\n",
       "      <th>31999</th>\n",
       "      <td>2019</td>\n",
       "      <td>CHE</td>\n",
       "      <td>Switzerland</td>\n",
       "      <td>USD</td>\n",
       "      <td>US Dollar</td>\n",
       "      <td>7138.064</td>\n",
       "    </tr>\n",
       "    <tr>\n",
       "      <th>36621</th>\n",
       "      <td>2019</td>\n",
       "      <td>DEU</td>\n",
       "      <td>Germany</td>\n",
       "      <td>USD</td>\n",
       "      <td>US Dollar</td>\n",
       "      <td>6518.004</td>\n",
       "    </tr>\n",
       "    <tr>\n",
       "      <th>51183</th>\n",
       "      <td>2019</td>\n",
       "      <td>CZE</td>\n",
       "      <td>Czech Republic</td>\n",
       "      <td>USD</td>\n",
       "      <td>US Dollar</td>\n",
       "      <td>3417.487</td>\n",
       "    </tr>\n",
       "    <tr>\n",
       "      <th>54339</th>\n",
       "      <td>2019</td>\n",
       "      <td>DNK</td>\n",
       "      <td>Denmark</td>\n",
       "      <td>USD</td>\n",
       "      <td>US Dollar</td>\n",
       "      <td>5477.567</td>\n",
       "    </tr>\n",
       "  </tbody>\n",
       "</table>\n",
       "</div>"
      ],
      "text/plain": [
       "       Year LOCATION         Country Unit Code       Unit      Value\n",
       "53     2019      AUT         Austria       USD  US Dollar   5705.102\n",
       "84     2019      BEL         Belgium       USD  US Dollar   5458.401\n",
       "12017  2019      TUR          Turkey       USD  US Dollar   1266.935\n",
       "12562  2019      USA   United States       USD  US Dollar  10948.475\n",
       "15832  2019      ISL         Iceland       USD  US Dollar   4540.762\n",
       "23786  2019      CHL           Chile       USD  US Dollar   2291.464\n",
       "31999  2019      CHE     Switzerland       USD  US Dollar   7138.064\n",
       "36621  2019      DEU         Germany       USD  US Dollar   6518.004\n",
       "51183  2019      CZE  Czech Republic       USD  US Dollar   3417.487\n",
       "54339  2019      DNK         Denmark       USD  US Dollar   5477.567"
      ]
     },
     "execution_count": 6,
     "metadata": {},
     "output_type": "execute_result"
    }
   ],
   "source": [
    "year = (oecd_df['TIME'] == 2019)\n",
    "provider = (oecd_df['Provider'] == 'All providers')\n",
    "scheme = (oecd_df['Financing scheme'] == 'All financing schemes')\n",
    "function = (oecd_df['Function'] == 'Current expenditure on health (all functions)')\n",
    "provider = (oecd_df['Provider'] == 'All providers')\n",
    "measure = (oecd_df['Measure'] == 'Per capita, current prices, current PPPs')\n",
    "flags = (oecd_df['Flag Codes'].isnull())\n",
    "select_columns = [\"Year\", \"LOCATION\", \"Country\", \"Unit Code\", \"Unit\", \"Value\"]\n",
    "\n",
    "oecd_df_filtered = oecd_df.loc[year & provider & scheme & function & provider & measure & flags][select_columns]\n",
    "oecd_df_filtered.head(10)"
   ]
  },
  {
   "cell_type": "markdown",
   "metadata": {},
   "source": [
    "### Prepare CPI data\n",
    "Load and prepare CPI (Corruption Perceptions Index) data from https://www.transparency.org/en/cpi/2020/table/nzl"
   ]
  },
  {
   "cell_type": "code",
   "execution_count": 7,
   "metadata": {},
   "outputs": [
    {
     "data": {
      "text/plain": [
       "Index(['Country', 'ISO3', 'Region', 'CPI score 2020', 'Rank', 'Standard error',\n",
       "       'Number of sources', 'Lower CI', 'Upper CI',\n",
       "       'African Development Bank CPIA',\n",
       "       'Bertelsmann Foundation Sustainable Governance Index',\n",
       "       'Bertelsmann Foundation Transformation Index',\n",
       "       'Economist Intelligence Unit Country Ratings',\n",
       "       'Freedom House Nations in Transit',\n",
       "       'Global Insight Country Risk Ratings',\n",
       "       'IMD World Competitiveness Yearbook', 'PERC Asia Risk Guide',\n",
       "       'PRS International Country Risk Guide',\n",
       "       'Varieties of Democracy Project', 'World Bank CPIA',\n",
       "       'World Economic Forum EOS', 'World Justice Project Rule of Law Index'],\n",
       "      dtype='object')"
      ]
     },
     "execution_count": 7,
     "metadata": {},
     "output_type": "execute_result"
    }
   ],
   "source": [
    "path = \"cpi2020.xlsx\" \n",
    "cpi_df = pd.read_excel(path)\n",
    "cpi_df.columns"
   ]
  },
  {
   "cell_type": "markdown",
   "metadata": {},
   "source": [
    "<a id='Q1'></a>\n",
    "# 1. When did the OECD countries that spend most on healthcare per capita in 2019 had vaccinated (with one dose) at least 70% of the population?"
   ]
  },
  {
   "cell_type": "markdown",
   "metadata": {},
   "source": [
    "Sort filtered OECD data by value. Value in this case is current expenditure on health per capita in USD."
   ]
  },
  {
   "cell_type": "code",
   "execution_count": 8,
   "metadata": {},
   "outputs": [
    {
     "data": {
      "text/html": [
       "<div>\n",
       "<style scoped>\n",
       "    .dataframe tbody tr th:only-of-type {\n",
       "        vertical-align: middle;\n",
       "    }\n",
       "\n",
       "    .dataframe tbody tr th {\n",
       "        vertical-align: top;\n",
       "    }\n",
       "\n",
       "    .dataframe thead th {\n",
       "        text-align: right;\n",
       "    }\n",
       "</style>\n",
       "<table border=\"1\" class=\"dataframe\">\n",
       "  <thead>\n",
       "    <tr style=\"text-align: right;\">\n",
       "      <th></th>\n",
       "      <th>Year</th>\n",
       "      <th>LOCATION</th>\n",
       "      <th>Country</th>\n",
       "      <th>Unit Code</th>\n",
       "      <th>Unit</th>\n",
       "      <th>Value</th>\n",
       "    </tr>\n",
       "  </thead>\n",
       "  <tbody>\n",
       "    <tr>\n",
       "      <th>12562</th>\n",
       "      <td>2019</td>\n",
       "      <td>USA</td>\n",
       "      <td>United States</td>\n",
       "      <td>USD</td>\n",
       "      <td>US Dollar</td>\n",
       "      <td>10948.475</td>\n",
       "    </tr>\n",
       "    <tr>\n",
       "      <th>31999</th>\n",
       "      <td>2019</td>\n",
       "      <td>CHE</td>\n",
       "      <td>Switzerland</td>\n",
       "      <td>USD</td>\n",
       "      <td>US Dollar</td>\n",
       "      <td>7138.064</td>\n",
       "    </tr>\n",
       "    <tr>\n",
       "      <th>116214</th>\n",
       "      <td>2019</td>\n",
       "      <td>NOR</td>\n",
       "      <td>Norway</td>\n",
       "      <td>USD</td>\n",
       "      <td>US Dollar</td>\n",
       "      <td>6744.623</td>\n",
       "    </tr>\n",
       "    <tr>\n",
       "      <th>36621</th>\n",
       "      <td>2019</td>\n",
       "      <td>DEU</td>\n",
       "      <td>Germany</td>\n",
       "      <td>USD</td>\n",
       "      <td>US Dollar</td>\n",
       "      <td>6518.004</td>\n",
       "    </tr>\n",
       "    <tr>\n",
       "      <th>111822</th>\n",
       "      <td>2019</td>\n",
       "      <td>NLD</td>\n",
       "      <td>Netherlands</td>\n",
       "      <td>USD</td>\n",
       "      <td>US Dollar</td>\n",
       "      <td>5739.201</td>\n",
       "    </tr>\n",
       "  </tbody>\n",
       "</table>\n",
       "</div>"
      ],
      "text/plain": [
       "        Year LOCATION        Country Unit Code       Unit      Value\n",
       "12562   2019      USA  United States       USD  US Dollar  10948.475\n",
       "31999   2019      CHE    Switzerland       USD  US Dollar   7138.064\n",
       "116214  2019      NOR         Norway       USD  US Dollar   6744.623\n",
       "36621   2019      DEU        Germany       USD  US Dollar   6518.004\n",
       "111822  2019      NLD    Netherlands       USD  US Dollar   5739.201"
      ]
     },
     "execution_count": 8,
     "metadata": {},
     "output_type": "execute_result"
    }
   ],
   "source": [
    "oecd_df_sorted = oecd_df_filtered.sort_values('Value', ascending=False)\n",
    "oecd_df_sorted.head(5)"
   ]
  },
  {
   "cell_type": "markdown",
   "metadata": {},
   "source": [
    "Select 2021 vaccination data, since most of the countries began vaccination at the beginning of 2021"
   ]
  },
  {
   "cell_type": "code",
   "execution_count": 9,
   "metadata": {},
   "outputs": [],
   "source": [
    "date_2021 = pd.Timestamp(2021, 1, 1)\n",
    "df_2021 = df.drop(df[df.date < date_2021].index)"
   ]
  },
  {
   "cell_type": "markdown",
   "metadata": {},
   "source": [
    "Select top 10 OECD countries that spend most on healthcare per capita and show their data on vaccination. For vaccination date use people_vaccinated_per_hundred that basically shows percent of population that received at least one dose (which usually indicates that they are also planning to gain second one)"
   ]
  },
  {
   "cell_type": "code",
   "execution_count": 10,
   "metadata": {},
   "outputs": [
    {
     "data": {
      "text/plain": [
       "Text(0.5, 1.0, 'COVID-19 people vaccinated per hundred')"
      ]
     },
     "execution_count": 10,
     "metadata": {},
     "output_type": "execute_result"
    },
    {
     "data": {
      "image/png": "[encoded data removed]",
      "text/plain": [
       "<Figure size 1080x576 with 1 Axes>"
      ]
     },
     "metadata": {
      "needs_background": "light"
     },
     "output_type": "display_data"
    }
   ],
   "source": [
    "countries = oecd_df_sorted[\"LOCATION\"].iloc[:10].values\n",
    "country_names = []\n",
    "selected_column = 'people_vaccinated_per_hundred'\n",
    "name = selected_column.replace('_', ' ')\n",
    "ax = None\n",
    "for c in countries:\n",
    "    ax = df_2021[df_2021.iso_code==c].plot( x='date', y=selected_column, figsize=(15,8), title=c, ax=ax)\n",
    "    country_names.append( df_2021[df_2021[\"iso_code\"] == c].iloc[0].location )\n",
    "\n",
    "plt.axhline(y=70, color='r', linestyle='dotted')\n",
    "plt.ylabel(name)\n",
    "plt.legend(country_names)\n",
    "plt.title('COVID-19 ' + name)"
   ]
  },
  {
   "cell_type": "markdown",
   "metadata": {},
   "source": [
    "From a graph we can see, that not all of the selected countries reached desired 70% vaccination rate. So we can check which countries and when managed to reached 70%."
   ]
  },
  {
   "cell_type": "code",
   "execution_count": 11,
   "metadata": {},
   "outputs": [
    {
     "data": {
      "text/html": [
       "<div>\n",
       "<style scoped>\n",
       "    .dataframe tbody tr th:only-of-type {\n",
       "        vertical-align: middle;\n",
       "    }\n",
       "\n",
       "    .dataframe tbody tr th {\n",
       "        vertical-align: top;\n",
       "    }\n",
       "\n",
       "    .dataframe thead th {\n",
       "        text-align: right;\n",
       "    }\n",
       "</style>\n",
       "<table border=\"1\" class=\"dataframe\">\n",
       "  <thead>\n",
       "    <tr style=\"text-align: right;\">\n",
       "      <th></th>\n",
       "      <th>location</th>\n",
       "      <th>date</th>\n",
       "      <th>people_vaccinated_per_hundred</th>\n",
       "    </tr>\n",
       "    <tr>\n",
       "      <th>iso_code</th>\n",
       "      <th></th>\n",
       "      <th></th>\n",
       "      <th></th>\n",
       "    </tr>\n",
       "  </thead>\n",
       "  <tbody>\n",
       "    <tr>\n",
       "      <th>DNK</th>\n",
       "      <td>Denmark</td>\n",
       "      <td>2021-07-24</td>\n",
       "      <td>70.10</td>\n",
       "    </tr>\n",
       "    <tr>\n",
       "      <th>NLD</th>\n",
       "      <td>Netherlands</td>\n",
       "      <td>2021-07-25</td>\n",
       "      <td>70.55</td>\n",
       "    </tr>\n",
       "    <tr>\n",
       "      <th>BEL</th>\n",
       "      <td>Belgium</td>\n",
       "      <td>2021-08-04</td>\n",
       "      <td>70.05</td>\n",
       "    </tr>\n",
       "    <tr>\n",
       "      <th>NOR</th>\n",
       "      <td>Norway</td>\n",
       "      <td>2021-08-25</td>\n",
       "      <td>70.11</td>\n",
       "    </tr>\n",
       "    <tr>\n",
       "      <th>SWE</th>\n",
       "      <td>Sweden</td>\n",
       "      <td>2021-09-26</td>\n",
       "      <td>70.19</td>\n",
       "    </tr>\n",
       "  </tbody>\n",
       "</table>\n",
       "</div>"
      ],
      "text/plain": [
       "             location       date  people_vaccinated_per_hundred\n",
       "iso_code                                                       \n",
       "DNK           Denmark 2021-07-24                          70.10\n",
       "NLD       Netherlands 2021-07-25                          70.55\n",
       "BEL           Belgium 2021-08-04                          70.05\n",
       "NOR            Norway 2021-08-25                          70.11\n",
       "SWE            Sweden 2021-09-26                          70.19"
      ]
     },
     "execution_count": 11,
     "metadata": {},
     "output_type": "execute_result"
    }
   ],
   "source": [
    "columns = ['location', 'date']\n",
    "conditions = (df.iso_code.isin(countries)) & (df['people_vaccinated_per_hundred'] >= 70)\n",
    "\n",
    "result = df[conditions][columns].groupby(df.iso_code).min()\n",
    "\n",
    "def find_people_vaccinated_per_hundred (row):\n",
    "    return (df[(df.iso_code == row.name) & (df.date == row['date'])]['people_vaccinated_per_hundred'].values[0])\n",
    "\n",
    "result['people_vaccinated_per_hundred'] = result.apply(lambda row: find_people_vaccinated_per_hundred(row), axis=1)\n",
    "result.sort_values('date', ascending=True)"
   ]
  },
  {
   "cell_type": "markdown",
   "metadata": {},
   "source": [
    "<a id='Q2'></a>\n",
    "# 2. Does lower corruption in country correlates to percent of people vaccinated? (Europe)\n",
    "Lower corruption tend to indicate effective government and higher trust of government by population"
   ]
  },
  {
   "cell_type": "markdown",
   "metadata": {},
   "source": [
    "Select latest vaccination data for European countries"
   ]
  },
  {
   "cell_type": "code",
   "execution_count": 12,
   "metadata": {},
   "outputs": [
    {
     "name": "stdout",
     "output_type": "stream",
     "text": [
      "<class 'pandas.core.frame.DataFrame'>\n",
      "Index: 51 entries, ALB to VAT\n",
      "Data columns (total 2 columns):\n",
      " #   Column                         Non-Null Count  Dtype  \n",
      "---  ------                         --------------  -----  \n",
      " 0   location                       51 non-null     object \n",
      " 1   people_vaccinated_per_hundred  50 non-null     float64\n",
      "dtypes: float64(1), object(1)\n",
      "memory usage: 1.2+ KB\n"
     ]
    }
   ],
   "source": [
    "continent = (df['continent'] == 'Europe')\n",
    "columns = ['location', 'people_vaccinated_per_hundred']\n",
    "\n",
    "europe_latest_df = df[continent].groupby('iso_code').last()[columns]\n",
    "europe_latest_df.info()"
   ]
  },
  {
   "cell_type": "markdown",
   "metadata": {},
   "source": [
    "Adjust CPI data and merge to latest vaccination data on iso_code"
   ]
  },
  {
   "cell_type": "code",
   "execution_count": 13,
   "metadata": {},
   "outputs": [
    {
     "name": "stdout",
     "output_type": "stream",
     "text": [
      "<class 'pandas.core.frame.DataFrame'>\n",
      "Int64Index: 40 entries, 0 to 39\n",
      "Data columns (total 24 columns):\n",
      " #   Column                                               Non-Null Count  Dtype  \n",
      "---  ------                                               --------------  -----  \n",
      " 0   iso_code                                             40 non-null     object \n",
      " 1   location                                             40 non-null     object \n",
      " 2   people_vaccinated_per_hundred                        40 non-null     float64\n",
      " 3   Country                                              40 non-null     object \n",
      " 4   Region                                               40 non-null     object \n",
      " 5   CPI score 2020                                       40 non-null     int64  \n",
      " 6   Rank                                                 40 non-null     int64  \n",
      " 7   Standard error                                       40 non-null     float64\n",
      " 8   Number of sources                                    40 non-null     int64  \n",
      " 9   Lower CI                                             40 non-null     float64\n",
      " 10  Upper CI                                             40 non-null     float64\n",
      " 11  African Development Bank CPIA                        0 non-null      float64\n",
      " 12  Bertelsmann Foundation Sustainable Governance Index  31 non-null     float64\n",
      " 13  Bertelsmann Foundation Transformation Index          20 non-null     float64\n",
      " 14  Economist Intelligence Unit Country Ratings          39 non-null     float64\n",
      " 15  Freedom House Nations in Transit                     20 non-null     float64\n",
      " 16  Global Insight Country Risk Ratings                  40 non-null     int64  \n",
      " 17  IMD World Competitiveness Yearbook                   32 non-null     float64\n",
      " 18  PERC Asia Risk Guide                                 0 non-null      float64\n",
      " 19  PRS International Country Risk Guide                 37 non-null     float64\n",
      " 20  Varieties of Democracy Project                       40 non-null     float64\n",
      " 21  World Bank CPIA                                      1 non-null      float64\n",
      " 22  World Economic Forum EOS                             37 non-null     float64\n",
      " 23  World Justice Project Rule of Law Index              30 non-null     float64\n",
      "dtypes: float64(16), int64(4), object(4)\n",
      "memory usage: 7.8+ KB\n"
     ]
    }
   ],
   "source": [
    "cpi_df = cpi_df.rename(columns={\"ISO3\": \"iso_code\"})\n",
    "\n",
    "europe_df = pd.merge(europe_latest_df, cpi_df, on='iso_code')\n",
    "europe_df.info()"
   ]
  },
  {
   "cell_type": "markdown",
   "metadata": {},
   "source": [
    "Plot the merged data"
   ]
  },
  {
   "cell_type": "code",
   "execution_count": 14,
   "metadata": {},
   "outputs": [
    {
     "data": {
      "text/plain": [
       "Text(0.5, 1.0, 'CPI score 2020 / people vaccinated per hundred')"
      ]
     },
     "execution_count": 14,
     "metadata": {},
     "output_type": "execute_result"
    },
    {
     "data": {
      "image/png": "[encoded data removed]",
      "text/plain": [
       "<Figure size 432x432 with 1 Axes>"
      ]
     },
     "metadata": {
      "needs_background": "light"
     },
     "output_type": "display_data"
    }
   ],
   "source": [
    "plt.figure(figsize=(6,6))\n",
    "x = europe_df['CPI score 2020']\n",
    "y = europe_df['people_vaccinated_per_hundred']\n",
    "plt.plot(x, y, '.')\n",
    "plt.xlabel('CPI score 2020')\n",
    "plt.ylabel('people vaccinated per hundred')\n",
    "\n",
    "z = ma.polyfit(ma.masked_invalid(x), ma.masked_invalid(y), 1)\n",
    "p = np.poly1d(z)\n",
    "x_all = np.linspace(x.min(), x.max(), 100)\n",
    "plt.plot(x_all, p(x_all), '-')\n",
    "plt.title('CPI score 2020 / people vaccinated per hundred')"
   ]
  },
  {
   "cell_type": "markdown",
   "metadata": {},
   "source": [
    "We can see that there is some positive correlation between CPI and people vaccinated per hundred"
   ]
  },
  {
   "cell_type": "code",
   "execution_count": 15,
   "metadata": {},
   "outputs": [
    {
     "data": {
      "text/plain": [
       "0.7659505227339756"
      ]
     },
     "execution_count": 15,
     "metadata": {},
     "output_type": "execute_result"
    }
   ],
   "source": [
    "ma.corrcoef(ma.masked_invalid(x), ma.masked_invalid(y))[0,1]"
   ]
  },
  {
   "cell_type": "markdown",
   "metadata": {},
   "source": [
    "As we can see there is a correlation between CPI and people vaccinated per hundred. A couple of explanations for outliers:\n",
    "\n",
    "    1.Countries with low CPI is not in EU and therefore had more difficulty accessing (quality) vaccines\n",
    "    2.Some countries with average CPI might had strong other motivations to vaccinate (e.g. huge first wave)"
   ]
  },
  {
   "cell_type": "code",
   "execution_count": 16,
   "metadata": {},
   "outputs": [
    {
     "data": {
      "text/html": [
       "<div>\n",
       "<style scoped>\n",
       "    .dataframe tbody tr th:only-of-type {\n",
       "        vertical-align: middle;\n",
       "    }\n",
       "\n",
       "    .dataframe tbody tr th {\n",
       "        vertical-align: top;\n",
       "    }\n",
       "\n",
       "    .dataframe thead th {\n",
       "        text-align: right;\n",
       "    }\n",
       "</style>\n",
       "<table border=\"1\" class=\"dataframe\">\n",
       "  <thead>\n",
       "    <tr style=\"text-align: right;\">\n",
       "      <th></th>\n",
       "      <th>location</th>\n",
       "      <th>Region</th>\n",
       "      <th>CPI score 2020</th>\n",
       "      <th>people_vaccinated_per_hundred</th>\n",
       "    </tr>\n",
       "  </thead>\n",
       "  <tbody>\n",
       "    <tr>\n",
       "      <th>0</th>\n",
       "      <td>Albania</td>\n",
       "      <td>ECA</td>\n",
       "      <td>36</td>\n",
       "      <td>33.49</td>\n",
       "    </tr>\n",
       "    <tr>\n",
       "      <th>4</th>\n",
       "      <td>Bosnia and Herzegovina</td>\n",
       "      <td>ECA</td>\n",
       "      <td>35</td>\n",
       "      <td>22.50</td>\n",
       "    </tr>\n",
       "    <tr>\n",
       "      <th>5</th>\n",
       "      <td>Belarus</td>\n",
       "      <td>ECA</td>\n",
       "      <td>47</td>\n",
       "      <td>23.67</td>\n",
       "    </tr>\n",
       "    <tr>\n",
       "      <th>25</th>\n",
       "      <td>Moldova</td>\n",
       "      <td>ECA</td>\n",
       "      <td>34</td>\n",
       "      <td>20.50</td>\n",
       "    </tr>\n",
       "    <tr>\n",
       "      <th>26</th>\n",
       "      <td>North Macedonia</td>\n",
       "      <td>ECA</td>\n",
       "      <td>35</td>\n",
       "      <td>38.22</td>\n",
       "    </tr>\n",
       "    <tr>\n",
       "      <th>28</th>\n",
       "      <td>Montenegro</td>\n",
       "      <td>ECA</td>\n",
       "      <td>45</td>\n",
       "      <td>39.96</td>\n",
       "    </tr>\n",
       "    <tr>\n",
       "      <th>34</th>\n",
       "      <td>Russia</td>\n",
       "      <td>ECA</td>\n",
       "      <td>30</td>\n",
       "      <td>33.97</td>\n",
       "    </tr>\n",
       "    <tr>\n",
       "      <th>35</th>\n",
       "      <td>Serbia</td>\n",
       "      <td>ECA</td>\n",
       "      <td>38</td>\n",
       "      <td>44.31</td>\n",
       "    </tr>\n",
       "    <tr>\n",
       "      <th>39</th>\n",
       "      <td>Ukraine</td>\n",
       "      <td>ECA</td>\n",
       "      <td>33</td>\n",
       "      <td>17.51</td>\n",
       "    </tr>\n",
       "  </tbody>\n",
       "</table>\n",
       "</div>"
      ],
      "text/plain": [
       "                  location Region  CPI score 2020  \\\n",
       "0                  Albania    ECA              36   \n",
       "4   Bosnia and Herzegovina    ECA              35   \n",
       "5                  Belarus    ECA              47   \n",
       "25                 Moldova    ECA              34   \n",
       "26         North Macedonia    ECA              35   \n",
       "28              Montenegro    ECA              45   \n",
       "34                  Russia    ECA              30   \n",
       "35                  Serbia    ECA              38   \n",
       "39                 Ukraine    ECA              33   \n",
       "\n",
       "    people_vaccinated_per_hundred  \n",
       "0                           33.49  \n",
       "4                           22.50  \n",
       "5                           23.67  \n",
       "25                          20.50  \n",
       "26                          38.22  \n",
       "28                          39.96  \n",
       "34                          33.97  \n",
       "35                          44.31  \n",
       "39                          17.51  "
      ]
     },
     "execution_count": 16,
     "metadata": {},
     "output_type": "execute_result"
    }
   ],
   "source": [
    "condition = (europe_df['CPI score 2020'] < 50) & (europe_df['Region'] != 'WE/EU')\n",
    "europe_df[condition][['location', 'Region', 'CPI score 2020', 'people_vaccinated_per_hundred']]"
   ]
  },
  {
   "cell_type": "markdown",
   "metadata": {},
   "source": [
    "Here we can notice that countries with low CPI score and low vaccination rate are also not EU countries. This could indicate that one of the reasons for lower vaccination rate is that those counties had more difficult access to the vaccines, in particular quality ones."
   ]
  },
  {
   "cell_type": "code",
   "execution_count": 17,
   "metadata": {},
   "outputs": [
    {
     "data": {
      "text/html": [
       "<div>\n",
       "<style scoped>\n",
       "    .dataframe tbody tr th:only-of-type {\n",
       "        vertical-align: middle;\n",
       "    }\n",
       "\n",
       "    .dataframe tbody tr th {\n",
       "        vertical-align: top;\n",
       "    }\n",
       "\n",
       "    .dataframe thead th {\n",
       "        text-align: right;\n",
       "    }\n",
       "</style>\n",
       "<table border=\"1\" class=\"dataframe\">\n",
       "  <thead>\n",
       "    <tr style=\"text-align: right;\">\n",
       "      <th></th>\n",
       "      <th>location</th>\n",
       "      <th>CPI score 2020</th>\n",
       "      <th>people_vaccinated_per_hundred</th>\n",
       "    </tr>\n",
       "  </thead>\n",
       "  <tbody>\n",
       "    <tr>\n",
       "      <th>11</th>\n",
       "      <td>Spain</td>\n",
       "      <td>62</td>\n",
       "      <td>80.90</td>\n",
       "    </tr>\n",
       "    <tr>\n",
       "      <th>14</th>\n",
       "      <td>France</td>\n",
       "      <td>69</td>\n",
       "      <td>74.96</td>\n",
       "    </tr>\n",
       "    <tr>\n",
       "      <th>21</th>\n",
       "      <td>Italy</td>\n",
       "      <td>53</td>\n",
       "      <td>75.91</td>\n",
       "    </tr>\n",
       "    <tr>\n",
       "      <th>27</th>\n",
       "      <td>Malta</td>\n",
       "      <td>53</td>\n",
       "      <td>82.37</td>\n",
       "    </tr>\n",
       "    <tr>\n",
       "      <th>32</th>\n",
       "      <td>Portugal</td>\n",
       "      <td>61</td>\n",
       "      <td>88.10</td>\n",
       "    </tr>\n",
       "  </tbody>\n",
       "</table>\n",
       "</div>"
      ],
      "text/plain": [
       "    location  CPI score 2020  people_vaccinated_per_hundred\n",
       "11     Spain              62                          80.90\n",
       "14    France              69                          74.96\n",
       "21     Italy              53                          75.91\n",
       "27     Malta              53                          82.37\n",
       "32  Portugal              61                          88.10"
      ]
     },
     "execution_count": 17,
     "metadata": {},
     "output_type": "execute_result"
    }
   ],
   "source": [
    "condition = (europe_df['CPI score 2020'] > 50) & (europe_df['CPI score 2020'] < 70) & (europe_df['people_vaccinated_per_hundred'] > 70)\n",
    "europe_df[condition][['location', 'CPI score 2020', 'people_vaccinated_per_hundred']]"
   ]
  },
  {
   "cell_type": "markdown",
   "metadata": {},
   "source": [
    "Here we can see that a couple of countries indeed had a notorious first wave (particularly Italy and Spain) and that might have caused additional increase in vaccination rates."
   ]
  },
  {
   "cell_type": "markdown",
   "metadata": {},
   "source": [
    "<a id='Q3'></a>\n",
    "## 3. Can we predict when certain percent of population is vaccinated in France?"
   ]
  },
  {
   "cell_type": "markdown",
   "metadata": {},
   "source": [
    "To predict when certain percent of population is vaccinated, we will use time series analysis. The goal is to forecast percent of population vaccinated from historical data. If we could do that, then we can answer our question."
   ]
  },
  {
   "cell_type": "markdown",
   "metadata": {},
   "source": [
    "### Prepare training and testing data"
   ]
  },
  {
   "cell_type": "markdown",
   "metadata": {},
   "source": [
    "Select relevant data"
   ]
  },
  {
   "cell_type": "code",
   "execution_count": 18,
   "metadata": {
    "scrolled": true
   },
   "outputs": [
    {
     "data": {
      "text/html": [
       "<div>\n",
       "<style scoped>\n",
       "    .dataframe tbody tr th:only-of-type {\n",
       "        vertical-align: middle;\n",
       "    }\n",
       "\n",
       "    .dataframe tbody tr th {\n",
       "        vertical-align: top;\n",
       "    }\n",
       "\n",
       "    .dataframe thead th {\n",
       "        text-align: right;\n",
       "    }\n",
       "</style>\n",
       "<table border=\"1\" class=\"dataframe\">\n",
       "  <thead>\n",
       "    <tr style=\"text-align: right;\">\n",
       "      <th></th>\n",
       "      <th>iso_code</th>\n",
       "      <th>continent</th>\n",
       "      <th>location</th>\n",
       "      <th>date</th>\n",
       "      <th>total_cases</th>\n",
       "      <th>new_cases</th>\n",
       "      <th>new_cases_smoothed</th>\n",
       "      <th>total_deaths</th>\n",
       "      <th>new_deaths</th>\n",
       "      <th>new_deaths_smoothed</th>\n",
       "      <th>...</th>\n",
       "      <th>female_smokers</th>\n",
       "      <th>male_smokers</th>\n",
       "      <th>handwashing_facilities</th>\n",
       "      <th>hospital_beds_per_thousand</th>\n",
       "      <th>life_expectancy</th>\n",
       "      <th>human_development_index</th>\n",
       "      <th>excess_mortality_cumulative_absolute</th>\n",
       "      <th>excess_mortality_cumulative</th>\n",
       "      <th>excess_mortality</th>\n",
       "      <th>excess_mortality_cumulative_per_million</th>\n",
       "    </tr>\n",
       "  </thead>\n",
       "  <tbody>\n",
       "    <tr>\n",
       "      <th>40091</th>\n",
       "      <td>FRA</td>\n",
       "      <td>Europe</td>\n",
       "      <td>France</td>\n",
       "      <td>2021-01-04</td>\n",
       "      <td>2717059.0</td>\n",
       "      <td>4084.0</td>\n",
       "      <td>13915.571</td>\n",
       "      <td>65548.0</td>\n",
       "      <td>385.0</td>\n",
       "      <td>330.571</td>\n",
       "      <td>...</td>\n",
       "      <td>30.1</td>\n",
       "      <td>35.6</td>\n",
       "      <td>NaN</td>\n",
       "      <td>5.98</td>\n",
       "      <td>82.66</td>\n",
       "      <td>0.901</td>\n",
       "      <td>NaN</td>\n",
       "      <td>NaN</td>\n",
       "      <td>NaN</td>\n",
       "      <td>NaN</td>\n",
       "    </tr>\n",
       "    <tr>\n",
       "      <th>40092</th>\n",
       "      <td>FRA</td>\n",
       "      <td>Europe</td>\n",
       "      <td>France</td>\n",
       "      <td>2021-01-05</td>\n",
       "      <td>2737892.0</td>\n",
       "      <td>20833.0</td>\n",
       "      <td>15249.714</td>\n",
       "      <td>66416.0</td>\n",
       "      <td>868.0</td>\n",
       "      <td>316.143</td>\n",
       "      <td>...</td>\n",
       "      <td>30.1</td>\n",
       "      <td>35.6</td>\n",
       "      <td>NaN</td>\n",
       "      <td>5.98</td>\n",
       "      <td>82.66</td>\n",
       "      <td>0.901</td>\n",
       "      <td>NaN</td>\n",
       "      <td>NaN</td>\n",
       "      <td>NaN</td>\n",
       "      <td>NaN</td>\n",
       "    </tr>\n",
       "    <tr>\n",
       "      <th>40093</th>\n",
       "      <td>FRA</td>\n",
       "      <td>Europe</td>\n",
       "      <td>France</td>\n",
       "      <td>2021-01-06</td>\n",
       "      <td>2763078.0</td>\n",
       "      <td>25186.0</td>\n",
       "      <td>15060.000</td>\n",
       "      <td>66698.0</td>\n",
       "      <td>282.0</td>\n",
       "      <td>313.000</td>\n",
       "      <td>...</td>\n",
       "      <td>30.1</td>\n",
       "      <td>35.6</td>\n",
       "      <td>NaN</td>\n",
       "      <td>5.98</td>\n",
       "      <td>82.66</td>\n",
       "      <td>0.901</td>\n",
       "      <td>NaN</td>\n",
       "      <td>NaN</td>\n",
       "      <td>NaN</td>\n",
       "      <td>NaN</td>\n",
       "    </tr>\n",
       "    <tr>\n",
       "      <th>40094</th>\n",
       "      <td>FRA</td>\n",
       "      <td>Europe</td>\n",
       "      <td>France</td>\n",
       "      <td>2021-01-07</td>\n",
       "      <td>2784845.0</td>\n",
       "      <td>21767.0</td>\n",
       "      <td>15312.143</td>\n",
       "      <td>66974.0</td>\n",
       "      <td>276.0</td>\n",
       "      <td>316.571</td>\n",
       "      <td>...</td>\n",
       "      <td>30.1</td>\n",
       "      <td>35.6</td>\n",
       "      <td>NaN</td>\n",
       "      <td>5.98</td>\n",
       "      <td>82.66</td>\n",
       "      <td>0.901</td>\n",
       "      <td>NaN</td>\n",
       "      <td>NaN</td>\n",
       "      <td>NaN</td>\n",
       "      <td>NaN</td>\n",
       "    </tr>\n",
       "    <tr>\n",
       "      <th>40095</th>\n",
       "      <td>FRA</td>\n",
       "      <td>Europe</td>\n",
       "      <td>France</td>\n",
       "      <td>2021-01-08</td>\n",
       "      <td>2804705.0</td>\n",
       "      <td>19860.0</td>\n",
       "      <td>15383.857</td>\n",
       "      <td>67565.0</td>\n",
       "      <td>591.0</td>\n",
       "      <td>382.000</td>\n",
       "      <td>...</td>\n",
       "      <td>30.1</td>\n",
       "      <td>35.6</td>\n",
       "      <td>NaN</td>\n",
       "      <td>5.98</td>\n",
       "      <td>82.66</td>\n",
       "      <td>0.901</td>\n",
       "      <td>NaN</td>\n",
       "      <td>NaN</td>\n",
       "      <td>NaN</td>\n",
       "      <td>NaN</td>\n",
       "    </tr>\n",
       "  </tbody>\n",
       "</table>\n",
       "<p>5 rows × 65 columns</p>\n",
       "</div>"
      ],
      "text/plain": [
       "      iso_code continent location       date  total_cases  new_cases  \\\n",
       "40091      FRA    Europe   France 2021-01-04    2717059.0     4084.0   \n",
       "40092      FRA    Europe   France 2021-01-05    2737892.0    20833.0   \n",
       "40093      FRA    Europe   France 2021-01-06    2763078.0    25186.0   \n",
       "40094      FRA    Europe   France 2021-01-07    2784845.0    21767.0   \n",
       "40095      FRA    Europe   France 2021-01-08    2804705.0    19860.0   \n",
       "\n",
       "       new_cases_smoothed  total_deaths  new_deaths  new_deaths_smoothed  ...  \\\n",
       "40091           13915.571       65548.0       385.0              330.571  ...   \n",
       "40092           15249.714       66416.0       868.0              316.143  ...   \n",
       "40093           15060.000       66698.0       282.0              313.000  ...   \n",
       "40094           15312.143       66974.0       276.0              316.571  ...   \n",
       "40095           15383.857       67565.0       591.0              382.000  ...   \n",
       "\n",
       "       female_smokers  male_smokers  handwashing_facilities  \\\n",
       "40091            30.1          35.6                     NaN   \n",
       "40092            30.1          35.6                     NaN   \n",
       "40093            30.1          35.6                     NaN   \n",
       "40094            30.1          35.6                     NaN   \n",
       "40095            30.1          35.6                     NaN   \n",
       "\n",
       "       hospital_beds_per_thousand  life_expectancy  human_development_index  \\\n",
       "40091                        5.98            82.66                    0.901   \n",
       "40092                        5.98            82.66                    0.901   \n",
       "40093                        5.98            82.66                    0.901   \n",
       "40094                        5.98            82.66                    0.901   \n",
       "40095                        5.98            82.66                    0.901   \n",
       "\n",
       "       excess_mortality_cumulative_absolute  excess_mortality_cumulative  \\\n",
       "40091                                   NaN                          NaN   \n",
       "40092                                   NaN                          NaN   \n",
       "40093                                   NaN                          NaN   \n",
       "40094                                   NaN                          NaN   \n",
       "40095                                   NaN                          NaN   \n",
       "\n",
       "       excess_mortality  excess_mortality_cumulative_per_million  \n",
       "40091               NaN                                      NaN  \n",
       "40092               NaN                                      NaN  \n",
       "40093               NaN                                      NaN  \n",
       "40094               NaN                                      NaN  \n",
       "40095               NaN                                      NaN  \n",
       "\n",
       "[5 rows x 65 columns]"
      ]
     },
     "execution_count": 18,
     "metadata": {},
     "output_type": "execute_result"
    }
   ],
   "source": [
    "condition = (df.iso_code == 'FRA') & (df.people_vaccinated_per_hundred > 0)\n",
    "FRA_df = df[condition]\n",
    "FRA_df.head(5)"
   ]
  },
  {
   "cell_type": "markdown",
   "metadata": {},
   "source": [
    "Prepare data by selecting columns, sorting, removing NaN values and reindexing."
   ]
  },
  {
   "cell_type": "code",
   "execution_count": 19,
   "metadata": {},
   "outputs": [
    {
     "data": {
      "text/html": [
       "<div>\n",
       "<style scoped>\n",
       "    .dataframe tbody tr th:only-of-type {\n",
       "        vertical-align: middle;\n",
       "    }\n",
       "\n",
       "    .dataframe tbody tr th {\n",
       "        vertical-align: top;\n",
       "    }\n",
       "\n",
       "    .dataframe thead th {\n",
       "        text-align: right;\n",
       "    }\n",
       "</style>\n",
       "<table border=\"1\" class=\"dataframe\">\n",
       "  <thead>\n",
       "    <tr style=\"text-align: right;\">\n",
       "      <th></th>\n",
       "      <th>index</th>\n",
       "      <th>date</th>\n",
       "      <th>people_vaccinated_per_hundred</th>\n",
       "    </tr>\n",
       "  </thead>\n",
       "  <tbody>\n",
       "    <tr>\n",
       "      <th>0</th>\n",
       "      <td>40091</td>\n",
       "      <td>2021-01-04</td>\n",
       "      <td>0.01</td>\n",
       "    </tr>\n",
       "    <tr>\n",
       "      <th>1</th>\n",
       "      <td>40092</td>\n",
       "      <td>2021-01-05</td>\n",
       "      <td>0.01</td>\n",
       "    </tr>\n",
       "    <tr>\n",
       "      <th>2</th>\n",
       "      <td>40093</td>\n",
       "      <td>2021-01-06</td>\n",
       "      <td>0.03</td>\n",
       "    </tr>\n",
       "    <tr>\n",
       "      <th>3</th>\n",
       "      <td>40094</td>\n",
       "      <td>2021-01-07</td>\n",
       "      <td>0.08</td>\n",
       "    </tr>\n",
       "    <tr>\n",
       "      <th>4</th>\n",
       "      <td>40095</td>\n",
       "      <td>2021-01-08</td>\n",
       "      <td>0.13</td>\n",
       "    </tr>\n",
       "  </tbody>\n",
       "</table>\n",
       "</div>"
      ],
      "text/plain": [
       "   index       date  people_vaccinated_per_hundred\n",
       "0  40091 2021-01-04                           0.01\n",
       "1  40092 2021-01-05                           0.01\n",
       "2  40093 2021-01-06                           0.03\n",
       "3  40094 2021-01-07                           0.08\n",
       "4  40095 2021-01-08                           0.13"
      ]
     },
     "execution_count": 19,
     "metadata": {},
     "output_type": "execute_result"
    }
   ],
   "source": [
    "FRA_df_simple = FRA_df[['date', 'people_vaccinated_per_hundred']].dropna().sort_values('date', ascending=True).reset_index()\n",
    "FRA_df_simple.head()"
   ]
  },
  {
   "cell_type": "markdown",
   "metadata": {},
   "source": [
    "To use historical data we add columns h1 - h10 using sliding window method."
   ]
  },
  {
   "cell_type": "code",
   "execution_count": 20,
   "metadata": {
    "scrolled": false
   },
   "outputs": [
    {
     "data": {
      "text/html": [
       "<div>\n",
       "<style scoped>\n",
       "    .dataframe tbody tr th:only-of-type {\n",
       "        vertical-align: middle;\n",
       "    }\n",
       "\n",
       "    .dataframe tbody tr th {\n",
       "        vertical-align: top;\n",
       "    }\n",
       "\n",
       "    .dataframe thead th {\n",
       "        text-align: right;\n",
       "    }\n",
       "</style>\n",
       "<table border=\"1\" class=\"dataframe\">\n",
       "  <thead>\n",
       "    <tr style=\"text-align: right;\">\n",
       "      <th></th>\n",
       "      <th>index</th>\n",
       "      <th>date</th>\n",
       "      <th>people_vaccinated_per_hundred</th>\n",
       "      <th>h1</th>\n",
       "      <th>h2</th>\n",
       "      <th>h3</th>\n",
       "      <th>h4</th>\n",
       "      <th>h5</th>\n",
       "      <th>h6</th>\n",
       "      <th>h7</th>\n",
       "      <th>h8</th>\n",
       "      <th>h9</th>\n",
       "      <th>h10</th>\n",
       "    </tr>\n",
       "  </thead>\n",
       "  <tbody>\n",
       "    <tr>\n",
       "      <th>0</th>\n",
       "      <td>40091</td>\n",
       "      <td>2021-01-04</td>\n",
       "      <td>0.01</td>\n",
       "      <td>0.00</td>\n",
       "      <td>0.00</td>\n",
       "      <td>0.00</td>\n",
       "      <td>0.00</td>\n",
       "      <td>0.00</td>\n",
       "      <td>0.00</td>\n",
       "      <td>0.00</td>\n",
       "      <td>0.0</td>\n",
       "      <td>0.0</td>\n",
       "      <td>0.0</td>\n",
       "    </tr>\n",
       "    <tr>\n",
       "      <th>1</th>\n",
       "      <td>40092</td>\n",
       "      <td>2021-01-05</td>\n",
       "      <td>0.01</td>\n",
       "      <td>0.01</td>\n",
       "      <td>0.00</td>\n",
       "      <td>0.00</td>\n",
       "      <td>0.00</td>\n",
       "      <td>0.00</td>\n",
       "      <td>0.00</td>\n",
       "      <td>0.00</td>\n",
       "      <td>0.0</td>\n",
       "      <td>0.0</td>\n",
       "      <td>0.0</td>\n",
       "    </tr>\n",
       "    <tr>\n",
       "      <th>2</th>\n",
       "      <td>40093</td>\n",
       "      <td>2021-01-06</td>\n",
       "      <td>0.03</td>\n",
       "      <td>0.01</td>\n",
       "      <td>0.01</td>\n",
       "      <td>0.00</td>\n",
       "      <td>0.00</td>\n",
       "      <td>0.00</td>\n",
       "      <td>0.00</td>\n",
       "      <td>0.00</td>\n",
       "      <td>0.0</td>\n",
       "      <td>0.0</td>\n",
       "      <td>0.0</td>\n",
       "    </tr>\n",
       "    <tr>\n",
       "      <th>3</th>\n",
       "      <td>40094</td>\n",
       "      <td>2021-01-07</td>\n",
       "      <td>0.08</td>\n",
       "      <td>0.03</td>\n",
       "      <td>0.01</td>\n",
       "      <td>0.01</td>\n",
       "      <td>0.00</td>\n",
       "      <td>0.00</td>\n",
       "      <td>0.00</td>\n",
       "      <td>0.00</td>\n",
       "      <td>0.0</td>\n",
       "      <td>0.0</td>\n",
       "      <td>0.0</td>\n",
       "    </tr>\n",
       "    <tr>\n",
       "      <th>4</th>\n",
       "      <td>40095</td>\n",
       "      <td>2021-01-08</td>\n",
       "      <td>0.13</td>\n",
       "      <td>0.08</td>\n",
       "      <td>0.03</td>\n",
       "      <td>0.01</td>\n",
       "      <td>0.01</td>\n",
       "      <td>0.00</td>\n",
       "      <td>0.00</td>\n",
       "      <td>0.00</td>\n",
       "      <td>0.0</td>\n",
       "      <td>0.0</td>\n",
       "      <td>0.0</td>\n",
       "    </tr>\n",
       "    <tr>\n",
       "      <th>5</th>\n",
       "      <td>40096</td>\n",
       "      <td>2021-01-09</td>\n",
       "      <td>0.15</td>\n",
       "      <td>0.13</td>\n",
       "      <td>0.08</td>\n",
       "      <td>0.03</td>\n",
       "      <td>0.01</td>\n",
       "      <td>0.01</td>\n",
       "      <td>0.00</td>\n",
       "      <td>0.00</td>\n",
       "      <td>0.0</td>\n",
       "      <td>0.0</td>\n",
       "      <td>0.0</td>\n",
       "    </tr>\n",
       "    <tr>\n",
       "      <th>6</th>\n",
       "      <td>40097</td>\n",
       "      <td>2021-01-10</td>\n",
       "      <td>0.15</td>\n",
       "      <td>0.15</td>\n",
       "      <td>0.13</td>\n",
       "      <td>0.08</td>\n",
       "      <td>0.03</td>\n",
       "      <td>0.01</td>\n",
       "      <td>0.01</td>\n",
       "      <td>0.00</td>\n",
       "      <td>0.0</td>\n",
       "      <td>0.0</td>\n",
       "      <td>0.0</td>\n",
       "    </tr>\n",
       "    <tr>\n",
       "      <th>7</th>\n",
       "      <td>40098</td>\n",
       "      <td>2021-01-11</td>\n",
       "      <td>0.21</td>\n",
       "      <td>0.15</td>\n",
       "      <td>0.15</td>\n",
       "      <td>0.13</td>\n",
       "      <td>0.08</td>\n",
       "      <td>0.03</td>\n",
       "      <td>0.01</td>\n",
       "      <td>0.01</td>\n",
       "      <td>0.0</td>\n",
       "      <td>0.0</td>\n",
       "      <td>0.0</td>\n",
       "    </tr>\n",
       "  </tbody>\n",
       "</table>\n",
       "</div>"
      ],
      "text/plain": [
       "   index       date  people_vaccinated_per_hundred    h1    h2    h3    h4  \\\n",
       "0  40091 2021-01-04                           0.01  0.00  0.00  0.00  0.00   \n",
       "1  40092 2021-01-05                           0.01  0.01  0.00  0.00  0.00   \n",
       "2  40093 2021-01-06                           0.03  0.01  0.01  0.00  0.00   \n",
       "3  40094 2021-01-07                           0.08  0.03  0.01  0.01  0.00   \n",
       "4  40095 2021-01-08                           0.13  0.08  0.03  0.01  0.01   \n",
       "5  40096 2021-01-09                           0.15  0.13  0.08  0.03  0.01   \n",
       "6  40097 2021-01-10                           0.15  0.15  0.13  0.08  0.03   \n",
       "7  40098 2021-01-11                           0.21  0.15  0.15  0.13  0.08   \n",
       "\n",
       "     h5    h6    h7   h8   h9  h10  \n",
       "0  0.00  0.00  0.00  0.0  0.0  0.0  \n",
       "1  0.00  0.00  0.00  0.0  0.0  0.0  \n",
       "2  0.00  0.00  0.00  0.0  0.0  0.0  \n",
       "3  0.00  0.00  0.00  0.0  0.0  0.0  \n",
       "4  0.00  0.00  0.00  0.0  0.0  0.0  \n",
       "5  0.01  0.00  0.00  0.0  0.0  0.0  \n",
       "6  0.01  0.01  0.00  0.0  0.0  0.0  \n",
       "7  0.03  0.01  0.01  0.0  0.0  0.0  "
      ]
     },
     "execution_count": 20,
     "metadata": {},
     "output_type": "execute_result"
    }
   ],
   "source": [
    "def getHistoricalData (row, d):\n",
    "    if row.name >= d:\n",
    "        return FRA_df_simple.iloc[(row.name - d), 2]\n",
    "    return 0\n",
    "\n",
    "FRA_df_simple['h1'] = FRA_df_simple.apply(lambda x: getHistoricalData(x, 1), axis=1)\n",
    "FRA_df_simple['h2'] = FRA_df_simple.apply(lambda x: getHistoricalData(x, 2), axis=1)\n",
    "FRA_df_simple['h3'] = FRA_df_simple.apply(lambda x: getHistoricalData(x, 3), axis=1)\n",
    "FRA_df_simple['h4'] = FRA_df_simple.apply(lambda x: getHistoricalData(x, 4), axis=1)\n",
    "FRA_df_simple['h5'] = FRA_df_simple.apply(lambda x: getHistoricalData(x, 5), axis=1)\n",
    "FRA_df_simple['h6'] = FRA_df_simple.apply(lambda x: getHistoricalData(x, 6), axis=1)\n",
    "FRA_df_simple['h7'] = FRA_df_simple.apply(lambda x: getHistoricalData(x, 7), axis=1)\n",
    "FRA_df_simple['h8'] = FRA_df_simple.apply(lambda x: getHistoricalData(x, 8), axis=1)\n",
    "FRA_df_simple['h9'] = FRA_df_simple.apply(lambda x: getHistoricalData(x, 9), axis=1)\n",
    "FRA_df_simple['h10'] = FRA_df_simple.apply(lambda x: getHistoricalData(x, 10), axis=1)\n",
    "FRA_df_simple.head(8)"
   ]
  },
  {
   "cell_type": "markdown",
   "metadata": {},
   "source": [
    "To simplify date to something we can include in calculations we calculate delta from some point in time."
   ]
  },
  {
   "cell_type": "code",
   "execution_count": 21,
   "metadata": {},
   "outputs": [],
   "source": [
    "time_point = mdates.date2num(pd.to_datetime('20210101', format='%Y%m%d', errors='ignore'))\n",
    "\n",
    "FRA_df_simple['delta'] = mdates.date2num(FRA_df_simple['date'])\n",
    "FRA_df_simple['delta'] = FRA_df_simple.apply(lambda row: row['delta'] - time_point, axis=1)"
   ]
  },
  {
   "cell_type": "markdown",
   "metadata": {},
   "source": [
    "Then we will split data into training and testing sets by date"
   ]
  },
  {
   "cell_type": "code",
   "execution_count": 22,
   "metadata": {},
   "outputs": [
    {
     "data": {
      "text/html": [
       "<div>\n",
       "<style scoped>\n",
       "    .dataframe tbody tr th:only-of-type {\n",
       "        vertical-align: middle;\n",
       "    }\n",
       "\n",
       "    .dataframe tbody tr th {\n",
       "        vertical-align: top;\n",
       "    }\n",
       "\n",
       "    .dataframe thead th {\n",
       "        text-align: right;\n",
       "    }\n",
       "</style>\n",
       "<table border=\"1\" class=\"dataframe\">\n",
       "  <thead>\n",
       "    <tr style=\"text-align: right;\">\n",
       "      <th></th>\n",
       "      <th>index</th>\n",
       "      <th>date</th>\n",
       "      <th>people_vaccinated_per_hundred</th>\n",
       "      <th>h1</th>\n",
       "      <th>h2</th>\n",
       "      <th>h3</th>\n",
       "      <th>h4</th>\n",
       "      <th>h5</th>\n",
       "      <th>h6</th>\n",
       "      <th>h7</th>\n",
       "      <th>h8</th>\n",
       "      <th>h9</th>\n",
       "      <th>h10</th>\n",
       "      <th>delta</th>\n",
       "    </tr>\n",
       "  </thead>\n",
       "  <tbody>\n",
       "    <tr>\n",
       "      <th>240</th>\n",
       "      <td>40331</td>\n",
       "      <td>2021-09-01</td>\n",
       "      <td>72.21</td>\n",
       "      <td>72.03</td>\n",
       "      <td>71.84</td>\n",
       "      <td>71.67</td>\n",
       "      <td>71.63</td>\n",
       "      <td>71.50</td>\n",
       "      <td>71.28</td>\n",
       "      <td>71.07</td>\n",
       "      <td>70.85</td>\n",
       "      <td>70.61</td>\n",
       "      <td>70.41</td>\n",
       "      <td>243.0</td>\n",
       "    </tr>\n",
       "    <tr>\n",
       "      <th>241</th>\n",
       "      <td>40332</td>\n",
       "      <td>2021-09-02</td>\n",
       "      <td>72.36</td>\n",
       "      <td>72.21</td>\n",
       "      <td>72.03</td>\n",
       "      <td>71.84</td>\n",
       "      <td>71.67</td>\n",
       "      <td>71.63</td>\n",
       "      <td>71.50</td>\n",
       "      <td>71.28</td>\n",
       "      <td>71.07</td>\n",
       "      <td>70.85</td>\n",
       "      <td>70.61</td>\n",
       "      <td>244.0</td>\n",
       "    </tr>\n",
       "    <tr>\n",
       "      <th>242</th>\n",
       "      <td>40333</td>\n",
       "      <td>2021-09-03</td>\n",
       "      <td>72.53</td>\n",
       "      <td>72.36</td>\n",
       "      <td>72.21</td>\n",
       "      <td>72.03</td>\n",
       "      <td>71.84</td>\n",
       "      <td>71.67</td>\n",
       "      <td>71.63</td>\n",
       "      <td>71.50</td>\n",
       "      <td>71.28</td>\n",
       "      <td>71.07</td>\n",
       "      <td>70.85</td>\n",
       "      <td>245.0</td>\n",
       "    </tr>\n",
       "    <tr>\n",
       "      <th>243</th>\n",
       "      <td>40334</td>\n",
       "      <td>2021-09-04</td>\n",
       "      <td>72.66</td>\n",
       "      <td>72.53</td>\n",
       "      <td>72.36</td>\n",
       "      <td>72.21</td>\n",
       "      <td>72.03</td>\n",
       "      <td>71.84</td>\n",
       "      <td>71.67</td>\n",
       "      <td>71.63</td>\n",
       "      <td>71.50</td>\n",
       "      <td>71.28</td>\n",
       "      <td>71.07</td>\n",
       "      <td>246.0</td>\n",
       "    </tr>\n",
       "    <tr>\n",
       "      <th>244</th>\n",
       "      <td>40335</td>\n",
       "      <td>2021-09-05</td>\n",
       "      <td>72.69</td>\n",
       "      <td>72.66</td>\n",
       "      <td>72.53</td>\n",
       "      <td>72.36</td>\n",
       "      <td>72.21</td>\n",
       "      <td>72.03</td>\n",
       "      <td>71.84</td>\n",
       "      <td>71.67</td>\n",
       "      <td>71.63</td>\n",
       "      <td>71.50</td>\n",
       "      <td>71.28</td>\n",
       "      <td>247.0</td>\n",
       "    </tr>\n",
       "  </tbody>\n",
       "</table>\n",
       "</div>"
      ],
      "text/plain": [
       "     index       date  people_vaccinated_per_hundred     h1     h2     h3  \\\n",
       "240  40331 2021-09-01                          72.21  72.03  71.84  71.67   \n",
       "241  40332 2021-09-02                          72.36  72.21  72.03  71.84   \n",
       "242  40333 2021-09-03                          72.53  72.36  72.21  72.03   \n",
       "243  40334 2021-09-04                          72.66  72.53  72.36  72.21   \n",
       "244  40335 2021-09-05                          72.69  72.66  72.53  72.36   \n",
       "\n",
       "        h4     h5     h6     h7     h8     h9    h10  delta  \n",
       "240  71.63  71.50  71.28  71.07  70.85  70.61  70.41  243.0  \n",
       "241  71.67  71.63  71.50  71.28  71.07  70.85  70.61  244.0  \n",
       "242  71.84  71.67  71.63  71.50  71.28  71.07  70.85  245.0  \n",
       "243  72.03  71.84  71.67  71.63  71.50  71.28  71.07  246.0  \n",
       "244  72.21  72.03  71.84  71.67  71.63  71.50  71.28  247.0  "
      ]
     },
     "execution_count": 22,
     "metadata": {},
     "output_type": "execute_result"
    }
   ],
   "source": [
    "date_to_split = pd.Timestamp(2021, 9, 1)\n",
    "FRA_df_simple_train = FRA_df_simple[FRA_df_simple.date < date_to_split]\n",
    "FRA_df_simple_test = FRA_df_simple[FRA_df_simple.date >= date_to_split]\n",
    "FRA_df_simple_test.head()"
   ]
  },
  {
   "cell_type": "markdown",
   "metadata": {},
   "source": [
    "Before we prepare our model, first we will try a few basic approaches to have some baseline. First one is polynomial fit. 4th degree polynomial had lowest RMSE and 3rd degree polynomial matches the training data curve."
   ]
  },
  {
   "cell_type": "code",
   "execution_count": 23,
   "metadata": {},
   "outputs": [
    {
     "name": "stdout",
     "output_type": "stream",
     "text": [
      "RMSE = 0.51\n",
      "RMSE = 2.97\n"
     ]
    }
   ],
   "source": [
    "z4 = np.polyfit(FRA_df_simple_train['delta'], FRA_df_simple_train['people_vaccinated_per_hundred'], 4)\n",
    "p4 = np.poly1d(z4)\n",
    "\n",
    "p4_actual_data = FRA_df_simple_test['people_vaccinated_per_hundred'].values\n",
    "p4_fit = p4(FRA_df_simple_train['delta'])\n",
    "p4_pred = p4(FRA_df_simple_test['delta'])\n",
    "\n",
    "p4_residuals = p4_pred - p4_actual_data\n",
    "p4_rmse = np.sqrt(np.sum(np.power(p4_residuals,2)) / len(p4_residuals))\n",
    "print('RMSE = %.2f' % p4_rmse)\n",
    "\n",
    "z3 = np.polyfit(FRA_df_simple_train['delta'], FRA_df_simple_train['people_vaccinated_per_hundred'], 3)\n",
    "p3 = np.poly1d(z3)\n",
    "\n",
    "p3_actual_data = FRA_df_simple_test['people_vaccinated_per_hundred'].values\n",
    "p3_fit = p3(FRA_df_simple_train['delta'])\n",
    "p3_pred = p3(FRA_df_simple_test['delta'])\n",
    "\n",
    "p3_residuals = p3_pred - p3_actual_data\n",
    "p3_rmse = np.sqrt(np.sum(np.power(p3_residuals,2)) / len(p3_residuals))\n",
    "print('RMSE = %.2f' % p3_rmse)"
   ]
  },
  {
   "cell_type": "markdown",
   "metadata": {},
   "source": [
    "Plot these curves"
   ]
  },
  {
   "cell_type": "code",
   "execution_count": 38,
   "metadata": {},
   "outputs": [
    {
     "data": {
      "image/png": "[encoded data removed]",
      "text/plain": [
       "<Figure size 1080x576 with 1 Axes>"
      ]
     },
     "metadata": {
      "needs_background": "light"
     },
     "output_type": "display_data"
    }
   ],
   "source": [
    "ax = None\n",
    "ax = FRA_df_simple.plot( x='delta', y='people_vaccinated_per_hundred', figsize=(15,8), title='FRA', ax=ax)\n",
    "\n",
    "ax.plot(FRA_df_simple_train['delta'], p4_fit, '-b')\n",
    "ax.plot(FRA_df_simple_test['delta'], p4_pred, '-m')\n",
    "\n",
    "ax.plot(FRA_df_simple_train['delta'], p3_fit, '-g')\n",
    "ax.plot(FRA_df_simple_test['delta'], p3_pred, '-r')\n",
    "\n",
    "plt.title('Polynomials')\n",
    "plt.legend(['actual data', 'p4_fit', 'p4_pred', 'p3_fit', 'p3_pred'])\n",
    "plt.show()"
   ]
  },
  {
   "cell_type": "markdown",
   "metadata": {},
   "source": [
    "Most simple time series model - we just return previous historical data"
   ]
  },
  {
   "cell_type": "code",
   "execution_count": 25,
   "metadata": {},
   "outputs": [
    {
     "name": "stdout",
     "output_type": "stream",
     "text": [
      "RMSE = 0.08\n"
     ]
    }
   ],
   "source": [
    "h_actual_data = FRA_df_simple_test['people_vaccinated_per_hundred'].values\n",
    "h_fit = FRA_df_simple_train['h1']\n",
    "h_pred = FRA_df_simple_test['h1']\n",
    "\n",
    "h_residuals = h_pred - h_actual_data\n",
    "h_rmse = np.sqrt(np.sum(np.power(h_residuals,2)) / len(h_residuals))\n",
    "print('RMSE = %.2f' % h_rmse)"
   ]
  },
  {
   "cell_type": "markdown",
   "metadata": {},
   "source": [
    "This simple model performs better than polynomial fit.\n",
    "Then we prepare Linear Regression model, that takes in historical data as input. Selected parameters returned lowest RMSE."
   ]
  },
  {
   "cell_type": "code",
   "execution_count": 26,
   "metadata": {},
   "outputs": [
    {
     "name": "stdout",
     "output_type": "stream",
     "text": [
      "RMSE = 0.03\n"
     ]
    }
   ],
   "source": [
    "columns = ['h1', 'h2', 'h3', 'h10']\n",
    "\n",
    "fra_lr_model = LinearRegression()\n",
    "fra_lr_model.fit(FRA_df_simple_train[columns], FRA_df_simple_train['people_vaccinated_per_hundred'])\n",
    "\n",
    "lr_actual_data = FRA_df_simple_test['people_vaccinated_per_hundred'].values\n",
    "lr_fit = fra_lr_model.predict(FRA_df_simple_train[columns])\n",
    "lr_pred = fra_lr_model.predict(FRA_df_simple_test[columns])\n",
    "\n",
    "lr_residuals = lr_pred - lr_actual_data\n",
    "lr_rmse = np.sqrt(np.sum(np.power(lr_residuals,2)) / len(lr_residuals))\n",
    "print('RMSE = %.2f' % lr_rmse)"
   ]
  },
  {
   "cell_type": "markdown",
   "metadata": {},
   "source": [
    "This model performed better than our simple approach."
   ]
  },
  {
   "cell_type": "code",
   "execution_count": 42,
   "metadata": {},
   "outputs": [
    {
     "data": {
      "image/png": "[encoded data removed]",
      "text/plain": [
       "<Figure size 1080x576 with 1 Axes>"
      ]
     },
     "metadata": {
      "needs_background": "light"
     },
     "output_type": "display_data"
    }
   ],
   "source": [
    "ax = None\n",
    "ax = FRA_df_simple.plot( x='delta', y='people_vaccinated_per_hundred', figsize=(15,8), title='FRA', ax=ax)\n",
    "\n",
    "ax.plot(FRA_df_simple_train['delta'], h_fit, '-b')\n",
    "ax.plot(FRA_df_simple_test['delta'], h_pred, '-m')\n",
    "\n",
    "ax.plot(FRA_df_simple_train['delta'], lr_fit, '-g')\n",
    "ax.plot(FRA_df_simple_test['delta'], lr_pred, '-r')\n",
    "\n",
    "plt.legend(['actual data', 'h_fit', 'h_pred', 'lr_fit', 'lr_pred'])\n",
    "plt.show()"
   ]
  },
  {
   "cell_type": "markdown",
   "metadata": {},
   "source": [
    "To see clearer plot testing results."
   ]
  },
  {
   "cell_type": "code",
   "execution_count": 41,
   "metadata": {
    "scrolled": false
   },
   "outputs": [
    {
     "data": {
      "image/png": "[encoded data removed]",
      "text/plain": [
       "<Figure size 1080x576 with 1 Axes>"
      ]
     },
     "metadata": {
      "needs_background": "light"
     },
     "output_type": "display_data"
    }
   ],
   "source": [
    "plt.figure(1, [15,8])\n",
    "plt.plot(FRA_df_simple_test['delta'], FRA_df_simple_test['people_vaccinated_per_hundred'], '-b')\n",
    "\n",
    "plt.plot(FRA_df_simple_test['delta'], h_pred, '-m')\n",
    "plt.plot(FRA_df_simple_test['delta'], lr_pred, '-r')\n",
    "\n",
    "plt.legend(['actual data', 'h_pred', 'lr_pred'])\n",
    "plt.show()"
   ]
  },
  {
   "cell_type": "markdown",
   "metadata": {},
   "source": [
    "From graph we can see that Linear Regression model works quite well, but cannot predict minor changes and takes some time to react to it. Also, these models are so accurate because we provide up to date input data, so basically, they rely on the newest data to forecast one day forward. We can test what happens if we provide its own predictions to forecast future data."
   ]
  },
  {
   "cell_type": "code",
   "execution_count": 29,
   "metadata": {},
   "outputs": [
    {
     "name": "stdout",
     "output_type": "stream",
     "text": [
      "RMSE = 2.40\n"
     ]
    }
   ],
   "source": [
    "lr_pred_new = []\n",
    "\n",
    "value = FRA_df_simple_train.iloc[-1, :]\n",
    "q = [value['h9'], value['h8'], value['h7'], value['h6'], value['h5'], value['h4']]\n",
    "v = [value['h1'], value['h2'], value['h3'], value['h10']]\n",
    "\n",
    "for x in range(lr_actual_data.size):\n",
    "    pred = fra_lr_model.predict([v])\n",
    "    q.append(v[2])\n",
    "    v[3] = q.pop()\n",
    "    v[2] = v[1]\n",
    "    v[1] = v[0]\n",
    "    v[0] = pred[0]    \n",
    "    lr_pred_new.append(pred[0])\n",
    "    \n",
    "lr_residuals_new = lr_pred_new - lr_actual_data\n",
    "lr_rmse = np.sqrt(np.sum(np.power(lr_residuals_new,2)) / len(lr_residuals_new))\n",
    "print('RMSE = %.2f' % lr_rmse)"
   ]
  },
  {
   "cell_type": "markdown",
   "metadata": {},
   "source": [
    "Performance quickly goes down if we do not provide newest data to adjust predictions"
   ]
  },
  {
   "cell_type": "code",
   "execution_count": 44,
   "metadata": {},
   "outputs": [
    {
     "data": {
      "image/png": "[encoded data removed]",
      "text/plain": [
       "<Figure size 1080x576 with 1 Axes>"
      ]
     },
     "metadata": {
      "needs_background": "light"
     },
     "output_type": "display_data"
    }
   ],
   "source": [
    "plt.figure(1, [15,8])\n",
    "plt.plot(FRA_df_simple_test['delta'], FRA_df_simple_test['people_vaccinated_per_hundred'], '-b')\n",
    "\n",
    "plt.plot(FRA_df_simple_test['delta'], lr_pred, '-g')\n",
    "plt.plot(FRA_df_simple_test['delta'], lr_pred_new, '-r')\n",
    "\n",
    "plt.legend(['actual data', 'lr_pred', 'lr_pred without newest data'])\n",
    "plt.show()"
   ]
  },
  {
   "cell_type": "markdown",
   "metadata": {},
   "source": [
    "Lastly, we use Autoregressive AR-X(p) model. After some tests it turned out that this configuration had smallest RMSE"
   ]
  },
  {
   "cell_type": "code",
   "execution_count": 31,
   "metadata": {},
   "outputs": [
    {
     "name": "stdout",
     "output_type": "stream",
     "text": [
      "RMSE = 0.42\n"
     ]
    },
    {
     "name": "stderr",
     "output_type": "stream",
     "text": [
      "C:\\Users\\HP\\Desktop\\WPy64-3950\\python-3.9.5.amd64\\lib\\site-packages\\statsmodels\\tsa\\ar_model.py:248: FutureWarning: The parameter names will change after 0.12 is released. Set old_names to False to use the new names now. Set old_names to True to use the old names. \n",
      "  warnings.warn(\n"
     ]
    },
    {
     "data": {
      "text/plain": [
       "240    72.187362\n",
       "241    72.354736\n",
       "242    72.536155\n",
       "243    72.617013\n",
       "244    72.680053\n",
       "dtype: float64"
      ]
     },
     "execution_count": 31,
     "metadata": {},
     "output_type": "execute_result"
    }
   ],
   "source": [
    "fra_ar_model = AutoReg(FRA_df_simple_train['people_vaccinated_per_hundred'], lags=[1, 2, 3, 5, 6, 7, 9]).fit()\n",
    "\n",
    "ar_actual_data = FRA_df_simple_test['people_vaccinated_per_hundred'].values\n",
    "ar_pred = fra_ar_model.predict(start=FRA_df_simple_test['people_vaccinated_per_hundred'].index.min(), end=FRA_df_simple_test['people_vaccinated_per_hundred'].index.max())\n",
    "\n",
    "ar_residuals = ar_pred - ar_actual_data\n",
    "ar_rmse = np.sqrt(np.sum(np.power(ar_residuals,2)) / len(ar_residuals))\n",
    "print('RMSE = %.2f' % ar_rmse)\n",
    "ar_pred.head()"
   ]
  },
  {
   "cell_type": "markdown",
   "metadata": {},
   "source": [
    "Plot results"
   ]
  },
  {
   "cell_type": "code",
   "execution_count": 45,
   "metadata": {},
   "outputs": [
    {
     "data": {
      "image/png": "[encoded data removed]",
      "text/plain": [
       "<Figure size 1080x576 with 1 Axes>"
      ]
     },
     "metadata": {
      "needs_background": "light"
     },
     "output_type": "display_data"
    }
   ],
   "source": [
    "plt.figure(1, [15,8])\n",
    "plt.plot(FRA_df_simple_test['delta'], FRA_df_simple_test['people_vaccinated_per_hundred'], '-b')\n",
    "\n",
    "plt.plot(FRA_df_simple_test['delta'], p4_pred, '-g')\n",
    "plt.plot(FRA_df_simple_test['delta'], p3_pred, '-c')\n",
    "plt.plot(FRA_df_simple_test['delta'], ar_pred, '-r')\n",
    "\n",
    "plt.legend(['actual data', 'p4_pred', 'p3_pred', 'ar_pred'])\n",
    "\n",
    "plt.show()"
   ]
  },
  {
   "cell_type": "markdown",
   "metadata": {},
   "source": [
    "So, to answer the question “Can we predict when certain percent of population is vaccinated in France?”, it depends. As we could see – mostly how far in the future is that event, because we managed to achieve quite good predictions in the near future, but the farther we look, the worse is prediction. These models didn’t include other data available. Also, they are quite basic and predicts exact result, so something that forecasts probability might work better in this case."
   ]
  }
 ],
 "metadata": {
  "kernelspec": {
   "display_name": "Python 3",
   "language": "python",
   "name": "python3"
  },
  "language_info": {
   "codemirror_mode": {
    "name": "ipython",
    "version": 3
   },
   "file_extension": ".py",
   "mimetype": "text/x-python",
   "name": "python",
   "nbconvert_exporter": "python",
   "pygments_lexer": "ipython3",
   "version": "3.9.5"
  }
 },
 "nbformat": 4,
 "nbformat_minor": 4
}
