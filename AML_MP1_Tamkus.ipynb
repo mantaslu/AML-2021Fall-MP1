{
  "nbformat": 4,
  "nbformat_minor": 0,
  "metadata": {
    "kernelspec": {
      "name": "python3",
      "display_name": "Python 3.9.5 64-bit"
    },
    "language_info": {
      "codemirror_mode": {
        "name": "ipython",
        "version": 3
      },
      "file_extension": ".py",
      "mimetype": "text/x-python",
      "name": "python",
      "nbconvert_exporter": "python",
      "pygments_lexer": "ipython3",
      "version": "3.9.5"
    },
    "interpreter": {
      "hash": "31988ec4efb078c568e270cbee2e0369cb9699924389bb9f96dad601ce81bab9"
    },
    "colab": {
      "name": "AML_MP1_Tamkus.ipynb",
      "provenance": []
    }
  },
  "cells": [
    {
      "cell_type": "markdown",
      "metadata": {
        "id": "7b6-0JfhhV1n"
      },
      "source": [
        "<a id='main' name=\"main\"></a>\n",
        "# Viral Data Analysis\n",
        "\n",
        "Date: 2021.10.10\n",
        "\n",
        "Author: © 2021 Deividas Tamkus \n",
        "\n",
        "This notebook is part of an individual project for [KTU IF](https://fi.ktu.edu/)  [P176M010 Advanced Machine Learning](https://admissions.ktu.edu/programme/m-software-engineering/#P176M010) class led by [M. Lukoševičius](http://mantas.info/).\n",
        "\n",
        "Here we analyze open COVID-19 data from [Our World in Data](https://ourworldindata.org/) to answer the following questions:\n",
        "\n",
        "1. [Which 10 countries have the highest percentage of smokers?](#Q1)\n",
        "1. [How does the percentage of smokers correlate with covid mortality rate?](#Q2)\n",
        "1. [Can we predict the total deaths based on total cases and percentage of smokers?](#Q3)\n",
        "\n",
        "We additionally use data from:\n",
        "* https://ourworldindata.org/gender-ratio\n",
        "\n",
        "This work is licensed under a <a rel=\"license\" href=\"http://creativecommons.org/licenses/by/4.0/\">Creative Commons Attribution 4.0 International license</a>. <a rel=\"license\" href=\"http://creativecommons.org/licenses/by/4.0/\"><img alt=\"Creative Commons licencija\" style=\"border-width:0\" src=\"https://i.creativecommons.org/l/by/4.0/80x15.png\" /></a> "
      ]
    },
    {
      "cell_type": "markdown",
      "metadata": {
        "id": "62Kv7_crhV1q"
      },
      "source": [
        "## Load the data"
      ]
    },
    {
      "cell_type": "code",
      "metadata": {
        "id": "Qvqs1NXjhV1q"
      },
      "source": [
        "import numpy as np\n",
        "import numpy.ma as ma\n",
        "import pandas as pd\n",
        "import matplotlib.pyplot as plt"
      ],
      "execution_count": null,
      "outputs": []
    },
    {
      "cell_type": "markdown",
      "metadata": {
        "id": "l045poAphV1r"
      },
      "source": [
        "Download the data to cache locally. Do this once (a day), and comment out, not to DoS the server. (adopted from https://stackoverflow.com/a/35997720)."
      ]
    },
    {
      "cell_type": "code",
      "metadata": {
        "id": "p4biyay2hV1s",
        "colab": {
          "base_uri": "https://localhost:8080/"
        },
        "outputId": "24d21f1c-91de-416b-f244-4023e5aced89"
      },
      "source": [
        "import requests\n",
        "fname = 'owid-covid-data.csv'\n",
        "url = 'https://covid.ourworldindata.org/data/' + fname\n",
        "r = requests.get(url)\n",
        "open(fname, 'wb').write(r.content)"
      ],
      "execution_count": null,
      "outputs": [
        {
          "output_type": "execute_result",
          "data": {
            "text/plain": [
              "33716955"
            ]
          },
          "metadata": {},
          "execution_count": 2
        }
      ]
    },
    {
      "cell_type": "markdown",
      "metadata": {
        "id": "rnRj3anVhV1t"
      },
      "source": [
        "Load the file to Pandas."
      ]
    },
    {
      "cell_type": "code",
      "metadata": {
        "id": "yTbRy6mohV1t"
      },
      "source": [
        "#url = \"https://covid.ourworldindata.org/data/owid-covid-data.csv\"\n",
        "# download the file locally when developing, not to DoS the server:\n",
        "url = \"owid-covid-data.csv\" \n",
        "df = pd.read_csv(url, parse_dates=[3])"
      ],
      "execution_count": null,
      "outputs": []
    },
    {
      "cell_type": "markdown",
      "metadata": {
        "id": "avX7mAIshV1t"
      },
      "source": [
        "Check the columns available."
      ]
    },
    {
      "cell_type": "code",
      "metadata": {
        "scrolled": true,
        "id": "pXght168hV1t",
        "colab": {
          "base_uri": "https://localhost:8080/"
        },
        "outputId": "0db0ef6e-d817-4a46-cd9a-321503c68830"
      },
      "source": [
        "df.info()"
      ],
      "execution_count": null,
      "outputs": [
        {
          "output_type": "stream",
          "name": "stdout",
          "text": [
            "<class 'pandas.core.frame.DataFrame'>\n",
            "RangeIndex: 123030 entries, 0 to 123029\n",
            "Data columns (total 65 columns):\n",
            " #   Column                                   Non-Null Count   Dtype         \n",
            "---  ------                                   --------------   -----         \n",
            " 0   iso_code                                 123030 non-null  object        \n",
            " 1   continent                                117443 non-null  object        \n",
            " 2   location                                 123030 non-null  object        \n",
            " 3   date                                     123030 non-null  datetime64[ns]\n",
            " 4   total_cases                              116528 non-null  float64       \n",
            " 5   new_cases                                116524 non-null  float64       \n",
            " 6   new_cases_smoothed                       115510 non-null  float64       \n",
            " 7   total_deaths                             105683 non-null  float64       \n",
            " 8   new_deaths                               105836 non-null  float64       \n",
            " 9   new_deaths_smoothed                      115510 non-null  float64       \n",
            " 10  total_cases_per_million                  115915 non-null  float64       \n",
            " 11  new_cases_per_million                    115911 non-null  float64       \n",
            " 12  new_cases_smoothed_per_million           114902 non-null  float64       \n",
            " 13  total_deaths_per_million                 105083 non-null  float64       \n",
            " 14  new_deaths_per_million                   105236 non-null  float64       \n",
            " 15  new_deaths_smoothed_per_million          114902 non-null  float64       \n",
            " 16  reproduction_rate                        98688 non-null   float64       \n",
            " 17  icu_patients                             14470 non-null   float64       \n",
            " 18  icu_patients_per_million                 14470 non-null   float64       \n",
            " 19  hosp_patients                            16523 non-null   float64       \n",
            " 20  hosp_patients_per_million                16523 non-null   float64       \n",
            " 21  weekly_icu_admissions                    1269 non-null    float64       \n",
            " 22  weekly_icu_admissions_per_million        1269 non-null    float64       \n",
            " 23  weekly_hosp_admissions                   2092 non-null    float64       \n",
            " 24  weekly_hosp_admissions_per_million       2092 non-null    float64       \n",
            " 25  new_tests                                52730 non-null   float64       \n",
            " 26  total_tests                              52832 non-null   float64       \n",
            " 27  total_tests_per_thousand                 52832 non-null   float64       \n",
            " 28  new_tests_per_thousand                   52730 non-null   float64       \n",
            " 29  new_tests_smoothed                       63448 non-null   float64       \n",
            " 30  new_tests_smoothed_per_thousand          63448 non-null   float64       \n",
            " 31  positive_rate                            59569 non-null   float64       \n",
            " 32  tests_per_case                           58929 non-null   float64       \n",
            " 33  tests_units                              65392 non-null   object        \n",
            " 34  total_vaccinations                       28664 non-null   float64       \n",
            " 35  people_vaccinated                        27226 non-null   float64       \n",
            " 36  people_fully_vaccinated                  24123 non-null   float64       \n",
            " 37  total_boosters                           3235 non-null    float64       \n",
            " 38  new_vaccinations                         23734 non-null   float64       \n",
            " 39  new_vaccinations_smoothed                51483 non-null   float64       \n",
            " 40  total_vaccinations_per_hundred           28664 non-null   float64       \n",
            " 41  people_vaccinated_per_hundred            27226 non-null   float64       \n",
            " 42  people_fully_vaccinated_per_hundred      24123 non-null   float64       \n",
            " 43  total_boosters_per_hundred               3235 non-null    float64       \n",
            " 44  new_vaccinations_smoothed_per_million    51483 non-null   float64       \n",
            " 45  stringency_index                         102697 non-null  float64       \n",
            " 46  population                               122161 non-null  float64       \n",
            " 47  population_density                       113706 non-null  float64       \n",
            " 48  median_age                               108533 non-null  float64       \n",
            " 49  aged_65_older                            107329 non-null  float64       \n",
            " 50  aged_70_older                            107939 non-null  float64       \n",
            " 51  gdp_per_capita                           109187 non-null  float64       \n",
            " 52  extreme_poverty                          73107 non-null   float64       \n",
            " 53  cardiovasc_death_rate                    108820 non-null  float64       \n",
            " 54  diabetes_prevalence                      112225 non-null  float64       \n",
            " 55  female_smokers                           84803 non-null   float64       \n",
            " 56  male_smokers                             83573 non-null   float64       \n",
            " 57  handwashing_facilities                   54768 non-null   float64       \n",
            " 58  hospital_beds_per_thousand               98938 non-null   float64       \n",
            " 59  life_expectancy                          116692 non-null  float64       \n",
            " 60  human_development_index                  108912 non-null  float64       \n",
            " 61  excess_mortality_cumulative_absolute     4501 non-null    float64       \n",
            " 62  excess_mortality_cumulative              4501 non-null    float64       \n",
            " 63  excess_mortality                         4501 non-null    float64       \n",
            " 64  excess_mortality_cumulative_per_million  4501 non-null    float64       \n",
            "dtypes: datetime64[ns](1), float64(60), object(4)\n",
            "memory usage: 61.0+ MB\n"
          ]
        }
      ]
    },
    {
      "cell_type": "markdown",
      "metadata": {
        "id": "QSf2jYsJhV1u"
      },
      "source": [
        "The columns are explained [here](https://github.com/owid/covid-19-data/blob/master/public/data/owid-covid-codebook.csv)."
      ]
    },
    {
      "cell_type": "markdown",
      "metadata": {
        "id": "FsptNBBKnlu7"
      },
      "source": [
        "Since the work uses the total percentage of smokers, but the dataset only provides the male and female smokers, we need the percentage of males and females to correct it."
      ]
    },
    {
      "cell_type": "code",
      "metadata": {
        "id": "1mqtY-Zfoj3y"
      },
      "source": [
        "url = \"share-population-female.csv\" \n",
        "sex_df = pd.read_csv(url)"
      ],
      "execution_count": null,
      "outputs": []
    },
    {
      "cell_type": "markdown",
      "metadata": {
        "id": "jtQcu2nmnZMk"
      },
      "source": [
        "We get rid of any rows that don't contain the essential columns."
      ]
    },
    {
      "cell_type": "code",
      "metadata": {
        "id": "KPbqt8WeuKyK"
      },
      "source": [
        "sex_df.dropna(subset = [\"Code\", \"Year\", \"Population, female (% of total population)\"], inplace=True)"
      ],
      "execution_count": null,
      "outputs": []
    },
    {
      "cell_type": "markdown",
      "metadata": {
        "id": "fE9oS2nynhhO"
      },
      "source": [
        "Then we wort the values by year, group by country and get the top rows. This will filter the data so that we have only the latest data for each country."
      ]
    },
    {
      "cell_type": "code",
      "metadata": {
        "id": "BTn6tHInuZ2X"
      },
      "source": [
        "sex_df = sex_df.sort_values(['Year'],ascending=False).groupby('Code').head(1)"
      ],
      "execution_count": null,
      "outputs": []
    },
    {
      "cell_type": "code",
      "metadata": {
        "colab": {
          "base_uri": "https://localhost:8080/",
          "height": 203
        },
        "id": "T2KYQSueugfw",
        "outputId": "6c600c0c-2a02-43fe-fd4c-8bb48b687061"
      },
      "source": [
        "sex_df.head()"
      ],
      "execution_count": null,
      "outputs": [
        {
          "output_type": "execute_result",
          "data": {
            "text/html": [
              "<div>\n",
              "<style scoped>\n",
              "    .dataframe tbody tr th:only-of-type {\n",
              "        vertical-align: middle;\n",
              "    }\n",
              "\n",
              "    .dataframe tbody tr th {\n",
              "        vertical-align: top;\n",
              "    }\n",
              "\n",
              "    .dataframe thead th {\n",
              "        text-align: right;\n",
              "    }\n",
              "</style>\n",
              "<table border=\"1\" class=\"dataframe\">\n",
              "  <thead>\n",
              "    <tr style=\"text-align: right;\">\n",
              "      <th></th>\n",
              "      <th>Entity</th>\n",
              "      <th>Code</th>\n",
              "      <th>Year</th>\n",
              "      <th>Population, female (% of total population)</th>\n",
              "    </tr>\n",
              "  </thead>\n",
              "  <tbody>\n",
              "    <tr>\n",
              "      <th>14752</th>\n",
              "      <td>Zimbabwe</td>\n",
              "      <td>ZWE</td>\n",
              "      <td>2020</td>\n",
              "      <td>52.283894</td>\n",
              "    </tr>\n",
              "    <tr>\n",
              "      <th>3842</th>\n",
              "      <td>El Salvador</td>\n",
              "      <td>SLV</td>\n",
              "      <td>2020</td>\n",
              "      <td>53.186403</td>\n",
              "    </tr>\n",
              "    <tr>\n",
              "      <th>9323</th>\n",
              "      <td>Mozambique</td>\n",
              "      <td>MOZ</td>\n",
              "      <td>2020</td>\n",
              "      <td>51.406099</td>\n",
              "    </tr>\n",
              "    <tr>\n",
              "      <th>12617</th>\n",
              "      <td>Spain</td>\n",
              "      <td>ESP</td>\n",
              "      <td>2020</td>\n",
              "      <td>50.853503</td>\n",
              "    </tr>\n",
              "    <tr>\n",
              "      <th>5480</th>\n",
              "      <td>Guyana</td>\n",
              "      <td>GUY</td>\n",
              "      <td>2020</td>\n",
              "      <td>49.711465</td>\n",
              "    </tr>\n",
              "  </tbody>\n",
              "</table>\n",
              "</div>"
            ],
            "text/plain": [
              "            Entity Code  Year  Population, female (% of total population)\n",
              "14752     Zimbabwe  ZWE  2020                                   52.283894\n",
              "3842   El Salvador  SLV  2020                                   53.186403\n",
              "9323    Mozambique  MOZ  2020                                   51.406099\n",
              "12617        Spain  ESP  2020                                   50.853503\n",
              "5480        Guyana  GUY  2020                                   49.711465"
            ]
          },
          "metadata": {},
          "execution_count": 8
        }
      ]
    },
    {
      "cell_type": "markdown",
      "metadata": {
        "id": "aF9prg7Un3mM"
      },
      "source": [
        "We also get rid of any rows that do not contain the essential columns for the covid data."
      ]
    },
    {
      "cell_type": "code",
      "metadata": {
        "id": "V4Xt0NfIr9Q-"
      },
      "source": [
        "df.dropna(subset = [\"male_smokers\", \"female_smokers\", \"total_cases\", \"total_deaths\", \"iso_code\", \"date\"], inplace=True)"
      ],
      "execution_count": null,
      "outputs": []
    },
    {
      "cell_type": "markdown",
      "metadata": {
        "id": "oMCiyzjzoB7Y"
      },
      "source": [
        "We get rid of any columns that we won't use in the project, just so that the data isn't so cluttered."
      ]
    },
    {
      "cell_type": "code",
      "metadata": {
        "id": "rgYI1qwTthR9"
      },
      "source": [
        "df = df[[\"male_smokers\", \"female_smokers\", \"total_cases\", \"total_deaths\", \"iso_code\", \"date\"]]"
      ],
      "execution_count": null,
      "outputs": []
    },
    {
      "cell_type": "markdown",
      "metadata": {
        "id": "EJKgLwE5oTz0"
      },
      "source": [
        "We perform the same operation for the covid data to only get the latest data fro each country."
      ]
    },
    {
      "cell_type": "code",
      "metadata": {
        "id": "qM_Vcpars39e"
      },
      "source": [
        "df = df.sort_values(['date'],ascending=False).groupby('iso_code').head(1)"
      ],
      "execution_count": null,
      "outputs": []
    },
    {
      "cell_type": "code",
      "metadata": {
        "id": "_7kZpBjLhV1u",
        "colab": {
          "base_uri": "https://localhost:8080/",
          "height": 203
        },
        "outputId": "6c0cb7f7-17f2-478c-8b00-8075df74c4d9"
      },
      "source": [
        "df.head()"
      ],
      "execution_count": null,
      "outputs": [
        {
          "output_type": "execute_result",
          "data": {
            "text/html": [
              "<div>\n",
              "<style scoped>\n",
              "    .dataframe tbody tr th:only-of-type {\n",
              "        vertical-align: middle;\n",
              "    }\n",
              "\n",
              "    .dataframe tbody tr th {\n",
              "        vertical-align: top;\n",
              "    }\n",
              "\n",
              "    .dataframe thead th {\n",
              "        text-align: right;\n",
              "    }\n",
              "</style>\n",
              "<table border=\"1\" class=\"dataframe\">\n",
              "  <thead>\n",
              "    <tr style=\"text-align: right;\">\n",
              "      <th></th>\n",
              "      <th>male_smokers</th>\n",
              "      <th>female_smokers</th>\n",
              "      <th>total_cases</th>\n",
              "      <th>total_deaths</th>\n",
              "      <th>iso_code</th>\n",
              "      <th>date</th>\n",
              "    </tr>\n",
              "  </thead>\n",
              "  <tbody>\n",
              "    <tr>\n",
              "      <th>123029</th>\n",
              "      <td>30.7</td>\n",
              "      <td>1.6</td>\n",
              "      <td>131875.0</td>\n",
              "      <td>4643.0</td>\n",
              "      <td>ZWE</td>\n",
              "      <td>2021-10-11</td>\n",
              "    </tr>\n",
              "    <tr>\n",
              "      <th>90014</th>\n",
              "      <td>30.0</td>\n",
              "      <td>16.3</td>\n",
              "      <td>1075639.0</td>\n",
              "      <td>18048.0</td>\n",
              "      <td>PRT</td>\n",
              "      <td>2021-10-11</td>\n",
              "    </tr>\n",
              "    <tr>\n",
              "      <th>15098</th>\n",
              "      <td>47.7</td>\n",
              "      <td>30.2</td>\n",
              "      <td>241227.0</td>\n",
              "      <td>10965.0</td>\n",
              "      <td>BIH</td>\n",
              "      <td>2021-10-11</td>\n",
              "    </tr>\n",
              "    <tr>\n",
              "      <th>84501</th>\n",
              "      <td>15.6</td>\n",
              "      <td>0.5</td>\n",
              "      <td>303978.0</td>\n",
              "      <td>4102.0</td>\n",
              "      <td>OMN</td>\n",
              "      <td>2021-10-11</td>\n",
              "    </tr>\n",
              "    <tr>\n",
              "      <th>76647</th>\n",
              "      <td>35.2</td>\n",
              "      <td>6.3</td>\n",
              "      <td>479848.0</td>\n",
              "      <td>18162.0</td>\n",
              "      <td>MMR</td>\n",
              "      <td>2021-10-11</td>\n",
              "    </tr>\n",
              "  </tbody>\n",
              "</table>\n",
              "</div>"
            ],
            "text/plain": [
              "        male_smokers  female_smokers  ...  iso_code       date\n",
              "123029          30.7             1.6  ...       ZWE 2021-10-11\n",
              "90014           30.0            16.3  ...       PRT 2021-10-11\n",
              "15098           47.7            30.2  ...       BIH 2021-10-11\n",
              "84501           15.6             0.5  ...       OMN 2021-10-11\n",
              "76647           35.2             6.3  ...       MMR 2021-10-11\n",
              "\n",
              "[5 rows x 6 columns]"
            ]
          },
          "metadata": {},
          "execution_count": 12
        }
      ]
    },
    {
      "cell_type": "markdown",
      "metadata": {
        "id": "fc32iJjWodTp"
      },
      "source": [
        "We merge the two dataframes on country code."
      ]
    },
    {
      "cell_type": "code",
      "metadata": {
        "id": "yDC7e3VLvI1h"
      },
      "source": [
        "merged_df = pd.merge(df, sex_df, left_on='iso_code', right_on='Code')"
      ],
      "execution_count": null,
      "outputs": []
    },
    {
      "cell_type": "markdown",
      "metadata": {
        "id": "s3qT8VPJozPs"
      },
      "source": [
        "We calculate the total percentage of smokers and mortality rate for each country. "
      ]
    },
    {
      "cell_type": "code",
      "metadata": {
        "colab": {
          "base_uri": "https://localhost:8080/",
          "height": 338
        },
        "id": "og5IT_zxwSn2",
        "outputId": "10c404ff-170e-4d1a-b2cd-9ee7c66afd9f"
      },
      "source": [
        "def total_smokers(row):\n",
        "  male_smokers = row['male_smokers']\n",
        "  female_smokers = row['female_smokers']\n",
        "  female_population = row['Population, female (% of total population)'] / 100\n",
        "  male_population = 1 - female_population\n",
        "\n",
        "  total_smokers = female_smokers * female_population + male_smokers * male_population\n",
        "  return total_smokers\n",
        "\n",
        "merged_df['total_smokers'] = merged_df.apply(lambda row: total_smokers(row), axis=1)\n",
        "merged_df['mortality_rate'] = merged_df.apply(lambda row: row.total_deaths / row.total_cases, axis=1)\n",
        "\n",
        "merged_df.head()"
      ],
      "execution_count": null,
      "outputs": [
        {
          "output_type": "execute_result",
          "data": {
            "text/html": [
              "<div>\n",
              "<style scoped>\n",
              "    .dataframe tbody tr th:only-of-type {\n",
              "        vertical-align: middle;\n",
              "    }\n",
              "\n",
              "    .dataframe tbody tr th {\n",
              "        vertical-align: top;\n",
              "    }\n",
              "\n",
              "    .dataframe thead th {\n",
              "        text-align: right;\n",
              "    }\n",
              "</style>\n",
              "<table border=\"1\" class=\"dataframe\">\n",
              "  <thead>\n",
              "    <tr style=\"text-align: right;\">\n",
              "      <th></th>\n",
              "      <th>male_smokers</th>\n",
              "      <th>female_smokers</th>\n",
              "      <th>total_cases</th>\n",
              "      <th>total_deaths</th>\n",
              "      <th>iso_code</th>\n",
              "      <th>date</th>\n",
              "      <th>Entity</th>\n",
              "      <th>Code</th>\n",
              "      <th>Year</th>\n",
              "      <th>Population, female (% of total population)</th>\n",
              "      <th>total_smokers</th>\n",
              "      <th>mortality_rate</th>\n",
              "    </tr>\n",
              "  </thead>\n",
              "  <tbody>\n",
              "    <tr>\n",
              "      <th>0</th>\n",
              "      <td>30.7</td>\n",
              "      <td>1.6</td>\n",
              "      <td>131875.0</td>\n",
              "      <td>4643.0</td>\n",
              "      <td>ZWE</td>\n",
              "      <td>2021-10-11</td>\n",
              "      <td>Zimbabwe</td>\n",
              "      <td>ZWE</td>\n",
              "      <td>2020</td>\n",
              "      <td>52.283894</td>\n",
              "      <td>15.485387</td>\n",
              "      <td>0.035208</td>\n",
              "    </tr>\n",
              "    <tr>\n",
              "      <th>1</th>\n",
              "      <td>30.0</td>\n",
              "      <td>16.3</td>\n",
              "      <td>1075639.0</td>\n",
              "      <td>18048.0</td>\n",
              "      <td>PRT</td>\n",
              "      <td>2021-10-11</td>\n",
              "      <td>Portugal</td>\n",
              "      <td>PRT</td>\n",
              "      <td>2020</td>\n",
              "      <td>52.690275</td>\n",
              "      <td>22.781432</td>\n",
              "      <td>0.016779</td>\n",
              "    </tr>\n",
              "    <tr>\n",
              "      <th>2</th>\n",
              "      <td>47.7</td>\n",
              "      <td>30.2</td>\n",
              "      <td>241227.0</td>\n",
              "      <td>10965.0</td>\n",
              "      <td>BIH</td>\n",
              "      <td>2021-10-11</td>\n",
              "      <td>Bosnia and Herzegovina</td>\n",
              "      <td>BIH</td>\n",
              "      <td>2020</td>\n",
              "      <td>51.030186</td>\n",
              "      <td>38.769717</td>\n",
              "      <td>0.045455</td>\n",
              "    </tr>\n",
              "    <tr>\n",
              "      <th>3</th>\n",
              "      <td>15.6</td>\n",
              "      <td>0.5</td>\n",
              "      <td>303978.0</td>\n",
              "      <td>4102.0</td>\n",
              "      <td>OMN</td>\n",
              "      <td>2021-10-11</td>\n",
              "      <td>Oman</td>\n",
              "      <td>OMN</td>\n",
              "      <td>2020</td>\n",
              "      <td>34.002752</td>\n",
              "      <td>10.465584</td>\n",
              "      <td>0.013494</td>\n",
              "    </tr>\n",
              "    <tr>\n",
              "      <th>4</th>\n",
              "      <td>35.2</td>\n",
              "      <td>6.3</td>\n",
              "      <td>479848.0</td>\n",
              "      <td>18162.0</td>\n",
              "      <td>MMR</td>\n",
              "      <td>2021-10-11</td>\n",
              "      <td>Myanmar</td>\n",
              "      <td>MMR</td>\n",
              "      <td>2020</td>\n",
              "      <td>51.809797</td>\n",
              "      <td>20.226969</td>\n",
              "      <td>0.037849</td>\n",
              "    </tr>\n",
              "  </tbody>\n",
              "</table>\n",
              "</div>"
            ],
            "text/plain": [
              "   male_smokers  female_smokers  ...  total_smokers  mortality_rate\n",
              "0          30.7             1.6  ...      15.485387        0.035208\n",
              "1          30.0            16.3  ...      22.781432        0.016779\n",
              "2          47.7            30.2  ...      38.769717        0.045455\n",
              "3          15.6             0.5  ...      10.465584        0.013494\n",
              "4          35.2             6.3  ...      20.226969        0.037849\n",
              "\n",
              "[5 rows x 12 columns]"
            ]
          },
          "metadata": {},
          "execution_count": 14
        }
      ]
    },
    {
      "cell_type": "markdown",
      "metadata": {
        "id": "qWNrvW5ahV1u"
      },
      "source": [
        "[back to the top](#main)\n",
        "<a id='Q1' name='Q1'></a>\n",
        "## 1. Which 10 countries have the highest percentage of smokers? "
      ]
    },
    {
      "cell_type": "markdown",
      "metadata": {
        "id": "eUHndAoKyHjx"
      },
      "source": [
        "Sorting the data by total smokers and getting the top 10."
      ]
    },
    {
      "cell_type": "code",
      "metadata": {
        "colab": {
          "base_uri": "https://localhost:8080/",
          "height": 575
        },
        "id": "922x52Orq4kU",
        "outputId": "8a8c51c4-5a60-4641-8bdc-0e76a7ae381e"
      },
      "source": [
        "merged_df.sort_values(['total_smokers'],ascending=False).head(10)"
      ],
      "execution_count": null,
      "outputs": [
        {
          "output_type": "execute_result",
          "data": {
            "text/html": [
              "<div>\n",
              "<style scoped>\n",
              "    .dataframe tbody tr th:only-of-type {\n",
              "        vertical-align: middle;\n",
              "    }\n",
              "\n",
              "    .dataframe tbody tr th {\n",
              "        vertical-align: top;\n",
              "    }\n",
              "\n",
              "    .dataframe thead th {\n",
              "        text-align: right;\n",
              "    }\n",
              "</style>\n",
              "<table border=\"1\" class=\"dataframe\">\n",
              "  <thead>\n",
              "    <tr style=\"text-align: right;\">\n",
              "      <th></th>\n",
              "      <th>male_smokers</th>\n",
              "      <th>female_smokers</th>\n",
              "      <th>total_cases</th>\n",
              "      <th>total_deaths</th>\n",
              "      <th>iso_code</th>\n",
              "      <th>date</th>\n",
              "      <th>Entity</th>\n",
              "      <th>Code</th>\n",
              "      <th>Year</th>\n",
              "      <th>Population, female (% of total population)</th>\n",
              "      <th>total_smokers</th>\n",
              "      <th>mortality_rate</th>\n",
              "    </tr>\n",
              "  </thead>\n",
              "  <tbody>\n",
              "    <tr>\n",
              "      <th>103</th>\n",
              "      <td>47.9</td>\n",
              "      <td>44.0</td>\n",
              "      <td>135533.0</td>\n",
              "      <td>1992.0</td>\n",
              "      <td>MNE</td>\n",
              "      <td>2021-10-11</td>\n",
              "      <td>Montenegro</td>\n",
              "      <td>MNE</td>\n",
              "      <td>2020</td>\n",
              "      <td>50.552175</td>\n",
              "      <td>45.928465</td>\n",
              "      <td>0.014698</td>\n",
              "    </tr>\n",
              "    <tr>\n",
              "      <th>16</th>\n",
              "      <td>52.0</td>\n",
              "      <td>35.3</td>\n",
              "      <td>679157.0</td>\n",
              "      <td>15177.0</td>\n",
              "      <td>GRC</td>\n",
              "      <td>2021-10-11</td>\n",
              "      <td>Greece</td>\n",
              "      <td>GRC</td>\n",
              "      <td>2020</td>\n",
              "      <td>50.918176</td>\n",
              "      <td>43.496665</td>\n",
              "      <td>0.022347</td>\n",
              "    </tr>\n",
              "    <tr>\n",
              "      <th>41</th>\n",
              "      <td>78.1</td>\n",
              "      <td>6.3</td>\n",
              "      <td>19675.0</td>\n",
              "      <td>119.0</td>\n",
              "      <td>TLS</td>\n",
              "      <td>2021-10-11</td>\n",
              "      <td>Timor</td>\n",
              "      <td>TLS</td>\n",
              "      <td>2020</td>\n",
              "      <td>49.467478</td>\n",
              "      <td>42.582351</td>\n",
              "      <td>0.006048</td>\n",
              "    </tr>\n",
              "    <tr>\n",
              "      <th>13</th>\n",
              "      <td>76.1</td>\n",
              "      <td>2.8</td>\n",
              "      <td>4228552.0</td>\n",
              "      <td>142716.0</td>\n",
              "      <td>IDN</td>\n",
              "      <td>2021-10-11</td>\n",
              "      <td>Indonesia</td>\n",
              "      <td>IDN</td>\n",
              "      <td>2020</td>\n",
              "      <td>49.650469</td>\n",
              "      <td>39.706206</td>\n",
              "      <td>0.033751</td>\n",
              "    </tr>\n",
              "    <tr>\n",
              "      <th>61</th>\n",
              "      <td>58.3</td>\n",
              "      <td>23.4</td>\n",
              "      <td>7687559.0</td>\n",
              "      <td>213522.0</td>\n",
              "      <td>RUS</td>\n",
              "      <td>2021-10-11</td>\n",
              "      <td>Russia</td>\n",
              "      <td>RUS</td>\n",
              "      <td>2020</td>\n",
              "      <td>53.650221</td>\n",
              "      <td>39.576073</td>\n",
              "      <td>0.027775</td>\n",
              "    </tr>\n",
              "    <tr>\n",
              "      <th>87</th>\n",
              "      <td>40.2</td>\n",
              "      <td>37.7</td>\n",
              "      <td>1010868.0</td>\n",
              "      <td>8788.0</td>\n",
              "      <td>SRB</td>\n",
              "      <td>2021-10-11</td>\n",
              "      <td>Serbia</td>\n",
              "      <td>SRB</td>\n",
              "      <td>2020</td>\n",
              "      <td>51.019002</td>\n",
              "      <td>38.924525</td>\n",
              "      <td>0.008694</td>\n",
              "    </tr>\n",
              "    <tr>\n",
              "      <th>2</th>\n",
              "      <td>47.7</td>\n",
              "      <td>30.2</td>\n",
              "      <td>241227.0</td>\n",
              "      <td>10965.0</td>\n",
              "      <td>BIH</td>\n",
              "      <td>2021-10-11</td>\n",
              "      <td>Bosnia and Herzegovina</td>\n",
              "      <td>BIH</td>\n",
              "      <td>2020</td>\n",
              "      <td>51.030186</td>\n",
              "      <td>38.769717</td>\n",
              "      <td>0.045455</td>\n",
              "    </tr>\n",
              "    <tr>\n",
              "      <th>71</th>\n",
              "      <td>41.5</td>\n",
              "      <td>34.2</td>\n",
              "      <td>1663383.0</td>\n",
              "      <td>37571.0</td>\n",
              "      <td>CHL</td>\n",
              "      <td>2021-10-11</td>\n",
              "      <td>Chile</td>\n",
              "      <td>CHL</td>\n",
              "      <td>2020</td>\n",
              "      <td>50.692792</td>\n",
              "      <td>37.799426</td>\n",
              "      <td>0.022587</td>\n",
              "    </tr>\n",
              "    <tr>\n",
              "      <th>38</th>\n",
              "      <td>51.0</td>\n",
              "      <td>25.6</td>\n",
              "      <td>172278.0</td>\n",
              "      <td>2806.0</td>\n",
              "      <td>LVA</td>\n",
              "      <td>2021-10-11</td>\n",
              "      <td>Latvia</td>\n",
              "      <td>LVA</td>\n",
              "      <td>2020</td>\n",
              "      <td>53.910769</td>\n",
              "      <td>37.306665</td>\n",
              "      <td>0.016288</td>\n",
              "    </tr>\n",
              "    <tr>\n",
              "      <th>99</th>\n",
              "      <td>44.4</td>\n",
              "      <td>30.1</td>\n",
              "      <td>524333.0</td>\n",
              "      <td>21813.0</td>\n",
              "      <td>BGR</td>\n",
              "      <td>2021-10-11</td>\n",
              "      <td>Bulgaria</td>\n",
              "      <td>BGR</td>\n",
              "      <td>2020</td>\n",
              "      <td>51.440632</td>\n",
              "      <td>37.043990</td>\n",
              "      <td>0.041601</td>\n",
              "    </tr>\n",
              "  </tbody>\n",
              "</table>\n",
              "</div>"
            ],
            "text/plain": [
              "     male_smokers  female_smokers  ...  total_smokers  mortality_rate\n",
              "103          47.9            44.0  ...      45.928465        0.014698\n",
              "16           52.0            35.3  ...      43.496665        0.022347\n",
              "41           78.1             6.3  ...      42.582351        0.006048\n",
              "13           76.1             2.8  ...      39.706206        0.033751\n",
              "61           58.3            23.4  ...      39.576073        0.027775\n",
              "87           40.2            37.7  ...      38.924525        0.008694\n",
              "2            47.7            30.2  ...      38.769717        0.045455\n",
              "71           41.5            34.2  ...      37.799426        0.022587\n",
              "38           51.0            25.6  ...      37.306665        0.016288\n",
              "99           44.4            30.1  ...      37.043990        0.041601\n",
              "\n",
              "[10 rows x 12 columns]"
            ]
          },
          "metadata": {},
          "execution_count": 15
        }
      ]
    },
    {
      "cell_type": "markdown",
      "metadata": {
        "id": "uZe7-gKnyVCK"
      },
      "source": [
        "Also displaying it on a graph."
      ]
    },
    {
      "cell_type": "code",
      "metadata": {
        "colab": {
          "base_uri": "https://localhost:8080/",
          "height": 408
        },
        "id": "fW4gYW1FyZ31",
        "outputId": "8a1e9358-d6cd-4dd3-b068-d93422b69bee"
      },
      "source": [
        "merged_df.sort_values(['total_smokers'],ascending=False).head(10).plot.bar(x='Entity', y='total_smokers', rot=90)"
      ],
      "execution_count": null,
      "outputs": [
        {
          "output_type": "execute_result",
          "data": {
            "text/plain": [
              "<matplotlib.axes._subplots.AxesSubplot at 0x7f006ff72a50>"
            ]
          },
          "metadata": {},
          "execution_count": 16
        },
        {
          "output_type": "display_data",
          "data": {
            "image/png": "[encoded data removed]",
            "text/plain": [
              "<Figure size 432x288 with 1 Axes>"
            ]
          },
          "metadata": {
            "needs_background": "light"
          }
        }
      ]
    },
    {
      "cell_type": "markdown",
      "metadata": {
        "id": "m0_rf0GahV1v"
      },
      "source": [
        "[back to the top](#main)\n",
        "<a id='Q2' name='Q2'></a>\n",
        "## 2. How does the percentage of smokers correlate with covid mortality rate? "
      ]
    },
    {
      "cell_type": "code",
      "metadata": {
        "colab": {
          "base_uri": "https://localhost:8080/",
          "height": 110
        },
        "id": "9OI_JmCmzzk7",
        "outputId": "900973f1-ce76-4ebd-b1a3-7cabcbaf3923"
      },
      "source": [
        "merged_df[['total_smokers', 'mortality_rate']].corr(method ='pearson')"
      ],
      "execution_count": null,
      "outputs": [
        {
          "output_type": "execute_result",
          "data": {
            "text/html": [
              "<div>\n",
              "<style scoped>\n",
              "    .dataframe tbody tr th:only-of-type {\n",
              "        vertical-align: middle;\n",
              "    }\n",
              "\n",
              "    .dataframe tbody tr th {\n",
              "        vertical-align: top;\n",
              "    }\n",
              "\n",
              "    .dataframe thead th {\n",
              "        text-align: right;\n",
              "    }\n",
              "</style>\n",
              "<table border=\"1\" class=\"dataframe\">\n",
              "  <thead>\n",
              "    <tr style=\"text-align: right;\">\n",
              "      <th></th>\n",
              "      <th>total_smokers</th>\n",
              "      <th>mortality_rate</th>\n",
              "    </tr>\n",
              "  </thead>\n",
              "  <tbody>\n",
              "    <tr>\n",
              "      <th>total_smokers</th>\n",
              "      <td>1.00000</td>\n",
              "      <td>-0.06709</td>\n",
              "    </tr>\n",
              "    <tr>\n",
              "      <th>mortality_rate</th>\n",
              "      <td>-0.06709</td>\n",
              "      <td>1.00000</td>\n",
              "    </tr>\n",
              "  </tbody>\n",
              "</table>\n",
              "</div>"
            ],
            "text/plain": [
              "                total_smokers  mortality_rate\n",
              "total_smokers         1.00000        -0.06709\n",
              "mortality_rate       -0.06709         1.00000"
            ]
          },
          "metadata": {},
          "execution_count": 17
        }
      ]
    },
    {
      "cell_type": "markdown",
      "metadata": {
        "id": "aYXgmqP9zXMh"
      },
      "source": [
        "Drawing a scatter plot to observe any correlation between the total percentage ofsmokers and the mortality rate."
      ]
    },
    {
      "cell_type": "code",
      "metadata": {
        "colab": {
          "base_uri": "https://localhost:8080/",
          "height": 297
        },
        "id": "mH60dqOLy7mj",
        "outputId": "061d5335-8f87-46f4-ee4b-15e969eaf180"
      },
      "source": [
        "merged_df.plot.scatter(x='total_smokers', y='mortality_rate')"
      ],
      "execution_count": null,
      "outputs": [
        {
          "output_type": "execute_result",
          "data": {
            "text/plain": [
              "<matplotlib.axes._subplots.AxesSubplot at 0x7f006fe7e810>"
            ]
          },
          "metadata": {},
          "execution_count": 18
        },
        {
          "output_type": "display_data",
          "data": {
            "image/png": "[encoded data removed]",
            "text/plain": [
              "<Figure size 432x288 with 1 Axes>"
            ]
          },
          "metadata": {
            "needs_background": "light"
          }
        }
      ]
    },
    {
      "cell_type": "markdown",
      "metadata": {
        "id": "mSyHUi2XhV1v"
      },
      "source": [
        "As we can clearly see, the correlation coefficient is actually slightly negative and the scatter plot is seemingly random, so smoking does not, according to this investigation, increase the likeliness of dying from Covid-19.\n",
        "\n",
        "However, sources say that it does in fact increase the risk of hospitalization and death. This may indicate that either:\n",
        "1. My investgation is flawed, since it does not account for other factors and only looks at the percentage of smokers, not the percentage of sick smokers (which is not available);\n",
        "2. The publications on the correlation are not credible and are simply fearmongering people to get clicks, since the population of smokers is quite high and they are likely to look up info about their risk of death."
      ]
    },
    {
      "cell_type": "markdown",
      "metadata": {
        "id": "ppwDhVEYhV1v"
      },
      "source": [
        "[back to the top](#main)\n",
        "<a id='Q3' name='Q3'></a>\n",
        "## 3. Can we predict the total deaths based on total cases and percentage of smokers? "
      ]
    },
    {
      "cell_type": "markdown",
      "metadata": {
        "id": "Wop7R_3v4R1f"
      },
      "source": [
        "Since the correlation between smoker population and mortality rate is negligible, this prediction will mostly be just predicting total deaths based on total cases, which is a simple ratio.\n",
        "\n",
        "However, we will nevertheless compare the prediction with the simple ratio, to see if it is any more accurate."
      ]
    },
    {
      "cell_type": "markdown",
      "metadata": {
        "id": "q_ltEtbAh-pY"
      },
      "source": [
        "We will first split the data into train and test datasets."
      ]
    },
    {
      "cell_type": "code",
      "metadata": {
        "id": "HPOfeS6Hh6kd"
      },
      "source": [
        "from sklearn.model_selection import train_test_split\n",
        "\n",
        "train, test = train_test_split(merged_df, test_size=0.3)"
      ],
      "execution_count": null,
      "outputs": []
    },
    {
      "cell_type": "markdown",
      "metadata": {
        "id": "0qnHrJHRhlLT"
      },
      "source": [
        "For the simple ratio calculation we will just get the average mortality rate"
      ]
    },
    {
      "cell_type": "code",
      "metadata": {
        "colab": {
          "base_uri": "https://localhost:8080/"
        },
        "id": "QMQ-kBKvhDFa",
        "outputId": "cd8a5ed3-561e-4c4f-8967-5215b875f051"
      },
      "source": [
        "average_mortality_rate = sum(train['mortality_rate']) / len(train)\n",
        "average_mortality_rate"
      ],
      "execution_count": null,
      "outputs": [
        {
          "output_type": "execute_result",
          "data": {
            "text/plain": [
              "0.02239495323131088"
            ]
          },
          "metadata": {},
          "execution_count": 20
        }
      ]
    },
    {
      "cell_type": "markdown",
      "metadata": {
        "id": "OfbxLvEqicZD"
      },
      "source": [
        "For the machine learning prediction we will use a linear regression model."
      ]
    },
    {
      "cell_type": "code",
      "metadata": {
        "id": "JM9xZrBNib_h"
      },
      "source": [
        "results = np.array(train['total_deaths'])\n",
        "data = np.array(train[['total_cases', 'total_smokers']])\n",
        "\n",
        "from sklearn.linear_model import LinearRegression\n",
        "\n",
        "model = LinearRegression().fit(data, results)"
      ],
      "execution_count": null,
      "outputs": []
    },
    {
      "cell_type": "markdown",
      "metadata": {
        "id": "1OQlLLWQkSsN"
      },
      "source": [
        "First we evaluate the model we trained."
      ]
    },
    {
      "cell_type": "code",
      "metadata": {
        "colab": {
          "base_uri": "https://localhost:8080/"
        },
        "id": "QKz6DOG7j0Y0",
        "outputId": "9b49c663-a0d8-4cde-968a-9d36ae4e6478"
      },
      "source": [
        "test_results = np.array(test['total_deaths'])\n",
        "test_data = np.array(test[['total_cases', 'total_smokers']])\n",
        "\n",
        "model.score(test_data, test_results)"
      ],
      "execution_count": null,
      "outputs": [
        {
          "output_type": "execute_result",
          "data": {
            "text/plain": [
              "0.9134818168603437"
            ]
          },
          "metadata": {},
          "execution_count": 22
        }
      ]
    },
    {
      "cell_type": "code",
      "metadata": {
        "colab": {
          "base_uri": "https://localhost:8080/",
          "height": 265
        },
        "id": "akmfK9GJl9wF",
        "outputId": "09b5df2f-09bb-438f-eec1-9c950ed46ae4"
      },
      "source": [
        "plt.plot(range(len(test_results)), test_results, label='real')\n",
        "plt.plot(range(len(test_results)), model.predict(test_data), label='predicted')\n",
        "plt.legend()\n",
        "plt.show()"
      ],
      "execution_count": null,
      "outputs": [
        {
          "output_type": "display_data",
          "data": {
            "image/png": "[encoded data removed]",
            "text/plain": [
              "<Figure size 432x288 with 1 Axes>"
            ]
          },
          "metadata": {
            "needs_background": "light"
          }
        }
      ]
    },
    {
      "cell_type": "markdown",
      "metadata": {
        "id": "Ws8My-etkWWq"
      },
      "source": [
        "Then we will evaluate the regular ratio calculation."
      ]
    },
    {
      "cell_type": "code",
      "metadata": {
        "colab": {
          "base_uri": "https://localhost:8080/"
        },
        "id": "8-aL8LFLkalh",
        "outputId": "94db5575-5ca1-4ef6-afe2-c7c3451d4319"
      },
      "source": [
        "predicted_test_results = [cases * average_mortality_rate for cases in test['total_cases']]\n",
        "\n",
        "from sklearn.metrics import r2_score\n",
        "r2_score(test_results, predicted_test_results)"
      ],
      "execution_count": null,
      "outputs": [
        {
          "output_type": "execute_result",
          "data": {
            "text/plain": [
              "0.8734140598030344"
            ]
          },
          "metadata": {},
          "execution_count": 24
        }
      ]
    },
    {
      "cell_type": "code",
      "metadata": {
        "colab": {
          "base_uri": "https://localhost:8080/",
          "height": 276
        },
        "id": "WK3tsLbYmbKc",
        "outputId": "c309b3e1-012d-42e8-9c28-ab4a01ce2edc"
      },
      "source": [
        "plt.plot(range(len(test_results)), test_results, label='real')\n",
        "plt.plot(range(len(test_results)), predicted_test_results, label='predicted')\n",
        "plt.legend()\n",
        "plt.show()"
      ],
      "execution_count": null,
      "outputs": [
        {
          "output_type": "display_data",
          "data": {
            "image/png": "[encoded data removed]",
            "text/plain": [
              "<Figure size 432x288 with 1 Axes>"
            ]
          },
          "metadata": {
            "needs_background": "light"
          }
        }
      ]
    },
    {
      "cell_type": "markdown",
      "metadata": {
        "id": "Yao6jD8Rk4KM"
      },
      "source": [
        "We can see that the score for the model is slightly better than the ratio's, so technically we can predict the total deaths based on total cases and percentage of smokers, but the difference between it and a simple ratio is negligible and may as well be a statistical error, when the sample size is so low.\n",
        "\n",
        "If the Earth had thousands of countries, we could conclude with more certainty."
      ]
    }
  ]
}