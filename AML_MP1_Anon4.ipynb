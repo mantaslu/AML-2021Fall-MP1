{
 "cells": [
  {
   "cell_type": "markdown",
   "metadata": {},
   "source": [
    "<H1>Viral Data Analysis</H1>\n",
    "<p>Date: 2021 10 08</p>\n",
    "<p>Author: Anonymous course participant</p>\n",
    "\n",
    "<p>3 Questions to answer:</p>\n",
    "<ul>\n",
    "<il>1. Which month most people were vaccinated in Lithuania?</il>\n",
    "<br>\n",
    "<il>2. Is there correlation between new covid-19 cases in USA and Bitcoin price?</il>\n",
    "<br>\n",
    "<il>3. Is it possible to predict S&P500 index using new covid-19 cases and new vaccinated people count in USA or world?</il>\n",
    "<br>\n",
    "</ul>\n",
    "\n",
    "<p>Main dataset:</p>\n",
    "<p>https://covid.ourworldindata.org/data/owid-covid-data.csv</p>\n",
    "\n",
    "<p>Additional datasets:</p>\n",
    "<p>BTC: https://finance.yahoo.com/quote/BTC-USD/history</p>\n",
    "<p>S&P500: https://www.marketwatch.com/investing/index/spx</p>\n"
   ]
  },
  {
   "cell_type": "markdown",
   "metadata": {},
   "source": [
    "<H2>Data loading and preparation</H2>"
   ]
  },
  {
   "cell_type": "code",
   "execution_count": 1,
   "metadata": {},
   "outputs": [],
   "source": [
    "import pandas as pd\n",
    "from sklearn.linear_model import LinearRegression\n",
    "from sklearn.metrics import mean_squared_error"
   ]
  },
  {
   "cell_type": "code",
   "execution_count": 2,
   "metadata": {},
   "outputs": [
    {
     "data": {
      "text/html": [
       "<div>\n",
       "<style scoped>\n",
       "    .dataframe tbody tr th:only-of-type {\n",
       "        vertical-align: middle;\n",
       "    }\n",
       "\n",
       "    .dataframe tbody tr th {\n",
       "        vertical-align: top;\n",
       "    }\n",
       "\n",
       "    .dataframe thead th {\n",
       "        text-align: right;\n",
       "    }\n",
       "</style>\n",
       "<table border=\"1\" class=\"dataframe\">\n",
       "  <thead>\n",
       "    <tr style=\"text-align: right;\">\n",
       "      <th></th>\n",
       "      <th>iso_code</th>\n",
       "      <th>continent</th>\n",
       "      <th>location</th>\n",
       "      <th>date</th>\n",
       "      <th>total_cases</th>\n",
       "      <th>new_cases</th>\n",
       "      <th>new_cases_smoothed</th>\n",
       "      <th>total_deaths</th>\n",
       "      <th>new_deaths</th>\n",
       "      <th>new_deaths_smoothed</th>\n",
       "      <th>...</th>\n",
       "      <th>female_smokers</th>\n",
       "      <th>male_smokers</th>\n",
       "      <th>handwashing_facilities</th>\n",
       "      <th>hospital_beds_per_thousand</th>\n",
       "      <th>life_expectancy</th>\n",
       "      <th>human_development_index</th>\n",
       "      <th>excess_mortality_cumulative_absolute</th>\n",
       "      <th>excess_mortality_cumulative</th>\n",
       "      <th>excess_mortality</th>\n",
       "      <th>excess_mortality_cumulative_per_million</th>\n",
       "    </tr>\n",
       "  </thead>\n",
       "  <tbody>\n",
       "    <tr>\n",
       "      <th>0</th>\n",
       "      <td>AFG</td>\n",
       "      <td>Asia</td>\n",
       "      <td>Afghanistan</td>\n",
       "      <td>2020-02-24</td>\n",
       "      <td>5.0</td>\n",
       "      <td>5.0</td>\n",
       "      <td>NaN</td>\n",
       "      <td>NaN</td>\n",
       "      <td>NaN</td>\n",
       "      <td>NaN</td>\n",
       "      <td>...</td>\n",
       "      <td>NaN</td>\n",
       "      <td>NaN</td>\n",
       "      <td>37.746</td>\n",
       "      <td>0.5</td>\n",
       "      <td>64.83</td>\n",
       "      <td>0.511</td>\n",
       "      <td>NaN</td>\n",
       "      <td>NaN</td>\n",
       "      <td>NaN</td>\n",
       "      <td>NaN</td>\n",
       "    </tr>\n",
       "    <tr>\n",
       "      <th>1</th>\n",
       "      <td>AFG</td>\n",
       "      <td>Asia</td>\n",
       "      <td>Afghanistan</td>\n",
       "      <td>2020-02-25</td>\n",
       "      <td>5.0</td>\n",
       "      <td>0.0</td>\n",
       "      <td>NaN</td>\n",
       "      <td>NaN</td>\n",
       "      <td>NaN</td>\n",
       "      <td>NaN</td>\n",
       "      <td>...</td>\n",
       "      <td>NaN</td>\n",
       "      <td>NaN</td>\n",
       "      <td>37.746</td>\n",
       "      <td>0.5</td>\n",
       "      <td>64.83</td>\n",
       "      <td>0.511</td>\n",
       "      <td>NaN</td>\n",
       "      <td>NaN</td>\n",
       "      <td>NaN</td>\n",
       "      <td>NaN</td>\n",
       "    </tr>\n",
       "    <tr>\n",
       "      <th>2</th>\n",
       "      <td>AFG</td>\n",
       "      <td>Asia</td>\n",
       "      <td>Afghanistan</td>\n",
       "      <td>2020-02-26</td>\n",
       "      <td>5.0</td>\n",
       "      <td>0.0</td>\n",
       "      <td>NaN</td>\n",
       "      <td>NaN</td>\n",
       "      <td>NaN</td>\n",
       "      <td>NaN</td>\n",
       "      <td>...</td>\n",
       "      <td>NaN</td>\n",
       "      <td>NaN</td>\n",
       "      <td>37.746</td>\n",
       "      <td>0.5</td>\n",
       "      <td>64.83</td>\n",
       "      <td>0.511</td>\n",
       "      <td>NaN</td>\n",
       "      <td>NaN</td>\n",
       "      <td>NaN</td>\n",
       "      <td>NaN</td>\n",
       "    </tr>\n",
       "    <tr>\n",
       "      <th>3</th>\n",
       "      <td>AFG</td>\n",
       "      <td>Asia</td>\n",
       "      <td>Afghanistan</td>\n",
       "      <td>2020-02-27</td>\n",
       "      <td>5.0</td>\n",
       "      <td>0.0</td>\n",
       "      <td>NaN</td>\n",
       "      <td>NaN</td>\n",
       "      <td>NaN</td>\n",
       "      <td>NaN</td>\n",
       "      <td>...</td>\n",
       "      <td>NaN</td>\n",
       "      <td>NaN</td>\n",
       "      <td>37.746</td>\n",
       "      <td>0.5</td>\n",
       "      <td>64.83</td>\n",
       "      <td>0.511</td>\n",
       "      <td>NaN</td>\n",
       "      <td>NaN</td>\n",
       "      <td>NaN</td>\n",
       "      <td>NaN</td>\n",
       "    </tr>\n",
       "    <tr>\n",
       "      <th>4</th>\n",
       "      <td>AFG</td>\n",
       "      <td>Asia</td>\n",
       "      <td>Afghanistan</td>\n",
       "      <td>2020-02-28</td>\n",
       "      <td>5.0</td>\n",
       "      <td>0.0</td>\n",
       "      <td>NaN</td>\n",
       "      <td>NaN</td>\n",
       "      <td>NaN</td>\n",
       "      <td>NaN</td>\n",
       "      <td>...</td>\n",
       "      <td>NaN</td>\n",
       "      <td>NaN</td>\n",
       "      <td>37.746</td>\n",
       "      <td>0.5</td>\n",
       "      <td>64.83</td>\n",
       "      <td>0.511</td>\n",
       "      <td>NaN</td>\n",
       "      <td>NaN</td>\n",
       "      <td>NaN</td>\n",
       "      <td>NaN</td>\n",
       "    </tr>\n",
       "  </tbody>\n",
       "</table>\n",
       "<p>5 rows × 65 columns</p>\n",
       "</div>"
      ],
      "text/plain": [
       "  iso_code continent     location        date  total_cases  new_cases  \\\n",
       "0      AFG      Asia  Afghanistan  2020-02-24          5.0        5.0   \n",
       "1      AFG      Asia  Afghanistan  2020-02-25          5.0        0.0   \n",
       "2      AFG      Asia  Afghanistan  2020-02-26          5.0        0.0   \n",
       "3      AFG      Asia  Afghanistan  2020-02-27          5.0        0.0   \n",
       "4      AFG      Asia  Afghanistan  2020-02-28          5.0        0.0   \n",
       "\n",
       "   new_cases_smoothed  total_deaths  new_deaths  new_deaths_smoothed  ...  \\\n",
       "0                 NaN           NaN         NaN                  NaN  ...   \n",
       "1                 NaN           NaN         NaN                  NaN  ...   \n",
       "2                 NaN           NaN         NaN                  NaN  ...   \n",
       "3                 NaN           NaN         NaN                  NaN  ...   \n",
       "4                 NaN           NaN         NaN                  NaN  ...   \n",
       "\n",
       "   female_smokers  male_smokers  handwashing_facilities  \\\n",
       "0             NaN           NaN                  37.746   \n",
       "1             NaN           NaN                  37.746   \n",
       "2             NaN           NaN                  37.746   \n",
       "3             NaN           NaN                  37.746   \n",
       "4             NaN           NaN                  37.746   \n",
       "\n",
       "   hospital_beds_per_thousand  life_expectancy  human_development_index  \\\n",
       "0                         0.5            64.83                    0.511   \n",
       "1                         0.5            64.83                    0.511   \n",
       "2                         0.5            64.83                    0.511   \n",
       "3                         0.5            64.83                    0.511   \n",
       "4                         0.5            64.83                    0.511   \n",
       "\n",
       "   excess_mortality_cumulative_absolute  excess_mortality_cumulative  \\\n",
       "0                                   NaN                          NaN   \n",
       "1                                   NaN                          NaN   \n",
       "2                                   NaN                          NaN   \n",
       "3                                   NaN                          NaN   \n",
       "4                                   NaN                          NaN   \n",
       "\n",
       "   excess_mortality  excess_mortality_cumulative_per_million  \n",
       "0               NaN                                      NaN  \n",
       "1               NaN                                      NaN  \n",
       "2               NaN                                      NaN  \n",
       "3               NaN                                      NaN  \n",
       "4               NaN                                      NaN  \n",
       "\n",
       "[5 rows x 65 columns]"
      ]
     },
     "execution_count": 2,
     "metadata": {},
     "output_type": "execute_result"
    }
   ],
   "source": [
    "df_raw = pd.read_csv('owid-covid-data.csv')\n",
    "df_raw.head()"
   ]
  },
  {
   "cell_type": "code",
   "execution_count": 3,
   "metadata": {},
   "outputs": [
    {
     "data": {
      "text/plain": [
       "Index(['iso_code', 'continent', 'location', 'date', 'total_cases', 'new_cases',\n",
       "       'new_cases_smoothed', 'total_deaths', 'new_deaths',\n",
       "       'new_deaths_smoothed', 'total_cases_per_million',\n",
       "       'new_cases_per_million', 'new_cases_smoothed_per_million',\n",
       "       'total_deaths_per_million', 'new_deaths_per_million',\n",
       "       'new_deaths_smoothed_per_million', 'reproduction_rate', 'icu_patients',\n",
       "       'icu_patients_per_million', 'hosp_patients',\n",
       "       'hosp_patients_per_million', 'weekly_icu_admissions',\n",
       "       'weekly_icu_admissions_per_million', 'weekly_hosp_admissions',\n",
       "       'weekly_hosp_admissions_per_million', 'new_tests', 'total_tests',\n",
       "       'total_tests_per_thousand', 'new_tests_per_thousand',\n",
       "       'new_tests_smoothed', 'new_tests_smoothed_per_thousand',\n",
       "       'positive_rate', 'tests_per_case', 'tests_units', 'total_vaccinations',\n",
       "       'people_vaccinated', 'people_fully_vaccinated', 'total_boosters',\n",
       "       'new_vaccinations', 'new_vaccinations_smoothed',\n",
       "       'total_vaccinations_per_hundred', 'people_vaccinated_per_hundred',\n",
       "       'people_fully_vaccinated_per_hundred', 'total_boosters_per_hundred',\n",
       "       'new_vaccinations_smoothed_per_million', 'stringency_index',\n",
       "       'population', 'population_density', 'median_age', 'aged_65_older',\n",
       "       'aged_70_older', 'gdp_per_capita', 'extreme_poverty',\n",
       "       'cardiovasc_death_rate', 'diabetes_prevalence', 'female_smokers',\n",
       "       'male_smokers', 'handwashing_facilities', 'hospital_beds_per_thousand',\n",
       "       'life_expectancy', 'human_development_index',\n",
       "       'excess_mortality_cumulative_absolute', 'excess_mortality_cumulative',\n",
       "       'excess_mortality', 'excess_mortality_cumulative_per_million'],\n",
       "      dtype='object')"
      ]
     },
     "execution_count": 3,
     "metadata": {},
     "output_type": "execute_result"
    }
   ],
   "source": [
    "df_raw.columns"
   ]
  },
  {
   "cell_type": "markdown",
   "metadata": {},
   "source": [
    "<H2>1. Which month most people were vaccinated in Lithuania?</H2>"
   ]
  },
  {
   "cell_type": "code",
   "execution_count": 4,
   "metadata": {},
   "outputs": [
    {
     "name": "stdout",
     "output_type": "stream",
     "text": [
      "Most people were vaccinated on 2021/6, total vaccinations: 632106\n"
     ]
    },
    {
     "data": {
      "text/plain": [
       "<AxesSubplot:xlabel='date'>"
      ]
     },
     "execution_count": 4,
     "metadata": {},
     "output_type": "execute_result"
    },
    {
     "data": {
      "image/png": "[encoded data removed]",
      "text/plain": [
       "<Figure size 432x288 with 1 Axes>"
      ]
     },
     "metadata": {
      "needs_background": "light"
     },
     "output_type": "display_data"
    }
   ],
   "source": [
    "filtr = df_raw['location'] == \"Lithuania\"\n",
    "df_selected = df_raw.loc[filtr, ['date', 'new_vaccinations']]\n",
    "df_selected['date'] = pd.to_datetime(df_selected['date'])\n",
    "df_selected.dropna(inplace=True)\n",
    "df_selected.set_index('date', inplace=True)\n",
    "df_selected = df_selected.resample('M').new_vaccinations.sum()\n",
    "\n",
    "print(f\"Most people were vaccinated on {df_selected.idxmax().year}/{df_selected.idxmax().month}, total vaccinations: {int(df_selected.max())}\")\n",
    "df_selected.plot()"
   ]
  },
  {
   "cell_type": "markdown",
   "metadata": {},
   "source": [
    "<b>Answer: Most people were vaccinated on 2021/6, total vaccinations: 632106</b>"
   ]
  },
  {
   "cell_type": "markdown",
   "metadata": {},
   "source": [
    "<H2>2. Is there correlation between new covid-19 cases in USA and Bitcoin price?</H2>"
   ]
  },
  {
   "cell_type": "code",
   "execution_count": 5,
   "metadata": {},
   "outputs": [
    {
     "data": {
      "text/html": [
       "<div>\n",
       "<style scoped>\n",
       "    .dataframe tbody tr th:only-of-type {\n",
       "        vertical-align: middle;\n",
       "    }\n",
       "\n",
       "    .dataframe tbody tr th {\n",
       "        vertical-align: top;\n",
       "    }\n",
       "\n",
       "    .dataframe thead th {\n",
       "        text-align: right;\n",
       "    }\n",
       "</style>\n",
       "<table border=\"1\" class=\"dataframe\">\n",
       "  <thead>\n",
       "    <tr style=\"text-align: right;\">\n",
       "      <th></th>\n",
       "      <th>new_cases</th>\n",
       "    </tr>\n",
       "    <tr>\n",
       "      <th>date</th>\n",
       "      <th></th>\n",
       "    </tr>\n",
       "  </thead>\n",
       "  <tbody>\n",
       "    <tr>\n",
       "      <th>2020-01-23</th>\n",
       "      <td>0.0</td>\n",
       "    </tr>\n",
       "    <tr>\n",
       "      <th>2020-01-24</th>\n",
       "      <td>1.0</td>\n",
       "    </tr>\n",
       "    <tr>\n",
       "      <th>2020-01-25</th>\n",
       "      <td>0.0</td>\n",
       "    </tr>\n",
       "    <tr>\n",
       "      <th>2020-01-26</th>\n",
       "      <td>3.0</td>\n",
       "    </tr>\n",
       "    <tr>\n",
       "      <th>2020-01-27</th>\n",
       "      <td>0.0</td>\n",
       "    </tr>\n",
       "  </tbody>\n",
       "</table>\n",
       "</div>"
      ],
      "text/plain": [
       "            new_cases\n",
       "date                 \n",
       "2020-01-23        0.0\n",
       "2020-01-24        1.0\n",
       "2020-01-25        0.0\n",
       "2020-01-26        3.0\n",
       "2020-01-27        0.0"
      ]
     },
     "execution_count": 5,
     "metadata": {},
     "output_type": "execute_result"
    }
   ],
   "source": [
    "filtr_usa = df_raw['location'] == \"United States\"\n",
    "df_usa = df_raw.loc[filtr_usa, ['date', 'new_cases']]\n",
    "df_usa['date'] = pd.to_datetime(df_usa['date'])\n",
    "df_usa.dropna(inplace=True)\n",
    "df_usa.set_index('date', inplace=True)\n",
    "df_usa.head()"
   ]
  },
  {
   "cell_type": "code",
   "execution_count": 6,
   "metadata": {},
   "outputs": [
    {
     "data": {
      "text/html": [
       "<div>\n",
       "<style scoped>\n",
       "    .dataframe tbody tr th:only-of-type {\n",
       "        vertical-align: middle;\n",
       "    }\n",
       "\n",
       "    .dataframe tbody tr th {\n",
       "        vertical-align: top;\n",
       "    }\n",
       "\n",
       "    .dataframe thead th {\n",
       "        text-align: right;\n",
       "    }\n",
       "</style>\n",
       "<table border=\"1\" class=\"dataframe\">\n",
       "  <thead>\n",
       "    <tr style=\"text-align: right;\">\n",
       "      <th></th>\n",
       "      <th>price</th>\n",
       "    </tr>\n",
       "    <tr>\n",
       "      <th>date</th>\n",
       "      <th></th>\n",
       "    </tr>\n",
       "  </thead>\n",
       "  <tbody>\n",
       "    <tr>\n",
       "      <th>2019-12-01</th>\n",
       "      <td>7424.292480</td>\n",
       "    </tr>\n",
       "    <tr>\n",
       "      <th>2019-12-02</th>\n",
       "      <td>7321.988281</td>\n",
       "    </tr>\n",
       "    <tr>\n",
       "      <th>2019-12-03</th>\n",
       "      <td>7320.145508</td>\n",
       "    </tr>\n",
       "    <tr>\n",
       "      <th>2019-12-04</th>\n",
       "      <td>7252.034668</td>\n",
       "    </tr>\n",
       "    <tr>\n",
       "      <th>2019-12-05</th>\n",
       "      <td>7448.307617</td>\n",
       "    </tr>\n",
       "  </tbody>\n",
       "</table>\n",
       "</div>"
      ],
      "text/plain": [
       "                  price\n",
       "date                   \n",
       "2019-12-01  7424.292480\n",
       "2019-12-02  7321.988281\n",
       "2019-12-03  7320.145508\n",
       "2019-12-04  7252.034668\n",
       "2019-12-05  7448.307617"
      ]
     },
     "execution_count": 6,
     "metadata": {},
     "output_type": "execute_result"
    }
   ],
   "source": [
    "df_btc = pd.read_csv('BTC-USD.csv')\n",
    "df_btc = df_btc[['Date', 'Close']]\n",
    "df_btc.columns = ['date', 'price']\n",
    "df_btc['date'] = pd.to_datetime(df_btc['date'])\n",
    "df_btc.set_index('date', inplace=True)\n",
    "df_btc.head()"
   ]
  },
  {
   "cell_type": "code",
   "execution_count": 7,
   "metadata": {},
   "outputs": [
    {
     "data": {
      "text/html": [
       "<style type=\"text/css\">\n",
       "#T_5ee4d_row0_col0, #T_5ee4d_row1_col1 {\n",
       "  background-color: #b40426;\n",
       "  color: #f1f1f1;\n",
       "}\n",
       "#T_5ee4d_row0_col1, #T_5ee4d_row1_col0 {\n",
       "  background-color: #3b4cc0;\n",
       "  color: #f1f1f1;\n",
       "}\n",
       "</style>\n",
       "<table id=\"T_5ee4d_\">\n",
       "  <thead>\n",
       "    <tr>\n",
       "      <th class=\"blank level0\" >&nbsp;</th>\n",
       "      <th class=\"col_heading level0 col0\" >new_cases</th>\n",
       "      <th class=\"col_heading level0 col1\" >price</th>\n",
       "    </tr>\n",
       "  </thead>\n",
       "  <tbody>\n",
       "    <tr>\n",
       "      <th id=\"T_5ee4d_level0_row0\" class=\"row_heading level0 row0\" >new_cases</th>\n",
       "      <td id=\"T_5ee4d_row0_col0\" class=\"data row0 col0\" >1.000000</td>\n",
       "      <td id=\"T_5ee4d_row0_col1\" class=\"data row0 col1\" >0.277714</td>\n",
       "    </tr>\n",
       "    <tr>\n",
       "      <th id=\"T_5ee4d_level0_row1\" class=\"row_heading level0 row1\" >price</th>\n",
       "      <td id=\"T_5ee4d_row1_col0\" class=\"data row1 col0\" >0.277714</td>\n",
       "      <td id=\"T_5ee4d_row1_col1\" class=\"data row1 col1\" >1.000000</td>\n",
       "    </tr>\n",
       "  </tbody>\n",
       "</table>\n"
      ],
      "text/plain": [
       "<pandas.io.formats.style.Styler at 0x203022b1430>"
      ]
     },
     "execution_count": 7,
     "metadata": {},
     "output_type": "execute_result"
    },
    {
     "data": {
      "image/png": "[encoded data removed]",
      "text/plain": [
       "<Figure size 432x288 with 1 Axes>"
      ]
     },
     "metadata": {
      "needs_background": "light"
     },
     "output_type": "display_data"
    }
   ],
   "source": [
    "df_cor = pd.concat([df_usa, df_btc], axis=1, join='outer')\n",
    "\n",
    "df_cor.dropna(inplace=True)\n",
    "df_cor.tail()\n",
    "df_cor.plot()\n",
    "df_cor.corr().style.background_gradient(cmap='coolwarm')"
   ]
  },
  {
   "cell_type": "markdown",
   "metadata": {},
   "source": [
    "<b>Answer: There is a correlation between Bitcoin price and total cases in USA, but it's very small, only 0.27</b>"
   ]
  },
  {
   "cell_type": "markdown",
   "metadata": {},
   "source": [
    "<H2>3. Is it possible to predict S&P500 index using new covid-19 cases and new vaccinated people count in USA or world?</H2>"
   ]
  },
  {
   "cell_type": "code",
   "execution_count": 8,
   "metadata": {},
   "outputs": [
    {
     "data": {
      "text/html": [
       "<div>\n",
       "<style scoped>\n",
       "    .dataframe tbody tr th:only-of-type {\n",
       "        vertical-align: middle;\n",
       "    }\n",
       "\n",
       "    .dataframe tbody tr th {\n",
       "        vertical-align: top;\n",
       "    }\n",
       "\n",
       "    .dataframe thead th {\n",
       "        text-align: right;\n",
       "    }\n",
       "</style>\n",
       "<table border=\"1\" class=\"dataframe\">\n",
       "  <thead>\n",
       "    <tr style=\"text-align: right;\">\n",
       "      <th></th>\n",
       "      <th>open</th>\n",
       "      <th>price</th>\n",
       "    </tr>\n",
       "    <tr>\n",
       "      <th>date</th>\n",
       "      <th></th>\n",
       "      <th></th>\n",
       "    </tr>\n",
       "  </thead>\n",
       "  <tbody>\n",
       "    <tr>\n",
       "      <th>2021-10-08</th>\n",
       "      <td>4,406.51</td>\n",
       "      <td>4,391.34</td>\n",
       "    </tr>\n",
       "    <tr>\n",
       "      <th>2021-10-07</th>\n",
       "      <td>4,383.73</td>\n",
       "      <td>4,399.76</td>\n",
       "    </tr>\n",
       "    <tr>\n",
       "      <th>2021-10-06</th>\n",
       "      <td>4,319.57</td>\n",
       "      <td>4,363.55</td>\n",
       "    </tr>\n",
       "    <tr>\n",
       "      <th>2021-10-05</th>\n",
       "      <td>4,309.87</td>\n",
       "      <td>4,345.72</td>\n",
       "    </tr>\n",
       "    <tr>\n",
       "      <th>2021-10-04</th>\n",
       "      <td>4,348.84</td>\n",
       "      <td>4,300.46</td>\n",
       "    </tr>\n",
       "  </tbody>\n",
       "</table>\n",
       "</div>"
      ],
      "text/plain": [
       "                open     price\n",
       "date                          \n",
       "2021-10-08  4,406.51  4,391.34\n",
       "2021-10-07  4,383.73  4,399.76\n",
       "2021-10-06  4,319.57  4,363.55\n",
       "2021-10-05  4,309.87  4,345.72\n",
       "2021-10-04  4,348.84  4,300.46"
      ]
     },
     "execution_count": 8,
     "metadata": {},
     "output_type": "execute_result"
    }
   ],
   "source": [
    "df_sp500 = pd.read_csv('sp500.csv')\n",
    "df_sp500.columns = df_sp500.columns.str.lower()\n",
    "df_sp500.rename({\"close\": \"price\"}, inplace=True, axis=1)\n",
    "df_sp500['date'] = pd.to_datetime(df_sp500['date'])\n",
    "df_sp500.set_index('date', inplace=True)\n",
    "df_sp500.drop(['high','low'], axis=1, inplace=True)\n",
    "df_sp500.head()"
   ]
  },
  {
   "cell_type": "code",
   "execution_count": 9,
   "metadata": {},
   "outputs": [
    {
     "data": {
      "text/html": [
       "<div>\n",
       "<style scoped>\n",
       "    .dataframe tbody tr th:only-of-type {\n",
       "        vertical-align: middle;\n",
       "    }\n",
       "\n",
       "    .dataframe tbody tr th {\n",
       "        vertical-align: top;\n",
       "    }\n",
       "\n",
       "    .dataframe thead th {\n",
       "        text-align: right;\n",
       "    }\n",
       "</style>\n",
       "<table border=\"1\" class=\"dataframe\">\n",
       "  <thead>\n",
       "    <tr style=\"text-align: right;\">\n",
       "      <th></th>\n",
       "      <th>new_cases</th>\n",
       "      <th>new_vaccinations</th>\n",
       "    </tr>\n",
       "    <tr>\n",
       "      <th>date</th>\n",
       "      <th></th>\n",
       "      <th></th>\n",
       "    </tr>\n",
       "  </thead>\n",
       "  <tbody>\n",
       "    <tr>\n",
       "      <th>2020-12-21</th>\n",
       "      <td>191272.0</td>\n",
       "      <td>57909.0</td>\n",
       "    </tr>\n",
       "    <tr>\n",
       "      <th>2021-01-05</th>\n",
       "      <td>231224.0</td>\n",
       "      <td>273209.0</td>\n",
       "    </tr>\n",
       "    <tr>\n",
       "      <th>2021-01-06</th>\n",
       "      <td>256327.0</td>\n",
       "      <td>470328.0</td>\n",
       "    </tr>\n",
       "    <tr>\n",
       "      <th>2021-01-07</th>\n",
       "      <td>288658.0</td>\n",
       "      <td>612621.0</td>\n",
       "    </tr>\n",
       "    <tr>\n",
       "      <th>2021-01-08</th>\n",
       "      <td>303008.0</td>\n",
       "      <td>768813.0</td>\n",
       "    </tr>\n",
       "  </tbody>\n",
       "</table>\n",
       "</div>"
      ],
      "text/plain": [
       "            new_cases  new_vaccinations\n",
       "date                                   \n",
       "2020-12-21   191272.0           57909.0\n",
       "2021-01-05   231224.0          273209.0\n",
       "2021-01-06   256327.0          470328.0\n",
       "2021-01-07   288658.0          612621.0\n",
       "2021-01-08   303008.0          768813.0"
      ]
     },
     "execution_count": 9,
     "metadata": {},
     "output_type": "execute_result"
    }
   ],
   "source": [
    "df_usa1 = df_raw.loc[filtr_usa, ['date', 'new_cases', 'new_vaccinations']]\n",
    "df_usa1['date'] = pd.to_datetime(df_usa1['date'])\n",
    "df_usa1.dropna(inplace=True)\n",
    "df_usa1.set_index('date', inplace=True)\n",
    "df_usa1.head()"
   ]
  },
  {
   "cell_type": "code",
   "execution_count": 10,
   "metadata": {},
   "outputs": [
    {
     "data": {
      "text/html": [
       "<div>\n",
       "<style scoped>\n",
       "    .dataframe tbody tr th:only-of-type {\n",
       "        vertical-align: middle;\n",
       "    }\n",
       "\n",
       "    .dataframe tbody tr th {\n",
       "        vertical-align: top;\n",
       "    }\n",
       "\n",
       "    .dataframe thead th {\n",
       "        text-align: right;\n",
       "    }\n",
       "</style>\n",
       "<table border=\"1\" class=\"dataframe\">\n",
       "  <thead>\n",
       "    <tr style=\"text-align: right;\">\n",
       "      <th></th>\n",
       "      <th>new_cases</th>\n",
       "      <th>new_vaccinations</th>\n",
       "      <th>open</th>\n",
       "      <th>price</th>\n",
       "    </tr>\n",
       "    <tr>\n",
       "      <th>date</th>\n",
       "      <th></th>\n",
       "      <th></th>\n",
       "      <th></th>\n",
       "      <th></th>\n",
       "    </tr>\n",
       "  </thead>\n",
       "  <tbody>\n",
       "    <tr>\n",
       "      <th>2021-01-05</th>\n",
       "      <td>231224.0</td>\n",
       "      <td>273209.0</td>\n",
       "      <td>3698.02</td>\n",
       "      <td>3726.86</td>\n",
       "    </tr>\n",
       "    <tr>\n",
       "      <th>2021-01-06</th>\n",
       "      <td>256327.0</td>\n",
       "      <td>470328.0</td>\n",
       "      <td>3712.20</td>\n",
       "      <td>3748.14</td>\n",
       "    </tr>\n",
       "    <tr>\n",
       "      <th>2021-01-07</th>\n",
       "      <td>288658.0</td>\n",
       "      <td>612621.0</td>\n",
       "      <td>3764.71</td>\n",
       "      <td>3803.79</td>\n",
       "    </tr>\n",
       "    <tr>\n",
       "      <th>2021-01-08</th>\n",
       "      <td>303008.0</td>\n",
       "      <td>768813.0</td>\n",
       "      <td>3815.05</td>\n",
       "      <td>3824.68</td>\n",
       "    </tr>\n",
       "    <tr>\n",
       "      <th>2021-01-12</th>\n",
       "      <td>218413.0</td>\n",
       "      <td>339816.0</td>\n",
       "      <td>3801.62</td>\n",
       "      <td>3801.19</td>\n",
       "    </tr>\n",
       "    <tr>\n",
       "      <th>...</th>\n",
       "      <td>...</td>\n",
       "      <td>...</td>\n",
       "      <td>...</td>\n",
       "      <td>...</td>\n",
       "    </tr>\n",
       "    <tr>\n",
       "      <th>2021-10-01</th>\n",
       "      <td>158284.0</td>\n",
       "      <td>846871.0</td>\n",
       "      <td>4317.16</td>\n",
       "      <td>4357.04</td>\n",
       "    </tr>\n",
       "    <tr>\n",
       "      <th>2021-10-04</th>\n",
       "      <td>169207.0</td>\n",
       "      <td>984739.0</td>\n",
       "      <td>4348.84</td>\n",
       "      <td>4300.46</td>\n",
       "    </tr>\n",
       "    <tr>\n",
       "      <th>2021-10-05</th>\n",
       "      <td>95234.0</td>\n",
       "      <td>798491.0</td>\n",
       "      <td>4309.87</td>\n",
       "      <td>4345.72</td>\n",
       "    </tr>\n",
       "    <tr>\n",
       "      <th>2021-10-06</th>\n",
       "      <td>111338.0</td>\n",
       "      <td>957359.0</td>\n",
       "      <td>4319.57</td>\n",
       "      <td>4363.55</td>\n",
       "    </tr>\n",
       "    <tr>\n",
       "      <th>2021-10-07</th>\n",
       "      <td>100083.0</td>\n",
       "      <td>877030.0</td>\n",
       "      <td>4383.73</td>\n",
       "      <td>4399.76</td>\n",
       "    </tr>\n",
       "  </tbody>\n",
       "</table>\n",
       "<p>184 rows × 4 columns</p>\n",
       "</div>"
      ],
      "text/plain": [
       "            new_cases  new_vaccinations     open    price\n",
       "date                                                     \n",
       "2021-01-05   231224.0          273209.0  3698.02  3726.86\n",
       "2021-01-06   256327.0          470328.0  3712.20  3748.14\n",
       "2021-01-07   288658.0          612621.0  3764.71  3803.79\n",
       "2021-01-08   303008.0          768813.0  3815.05  3824.68\n",
       "2021-01-12   218413.0          339816.0  3801.62  3801.19\n",
       "...               ...               ...      ...      ...\n",
       "2021-10-01   158284.0          846871.0  4317.16  4357.04\n",
       "2021-10-04   169207.0          984739.0  4348.84  4300.46\n",
       "2021-10-05    95234.0          798491.0  4309.87  4345.72\n",
       "2021-10-06   111338.0          957359.0  4319.57  4363.55\n",
       "2021-10-07   100083.0          877030.0  4383.73  4399.76\n",
       "\n",
       "[184 rows x 4 columns]"
      ]
     },
     "execution_count": 10,
     "metadata": {},
     "output_type": "execute_result"
    }
   ],
   "source": [
    "select_date = '2021-01-05'\n",
    "df_concat = pd.concat([df_usa1, df_sp500], axis=1, join='outer')\n",
    "for column in df_concat:\n",
    "    df_concat[column] = df_concat[column].apply(lambda x: x.replace(',','') if type(x) == str else x)\n",
    "    df_concat[column] = pd.to_numeric(df_concat[column])\n",
    "\n",
    "df_concat.dropna(inplace=True)\n",
    "df_concat = df_concat.drop(df_concat[df_concat.index < select_date].index)\n",
    "\n",
    "df_concat"
   ]
  },
  {
   "cell_type": "code",
   "execution_count": 11,
   "metadata": {},
   "outputs": [
    {
     "data": {
      "text/html": [
       "<style type=\"text/css\">\n",
       "#T_97a13_row0_col0, #T_97a13_row1_col1, #T_97a13_row2_col2, #T_97a13_row3_col3 {\n",
       "  background-color: #b40426;\n",
       "  color: #f1f1f1;\n",
       "}\n",
       "#T_97a13_row0_col1 {\n",
       "  background-color: #506bda;\n",
       "  color: #f1f1f1;\n",
       "}\n",
       "#T_97a13_row0_col2 {\n",
       "  background-color: #afcafc;\n",
       "  color: #000000;\n",
       "}\n",
       "#T_97a13_row0_col3 {\n",
       "  background-color: #aec9fc;\n",
       "  color: #000000;\n",
       "}\n",
       "#T_97a13_row1_col0, #T_97a13_row1_col2, #T_97a13_row1_col3, #T_97a13_row2_col1 {\n",
       "  background-color: #3b4cc0;\n",
       "  color: #f1f1f1;\n",
       "}\n",
       "#T_97a13_row2_col0, #T_97a13_row3_col0 {\n",
       "  background-color: #9ebeff;\n",
       "  color: #000000;\n",
       "}\n",
       "#T_97a13_row2_col3, #T_97a13_row3_col2 {\n",
       "  background-color: #b50927;\n",
       "  color: #f1f1f1;\n",
       "}\n",
       "#T_97a13_row3_col1 {\n",
       "  background-color: #3c4ec2;\n",
       "  color: #f1f1f1;\n",
       "}\n",
       "</style>\n",
       "<table id=\"T_97a13_\">\n",
       "  <thead>\n",
       "    <tr>\n",
       "      <th class=\"blank level0\" >&nbsp;</th>\n",
       "      <th class=\"col_heading level0 col0\" >new_cases</th>\n",
       "      <th class=\"col_heading level0 col1\" >new_vaccinations</th>\n",
       "      <th class=\"col_heading level0 col2\" >open</th>\n",
       "      <th class=\"col_heading level0 col3\" >price</th>\n",
       "    </tr>\n",
       "  </thead>\n",
       "  <tbody>\n",
       "    <tr>\n",
       "      <th id=\"T_97a13_level0_row0\" class=\"row_heading level0 row0\" >new_cases</th>\n",
       "      <td id=\"T_97a13_row0_col0\" class=\"data row0 col0\" >1.000000</td>\n",
       "      <td id=\"T_97a13_row0_col1\" class=\"data row0 col1\" >-0.301327</td>\n",
       "      <td id=\"T_97a13_row0_col2\" class=\"data row0 col2\" >0.088892</td>\n",
       "      <td id=\"T_97a13_row0_col3\" class=\"data row0 col3\" >0.088533</td>\n",
       "    </tr>\n",
       "    <tr>\n",
       "      <th id=\"T_97a13_level0_row1\" class=\"row_heading level0 row1\" >new_vaccinations</th>\n",
       "      <td id=\"T_97a13_row1_col0\" class=\"data row1 col0\" >-0.301327</td>\n",
       "      <td id=\"T_97a13_row1_col1\" class=\"data row1 col1\" >1.000000</td>\n",
       "      <td id=\"T_97a13_row1_col2\" class=\"data row1 col2\" >-0.403134</td>\n",
       "      <td id=\"T_97a13_row1_col3\" class=\"data row1 col3\" >-0.395496</td>\n",
       "    </tr>\n",
       "    <tr>\n",
       "      <th id=\"T_97a13_level0_row2\" class=\"row_heading level0 row2\" >open</th>\n",
       "      <td id=\"T_97a13_row2_col0\" class=\"data row2 col0\" >0.088892</td>\n",
       "      <td id=\"T_97a13_row2_col1\" class=\"data row2 col1\" >-0.403134</td>\n",
       "      <td id=\"T_97a13_row2_col2\" class=\"data row2 col2\" >1.000000</td>\n",
       "      <td id=\"T_97a13_row2_col3\" class=\"data row2 col3\" >0.993169</td>\n",
       "    </tr>\n",
       "    <tr>\n",
       "      <th id=\"T_97a13_level0_row3\" class=\"row_heading level0 row3\" >price</th>\n",
       "      <td id=\"T_97a13_row3_col0\" class=\"data row3 col0\" >0.088533</td>\n",
       "      <td id=\"T_97a13_row3_col1\" class=\"data row3 col1\" >-0.395496</td>\n",
       "      <td id=\"T_97a13_row3_col2\" class=\"data row3 col2\" >0.993169</td>\n",
       "      <td id=\"T_97a13_row3_col3\" class=\"data row3 col3\" >1.000000</td>\n",
       "    </tr>\n",
       "  </tbody>\n",
       "</table>\n"
      ],
      "text/plain": [
       "<pandas.io.formats.style.Styler at 0x203024c3af0>"
      ]
     },
     "execution_count": 11,
     "metadata": {},
     "output_type": "execute_result"
    },
    {
     "data": {
      "image/png": "[encoded data removed]",
      "text/plain": [
       "<Figure size 432x288 with 1 Axes>"
      ]
     },
     "metadata": {
      "needs_background": "light"
     },
     "output_type": "display_data"
    }
   ],
   "source": [
    "df_concat.plot()\n",
    "df_concat.corr().style.background_gradient(cmap='coolwarm')"
   ]
  },
  {
   "cell_type": "code",
   "execution_count": 12,
   "metadata": {},
   "outputs": [
    {
     "name": "stdout",
     "output_type": "stream",
     "text": [
      "Number of rows to use for testing: 36\n"
     ]
    }
   ],
   "source": [
    "rows = df_concat.shape[0]\n",
    "test_num = int(rows * 0.2)\n",
    "print(f\"Number of rows to use for testing: {test_num}\")"
   ]
  },
  {
   "cell_type": "code",
   "execution_count": 13,
   "metadata": {},
   "outputs": [
    {
     "data": {
      "text/html": [
       "<div>\n",
       "<style scoped>\n",
       "    .dataframe tbody tr th:only-of-type {\n",
       "        vertical-align: middle;\n",
       "    }\n",
       "\n",
       "    .dataframe tbody tr th {\n",
       "        vertical-align: top;\n",
       "    }\n",
       "\n",
       "    .dataframe thead th {\n",
       "        text-align: right;\n",
       "    }\n",
       "</style>\n",
       "<table border=\"1\" class=\"dataframe\">\n",
       "  <thead>\n",
       "    <tr style=\"text-align: right;\">\n",
       "      <th></th>\n",
       "      <th>new_cases</th>\n",
       "      <th>new_vaccinations</th>\n",
       "      <th>open</th>\n",
       "    </tr>\n",
       "  </thead>\n",
       "  <tbody>\n",
       "    <tr>\n",
       "      <th>143</th>\n",
       "      <td>255081.0</td>\n",
       "      <td>821060.0</td>\n",
       "      <td>4429.07</td>\n",
       "    </tr>\n",
       "    <tr>\n",
       "      <th>144</th>\n",
       "      <td>181218.0</td>\n",
       "      <td>532245.0</td>\n",
       "      <td>4437.77</td>\n",
       "    </tr>\n",
       "    <tr>\n",
       "      <th>145</th>\n",
       "      <td>120969.0</td>\n",
       "      <td>617769.0</td>\n",
       "      <td>4435.79</td>\n",
       "    </tr>\n",
       "    <tr>\n",
       "      <th>146</th>\n",
       "      <td>156039.0</td>\n",
       "      <td>654600.0</td>\n",
       "      <td>4442.18</td>\n",
       "    </tr>\n",
       "    <tr>\n",
       "      <th>147</th>\n",
       "      <td>141976.0</td>\n",
       "      <td>654350.0</td>\n",
       "      <td>4446.08</td>\n",
       "    </tr>\n",
       "  </tbody>\n",
       "</table>\n",
       "</div>"
      ],
      "text/plain": [
       "     new_cases  new_vaccinations     open\n",
       "143   255081.0          821060.0  4429.07\n",
       "144   181218.0          532245.0  4437.77\n",
       "145   120969.0          617769.0  4435.79\n",
       "146   156039.0          654600.0  4442.18\n",
       "147   141976.0          654350.0  4446.08"
      ]
     },
     "execution_count": 13,
     "metadata": {},
     "output_type": "execute_result"
    }
   ],
   "source": [
    "df_test = df_concat.iloc[rows-test_num:rows, :]\n",
    "df_train = df_concat.iloc[:rows-test_num, :]\n",
    "\n",
    "X_train = df_train.reset_index()\n",
    "y_train = X_train['price']\n",
    "X_train.drop(['date', 'price'],inplace=True,axis=1)\n",
    "X_train.tail()"
   ]
  },
  {
   "cell_type": "code",
   "execution_count": 14,
   "metadata": {},
   "outputs": [
    {
     "data": {
      "text/plain": [
       "143    4436.52\n",
       "144    4432.35\n",
       "145    4436.75\n",
       "146    4447.70\n",
       "147    4460.83\n",
       "Name: price, dtype: float64"
      ]
     },
     "execution_count": 14,
     "metadata": {},
     "output_type": "execute_result"
    }
   ],
   "source": [
    "y_train.tail()"
   ]
  },
  {
   "cell_type": "code",
   "execution_count": 15,
   "metadata": {},
   "outputs": [],
   "source": [
    "X_test = df_test.reset_index()\n",
    "y_test = X_test['price']\n",
    "X_test.drop(['date', 'price'],inplace=True,axis=1)"
   ]
  },
  {
   "cell_type": "code",
   "execution_count": 16,
   "metadata": {},
   "outputs": [],
   "source": [
    "def predict_using_lr(X_train, y_train, X_test, y_test):\n",
    "\n",
    "    model = LinearRegression()\n",
    "    model.fit(X_train, y_train)\n",
    "    predictions = model.predict(X_test)\n",
    "    print(f\"MSE error: {mean_squared_error(y_test, predictions)}\")\n",
    "    y_predicted = pd.DataFrame(predictions,columns=['price_predicted'])\n",
    "    return y_predicted\n"
   ]
  },
  {
   "cell_type": "code",
   "execution_count": 17,
   "metadata": {},
   "outputs": [],
   "source": [
    "def plot(y_test, y_predicted):\n",
    "    test_df = pd.DataFrame(y_test.to_list(), columns=['real_price'])\n",
    "    ax = test_df.plot()\n",
    "    y_predicted.plot(ax=ax)"
   ]
  },
  {
   "cell_type": "markdown",
   "metadata": {},
   "source": [
    "<p>Predict price of S&P500 using open price, new vaccinations and new cases.</p>"
   ]
  },
  {
   "cell_type": "code",
   "execution_count": 18,
   "metadata": {},
   "outputs": [
    {
     "name": "stdout",
     "output_type": "stream",
     "text": [
      "MSE error: 859.7532732481295\n"
     ]
    },
    {
     "data": {
      "image/png": "[encoded data removed]",
      "text/plain": [
       "<Figure size 432x288 with 1 Axes>"
      ]
     },
     "metadata": {
      "needs_background": "light"
     },
     "output_type": "display_data"
    }
   ],
   "source": [
    "predicted_all = predict_using_lr(X_train, y_train, X_test, y_test)\n",
    "plot(y_test, predicted_all)"
   ]
  },
  {
   "cell_type": "markdown",
   "metadata": {},
   "source": [
    "<p>Predict price of S&P500 using only new vaccinations and new cases.</p>"
   ]
  },
  {
   "cell_type": "code",
   "execution_count": 19,
   "metadata": {},
   "outputs": [
    {
     "name": "stdout",
     "output_type": "stream",
     "text": [
      "MSE error: 217630.161225146\n"
     ]
    },
    {
     "data": {
      "image/png": "[encoded data removed]",
      "text/plain": [
       "<Figure size 432x288 with 1 Axes>"
      ]
     },
     "metadata": {
      "needs_background": "light"
     },
     "output_type": "display_data"
    }
   ],
   "source": [
    "X_train1 = X_train[['new_cases', 'new_vaccinations']]\n",
    "X_test1 = X_test[['new_cases', 'new_vaccinations']]\n",
    "\n",
    "predicted_no_open = predict_using_lr(X_train1, y_train, X_test1, y_test)\n",
    "plot(y_test, predicted_no_open)"
   ]
  },
  {
   "cell_type": "markdown",
   "metadata": {},
   "source": [
    "<p>Predict price of S&P500 using only open price.</p>"
   ]
  },
  {
   "cell_type": "code",
   "execution_count": 20,
   "metadata": {},
   "outputs": [
    {
     "name": "stdout",
     "output_type": "stream",
     "text": [
      "MSE error: 833.1405716410128\n"
     ]
    },
    {
     "data": {
      "image/png": "[encoded data removed]",
      "text/plain": [
       "<Figure size 432x288 with 1 Axes>"
      ]
     },
     "metadata": {
      "needs_background": "light"
     },
     "output_type": "display_data"
    }
   ],
   "source": [
    "X_train2 = X_train[['open']]\n",
    "X_test2 = X_test[['open']]\n",
    "\n",
    "predicted_only_open = predict_using_lr(X_train2, y_train, X_test2, y_test)\n",
    "plot(y_test, predicted_only_open)"
   ]
  },
  {
   "cell_type": "code",
   "execution_count": 21,
   "metadata": {},
   "outputs": [
    {
     "data": {
      "text/html": [
       "<div>\n",
       "<style scoped>\n",
       "    .dataframe tbody tr th:only-of-type {\n",
       "        vertical-align: middle;\n",
       "    }\n",
       "\n",
       "    .dataframe tbody tr th {\n",
       "        vertical-align: top;\n",
       "    }\n",
       "\n",
       "    .dataframe thead th {\n",
       "        text-align: right;\n",
       "    }\n",
       "</style>\n",
       "<table border=\"1\" class=\"dataframe\">\n",
       "  <thead>\n",
       "    <tr style=\"text-align: right;\">\n",
       "      <th></th>\n",
       "      <th>new_cases</th>\n",
       "      <th>new_vaccinations</th>\n",
       "    </tr>\n",
       "    <tr>\n",
       "      <th>date</th>\n",
       "      <th></th>\n",
       "      <th></th>\n",
       "    </tr>\n",
       "  </thead>\n",
       "  <tbody>\n",
       "    <tr>\n",
       "      <th>2020-01-01</th>\n",
       "      <td>0.0</td>\n",
       "      <td>0.0</td>\n",
       "    </tr>\n",
       "    <tr>\n",
       "      <th>2020-01-02</th>\n",
       "      <td>0.0</td>\n",
       "      <td>0.0</td>\n",
       "    </tr>\n",
       "    <tr>\n",
       "      <th>2020-01-03</th>\n",
       "      <td>0.0</td>\n",
       "      <td>0.0</td>\n",
       "    </tr>\n",
       "    <tr>\n",
       "      <th>2020-01-04</th>\n",
       "      <td>0.0</td>\n",
       "      <td>0.0</td>\n",
       "    </tr>\n",
       "    <tr>\n",
       "      <th>2020-01-05</th>\n",
       "      <td>0.0</td>\n",
       "      <td>0.0</td>\n",
       "    </tr>\n",
       "    <tr>\n",
       "      <th>...</th>\n",
       "      <td>...</td>\n",
       "      <td>...</td>\n",
       "    </tr>\n",
       "    <tr>\n",
       "      <th>2021-10-03</th>\n",
       "      <td>912854.0</td>\n",
       "      <td>55484659.0</td>\n",
       "    </tr>\n",
       "    <tr>\n",
       "      <th>2021-10-04</th>\n",
       "      <td>1416558.0</td>\n",
       "      <td>61024656.0</td>\n",
       "    </tr>\n",
       "    <tr>\n",
       "      <th>2021-10-05</th>\n",
       "      <td>1309946.0</td>\n",
       "      <td>87689759.0</td>\n",
       "    </tr>\n",
       "    <tr>\n",
       "      <th>2021-10-06</th>\n",
       "      <td>1613362.0</td>\n",
       "      <td>58505977.0</td>\n",
       "    </tr>\n",
       "    <tr>\n",
       "      <th>2021-10-07</th>\n",
       "      <td>1359213.0</td>\n",
       "      <td>56126678.0</td>\n",
       "    </tr>\n",
       "  </tbody>\n",
       "</table>\n",
       "<p>646 rows × 2 columns</p>\n",
       "</div>"
      ],
      "text/plain": [
       "            new_cases  new_vaccinations\n",
       "date                                   \n",
       "2020-01-01        0.0               0.0\n",
       "2020-01-02        0.0               0.0\n",
       "2020-01-03        0.0               0.0\n",
       "2020-01-04        0.0               0.0\n",
       "2020-01-05        0.0               0.0\n",
       "...               ...               ...\n",
       "2021-10-03   912854.0        55484659.0\n",
       "2021-10-04  1416558.0        61024656.0\n",
       "2021-10-05  1309946.0        87689759.0\n",
       "2021-10-06  1613362.0        58505977.0\n",
       "2021-10-07  1359213.0        56126678.0\n",
       "\n",
       "[646 rows x 2 columns]"
      ]
     },
     "execution_count": 21,
     "metadata": {},
     "output_type": "execute_result"
    }
   ],
   "source": [
    "df_world = df_raw[['date', 'new_cases', 'new_vaccinations']].copy()\n",
    "df_world['date'] = pd.to_datetime(df_world['date'])\n",
    "df_world = df_world.groupby(by='date').sum()\n",
    "df_world.dropna(inplace=True)\n",
    "df_world"
   ]
  },
  {
   "cell_type": "code",
   "execution_count": 22,
   "metadata": {},
   "outputs": [
    {
     "data": {
      "text/plain": [
       "<AxesSubplot:xlabel='date'>"
      ]
     },
     "execution_count": 22,
     "metadata": {},
     "output_type": "execute_result"
    },
    {
     "data": {
      "image/png": "[encoded data removed]",
      "text/plain": [
       "<Figure size 432x288 with 1 Axes>"
      ]
     },
     "metadata": {
      "needs_background": "light"
     },
     "output_type": "display_data"
    }
   ],
   "source": [
    "df_world.plot()"
   ]
  },
  {
   "cell_type": "code",
   "execution_count": 23,
   "metadata": {},
   "outputs": [
    {
     "data": {
      "text/html": [
       "<div>\n",
       "<style scoped>\n",
       "    .dataframe tbody tr th:only-of-type {\n",
       "        vertical-align: middle;\n",
       "    }\n",
       "\n",
       "    .dataframe tbody tr th {\n",
       "        vertical-align: top;\n",
       "    }\n",
       "\n",
       "    .dataframe thead th {\n",
       "        text-align: right;\n",
       "    }\n",
       "</style>\n",
       "<table border=\"1\" class=\"dataframe\">\n",
       "  <thead>\n",
       "    <tr style=\"text-align: right;\">\n",
       "      <th></th>\n",
       "      <th>new_cases</th>\n",
       "      <th>new_vaccinations</th>\n",
       "      <th>open</th>\n",
       "      <th>price</th>\n",
       "    </tr>\n",
       "    <tr>\n",
       "      <th>date</th>\n",
       "      <th></th>\n",
       "      <th></th>\n",
       "      <th></th>\n",
       "      <th></th>\n",
       "    </tr>\n",
       "  </thead>\n",
       "  <tbody>\n",
       "    <tr>\n",
       "      <th>2021-01-05</th>\n",
       "      <td>2381867.0</td>\n",
       "      <td>4200091.0</td>\n",
       "      <td>3698.02</td>\n",
       "      <td>3726.86</td>\n",
       "    </tr>\n",
       "    <tr>\n",
       "      <th>2021-01-06</th>\n",
       "      <td>2516234.0</td>\n",
       "      <td>3164484.0</td>\n",
       "      <td>3712.20</td>\n",
       "      <td>3748.14</td>\n",
       "    </tr>\n",
       "    <tr>\n",
       "      <th>2021-01-07</th>\n",
       "      <td>2899683.0</td>\n",
       "      <td>4036518.0</td>\n",
       "      <td>3764.71</td>\n",
       "      <td>3803.79</td>\n",
       "    </tr>\n",
       "    <tr>\n",
       "      <th>2021-01-08</th>\n",
       "      <td>2598977.0</td>\n",
       "      <td>4558388.0</td>\n",
       "      <td>3815.05</td>\n",
       "      <td>3824.68</td>\n",
       "    </tr>\n",
       "    <tr>\n",
       "      <th>2021-01-12</th>\n",
       "      <td>2244740.0</td>\n",
       "      <td>4240448.0</td>\n",
       "      <td>3801.62</td>\n",
       "      <td>3801.19</td>\n",
       "    </tr>\n",
       "    <tr>\n",
       "      <th>...</th>\n",
       "      <td>...</td>\n",
       "      <td>...</td>\n",
       "      <td>...</td>\n",
       "      <td>...</td>\n",
       "    </tr>\n",
       "    <tr>\n",
       "      <th>2021-10-01</th>\n",
       "      <td>1688974.0</td>\n",
       "      <td>57008109.0</td>\n",
       "      <td>4317.16</td>\n",
       "      <td>4357.04</td>\n",
       "    </tr>\n",
       "    <tr>\n",
       "      <th>2021-10-04</th>\n",
       "      <td>1416558.0</td>\n",
       "      <td>61024656.0</td>\n",
       "      <td>4348.84</td>\n",
       "      <td>4300.46</td>\n",
       "    </tr>\n",
       "    <tr>\n",
       "      <th>2021-10-05</th>\n",
       "      <td>1309946.0</td>\n",
       "      <td>87689759.0</td>\n",
       "      <td>4309.87</td>\n",
       "      <td>4345.72</td>\n",
       "    </tr>\n",
       "    <tr>\n",
       "      <th>2021-10-06</th>\n",
       "      <td>1613362.0</td>\n",
       "      <td>58505977.0</td>\n",
       "      <td>4319.57</td>\n",
       "      <td>4363.55</td>\n",
       "    </tr>\n",
       "    <tr>\n",
       "      <th>2021-10-07</th>\n",
       "      <td>1359213.0</td>\n",
       "      <td>56126678.0</td>\n",
       "      <td>4383.73</td>\n",
       "      <td>4399.76</td>\n",
       "    </tr>\n",
       "  </tbody>\n",
       "</table>\n",
       "<p>184 rows × 4 columns</p>\n",
       "</div>"
      ],
      "text/plain": [
       "            new_cases  new_vaccinations     open    price\n",
       "date                                                     \n",
       "2021-01-05  2381867.0         4200091.0  3698.02  3726.86\n",
       "2021-01-06  2516234.0         3164484.0  3712.20  3748.14\n",
       "2021-01-07  2899683.0         4036518.0  3764.71  3803.79\n",
       "2021-01-08  2598977.0         4558388.0  3815.05  3824.68\n",
       "2021-01-12  2244740.0         4240448.0  3801.62  3801.19\n",
       "...               ...               ...      ...      ...\n",
       "2021-10-01  1688974.0        57008109.0  4317.16  4357.04\n",
       "2021-10-04  1416558.0        61024656.0  4348.84  4300.46\n",
       "2021-10-05  1309946.0        87689759.0  4309.87  4345.72\n",
       "2021-10-06  1613362.0        58505977.0  4319.57  4363.55\n",
       "2021-10-07  1359213.0        56126678.0  4383.73  4399.76\n",
       "\n",
       "[184 rows x 4 columns]"
      ]
     },
     "execution_count": 23,
     "metadata": {},
     "output_type": "execute_result"
    }
   ],
   "source": [
    "df_concat_world = pd.concat([df_world, df_sp500], axis=1, join='outer')\n",
    "for column in df_concat_world:\n",
    "    df_concat_world[column] = df_concat_world[column].apply(lambda x: x.replace(',','') if type(x) == str else x)\n",
    "    df_concat_world[column] = pd.to_numeric(df_concat_world[column])\n",
    "\n",
    "df_concat_world.dropna(inplace=True)\n",
    "df_concat.index\n",
    "df_concat_world = df_concat_world.drop(df_concat_world[~df_concat_world.index.isin(df_concat.index.tolist())].index)\n",
    "\n",
    "df_concat_world"
   ]
  },
  {
   "cell_type": "code",
   "execution_count": 24,
   "metadata": {},
   "outputs": [
    {
     "data": {
      "text/html": [
       "<style type=\"text/css\">\n",
       "#T_60cb3_row0_col0, #T_60cb3_row1_col1, #T_60cb3_row2_col2, #T_60cb3_row3_col3 {\n",
       "  background-color: #b40426;\n",
       "  color: #f1f1f1;\n",
       "}\n",
       "#T_60cb3_row0_col1, #T_60cb3_row0_col2, #T_60cb3_row0_col3, #T_60cb3_row1_col0 {\n",
       "  background-color: #3b4cc0;\n",
       "  color: #f1f1f1;\n",
       "}\n",
       "#T_60cb3_row1_col2, #T_60cb3_row1_col3 {\n",
       "  background-color: #e67259;\n",
       "  color: #f1f1f1;\n",
       "}\n",
       "#T_60cb3_row2_col0 {\n",
       "  background-color: #6282ea;\n",
       "  color: #f1f1f1;\n",
       "}\n",
       "#T_60cb3_row2_col1, #T_60cb3_row3_col1 {\n",
       "  background-color: #e26952;\n",
       "  color: #f1f1f1;\n",
       "}\n",
       "#T_60cb3_row2_col3, #T_60cb3_row3_col2 {\n",
       "  background-color: #b50927;\n",
       "  color: #f1f1f1;\n",
       "}\n",
       "#T_60cb3_row3_col0 {\n",
       "  background-color: #6384eb;\n",
       "  color: #f1f1f1;\n",
       "}\n",
       "</style>\n",
       "<table id=\"T_60cb3_\">\n",
       "  <thead>\n",
       "    <tr>\n",
       "      <th class=\"blank level0\" >&nbsp;</th>\n",
       "      <th class=\"col_heading level0 col0\" >new_cases</th>\n",
       "      <th class=\"col_heading level0 col1\" >new_vaccinations</th>\n",
       "      <th class=\"col_heading level0 col2\" >open</th>\n",
       "      <th class=\"col_heading level0 col3\" >price</th>\n",
       "    </tr>\n",
       "  </thead>\n",
       "  <tbody>\n",
       "    <tr>\n",
       "      <th id=\"T_60cb3_level0_row0\" class=\"row_heading level0 row0\" >new_cases</th>\n",
       "      <td id=\"T_60cb3_row0_col0\" class=\"data row0 col0\" >1.000000</td>\n",
       "      <td id=\"T_60cb3_row0_col1\" class=\"data row0 col1\" >-0.049747</td>\n",
       "      <td id=\"T_60cb3_row0_col2\" class=\"data row0 col2\" >0.082956</td>\n",
       "      <td id=\"T_60cb3_row0_col3\" class=\"data row0 col3\" >0.086120</td>\n",
       "    </tr>\n",
       "    <tr>\n",
       "      <th id=\"T_60cb3_level0_row1\" class=\"row_heading level0 row1\" >new_vaccinations</th>\n",
       "      <td id=\"T_60cb3_row1_col0\" class=\"data row1 col0\" >-0.049747</td>\n",
       "      <td id=\"T_60cb3_row1_col1\" class=\"data row1 col1\" >1.000000</td>\n",
       "      <td id=\"T_60cb3_row1_col2\" class=\"data row1 col2\" >0.849892</td>\n",
       "      <td id=\"T_60cb3_row1_col3\" class=\"data row1 col3\" >0.851040</td>\n",
       "    </tr>\n",
       "    <tr>\n",
       "      <th id=\"T_60cb3_level0_row2\" class=\"row_heading level0 row2\" >open</th>\n",
       "      <td id=\"T_60cb3_row2_col0\" class=\"data row2 col0\" >0.082956</td>\n",
       "      <td id=\"T_60cb3_row2_col1\" class=\"data row2 col1\" >0.849892</td>\n",
       "      <td id=\"T_60cb3_row2_col2\" class=\"data row2 col2\" >1.000000</td>\n",
       "      <td id=\"T_60cb3_row2_col3\" class=\"data row2 col3\" >0.993169</td>\n",
       "    </tr>\n",
       "    <tr>\n",
       "      <th id=\"T_60cb3_level0_row3\" class=\"row_heading level0 row3\" >price</th>\n",
       "      <td id=\"T_60cb3_row3_col0\" class=\"data row3 col0\" >0.086120</td>\n",
       "      <td id=\"T_60cb3_row3_col1\" class=\"data row3 col1\" >0.851040</td>\n",
       "      <td id=\"T_60cb3_row3_col2\" class=\"data row3 col2\" >0.993169</td>\n",
       "      <td id=\"T_60cb3_row3_col3\" class=\"data row3 col3\" >1.000000</td>\n",
       "    </tr>\n",
       "  </tbody>\n",
       "</table>\n"
      ],
      "text/plain": [
       "<pandas.io.formats.style.Styler at 0x203022f1700>"
      ]
     },
     "execution_count": 24,
     "metadata": {},
     "output_type": "execute_result"
    },
    {
     "data": {
      "image/png": "[encoded data removed]",
      "text/plain": [
       "<Figure size 432x288 with 1 Axes>"
      ]
     },
     "metadata": {
      "needs_background": "light"
     },
     "output_type": "display_data"
    }
   ],
   "source": [
    "df_concat_world.plot()\n",
    "df_concat_world.corr().style.background_gradient(cmap='coolwarm')"
   ]
  },
  {
   "cell_type": "code",
   "execution_count": 25,
   "metadata": {},
   "outputs": [
    {
     "data": {
      "text/html": [
       "<div>\n",
       "<style scoped>\n",
       "    .dataframe tbody tr th:only-of-type {\n",
       "        vertical-align: middle;\n",
       "    }\n",
       "\n",
       "    .dataframe tbody tr th {\n",
       "        vertical-align: top;\n",
       "    }\n",
       "\n",
       "    .dataframe thead th {\n",
       "        text-align: right;\n",
       "    }\n",
       "</style>\n",
       "<table border=\"1\" class=\"dataframe\">\n",
       "  <thead>\n",
       "    <tr style=\"text-align: right;\">\n",
       "      <th></th>\n",
       "      <th>new_cases</th>\n",
       "      <th>new_vaccinations</th>\n",
       "      <th>open</th>\n",
       "    </tr>\n",
       "  </thead>\n",
       "  <tbody>\n",
       "    <tr>\n",
       "      <th>143</th>\n",
       "      <td>2539143.0</td>\n",
       "      <td>113209971.0</td>\n",
       "      <td>4429.07</td>\n",
       "    </tr>\n",
       "    <tr>\n",
       "      <th>144</th>\n",
       "      <td>2037483.0</td>\n",
       "      <td>117268469.0</td>\n",
       "      <td>4437.77</td>\n",
       "    </tr>\n",
       "    <tr>\n",
       "      <th>145</th>\n",
       "      <td>2018750.0</td>\n",
       "      <td>118850169.0</td>\n",
       "      <td>4435.79</td>\n",
       "    </tr>\n",
       "    <tr>\n",
       "      <th>146</th>\n",
       "      <td>2267943.0</td>\n",
       "      <td>116347836.0</td>\n",
       "      <td>4442.18</td>\n",
       "    </tr>\n",
       "    <tr>\n",
       "      <th>147</th>\n",
       "      <td>2212302.0</td>\n",
       "      <td>97101447.0</td>\n",
       "      <td>4446.08</td>\n",
       "    </tr>\n",
       "  </tbody>\n",
       "</table>\n",
       "</div>"
      ],
      "text/plain": [
       "     new_cases  new_vaccinations     open\n",
       "143  2539143.0       113209971.0  4429.07\n",
       "144  2037483.0       117268469.0  4437.77\n",
       "145  2018750.0       118850169.0  4435.79\n",
       "146  2267943.0       116347836.0  4442.18\n",
       "147  2212302.0        97101447.0  4446.08"
      ]
     },
     "execution_count": 25,
     "metadata": {},
     "output_type": "execute_result"
    }
   ],
   "source": [
    "df_test_w = df_concat_world.iloc[rows-test_num:rows, :]\n",
    "df_train_w = df_concat_world.iloc[:rows-test_num, :]\n",
    "\n",
    "X_train_w = df_train_w.reset_index()\n",
    "y_train_w = X_train_w['price']\n",
    "X_train_w.drop(['date', 'price'],inplace=True,axis=1)\n",
    "X_train_w.tail()\n",
    "X_test_w = df_test_w.reset_index()\n",
    "y_test_w = X_test_w['price']\n",
    "X_test_w.drop(['date', 'price'],inplace=True,axis=1)\n",
    "X_train_w.tail()"
   ]
  },
  {
   "cell_type": "code",
   "execution_count": 26,
   "metadata": {},
   "outputs": [
    {
     "name": "stdout",
     "output_type": "stream",
     "text": [
      "MSE error: 813.3982543144544\n"
     ]
    },
    {
     "data": {
      "image/png": "[encoded data removed]",
      "text/plain": [
       "<Figure size 432x288 with 1 Axes>"
      ]
     },
     "metadata": {
      "needs_background": "light"
     },
     "output_type": "display_data"
    }
   ],
   "source": [
    "predicted_all_w = predict_using_lr(X_train_w, y_train_w, X_test_w, y_test_w)\n",
    "plot(y_test_w, predicted_all_w)"
   ]
  },
  {
   "cell_type": "code",
   "execution_count": 27,
   "metadata": {},
   "outputs": [
    {
     "name": "stdout",
     "output_type": "stream",
     "text": [
      "MSE error: 51658.63837035581\n"
     ]
    },
    {
     "data": {
      "image/png": "[encoded data removed]",
      "text/plain": [
       "<Figure size 432x288 with 1 Axes>"
      ]
     },
     "metadata": {
      "needs_background": "light"
     },
     "output_type": "display_data"
    }
   ],
   "source": [
    "X_train1_w = X_train_w[['new_cases', 'new_vaccinations']]\n",
    "X_test1_w = X_test_w[['new_cases', 'new_vaccinations']]\n",
    "\n",
    "predicted_no_open_w = predict_using_lr(X_train1_w, y_train_w, X_test1_w, y_test_w)\n",
    "plot(y_test_w, predicted_no_open_w)"
   ]
  },
  {
   "cell_type": "markdown",
   "metadata": {},
   "source": [
    "<b>Answer: Using new cases and new vaccinations of USA to predict S&P500 price is not posiible, error is too high, and this doesn't even help to predict, because predictions only on open price got better results. But when tried to predict on world data, I got better results. Using new cases and new vaccinations of all world helped to predict S&P500. It lowered MSE error from 833 to 813, it's not much, but it helped. Also only predicting from new cases and vaccinations MSE lowered from 217630 to 51658, which great improvement. In conclusion it's not possible to predict S&P500 using only new cases and vaccinations in USA or in world with Linear regression, but using world data helps to get better prediction of S&P500.</b>"
   ]
  }
 ],
 "metadata": {
  "interpreter": {
   "hash": "b875ea567c1e94403b72926e4558f5ce9847ca58931ecf834eab125f4febe2b7"
  },
  "kernelspec": {
   "display_name": "Python 3.9.7 64-bit",
   "name": "python3"
  },
  "language_info": {
   "codemirror_mode": {
    "name": "ipython",
    "version": 3
   },
   "file_extension": ".py",
   "mimetype": "text/x-python",
   "name": "python",
   "nbconvert_exporter": "python",
   "pygments_lexer": "ipython3",
   "version": "3.9.7"
  },
  "orig_nbformat": 4
 },
 "nbformat": 4,
 "nbformat_minor": 2
}
