{
 "cells": [
  {
   "cell_type": "markdown",
   "metadata": {},
   "source": [
    "<a id='main' name=\"main\"></a>\n",
    "# Viral Data Analysis\n",
    "\n",
    "Date: 2021.10.10\n",
    "\n",
    "Author: © 2021 Mantas Arlauskas.\n",
    "\n",
    "This notebook is part of an individual project for [KTU IF](https://fi.ktu.edu/)  [P176M010 Advanced Machine Learning](https://admissions.ktu.edu/programme/m-software-engineering/#P176M010) class led by [M. Lukoševičius](http://mantas.info/).\n",
    "\n",
    "Here we analyze open COVID-19 data from [Our World in Data](https://ourworldindata.org/) to answer the following questions:\n",
    "\n",
    "1. [Which 10 countries has the highest total number of people who received at least one vaccine dose per 100 people in the total population?](#Q1)\n",
    "1. [How does the share of the population living in extreme poverty correlate with Covid mortality rate in different continents?](#Q2)\n",
    "1. [Predict what will be the percentage of people vaccinated in Lithuania after next 30 days.](#Q3)\n",
    "\n",
    "This work is licensed under a <a rel=\"license\" href=\"http://creativecommons.org/licenses/by/4.0/\">Creative Commons Attribution 4.0 International license</a>. <a rel=\"license\" href=\"http://creativecommons.org/licenses/by/4.0/\"><img alt=\"Creative Commons licencija\" style=\"border-width:0\" src=\"https://i.creativecommons.org/l/by/4.0/80x15.png\" /></a> "
   ]
  },
  {
   "cell_type": "markdown",
   "metadata": {},
   "source": [
    "## Load the data"
   ]
  },
  {
   "cell_type": "code",
   "execution_count": 29,
   "metadata": {},
   "outputs": [
    {
     "name": "stdout",
     "output_type": "stream",
     "text": [
      "Requirement already satisfied: statsmodels in /Users/marlauskas/opt/anaconda3/lib/python3.8/site-packages (0.12.2)\r\n",
      "Requirement already satisfied: numpy>=1.15 in /Users/marlauskas/opt/anaconda3/lib/python3.8/site-packages (from statsmodels) (1.20.1)\r\n",
      "Requirement already satisfied: patsy>=0.5 in /Users/marlauskas/opt/anaconda3/lib/python3.8/site-packages (from statsmodels) (0.5.1)\r\n",
      "Requirement already satisfied: scipy>=1.1 in /Users/marlauskas/opt/anaconda3/lib/python3.8/site-packages (from statsmodels) (1.6.2)\r\n",
      "Requirement already satisfied: pandas>=0.21 in /Users/marlauskas/opt/anaconda3/lib/python3.8/site-packages (from statsmodels) (1.2.4)\r\n",
      "Requirement already satisfied: python-dateutil>=2.7.3 in /Users/marlauskas/opt/anaconda3/lib/python3.8/site-packages (from pandas>=0.21->statsmodels) (2.8.1)\r\n",
      "Requirement already satisfied: pytz>=2017.3 in /Users/marlauskas/opt/anaconda3/lib/python3.8/site-packages (from pandas>=0.21->statsmodels) (2021.1)\r\n",
      "Requirement already satisfied: six in /Users/marlauskas/opt/anaconda3/lib/python3.8/site-packages (from patsy>=0.5->statsmodels) (1.15.0)\r\n"
     ]
    }
   ],
   "source": [
    "# install statsmodels package\n",
    "!pip install statsmodels"
   ]
  },
  {
   "cell_type": "code",
   "execution_count": 30,
   "metadata": {},
   "outputs": [],
   "source": [
    "import numpy as np\n",
    "import numpy.ma as ma\n",
    "import pandas as pd\n",
    "import matplotlib.pyplot as plt\n",
    "import seaborn as sns\n",
    "from datetime import datetime, timedelta\n",
    "from statsmodels.tsa.ar_model import ar_select_order\n",
    "from sklearn.metrics import mean_squared_error"
   ]
  },
  {
   "cell_type": "markdown",
   "metadata": {},
   "source": [
    "Download the data to cache locally. Do this once (a day), and comment out, not to DoS the server. (adopted from https://stackoverflow.com/a/35997720)."
   ]
  },
  {
   "cell_type": "code",
   "execution_count": 31,
   "metadata": {},
   "outputs": [
    {
     "data": {
      "text/plain": [
       "33537167"
      ]
     },
     "execution_count": 31,
     "metadata": {},
     "output_type": "execute_result"
    }
   ],
   "source": [
    "import requests\n",
    "fname = 'owid-covid-data.csv'\n",
    "url = 'https://covid.ourworldindata.org/data/' + fname\n",
    "r = requests.get(url)\n",
    "open(fname, 'wb').write(r.content)"
   ]
  },
  {
   "cell_type": "markdown",
   "metadata": {},
   "source": [
    "Load the file to Pandas."
   ]
  },
  {
   "cell_type": "code",
   "execution_count": 32,
   "metadata": {},
   "outputs": [],
   "source": [
    "#url = \"https://covid.ourworldindata.org/data/owid-covid-data.csv\"\n",
    "# download the file locally when developing, not to DoS the server:\n",
    "url = \"owid-covid-data.csv\" \n",
    "df = pd.read_csv(url, parse_dates=[3])"
   ]
  },
  {
   "cell_type": "markdown",
   "metadata": {},
   "source": [
    "Check the columns available."
   ]
  },
  {
   "cell_type": "code",
   "execution_count": 33,
   "metadata": {
    "scrolled": true
   },
   "outputs": [
    {
     "name": "stdout",
     "output_type": "stream",
     "text": [
      "<class 'pandas.core.frame.DataFrame'>\n",
      "RangeIndex: 122379 entries, 0 to 122378\n",
      "Data columns (total 65 columns):\n",
      " #   Column                                   Non-Null Count   Dtype         \n",
      "---  ------                                   --------------   -----         \n",
      " 0   iso_code                                 122379 non-null  object        \n",
      " 1   continent                                116810 non-null  object        \n",
      " 2   location                                 122379 non-null  object        \n",
      " 3   date                                     122379 non-null  datetime64[ns]\n",
      " 4   total_cases                              116124 non-null  float64       \n",
      " 5   new_cases                                116120 non-null  float64       \n",
      " 6   new_cases_smoothed                       115106 non-null  float64       \n",
      " 7   total_deaths                             105293 non-null  float64       \n",
      " 8   new_deaths                               105446 non-null  float64       \n",
      " 9   new_deaths_smoothed                      115106 non-null  float64       \n",
      " 10  total_cases_per_million                  115513 non-null  float64       \n",
      " 11  new_cases_per_million                    115509 non-null  float64       \n",
      " 12  new_cases_smoothed_per_million           114500 non-null  float64       \n",
      " 13  total_deaths_per_million                 104695 non-null  float64       \n",
      " 14  new_deaths_per_million                   104848 non-null  float64       \n",
      " 15  new_deaths_smoothed_per_million          114500 non-null  float64       \n",
      " 16  reproduction_rate                        98688 non-null   float64       \n",
      " 17  icu_patients                             14456 non-null   float64       \n",
      " 18  icu_patients_per_million                 14456 non-null   float64       \n",
      " 19  hosp_patients                            16513 non-null   float64       \n",
      " 20  hosp_patients_per_million                16513 non-null   float64       \n",
      " 21  weekly_icu_admissions                    1268 non-null    float64       \n",
      " 22  weekly_icu_admissions_per_million        1268 non-null    float64       \n",
      " 23  weekly_hosp_admissions                   2089 non-null    float64       \n",
      " 24  weekly_hosp_admissions_per_million       2089 non-null    float64       \n",
      " 25  new_tests                                52485 non-null   float64       \n",
      " 26  total_tests                              52585 non-null   float64       \n",
      " 27  total_tests_per_thousand                 52585 non-null   float64       \n",
      " 28  new_tests_per_thousand                   52485 non-null   float64       \n",
      " 29  new_tests_smoothed                       63120 non-null   float64       \n",
      " 30  new_tests_smoothed_per_thousand          63120 non-null   float64       \n",
      " 31  positive_rate                            59247 non-null   float64       \n",
      " 32  tests_per_case                           58607 non-null   float64       \n",
      " 33  tests_units                              65054 non-null   object        \n",
      " 34  total_vaccinations                       28415 non-null   float64       \n",
      " 35  people_vaccinated                        26986 non-null   float64       \n",
      " 36  people_fully_vaccinated                  23894 non-null   float64       \n",
      " 37  total_boosters                           3135 non-null    float64       \n",
      " 38  new_vaccinations                         23545 non-null   float64       \n",
      " 39  new_vaccinations_smoothed                50735 non-null   float64       \n",
      " 40  total_vaccinations_per_hundred           28415 non-null   float64       \n",
      " 41  people_vaccinated_per_hundred            26986 non-null   float64       \n",
      " 42  people_fully_vaccinated_per_hundred      23894 non-null   float64       \n",
      " 43  total_boosters_per_hundred               3135 non-null    float64       \n",
      " 44  new_vaccinations_smoothed_per_million    50735 non-null   float64       \n",
      " 45  stringency_index                         101988 non-null  float64       \n",
      " 46  population                               121512 non-null  float64       \n",
      " 47  population_density                       113096 non-null  float64       \n",
      " 48  median_age                               107981 non-null  float64       \n",
      " 49  aged_65_older                            106781 non-null  float64       \n",
      " 50  aged_70_older                            107389 non-null  float64       \n",
      " 51  gdp_per_capita                           108625 non-null  float64       \n",
      " 52  extreme_poverty                          72857 non-null   float64       \n",
      " 53  cardiovasc_death_rate                    108263 non-null  float64       \n",
      " 54  diabetes_prevalence                      111651 non-null  float64       \n",
      " 55  female_smokers                           84513 non-null   float64       \n",
      " 56  male_smokers                             83287 non-null   float64       \n",
      " 57  handwashing_facilities                   54396 non-null   float64       \n",
      " 58  hospital_beds_per_thousand               98418 non-null   float64       \n",
      " 59  life_expectancy                          116062 non-null  float64       \n",
      " 60  human_development_index                  108354 non-null  float64       \n",
      " 61  excess_mortality_cumulative_absolute     4322 non-null    float64       \n",
      " 62  excess_mortality_cumulative              4322 non-null    float64       \n",
      " 63  excess_mortality                         4322 non-null    float64       \n",
      " 64  excess_mortality_cumulative_per_million  4322 non-null    float64       \n",
      "dtypes: datetime64[ns](1), float64(60), object(4)\n",
      "memory usage: 60.7+ MB\n"
     ]
    }
   ],
   "source": [
    "df.info()"
   ]
  },
  {
   "cell_type": "markdown",
   "metadata": {},
   "source": [
    "The columns are explained [here](https://github.com/owid/covid-19-data/blob/master/public/data/owid-covid-codebook.csv)."
   ]
  },
  {
   "cell_type": "code",
   "execution_count": 34,
   "metadata": {},
   "outputs": [
    {
     "data": {
      "text/html": [
       "<div>\n",
       "<style scoped>\n",
       "    .dataframe tbody tr th:only-of-type {\n",
       "        vertical-align: middle;\n",
       "    }\n",
       "\n",
       "    .dataframe tbody tr th {\n",
       "        vertical-align: top;\n",
       "    }\n",
       "\n",
       "    .dataframe thead th {\n",
       "        text-align: right;\n",
       "    }\n",
       "</style>\n",
       "<table border=\"1\" class=\"dataframe\">\n",
       "  <thead>\n",
       "    <tr style=\"text-align: right;\">\n",
       "      <th></th>\n",
       "      <th>total_cases</th>\n",
       "      <th>new_cases</th>\n",
       "      <th>new_cases_smoothed</th>\n",
       "      <th>total_deaths</th>\n",
       "      <th>new_deaths</th>\n",
       "      <th>new_deaths_smoothed</th>\n",
       "      <th>total_cases_per_million</th>\n",
       "      <th>new_cases_per_million</th>\n",
       "      <th>new_cases_smoothed_per_million</th>\n",
       "      <th>total_deaths_per_million</th>\n",
       "      <th>...</th>\n",
       "      <th>female_smokers</th>\n",
       "      <th>male_smokers</th>\n",
       "      <th>handwashing_facilities</th>\n",
       "      <th>hospital_beds_per_thousand</th>\n",
       "      <th>life_expectancy</th>\n",
       "      <th>human_development_index</th>\n",
       "      <th>excess_mortality_cumulative_absolute</th>\n",
       "      <th>excess_mortality_cumulative</th>\n",
       "      <th>excess_mortality</th>\n",
       "      <th>excess_mortality_cumulative_per_million</th>\n",
       "    </tr>\n",
       "  </thead>\n",
       "  <tbody>\n",
       "    <tr>\n",
       "      <th>count</th>\n",
       "      <td>1.161240e+05</td>\n",
       "      <td>116120.000000</td>\n",
       "      <td>115106.000000</td>\n",
       "      <td>1.052930e+05</td>\n",
       "      <td>105446.000000</td>\n",
       "      <td>115106.000000</td>\n",
       "      <td>115513.000000</td>\n",
       "      <td>115509.000000</td>\n",
       "      <td>114500.000000</td>\n",
       "      <td>104695.000000</td>\n",
       "      <td>...</td>\n",
       "      <td>84513.000000</td>\n",
       "      <td>83287.000000</td>\n",
       "      <td>54396.000000</td>\n",
       "      <td>98418.000000</td>\n",
       "      <td>116062.000000</td>\n",
       "      <td>108354.000000</td>\n",
       "      <td>4322.000000</td>\n",
       "      <td>4322.000000</td>\n",
       "      <td>4322.000000</td>\n",
       "      <td>4322.000000</td>\n",
       "    </tr>\n",
       "    <tr>\n",
       "      <th>mean</th>\n",
       "      <td>1.454556e+06</td>\n",
       "      <td>6455.572597</td>\n",
       "      <td>6477.611828</td>\n",
       "      <td>3.676693e+04</td>\n",
       "      <td>144.804545</td>\n",
       "      <td>132.061251</td>\n",
       "      <td>18013.583980</td>\n",
       "      <td>83.798493</td>\n",
       "      <td>83.831677</td>\n",
       "      <td>375.863109</td>\n",
       "      <td>...</td>\n",
       "      <td>10.591777</td>\n",
       "      <td>32.740049</td>\n",
       "      <td>50.735039</td>\n",
       "      <td>3.023182</td>\n",
       "      <td>73.259437</td>\n",
       "      <td>0.726449</td>\n",
       "      <td>28164.447617</td>\n",
       "      <td>8.037462</td>\n",
       "      <td>15.032927</td>\n",
       "      <td>693.873443</td>\n",
       "    </tr>\n",
       "    <tr>\n",
       "      <th>std</th>\n",
       "      <td>9.727910e+06</td>\n",
       "      <td>39298.448196</td>\n",
       "      <td>38905.459780</td>\n",
       "      <td>2.190308e+05</td>\n",
       "      <td>789.372914</td>\n",
       "      <td>739.213727</td>\n",
       "      <td>30564.061418</td>\n",
       "      <td>195.094758</td>\n",
       "      <td>164.220915</td>\n",
       "      <td>633.900178</td>\n",
       "      <td>...</td>\n",
       "      <td>10.504517</td>\n",
       "      <td>13.506522</td>\n",
       "      <td>31.752870</td>\n",
       "      <td>2.452657</td>\n",
       "      <td>7.539937</td>\n",
       "      <td>0.150209</td>\n",
       "      <td>82695.599668</td>\n",
       "      <td>15.932903</td>\n",
       "      <td>31.102516</td>\n",
       "      <td>1098.524489</td>\n",
       "    </tr>\n",
       "    <tr>\n",
       "      <th>min</th>\n",
       "      <td>1.000000e+00</td>\n",
       "      <td>-74347.000000</td>\n",
       "      <td>-6223.000000</td>\n",
       "      <td>1.000000e+00</td>\n",
       "      <td>-1918.000000</td>\n",
       "      <td>-232.143000</td>\n",
       "      <td>0.001000</td>\n",
       "      <td>-3125.829000</td>\n",
       "      <td>-272.971000</td>\n",
       "      <td>0.001000</td>\n",
       "      <td>...</td>\n",
       "      <td>0.100000</td>\n",
       "      <td>7.700000</td>\n",
       "      <td>1.188000</td>\n",
       "      <td>0.100000</td>\n",
       "      <td>53.280000</td>\n",
       "      <td>0.394000</td>\n",
       "      <td>-31959.400000</td>\n",
       "      <td>-27.350000</td>\n",
       "      <td>-95.920000</td>\n",
       "      <td>-1728.844404</td>\n",
       "    </tr>\n",
       "    <tr>\n",
       "      <th>25%</th>\n",
       "      <td>2.023000e+03</td>\n",
       "      <td>3.000000</td>\n",
       "      <td>9.286000</td>\n",
       "      <td>6.900000e+01</td>\n",
       "      <td>0.000000</td>\n",
       "      <td>0.000000</td>\n",
       "      <td>354.835000</td>\n",
       "      <td>0.281000</td>\n",
       "      <td>1.558000</td>\n",
       "      <td>10.367500</td>\n",
       "      <td>...</td>\n",
       "      <td>1.900000</td>\n",
       "      <td>21.600000</td>\n",
       "      <td>19.351000</td>\n",
       "      <td>1.300000</td>\n",
       "      <td>67.920000</td>\n",
       "      <td>0.602000</td>\n",
       "      <td>-265.500000</td>\n",
       "      <td>-1.437500</td>\n",
       "      <td>-1.427500</td>\n",
       "      <td>-58.952356</td>\n",
       "    </tr>\n",
       "    <tr>\n",
       "      <th>50%</th>\n",
       "      <td>2.111750e+04</td>\n",
       "      <td>93.000000</td>\n",
       "      <td>115.500000</td>\n",
       "      <td>6.080000e+02</td>\n",
       "      <td>2.000000</td>\n",
       "      <td>1.714000</td>\n",
       "      <td>2764.542000</td>\n",
       "      <td>10.733000</td>\n",
       "      <td>14.832000</td>\n",
       "      <td>69.648000</td>\n",
       "      <td>...</td>\n",
       "      <td>6.300000</td>\n",
       "      <td>31.400000</td>\n",
       "      <td>49.839000</td>\n",
       "      <td>2.400000</td>\n",
       "      <td>74.620000</td>\n",
       "      <td>0.744000</td>\n",
       "      <td>1266.100000</td>\n",
       "      <td>4.355000</td>\n",
       "      <td>5.670000</td>\n",
       "      <td>242.865156</td>\n",
       "    </tr>\n",
       "    <tr>\n",
       "      <th>75%</th>\n",
       "      <td>2.169360e+05</td>\n",
       "      <td>928.000000</td>\n",
       "      <td>981.000000</td>\n",
       "      <td>5.264000e+03</td>\n",
       "      <td>19.000000</td>\n",
       "      <td>15.857000</td>\n",
       "      <td>21906.109000</td>\n",
       "      <td>81.646000</td>\n",
       "      <td>91.165500</td>\n",
       "      <td>456.018000</td>\n",
       "      <td>...</td>\n",
       "      <td>19.300000</td>\n",
       "      <td>41.100000</td>\n",
       "      <td>82.502000</td>\n",
       "      <td>3.861000</td>\n",
       "      <td>78.740000</td>\n",
       "      <td>0.848000</td>\n",
       "      <td>17289.675000</td>\n",
       "      <td>12.907500</td>\n",
       "      <td>21.155000</td>\n",
       "      <td>1159.448112</td>\n",
       "    </tr>\n",
       "    <tr>\n",
       "      <th>max</th>\n",
       "      <td>2.375782e+08</td>\n",
       "      <td>905948.000000</td>\n",
       "      <td>826439.429000</td>\n",
       "      <td>4.847462e+06</td>\n",
       "      <td>17977.000000</td>\n",
       "      <td>14722.857000</td>\n",
       "      <td>219654.231000</td>\n",
       "      <td>8620.690000</td>\n",
       "      <td>3385.473000</td>\n",
       "      <td>5984.547000</td>\n",
       "      <td>...</td>\n",
       "      <td>44.000000</td>\n",
       "      <td>78.100000</td>\n",
       "      <td>100.000000</td>\n",
       "      <td>13.800000</td>\n",
       "      <td>86.750000</td>\n",
       "      <td>0.957000</td>\n",
       "      <td>693243.800000</td>\n",
       "      <td>106.830000</td>\n",
       "      <td>373.280000</td>\n",
       "      <td>6098.955872</td>\n",
       "    </tr>\n",
       "  </tbody>\n",
       "</table>\n",
       "<p>8 rows × 60 columns</p>\n",
       "</div>"
      ],
      "text/plain": [
       "        total_cases      new_cases  new_cases_smoothed  total_deaths  \\\n",
       "count  1.161240e+05  116120.000000       115106.000000  1.052930e+05   \n",
       "mean   1.454556e+06    6455.572597         6477.611828  3.676693e+04   \n",
       "std    9.727910e+06   39298.448196        38905.459780  2.190308e+05   \n",
       "min    1.000000e+00  -74347.000000        -6223.000000  1.000000e+00   \n",
       "25%    2.023000e+03       3.000000            9.286000  6.900000e+01   \n",
       "50%    2.111750e+04      93.000000          115.500000  6.080000e+02   \n",
       "75%    2.169360e+05     928.000000          981.000000  5.264000e+03   \n",
       "max    2.375782e+08  905948.000000       826439.429000  4.847462e+06   \n",
       "\n",
       "          new_deaths  new_deaths_smoothed  total_cases_per_million  \\\n",
       "count  105446.000000        115106.000000            115513.000000   \n",
       "mean      144.804545           132.061251             18013.583980   \n",
       "std       789.372914           739.213727             30564.061418   \n",
       "min     -1918.000000          -232.143000                 0.001000   \n",
       "25%         0.000000             0.000000               354.835000   \n",
       "50%         2.000000             1.714000              2764.542000   \n",
       "75%        19.000000            15.857000             21906.109000   \n",
       "max     17977.000000         14722.857000            219654.231000   \n",
       "\n",
       "       new_cases_per_million  new_cases_smoothed_per_million  \\\n",
       "count          115509.000000                   114500.000000   \n",
       "mean               83.798493                       83.831677   \n",
       "std               195.094758                      164.220915   \n",
       "min             -3125.829000                     -272.971000   \n",
       "25%                 0.281000                        1.558000   \n",
       "50%                10.733000                       14.832000   \n",
       "75%                81.646000                       91.165500   \n",
       "max              8620.690000                     3385.473000   \n",
       "\n",
       "       total_deaths_per_million  ...  female_smokers  male_smokers  \\\n",
       "count             104695.000000  ...    84513.000000  83287.000000   \n",
       "mean                 375.863109  ...       10.591777     32.740049   \n",
       "std                  633.900178  ...       10.504517     13.506522   \n",
       "min                    0.001000  ...        0.100000      7.700000   \n",
       "25%                   10.367500  ...        1.900000     21.600000   \n",
       "50%                   69.648000  ...        6.300000     31.400000   \n",
       "75%                  456.018000  ...       19.300000     41.100000   \n",
       "max                 5984.547000  ...       44.000000     78.100000   \n",
       "\n",
       "       handwashing_facilities  hospital_beds_per_thousand  life_expectancy  \\\n",
       "count            54396.000000                98418.000000    116062.000000   \n",
       "mean                50.735039                    3.023182        73.259437   \n",
       "std                 31.752870                    2.452657         7.539937   \n",
       "min                  1.188000                    0.100000        53.280000   \n",
       "25%                 19.351000                    1.300000        67.920000   \n",
       "50%                 49.839000                    2.400000        74.620000   \n",
       "75%                 82.502000                    3.861000        78.740000   \n",
       "max                100.000000                   13.800000        86.750000   \n",
       "\n",
       "       human_development_index  excess_mortality_cumulative_absolute  \\\n",
       "count            108354.000000                           4322.000000   \n",
       "mean                  0.726449                          28164.447617   \n",
       "std                   0.150209                          82695.599668   \n",
       "min                   0.394000                         -31959.400000   \n",
       "25%                   0.602000                           -265.500000   \n",
       "50%                   0.744000                           1266.100000   \n",
       "75%                   0.848000                          17289.675000   \n",
       "max                   0.957000                         693243.800000   \n",
       "\n",
       "       excess_mortality_cumulative  excess_mortality  \\\n",
       "count                  4322.000000       4322.000000   \n",
       "mean                      8.037462         15.032927   \n",
       "std                      15.932903         31.102516   \n",
       "min                     -27.350000        -95.920000   \n",
       "25%                      -1.437500         -1.427500   \n",
       "50%                       4.355000          5.670000   \n",
       "75%                      12.907500         21.155000   \n",
       "max                     106.830000        373.280000   \n",
       "\n",
       "       excess_mortality_cumulative_per_million  \n",
       "count                              4322.000000  \n",
       "mean                                693.873443  \n",
       "std                                1098.524489  \n",
       "min                               -1728.844404  \n",
       "25%                                 -58.952356  \n",
       "50%                                 242.865156  \n",
       "75%                                1159.448112  \n",
       "max                                6098.955872  \n",
       "\n",
       "[8 rows x 60 columns]"
      ]
     },
     "execution_count": 34,
     "metadata": {},
     "output_type": "execute_result"
    }
   ],
   "source": [
    "df.describe()"
   ]
  },
  {
   "cell_type": "markdown",
   "metadata": {},
   "source": [
    "Remove duplicate rows."
   ]
  },
  {
   "cell_type": "code",
   "execution_count": 35,
   "metadata": {},
   "outputs": [],
   "source": [
    "df.drop_duplicates(inplace = True)"
   ]
  },
  {
   "cell_type": "markdown",
   "metadata": {},
   "source": [
    "[back to the top](#main)\n",
    "<a id='Q1' name='Q1'></a>\n",
    "## 1. Which 10 countries has the highest total number of people who received at least one vaccine dose per 100 people in the total population? "
   ]
  },
  {
   "cell_type": "markdown",
   "metadata": {},
   "source": [
    "Firstly, we group data by location and select only last row."
   ]
  },
  {
   "cell_type": "code",
   "execution_count": 36,
   "metadata": {
    "scrolled": true
   },
   "outputs": [
    {
     "data": {
      "text/html": [
       "<div>\n",
       "<style scoped>\n",
       "    .dataframe tbody tr th:only-of-type {\n",
       "        vertical-align: middle;\n",
       "    }\n",
       "\n",
       "    .dataframe tbody tr th {\n",
       "        vertical-align: top;\n",
       "    }\n",
       "\n",
       "    .dataframe thead th {\n",
       "        text-align: right;\n",
       "    }\n",
       "</style>\n",
       "<table border=\"1\" class=\"dataframe\">\n",
       "  <thead>\n",
       "    <tr style=\"text-align: right;\">\n",
       "      <th></th>\n",
       "      <th>continent</th>\n",
       "      <th>location</th>\n",
       "      <th>people_vaccinated_per_hundred</th>\n",
       "    </tr>\n",
       "    <tr>\n",
       "      <th>iso_code</th>\n",
       "      <th></th>\n",
       "      <th></th>\n",
       "      <th></th>\n",
       "    </tr>\n",
       "  </thead>\n",
       "  <tbody>\n",
       "    <tr>\n",
       "      <th>ABW</th>\n",
       "      <td>North America</td>\n",
       "      <td>Aruba</td>\n",
       "      <td>76.27</td>\n",
       "    </tr>\n",
       "    <tr>\n",
       "      <th>AFG</th>\n",
       "      <td>Asia</td>\n",
       "      <td>Afghanistan</td>\n",
       "      <td>2.08</td>\n",
       "    </tr>\n",
       "    <tr>\n",
       "      <th>AGO</th>\n",
       "      <td>Africa</td>\n",
       "      <td>Angola</td>\n",
       "      <td>6.27</td>\n",
       "    </tr>\n",
       "    <tr>\n",
       "      <th>AIA</th>\n",
       "      <td>North America</td>\n",
       "      <td>Anguilla</td>\n",
       "      <td>63.13</td>\n",
       "    </tr>\n",
       "    <tr>\n",
       "      <th>ALB</th>\n",
       "      <td>Europe</td>\n",
       "      <td>Albania</td>\n",
       "      <td>33.44</td>\n",
       "    </tr>\n",
       "    <tr>\n",
       "      <th>...</th>\n",
       "      <td>...</td>\n",
       "      <td>...</td>\n",
       "      <td>...</td>\n",
       "    </tr>\n",
       "    <tr>\n",
       "      <th>WSM</th>\n",
       "      <td>Oceania</td>\n",
       "      <td>Samoa</td>\n",
       "      <td>57.31</td>\n",
       "    </tr>\n",
       "    <tr>\n",
       "      <th>YEM</th>\n",
       "      <td>Asia</td>\n",
       "      <td>Yemen</td>\n",
       "      <td>1.01</td>\n",
       "    </tr>\n",
       "    <tr>\n",
       "      <th>ZAF</th>\n",
       "      <td>Africa</td>\n",
       "      <td>South Africa</td>\n",
       "      <td>22.16</td>\n",
       "    </tr>\n",
       "    <tr>\n",
       "      <th>ZMB</th>\n",
       "      <td>Africa</td>\n",
       "      <td>Zambia</td>\n",
       "      <td>1.64</td>\n",
       "    </tr>\n",
       "    <tr>\n",
       "      <th>ZWE</th>\n",
       "      <td>Africa</td>\n",
       "      <td>Zimbabwe</td>\n",
       "      <td>20.95</td>\n",
       "    </tr>\n",
       "  </tbody>\n",
       "</table>\n",
       "<p>233 rows × 3 columns</p>\n",
       "</div>"
      ],
      "text/plain": [
       "              continent      location  people_vaccinated_per_hundred\n",
       "iso_code                                                            \n",
       "ABW       North America         Aruba                          76.27\n",
       "AFG                Asia   Afghanistan                           2.08\n",
       "AGO              Africa        Angola                           6.27\n",
       "AIA       North America      Anguilla                          63.13\n",
       "ALB              Europe       Albania                          33.44\n",
       "...                 ...           ...                            ...\n",
       "WSM             Oceania         Samoa                          57.31\n",
       "YEM                Asia         Yemen                           1.01\n",
       "ZAF              Africa  South Africa                          22.16\n",
       "ZMB              Africa        Zambia                           1.64\n",
       "ZWE              Africa      Zimbabwe                          20.95\n",
       "\n",
       "[233 rows x 3 columns]"
      ]
     },
     "execution_count": 36,
     "metadata": {},
     "output_type": "execute_result"
    }
   ],
   "source": [
    "df_iso = df.groupby('iso_code').last()\n",
    "df_iso[['continent', 'location', 'people_vaccinated_per_hundred']]"
   ]
  },
  {
   "cell_type": "markdown",
   "metadata": {},
   "source": [
    "Remove rows which does not have continent. It means that location is a continent and we don't need that."
   ]
  },
  {
   "cell_type": "code",
   "execution_count": 37,
   "metadata": {},
   "outputs": [],
   "source": [
    "df1 = df_iso[df_iso['continent'].notna()] "
   ]
  },
  {
   "cell_type": "markdown",
   "metadata": {},
   "source": [
    "Remove rows which does not have 'people vaccinated per hundred' data."
   ]
  },
  {
   "cell_type": "code",
   "execution_count": 38,
   "metadata": {},
   "outputs": [],
   "source": [
    "df1 = df1[df1['people_vaccinated_per_hundred'].notna()]"
   ]
  },
  {
   "cell_type": "markdown",
   "metadata": {},
   "source": [
    "Sort data by 'people vaccinated per hundred' column values and select first 10 rows."
   ]
  },
  {
   "cell_type": "code",
   "execution_count": 39,
   "metadata": {},
   "outputs": [],
   "source": [
    "df1 = df1.sort_values('people_vaccinated_per_hundred', ascending = False);\n",
    "df1 = df1.head(10);"
   ]
  },
  {
   "cell_type": "markdown",
   "metadata": {},
   "source": [
    "Display data using horizontal chart diagram."
   ]
  },
  {
   "cell_type": "code",
   "execution_count": 40,
   "metadata": {},
   "outputs": [
    {
     "data": {
      "image/png": "[encoded data removed]",
      "text/plain": [
       "<Figure size 432x288 with 1 Axes>"
      ]
     },
     "metadata": {
      "needs_background": "light"
     },
     "output_type": "display_data"
    }
   ],
   "source": [
    "ax = df1.plot.barh(x='location', y='people_vaccinated_per_hundred', legend=0)\n",
    "ax.set_title('Top 10 countries with the highest total number of people who received at least one vaccine dose per 100 people in the total population')\n",
    "ax.set_ylabel('Location')\n",
    "ax.set_xlabel('Total number of people who received at least one vaccine dose per 100 people in the total population')\n",
    "ax.invert_yaxis()\n",
    "for idx, val in enumerate(df1.people_vaccinated_per_hundred):\n",
    "    ax.text(val - 11 if len(str(val)) == 6 else val - 9, idx + 0.1, val, fontsize=8, color='white')"
   ]
  },
  {
   "cell_type": "markdown",
   "metadata": {},
   "source": [
    "From chart we can see that in Gibraltar the number of people who got at least one vaccine dose per 100 people is above 100. Let's take a look at Gibraltar population and the total number of people who received at least one dose of vaccine."
   ]
  },
  {
   "cell_type": "code",
   "execution_count": 41,
   "metadata": {},
   "outputs": [
    {
     "data": {
      "text/html": [
       "<div>\n",
       "<style scoped>\n",
       "    .dataframe tbody tr th:only-of-type {\n",
       "        vertical-align: middle;\n",
       "    }\n",
       "\n",
       "    .dataframe tbody tr th {\n",
       "        vertical-align: top;\n",
       "    }\n",
       "\n",
       "    .dataframe thead th {\n",
       "        text-align: right;\n",
       "    }\n",
       "</style>\n",
       "<table border=\"1\" class=\"dataframe\">\n",
       "  <thead>\n",
       "    <tr style=\"text-align: right;\">\n",
       "      <th></th>\n",
       "      <th>location</th>\n",
       "      <th>population</th>\n",
       "      <th>people_vaccinated</th>\n",
       "    </tr>\n",
       "    <tr>\n",
       "      <th>iso_code</th>\n",
       "      <th></th>\n",
       "      <th></th>\n",
       "      <th></th>\n",
       "    </tr>\n",
       "  </thead>\n",
       "  <tbody>\n",
       "    <tr>\n",
       "      <th>GIB</th>\n",
       "      <td>Gibraltar</td>\n",
       "      <td>33691.0</td>\n",
       "      <td>39955.0</td>\n",
       "    </tr>\n",
       "  </tbody>\n",
       "</table>\n",
       "</div>"
      ],
      "text/plain": [
       "           location  population  people_vaccinated\n",
       "iso_code                                          \n",
       "GIB       Gibraltar     33691.0            39955.0"
      ]
     },
     "execution_count": 41,
     "metadata": {},
     "output_type": "execute_result"
    }
   ],
   "source": [
    "df1[['location', 'population', 'people_vaccinated']].head(1)"
   ]
  },
  {
   "cell_type": "markdown",
   "metadata": {},
   "source": [
    "We can see that in Gibraltar the number of people who got at least one vaccine dose is bigger than the total number of people who live there."
   ]
  },
  {
   "cell_type": "markdown",
   "metadata": {},
   "source": [
    "[back to the top](#main)\n",
    "<a id='Q2' name='Q2'></a>\n",
    "## 2. How does the share of the population living in extreme poverty correlate with Covid mortality rate in different continents? "
   ]
  },
  {
   "cell_type": "markdown",
   "metadata": {},
   "source": [
    "Firstly, we select columns which are needed for this task."
   ]
  },
  {
   "cell_type": "code",
   "execution_count": 42,
   "metadata": {},
   "outputs": [
    {
     "data": {
      "text/html": [
       "<div>\n",
       "<style scoped>\n",
       "    .dataframe tbody tr th:only-of-type {\n",
       "        vertical-align: middle;\n",
       "    }\n",
       "\n",
       "    .dataframe tbody tr th {\n",
       "        vertical-align: top;\n",
       "    }\n",
       "\n",
       "    .dataframe thead th {\n",
       "        text-align: right;\n",
       "    }\n",
       "</style>\n",
       "<table border=\"1\" class=\"dataframe\">\n",
       "  <thead>\n",
       "    <tr style=\"text-align: right;\">\n",
       "      <th></th>\n",
       "      <th>total_deaths_per_million</th>\n",
       "      <th>extreme_poverty</th>\n",
       "      <th>location</th>\n",
       "      <th>continent</th>\n",
       "    </tr>\n",
       "    <tr>\n",
       "      <th>iso_code</th>\n",
       "      <th></th>\n",
       "      <th></th>\n",
       "      <th></th>\n",
       "      <th></th>\n",
       "    </tr>\n",
       "  </thead>\n",
       "  <tbody>\n",
       "    <tr>\n",
       "      <th>ABW</th>\n",
       "      <td>NaN</td>\n",
       "      <td>NaN</td>\n",
       "      <td>Aruba</td>\n",
       "      <td>North America</td>\n",
       "    </tr>\n",
       "    <tr>\n",
       "      <th>AFG</th>\n",
       "      <td>181.271</td>\n",
       "      <td>NaN</td>\n",
       "      <td>Afghanistan</td>\n",
       "      <td>Asia</td>\n",
       "    </tr>\n",
       "    <tr>\n",
       "      <th>AGO</th>\n",
       "      <td>47.681</td>\n",
       "      <td>NaN</td>\n",
       "      <td>Angola</td>\n",
       "      <td>Africa</td>\n",
       "    </tr>\n",
       "    <tr>\n",
       "      <th>AIA</th>\n",
       "      <td>NaN</td>\n",
       "      <td>NaN</td>\n",
       "      <td>Anguilla</td>\n",
       "      <td>North America</td>\n",
       "    </tr>\n",
       "    <tr>\n",
       "      <th>ALB</th>\n",
       "      <td>960.342</td>\n",
       "      <td>1.1</td>\n",
       "      <td>Albania</td>\n",
       "      <td>Europe</td>\n",
       "    </tr>\n",
       "    <tr>\n",
       "      <th>...</th>\n",
       "      <td>...</td>\n",
       "      <td>...</td>\n",
       "      <td>...</td>\n",
       "      <td>...</td>\n",
       "    </tr>\n",
       "    <tr>\n",
       "      <th>WSM</th>\n",
       "      <td>NaN</td>\n",
       "      <td>NaN</td>\n",
       "      <td>Samoa</td>\n",
       "      <td>Oceania</td>\n",
       "    </tr>\n",
       "    <tr>\n",
       "      <th>YEM</th>\n",
       "      <td>58.215</td>\n",
       "      <td>18.8</td>\n",
       "      <td>Yemen</td>\n",
       "      <td>Asia</td>\n",
       "    </tr>\n",
       "    <tr>\n",
       "      <th>ZAF</th>\n",
       "      <td>1470.504</td>\n",
       "      <td>18.9</td>\n",
       "      <td>South Africa</td>\n",
       "      <td>Africa</td>\n",
       "    </tr>\n",
       "    <tr>\n",
       "      <th>ZMB</th>\n",
       "      <td>193.069</td>\n",
       "      <td>57.5</td>\n",
       "      <td>Zambia</td>\n",
       "      <td>Africa</td>\n",
       "    </tr>\n",
       "    <tr>\n",
       "      <th>ZWE</th>\n",
       "      <td>307.179</td>\n",
       "      <td>21.4</td>\n",
       "      <td>Zimbabwe</td>\n",
       "      <td>Africa</td>\n",
       "    </tr>\n",
       "  </tbody>\n",
       "</table>\n",
       "<p>233 rows × 4 columns</p>\n",
       "</div>"
      ],
      "text/plain": [
       "          total_deaths_per_million  extreme_poverty      location  \\\n",
       "iso_code                                                            \n",
       "ABW                            NaN              NaN         Aruba   \n",
       "AFG                        181.271              NaN   Afghanistan   \n",
       "AGO                         47.681              NaN        Angola   \n",
       "AIA                            NaN              NaN      Anguilla   \n",
       "ALB                        960.342              1.1       Albania   \n",
       "...                            ...              ...           ...   \n",
       "WSM                            NaN              NaN         Samoa   \n",
       "YEM                         58.215             18.8         Yemen   \n",
       "ZAF                       1470.504             18.9  South Africa   \n",
       "ZMB                        193.069             57.5        Zambia   \n",
       "ZWE                        307.179             21.4      Zimbabwe   \n",
       "\n",
       "              continent  \n",
       "iso_code                 \n",
       "ABW       North America  \n",
       "AFG                Asia  \n",
       "AGO              Africa  \n",
       "AIA       North America  \n",
       "ALB              Europe  \n",
       "...                 ...  \n",
       "WSM             Oceania  \n",
       "YEM                Asia  \n",
       "ZAF              Africa  \n",
       "ZMB              Africa  \n",
       "ZWE              Africa  \n",
       "\n",
       "[233 rows x 4 columns]"
      ]
     },
     "execution_count": 42,
     "metadata": {},
     "output_type": "execute_result"
    }
   ],
   "source": [
    "df2 = df_iso[['total_deaths_per_million', 'extreme_poverty', 'location', 'continent']]\n",
    "df2"
   ]
  },
  {
   "cell_type": "markdown",
   "metadata": {},
   "source": [
    "Then we remove rows which does not have some of the values."
   ]
  },
  {
   "cell_type": "code",
   "execution_count": 43,
   "metadata": {},
   "outputs": [
    {
     "data": {
      "text/html": [
       "<div>\n",
       "<style scoped>\n",
       "    .dataframe tbody tr th:only-of-type {\n",
       "        vertical-align: middle;\n",
       "    }\n",
       "\n",
       "    .dataframe tbody tr th {\n",
       "        vertical-align: top;\n",
       "    }\n",
       "\n",
       "    .dataframe thead th {\n",
       "        text-align: right;\n",
       "    }\n",
       "</style>\n",
       "<table border=\"1\" class=\"dataframe\">\n",
       "  <thead>\n",
       "    <tr style=\"text-align: right;\">\n",
       "      <th></th>\n",
       "      <th>total_deaths_per_million</th>\n",
       "      <th>extreme_poverty</th>\n",
       "      <th>location</th>\n",
       "      <th>continent</th>\n",
       "    </tr>\n",
       "    <tr>\n",
       "      <th>iso_code</th>\n",
       "      <th></th>\n",
       "      <th></th>\n",
       "      <th></th>\n",
       "      <th></th>\n",
       "    </tr>\n",
       "  </thead>\n",
       "  <tbody>\n",
       "    <tr>\n",
       "      <th>ALB</th>\n",
       "      <td>960.342</td>\n",
       "      <td>1.1</td>\n",
       "      <td>Albania</td>\n",
       "      <td>Europe</td>\n",
       "    </tr>\n",
       "    <tr>\n",
       "      <th>ARG</th>\n",
       "      <td>2531.650</td>\n",
       "      <td>0.6</td>\n",
       "      <td>Argentina</td>\n",
       "      <td>South America</td>\n",
       "    </tr>\n",
       "    <tr>\n",
       "      <th>ARM</th>\n",
       "      <td>1862.790</td>\n",
       "      <td>1.8</td>\n",
       "      <td>Armenia</td>\n",
       "      <td>Asia</td>\n",
       "    </tr>\n",
       "    <tr>\n",
       "      <th>AUS</th>\n",
       "      <td>55.529</td>\n",
       "      <td>0.5</td>\n",
       "      <td>Australia</td>\n",
       "      <td>Oceania</td>\n",
       "    </tr>\n",
       "    <tr>\n",
       "      <th>AUT</th>\n",
       "      <td>1226.353</td>\n",
       "      <td>0.7</td>\n",
       "      <td>Austria</td>\n",
       "      <td>Europe</td>\n",
       "    </tr>\n",
       "    <tr>\n",
       "      <th>...</th>\n",
       "      <td>...</td>\n",
       "      <td>...</td>\n",
       "      <td>...</td>\n",
       "      <td>...</td>\n",
       "    </tr>\n",
       "    <tr>\n",
       "      <th>VUT</th>\n",
       "      <td>3.180</td>\n",
       "      <td>13.2</td>\n",
       "      <td>Vanuatu</td>\n",
       "      <td>Oceania</td>\n",
       "    </tr>\n",
       "    <tr>\n",
       "      <th>YEM</th>\n",
       "      <td>58.215</td>\n",
       "      <td>18.8</td>\n",
       "      <td>Yemen</td>\n",
       "      <td>Asia</td>\n",
       "    </tr>\n",
       "    <tr>\n",
       "      <th>ZAF</th>\n",
       "      <td>1470.504</td>\n",
       "      <td>18.9</td>\n",
       "      <td>South Africa</td>\n",
       "      <td>Africa</td>\n",
       "    </tr>\n",
       "    <tr>\n",
       "      <th>ZMB</th>\n",
       "      <td>193.069</td>\n",
       "      <td>57.5</td>\n",
       "      <td>Zambia</td>\n",
       "      <td>Africa</td>\n",
       "    </tr>\n",
       "    <tr>\n",
       "      <th>ZWE</th>\n",
       "      <td>307.179</td>\n",
       "      <td>21.4</td>\n",
       "      <td>Zimbabwe</td>\n",
       "      <td>Africa</td>\n",
       "    </tr>\n",
       "  </tbody>\n",
       "</table>\n",
       "<p>122 rows × 4 columns</p>\n",
       "</div>"
      ],
      "text/plain": [
       "          total_deaths_per_million  extreme_poverty      location  \\\n",
       "iso_code                                                            \n",
       "ALB                        960.342              1.1       Albania   \n",
       "ARG                       2531.650              0.6     Argentina   \n",
       "ARM                       1862.790              1.8       Armenia   \n",
       "AUS                         55.529              0.5     Australia   \n",
       "AUT                       1226.353              0.7       Austria   \n",
       "...                            ...              ...           ...   \n",
       "VUT                          3.180             13.2       Vanuatu   \n",
       "YEM                         58.215             18.8         Yemen   \n",
       "ZAF                       1470.504             18.9  South Africa   \n",
       "ZMB                        193.069             57.5        Zambia   \n",
       "ZWE                        307.179             21.4      Zimbabwe   \n",
       "\n",
       "              continent  \n",
       "iso_code                 \n",
       "ALB              Europe  \n",
       "ARG       South America  \n",
       "ARM                Asia  \n",
       "AUS             Oceania  \n",
       "AUT              Europe  \n",
       "...                 ...  \n",
       "VUT             Oceania  \n",
       "YEM                Asia  \n",
       "ZAF              Africa  \n",
       "ZMB              Africa  \n",
       "ZWE              Africa  \n",
       "\n",
       "[122 rows x 4 columns]"
      ]
     },
     "execution_count": 43,
     "metadata": {},
     "output_type": "execute_result"
    }
   ],
   "source": [
    "df2 = df2.dropna();\n",
    "df2"
   ]
  },
  {
   "cell_type": "markdown",
   "metadata": {},
   "source": [
    "Now we display scatter plot diagrams for each continent with a linear regression model fit."
   ]
  },
  {
   "cell_type": "code",
   "execution_count": 44,
   "metadata": {},
   "outputs": [
    {
     "data": {
      "image/png": "[encoded data removed]",
      "text/plain": [
       "<Figure size 504x504 with 1 Axes>"
      ]
     },
     "metadata": {
      "needs_background": "light"
     },
     "output_type": "display_data"
    },
    {
     "data": {
      "image/png": "[encoded data removed]",
      "text/plain": [
       "<Figure size 504x504 with 1 Axes>"
      ]
     },
     "metadata": {
      "needs_background": "light"
     },
     "output_type": "display_data"
    },
    {
     "data": {
      "image/png": "[encoded data removed]",
      "text/plain": [
       "<Figure size 504x504 with 1 Axes>"
      ]
     },
     "metadata": {
      "needs_background": "light"
     },
     "output_type": "display_data"
    },
    {
     "data": {
      "image/png": "[encoded data removed]",
      "text/plain": [
       "<Figure size 504x504 with 1 Axes>"
      ]
     },
     "metadata": {
      "needs_background": "light"
     },
     "output_type": "display_data"
    },
    {
     "data": {
      "image/png": "[encoded data removed]",
      "text/plain": [
       "<Figure size 504x504 with 1 Axes>"
      ]
     },
     "metadata": {
      "needs_background": "light"
     },
     "output_type": "display_data"
    },
    {
     "data": {
      "image/png": "[encoded data removed]",
      "text/plain": [
       "<Figure size 504x504 with 1 Axes>"
      ]
     },
     "metadata": {
      "needs_background": "light"
     },
     "output_type": "display_data"
    }
   ],
   "source": [
    "xmax = df2.extreme_poverty.max()\n",
    "ymax = df2.total_deaths_per_million.max()\n",
    "xspace = 5\n",
    "yspace = 100\n",
    "\n",
    "for continent in df2.continent.unique():\n",
    "    continent_data = df2.loc[df2.continent == continent]\n",
    "    plt.figure(figsize=(7,7))\n",
    "    plt.ylim(-yspace, ymax + yspace)\n",
    "    plt.xlim(-xspace, xmax + xspace)\n",
    "    ax = sns.regplot(x=continent_data.extreme_poverty, y=continent_data.total_deaths_per_million, ci=None)\n",
    "    ax.set(\n",
    "        title=continent,\n",
    "        xlabel='Share of the population living in extreme poverty',\n",
    "        ylabel='Total deaths attributed to COVID-19 per 1,000,000 people'\n",
    "    )"
   ]
  },
  {
   "cell_type": "markdown",
   "metadata": {},
   "source": [
    "Calculate correlation coefficients and put them in data frame."
   ]
  },
  {
   "cell_type": "code",
   "execution_count": 45,
   "metadata": {},
   "outputs": [
    {
     "data": {
      "text/html": [
       "<div>\n",
       "<style scoped>\n",
       "    .dataframe tbody tr th:only-of-type {\n",
       "        vertical-align: middle;\n",
       "    }\n",
       "\n",
       "    .dataframe tbody tr th {\n",
       "        vertical-align: top;\n",
       "    }\n",
       "\n",
       "    .dataframe thead th {\n",
       "        text-align: right;\n",
       "    }\n",
       "</style>\n",
       "<table border=\"1\" class=\"dataframe\">\n",
       "  <thead>\n",
       "    <tr style=\"text-align: right;\">\n",
       "      <th></th>\n",
       "      <th>correlation_coefficient</th>\n",
       "    </tr>\n",
       "  </thead>\n",
       "  <tbody>\n",
       "    <tr>\n",
       "      <th>Africa</th>\n",
       "      <td>-0.413584</td>\n",
       "    </tr>\n",
       "    <tr>\n",
       "      <th>Asia</th>\n",
       "      <td>-0.355013</td>\n",
       "    </tr>\n",
       "    <tr>\n",
       "      <th>Europe</th>\n",
       "      <td>0.367277</td>\n",
       "    </tr>\n",
       "    <tr>\n",
       "      <th>North America</th>\n",
       "      <td>-0.389473</td>\n",
       "    </tr>\n",
       "    <tr>\n",
       "      <th>Oceania</th>\n",
       "      <td>-0.501475</td>\n",
       "    </tr>\n",
       "    <tr>\n",
       "      <th>South America</th>\n",
       "      <td>0.049140</td>\n",
       "    </tr>\n",
       "  </tbody>\n",
       "</table>\n",
       "</div>"
      ],
      "text/plain": [
       "               correlation_coefficient\n",
       "Africa                       -0.413584\n",
       "Asia                         -0.355013\n",
       "Europe                        0.367277\n",
       "North America                -0.389473\n",
       "Oceania                      -0.501475\n",
       "South America                 0.049140"
      ]
     },
     "execution_count": 45,
     "metadata": {},
     "output_type": "execute_result"
    }
   ],
   "source": [
    "corr_values = []\n",
    "corr_indexes = []\n",
    "corr = df2.groupby('continent').corr().iloc[1::2, 0]\n",
    "for tuple in corr.index.values:\n",
    "    corr_indexes.append(tuple[0])\n",
    "    corr_values.append(corr[tuple])\n",
    "corr_data = pd.DataFrame({'correlation_coefficient': corr_values}, index=corr_indexes)\n",
    "corr_data"
   ]
  },
  {
   "cell_type": "markdown",
   "metadata": {},
   "source": [
    "Display data using chart diagram."
   ]
  },
  {
   "cell_type": "code",
   "execution_count": 46,
   "metadata": {},
   "outputs": [
    {
     "data": {
      "image/png": "[encoded data removed]",
      "text/plain": [
       "<Figure size 432x288 with 1 Axes>"
      ]
     },
     "metadata": {
      "needs_background": "light"
     },
     "output_type": "display_data"
    }
   ],
   "source": [
    "diagram = corr_data.plot.bar(legend=0)\n",
    "diagram.axhline(y = 0, color = 'black', linewidth = 0.5)\n",
    "diagram.set_ylabel('Correlation coefficient')\n",
    "diagram.set_xlabel('Continent')\n",
    "diagram.set_title('Correlation diagram')\n",
    "for idx, val in enumerate(corr_data.iloc[:, 0]):\n",
    "    diagram.text(idx - 0.15, val - 0.04 if val > 0 else val + 0.02, round(val, 2), fontsize=8, color='white')"
   ]
  },
  {
   "cell_type": "markdown",
   "metadata": {},
   "source": [
    "From diagram we can see that correlation coefficient between the share of the population living in extreme poverty and Covid mortality rate is moderate or close to it (except for South America where there is no correlation). Interesting that in Europe correlation coefficient is positive which means you are more likely to die from Covid in poor country while in other continents this number is negative."
   ]
  },
  {
   "cell_type": "code",
   "execution_count": 60,
   "metadata": {},
   "outputs": [
    {
     "data": {
      "text/plain": [
       "-0.4660364612314752"
      ]
     },
     "execution_count": 60,
     "metadata": {},
     "output_type": "execute_result"
    }
   ],
   "source": [
    "df2.corr().iloc[1::2, 0][0]"
   ]
  },
  {
   "cell_type": "markdown",
   "metadata": {},
   "source": [
    "The number above shows correlation coefficient between the share of the population living in extreme poverty and Covid mortality rate in all continents combined. This number is negative which means people who live in poor countries are less likely to die from Covid."
   ]
  },
  {
   "cell_type": "markdown",
   "metadata": {},
   "source": [
    "[back to the top](#main)\n",
    "<a id='Q3' name='Q3'></a>\n",
    "## 3. Predict what will be the percentage of people vaccinated in Lithuania after next 30 days. "
   ]
  },
  {
   "cell_type": "markdown",
   "metadata": {},
   "source": [
    "First of all, select all rows where location is Lithuania and remove all rows where people fully vaccinated per 100 value is not defined."
   ]
  },
  {
   "cell_type": "code",
   "execution_count": 48,
   "metadata": {},
   "outputs": [
    {
     "data": {
      "text/html": [
       "<div>\n",
       "<style scoped>\n",
       "    .dataframe tbody tr th:only-of-type {\n",
       "        vertical-align: middle;\n",
       "    }\n",
       "\n",
       "    .dataframe tbody tr th {\n",
       "        vertical-align: top;\n",
       "    }\n",
       "\n",
       "    .dataframe thead th {\n",
       "        text-align: right;\n",
       "    }\n",
       "</style>\n",
       "<table border=\"1\" class=\"dataframe\">\n",
       "  <thead>\n",
       "    <tr style=\"text-align: right;\">\n",
       "      <th></th>\n",
       "      <th>iso_code</th>\n",
       "      <th>continent</th>\n",
       "      <th>location</th>\n",
       "      <th>date</th>\n",
       "      <th>total_cases</th>\n",
       "      <th>new_cases</th>\n",
       "      <th>new_cases_smoothed</th>\n",
       "      <th>total_deaths</th>\n",
       "      <th>new_deaths</th>\n",
       "      <th>new_deaths_smoothed</th>\n",
       "      <th>...</th>\n",
       "      <th>female_smokers</th>\n",
       "      <th>male_smokers</th>\n",
       "      <th>handwashing_facilities</th>\n",
       "      <th>hospital_beds_per_thousand</th>\n",
       "      <th>life_expectancy</th>\n",
       "      <th>human_development_index</th>\n",
       "      <th>excess_mortality_cumulative_absolute</th>\n",
       "      <th>excess_mortality_cumulative</th>\n",
       "      <th>excess_mortality</th>\n",
       "      <th>excess_mortality_cumulative_per_million</th>\n",
       "    </tr>\n",
       "  </thead>\n",
       "  <tbody>\n",
       "    <tr>\n",
       "      <th>65085</th>\n",
       "      <td>LTU</td>\n",
       "      <td>Europe</td>\n",
       "      <td>Lithuania</td>\n",
       "      <td>2021-01-17</td>\n",
       "      <td>170036.0</td>\n",
       "      <td>842.0</td>\n",
       "      <td>1185.000</td>\n",
       "      <td>2450.0</td>\n",
       "      <td>31.0</td>\n",
       "      <td>35.286</td>\n",
       "      <td>...</td>\n",
       "      <td>21.3</td>\n",
       "      <td>38.0</td>\n",
       "      <td>NaN</td>\n",
       "      <td>6.56</td>\n",
       "      <td>75.93</td>\n",
       "      <td>0.882</td>\n",
       "      <td>6727.1</td>\n",
       "      <td>16.84</td>\n",
       "      <td>42.18</td>\n",
       "      <td>2500.908969</td>\n",
       "    </tr>\n",
       "    <tr>\n",
       "      <th>65086</th>\n",
       "      <td>LTU</td>\n",
       "      <td>Europe</td>\n",
       "      <td>Lithuania</td>\n",
       "      <td>2021-01-18</td>\n",
       "      <td>170513.0</td>\n",
       "      <td>477.0</td>\n",
       "      <td>1142.571</td>\n",
       "      <td>2476.0</td>\n",
       "      <td>26.0</td>\n",
       "      <td>32.857</td>\n",
       "      <td>...</td>\n",
       "      <td>21.3</td>\n",
       "      <td>38.0</td>\n",
       "      <td>NaN</td>\n",
       "      <td>6.56</td>\n",
       "      <td>75.93</td>\n",
       "      <td>0.882</td>\n",
       "      <td>NaN</td>\n",
       "      <td>NaN</td>\n",
       "      <td>NaN</td>\n",
       "      <td>NaN</td>\n",
       "    </tr>\n",
       "    <tr>\n",
       "      <th>65087</th>\n",
       "      <td>LTU</td>\n",
       "      <td>Europe</td>\n",
       "      <td>Lithuania</td>\n",
       "      <td>2021-01-19</td>\n",
       "      <td>171380.0</td>\n",
       "      <td>867.0</td>\n",
       "      <td>1121.857</td>\n",
       "      <td>2498.0</td>\n",
       "      <td>22.0</td>\n",
       "      <td>31.143</td>\n",
       "      <td>...</td>\n",
       "      <td>21.3</td>\n",
       "      <td>38.0</td>\n",
       "      <td>NaN</td>\n",
       "      <td>6.56</td>\n",
       "      <td>75.93</td>\n",
       "      <td>0.882</td>\n",
       "      <td>NaN</td>\n",
       "      <td>NaN</td>\n",
       "      <td>NaN</td>\n",
       "      <td>NaN</td>\n",
       "    </tr>\n",
       "    <tr>\n",
       "      <th>65088</th>\n",
       "      <td>LTU</td>\n",
       "      <td>Europe</td>\n",
       "      <td>Lithuania</td>\n",
       "      <td>2021-01-20</td>\n",
       "      <td>172612.0</td>\n",
       "      <td>1232.0</td>\n",
       "      <td>1045.857</td>\n",
       "      <td>2523.0</td>\n",
       "      <td>25.0</td>\n",
       "      <td>29.429</td>\n",
       "      <td>...</td>\n",
       "      <td>21.3</td>\n",
       "      <td>38.0</td>\n",
       "      <td>NaN</td>\n",
       "      <td>6.56</td>\n",
       "      <td>75.93</td>\n",
       "      <td>0.882</td>\n",
       "      <td>NaN</td>\n",
       "      <td>NaN</td>\n",
       "      <td>NaN</td>\n",
       "      <td>NaN</td>\n",
       "    </tr>\n",
       "    <tr>\n",
       "      <th>65089</th>\n",
       "      <td>LTU</td>\n",
       "      <td>Europe</td>\n",
       "      <td>Lithuania</td>\n",
       "      <td>2021-01-21</td>\n",
       "      <td>173889.0</td>\n",
       "      <td>1277.0</td>\n",
       "      <td>1021.857</td>\n",
       "      <td>2561.0</td>\n",
       "      <td>38.0</td>\n",
       "      <td>30.143</td>\n",
       "      <td>...</td>\n",
       "      <td>21.3</td>\n",
       "      <td>38.0</td>\n",
       "      <td>NaN</td>\n",
       "      <td>6.56</td>\n",
       "      <td>75.93</td>\n",
       "      <td>0.882</td>\n",
       "      <td>NaN</td>\n",
       "      <td>NaN</td>\n",
       "      <td>NaN</td>\n",
       "      <td>NaN</td>\n",
       "    </tr>\n",
       "    <tr>\n",
       "      <th>...</th>\n",
       "      <td>...</td>\n",
       "      <td>...</td>\n",
       "      <td>...</td>\n",
       "      <td>...</td>\n",
       "      <td>...</td>\n",
       "      <td>...</td>\n",
       "      <td>...</td>\n",
       "      <td>...</td>\n",
       "      <td>...</td>\n",
       "      <td>...</td>\n",
       "      <td>...</td>\n",
       "      <td>...</td>\n",
       "      <td>...</td>\n",
       "      <td>...</td>\n",
       "      <td>...</td>\n",
       "      <td>...</td>\n",
       "      <td>...</td>\n",
       "      <td>...</td>\n",
       "      <td>...</td>\n",
       "      <td>...</td>\n",
       "      <td>...</td>\n",
       "    </tr>\n",
       "    <tr>\n",
       "      <th>65346</th>\n",
       "      <td>LTU</td>\n",
       "      <td>Europe</td>\n",
       "      <td>Lithuania</td>\n",
       "      <td>2021-10-05</td>\n",
       "      <td>340080.0</td>\n",
       "      <td>1548.0</td>\n",
       "      <td>1740.571</td>\n",
       "      <td>5116.0</td>\n",
       "      <td>29.0</td>\n",
       "      <td>24.286</td>\n",
       "      <td>...</td>\n",
       "      <td>21.3</td>\n",
       "      <td>38.0</td>\n",
       "      <td>NaN</td>\n",
       "      <td>6.56</td>\n",
       "      <td>75.93</td>\n",
       "      <td>0.882</td>\n",
       "      <td>NaN</td>\n",
       "      <td>NaN</td>\n",
       "      <td>NaN</td>\n",
       "      <td>NaN</td>\n",
       "    </tr>\n",
       "    <tr>\n",
       "      <th>65347</th>\n",
       "      <td>LTU</td>\n",
       "      <td>Europe</td>\n",
       "      <td>Lithuania</td>\n",
       "      <td>2021-10-06</td>\n",
       "      <td>342827.0</td>\n",
       "      <td>2747.0</td>\n",
       "      <td>1851.143</td>\n",
       "      <td>5134.0</td>\n",
       "      <td>18.0</td>\n",
       "      <td>24.143</td>\n",
       "      <td>...</td>\n",
       "      <td>21.3</td>\n",
       "      <td>38.0</td>\n",
       "      <td>NaN</td>\n",
       "      <td>6.56</td>\n",
       "      <td>75.93</td>\n",
       "      <td>0.882</td>\n",
       "      <td>NaN</td>\n",
       "      <td>NaN</td>\n",
       "      <td>NaN</td>\n",
       "      <td>NaN</td>\n",
       "    </tr>\n",
       "    <tr>\n",
       "      <th>65348</th>\n",
       "      <td>LTU</td>\n",
       "      <td>Europe</td>\n",
       "      <td>Lithuania</td>\n",
       "      <td>2021-10-07</td>\n",
       "      <td>345095.0</td>\n",
       "      <td>2268.0</td>\n",
       "      <td>1916.000</td>\n",
       "      <td>5158.0</td>\n",
       "      <td>24.0</td>\n",
       "      <td>23.571</td>\n",
       "      <td>...</td>\n",
       "      <td>21.3</td>\n",
       "      <td>38.0</td>\n",
       "      <td>NaN</td>\n",
       "      <td>6.56</td>\n",
       "      <td>75.93</td>\n",
       "      <td>0.882</td>\n",
       "      <td>NaN</td>\n",
       "      <td>NaN</td>\n",
       "      <td>NaN</td>\n",
       "      <td>NaN</td>\n",
       "    </tr>\n",
       "    <tr>\n",
       "      <th>65349</th>\n",
       "      <td>LTU</td>\n",
       "      <td>Europe</td>\n",
       "      <td>Lithuania</td>\n",
       "      <td>2021-10-08</td>\n",
       "      <td>347548.0</td>\n",
       "      <td>2453.0</td>\n",
       "      <td>1979.714</td>\n",
       "      <td>5179.0</td>\n",
       "      <td>21.0</td>\n",
       "      <td>23.571</td>\n",
       "      <td>...</td>\n",
       "      <td>21.3</td>\n",
       "      <td>38.0</td>\n",
       "      <td>NaN</td>\n",
       "      <td>6.56</td>\n",
       "      <td>75.93</td>\n",
       "      <td>0.882</td>\n",
       "      <td>NaN</td>\n",
       "      <td>NaN</td>\n",
       "      <td>NaN</td>\n",
       "      <td>NaN</td>\n",
       "    </tr>\n",
       "    <tr>\n",
       "      <th>65350</th>\n",
       "      <td>LTU</td>\n",
       "      <td>Europe</td>\n",
       "      <td>Lithuania</td>\n",
       "      <td>2021-10-09</td>\n",
       "      <td>350029.0</td>\n",
       "      <td>2481.0</td>\n",
       "      <td>2032.571</td>\n",
       "      <td>5209.0</td>\n",
       "      <td>30.0</td>\n",
       "      <td>24.000</td>\n",
       "      <td>...</td>\n",
       "      <td>21.3</td>\n",
       "      <td>38.0</td>\n",
       "      <td>NaN</td>\n",
       "      <td>6.56</td>\n",
       "      <td>75.93</td>\n",
       "      <td>0.882</td>\n",
       "      <td>NaN</td>\n",
       "      <td>NaN</td>\n",
       "      <td>NaN</td>\n",
       "      <td>NaN</td>\n",
       "    </tr>\n",
       "  </tbody>\n",
       "</table>\n",
       "<p>265 rows × 65 columns</p>\n",
       "</div>"
      ],
      "text/plain": [
       "      iso_code continent   location       date  total_cases  new_cases  \\\n",
       "65085      LTU    Europe  Lithuania 2021-01-17     170036.0      842.0   \n",
       "65086      LTU    Europe  Lithuania 2021-01-18     170513.0      477.0   \n",
       "65087      LTU    Europe  Lithuania 2021-01-19     171380.0      867.0   \n",
       "65088      LTU    Europe  Lithuania 2021-01-20     172612.0     1232.0   \n",
       "65089      LTU    Europe  Lithuania 2021-01-21     173889.0     1277.0   \n",
       "...        ...       ...        ...        ...          ...        ...   \n",
       "65346      LTU    Europe  Lithuania 2021-10-05     340080.0     1548.0   \n",
       "65347      LTU    Europe  Lithuania 2021-10-06     342827.0     2747.0   \n",
       "65348      LTU    Europe  Lithuania 2021-10-07     345095.0     2268.0   \n",
       "65349      LTU    Europe  Lithuania 2021-10-08     347548.0     2453.0   \n",
       "65350      LTU    Europe  Lithuania 2021-10-09     350029.0     2481.0   \n",
       "\n",
       "       new_cases_smoothed  total_deaths  new_deaths  new_deaths_smoothed  ...  \\\n",
       "65085            1185.000        2450.0        31.0               35.286  ...   \n",
       "65086            1142.571        2476.0        26.0               32.857  ...   \n",
       "65087            1121.857        2498.0        22.0               31.143  ...   \n",
       "65088            1045.857        2523.0        25.0               29.429  ...   \n",
       "65089            1021.857        2561.0        38.0               30.143  ...   \n",
       "...                   ...           ...         ...                  ...  ...   \n",
       "65346            1740.571        5116.0        29.0               24.286  ...   \n",
       "65347            1851.143        5134.0        18.0               24.143  ...   \n",
       "65348            1916.000        5158.0        24.0               23.571  ...   \n",
       "65349            1979.714        5179.0        21.0               23.571  ...   \n",
       "65350            2032.571        5209.0        30.0               24.000  ...   \n",
       "\n",
       "       female_smokers  male_smokers  handwashing_facilities  \\\n",
       "65085            21.3          38.0                     NaN   \n",
       "65086            21.3          38.0                     NaN   \n",
       "65087            21.3          38.0                     NaN   \n",
       "65088            21.3          38.0                     NaN   \n",
       "65089            21.3          38.0                     NaN   \n",
       "...               ...           ...                     ...   \n",
       "65346            21.3          38.0                     NaN   \n",
       "65347            21.3          38.0                     NaN   \n",
       "65348            21.3          38.0                     NaN   \n",
       "65349            21.3          38.0                     NaN   \n",
       "65350            21.3          38.0                     NaN   \n",
       "\n",
       "       hospital_beds_per_thousand  life_expectancy  human_development_index  \\\n",
       "65085                        6.56            75.93                    0.882   \n",
       "65086                        6.56            75.93                    0.882   \n",
       "65087                        6.56            75.93                    0.882   \n",
       "65088                        6.56            75.93                    0.882   \n",
       "65089                        6.56            75.93                    0.882   \n",
       "...                           ...              ...                      ...   \n",
       "65346                        6.56            75.93                    0.882   \n",
       "65347                        6.56            75.93                    0.882   \n",
       "65348                        6.56            75.93                    0.882   \n",
       "65349                        6.56            75.93                    0.882   \n",
       "65350                        6.56            75.93                    0.882   \n",
       "\n",
       "       excess_mortality_cumulative_absolute  excess_mortality_cumulative  \\\n",
       "65085                                6727.1                        16.84   \n",
       "65086                                   NaN                          NaN   \n",
       "65087                                   NaN                          NaN   \n",
       "65088                                   NaN                          NaN   \n",
       "65089                                   NaN                          NaN   \n",
       "...                                     ...                          ...   \n",
       "65346                                   NaN                          NaN   \n",
       "65347                                   NaN                          NaN   \n",
       "65348                                   NaN                          NaN   \n",
       "65349                                   NaN                          NaN   \n",
       "65350                                   NaN                          NaN   \n",
       "\n",
       "       excess_mortality  excess_mortality_cumulative_per_million  \n",
       "65085             42.18                              2500.908969  \n",
       "65086               NaN                                      NaN  \n",
       "65087               NaN                                      NaN  \n",
       "65088               NaN                                      NaN  \n",
       "65089               NaN                                      NaN  \n",
       "...                 ...                                      ...  \n",
       "65346               NaN                                      NaN  \n",
       "65347               NaN                                      NaN  \n",
       "65348               NaN                                      NaN  \n",
       "65349               NaN                                      NaN  \n",
       "65350               NaN                                      NaN  \n",
       "\n",
       "[265 rows x 65 columns]"
      ]
     },
     "execution_count": 48,
     "metadata": {},
     "output_type": "execute_result"
    }
   ],
   "source": [
    "df3 = df.loc[df['location'] == 'Lithuania']\n",
    "df3 = df3[df3['people_fully_vaccinated_per_hundred'].notna()]\n",
    "df3"
   ]
  },
  {
   "cell_type": "markdown",
   "metadata": {},
   "source": [
    "Select only relevant columns."
   ]
  },
  {
   "cell_type": "code",
   "execution_count": 49,
   "metadata": {},
   "outputs": [
    {
     "data": {
      "text/html": [
       "<div>\n",
       "<style scoped>\n",
       "    .dataframe tbody tr th:only-of-type {\n",
       "        vertical-align: middle;\n",
       "    }\n",
       "\n",
       "    .dataframe tbody tr th {\n",
       "        vertical-align: top;\n",
       "    }\n",
       "\n",
       "    .dataframe thead th {\n",
       "        text-align: right;\n",
       "    }\n",
       "</style>\n",
       "<table border=\"1\" class=\"dataframe\">\n",
       "  <thead>\n",
       "    <tr style=\"text-align: right;\">\n",
       "      <th></th>\n",
       "      <th>people_fully_vaccinated_per_hundred</th>\n",
       "      <th>date</th>\n",
       "    </tr>\n",
       "  </thead>\n",
       "  <tbody>\n",
       "    <tr>\n",
       "      <th>65085</th>\n",
       "      <td>0.04</td>\n",
       "      <td>2021-01-17</td>\n",
       "    </tr>\n",
       "    <tr>\n",
       "      <th>65086</th>\n",
       "      <td>0.10</td>\n",
       "      <td>2021-01-18</td>\n",
       "    </tr>\n",
       "    <tr>\n",
       "      <th>65087</th>\n",
       "      <td>0.25</td>\n",
       "      <td>2021-01-19</td>\n",
       "    </tr>\n",
       "    <tr>\n",
       "      <th>65088</th>\n",
       "      <td>0.32</td>\n",
       "      <td>2021-01-20</td>\n",
       "    </tr>\n",
       "    <tr>\n",
       "      <th>65089</th>\n",
       "      <td>0.34</td>\n",
       "      <td>2021-01-21</td>\n",
       "    </tr>\n",
       "    <tr>\n",
       "      <th>...</th>\n",
       "      <td>...</td>\n",
       "      <td>...</td>\n",
       "    </tr>\n",
       "    <tr>\n",
       "      <th>65346</th>\n",
       "      <td>60.47</td>\n",
       "      <td>2021-10-05</td>\n",
       "    </tr>\n",
       "    <tr>\n",
       "      <th>65347</th>\n",
       "      <td>60.56</td>\n",
       "      <td>2021-10-06</td>\n",
       "    </tr>\n",
       "    <tr>\n",
       "      <th>65348</th>\n",
       "      <td>60.65</td>\n",
       "      <td>2021-10-07</td>\n",
       "    </tr>\n",
       "    <tr>\n",
       "      <th>65349</th>\n",
       "      <td>60.75</td>\n",
       "      <td>2021-10-08</td>\n",
       "    </tr>\n",
       "    <tr>\n",
       "      <th>65350</th>\n",
       "      <td>60.77</td>\n",
       "      <td>2021-10-09</td>\n",
       "    </tr>\n",
       "  </tbody>\n",
       "</table>\n",
       "<p>265 rows × 2 columns</p>\n",
       "</div>"
      ],
      "text/plain": [
       "       people_fully_vaccinated_per_hundred       date\n",
       "65085                                 0.04 2021-01-17\n",
       "65086                                 0.10 2021-01-18\n",
       "65087                                 0.25 2021-01-19\n",
       "65088                                 0.32 2021-01-20\n",
       "65089                                 0.34 2021-01-21\n",
       "...                                    ...        ...\n",
       "65346                                60.47 2021-10-05\n",
       "65347                                60.56 2021-10-06\n",
       "65348                                60.65 2021-10-07\n",
       "65349                                60.75 2021-10-08\n",
       "65350                                60.77 2021-10-09\n",
       "\n",
       "[265 rows x 2 columns]"
      ]
     },
     "execution_count": 49,
     "metadata": {},
     "output_type": "execute_result"
    }
   ],
   "source": [
    "df3 = df3[['people_fully_vaccinated_per_hundred', 'date']]\n",
    "df3"
   ]
  },
  {
   "cell_type": "markdown",
   "metadata": {},
   "source": [
    "Set date as data set index and set period to day."
   ]
  },
  {
   "cell_type": "code",
   "execution_count": 50,
   "metadata": {},
   "outputs": [
    {
     "data": {
      "text/html": [
       "<div>\n",
       "<style scoped>\n",
       "    .dataframe tbody tr th:only-of-type {\n",
       "        vertical-align: middle;\n",
       "    }\n",
       "\n",
       "    .dataframe tbody tr th {\n",
       "        vertical-align: top;\n",
       "    }\n",
       "\n",
       "    .dataframe thead th {\n",
       "        text-align: right;\n",
       "    }\n",
       "</style>\n",
       "<table border=\"1\" class=\"dataframe\">\n",
       "  <thead>\n",
       "    <tr style=\"text-align: right;\">\n",
       "      <th></th>\n",
       "      <th>people_fully_vaccinated_per_hundred</th>\n",
       "    </tr>\n",
       "    <tr>\n",
       "      <th>date</th>\n",
       "      <th></th>\n",
       "    </tr>\n",
       "  </thead>\n",
       "  <tbody>\n",
       "    <tr>\n",
       "      <th>2021-01-17</th>\n",
       "      <td>0.04</td>\n",
       "    </tr>\n",
       "    <tr>\n",
       "      <th>2021-01-18</th>\n",
       "      <td>0.10</td>\n",
       "    </tr>\n",
       "    <tr>\n",
       "      <th>2021-01-19</th>\n",
       "      <td>0.25</td>\n",
       "    </tr>\n",
       "    <tr>\n",
       "      <th>2021-01-20</th>\n",
       "      <td>0.32</td>\n",
       "    </tr>\n",
       "    <tr>\n",
       "      <th>2021-01-21</th>\n",
       "      <td>0.34</td>\n",
       "    </tr>\n",
       "    <tr>\n",
       "      <th>...</th>\n",
       "      <td>...</td>\n",
       "    </tr>\n",
       "    <tr>\n",
       "      <th>2021-10-05</th>\n",
       "      <td>60.47</td>\n",
       "    </tr>\n",
       "    <tr>\n",
       "      <th>2021-10-06</th>\n",
       "      <td>60.56</td>\n",
       "    </tr>\n",
       "    <tr>\n",
       "      <th>2021-10-07</th>\n",
       "      <td>60.65</td>\n",
       "    </tr>\n",
       "    <tr>\n",
       "      <th>2021-10-08</th>\n",
       "      <td>60.75</td>\n",
       "    </tr>\n",
       "    <tr>\n",
       "      <th>2021-10-09</th>\n",
       "      <td>60.77</td>\n",
       "    </tr>\n",
       "  </tbody>\n",
       "</table>\n",
       "<p>265 rows × 1 columns</p>\n",
       "</div>"
      ],
      "text/plain": [
       "            people_fully_vaccinated_per_hundred\n",
       "date                                           \n",
       "2021-01-17                                 0.04\n",
       "2021-01-18                                 0.10\n",
       "2021-01-19                                 0.25\n",
       "2021-01-20                                 0.32\n",
       "2021-01-21                                 0.34\n",
       "...                                         ...\n",
       "2021-10-05                                60.47\n",
       "2021-10-06                                60.56\n",
       "2021-10-07                                60.65\n",
       "2021-10-08                                60.75\n",
       "2021-10-09                                60.77\n",
       "\n",
       "[265 rows x 1 columns]"
      ]
     },
     "execution_count": 50,
     "metadata": {},
     "output_type": "execute_result"
    }
   ],
   "source": [
    "df3.set_index('date',inplace=True) \n",
    "df3.index = pd.DatetimeIndex(df3.index).to_period('D')\n",
    "df3"
   ]
  },
  {
   "cell_type": "markdown",
   "metadata": {},
   "source": [
    "Split data into two data sets where one data set will be used for training and other for testing. Last 20 days will be used for testing."
   ]
  },
  {
   "cell_type": "code",
   "execution_count": 51,
   "metadata": {},
   "outputs": [],
   "source": [
    "days = 20\n",
    "df3_train = df3.drop(df3.tail(days).index)\n",
    "df3_test = df3.drop(df3.head(len(df3.index) - days).index)"
   ]
  },
  {
   "cell_type": "markdown",
   "metadata": {},
   "source": [
    "We will use Autoregressive model where we forecast the output using the linear combination of past input values."
   ]
  },
  {
   "cell_type": "code",
   "execution_count": 52,
   "metadata": {},
   "outputs": [],
   "source": [
    "start = df3_test.index[0]\n",
    "end = df3_test.index[len(df3_test.index)-1]\n",
    "model = ar_select_order(df3_train, 15, old_names=False).model.fit()\n",
    "prediction = model.predict(start, end)"
   ]
  },
  {
   "cell_type": "markdown",
   "metadata": {},
   "source": [
    "Display results."
   ]
  },
  {
   "cell_type": "code",
   "execution_count": 53,
   "metadata": {
    "scrolled": true
   },
   "outputs": [
    {
     "data": {
      "image/png": "[encoded data removed]",
      "text/plain": [
       "<Figure size 432x288 with 1 Axes>"
      ]
     },
     "metadata": {
      "needs_background": "light"
     },
     "output_type": "display_data"
    }
   ],
   "source": [
    "def plot_data(data, title, y_label, x_label, legend):\n",
    "    diagram = data.plot()\n",
    "    diagram.set_title(title, pad=20)\n",
    "    diagram.set_ylabel(y_label)\n",
    "    diagram.set_xlabel(x_label)\n",
    "    diagram.legend(legend);\n",
    "\n",
    "plot_data(\n",
    "    pd.concat([df3_test, prediction], axis=1),\n",
    "    'Number of people fully vaccinated per 100 people in total population during last 20 days',\n",
    "    'Number of people',\n",
    "    'Days',\n",
    "    [\"actual data\", \"prediction\"]\n",
    ")"
   ]
  },
  {
   "cell_type": "markdown",
   "metadata": {},
   "source": [
    "From graph we can see that prediction curve looks quite similar to actual curve and it shows similar trends."
   ]
  },
  {
   "cell_type": "markdown",
   "metadata": {},
   "source": [
    "Let's calculate MSE."
   ]
  },
  {
   "cell_type": "code",
   "execution_count": 54,
   "metadata": {},
   "outputs": [
    {
     "data": {
      "text/plain": [
       "0.0011616132015596764"
      ]
     },
     "execution_count": 54,
     "metadata": {},
     "output_type": "execute_result"
    }
   ],
   "source": [
    "mean_squared_error(df3_test, prediction)"
   ]
  },
  {
   "cell_type": "markdown",
   "metadata": {},
   "source": [
    "MSE is close to zero which is good. It means that difference between prediction and actual data is small."
   ]
  },
  {
   "cell_type": "markdown",
   "metadata": {},
   "source": [
    "Then let's predict data for next 30 days."
   ]
  },
  {
   "cell_type": "code",
   "execution_count": 57,
   "metadata": {},
   "outputs": [
    {
     "data": {
      "image/png": "[encoded data removed]",
      "text/plain": [
       "<Figure size 432x288 with 1 Axes>"
      ]
     },
     "metadata": {
      "needs_background": "light"
     },
     "output_type": "display_data"
    }
   ],
   "source": [
    "start = datetime.today()\n",
    "end = start + timedelta(days=30)\n",
    "prediction = model.predict(start, end)\n",
    "plot_data(\n",
    "    prediction,\n",
    "    'Number of people fully vaccinated per 100 people in total population during next 30 days',\n",
    "    'Number of people',\n",
    "    'Days',\n",
    "    [\"prediction\"]\n",
    ")"
   ]
  },
  {
   "cell_type": "code",
   "execution_count": 58,
   "metadata": {},
   "outputs": [
    {
     "data": {
      "text/html": [
       "<div>\n",
       "<style scoped>\n",
       "    .dataframe tbody tr th:only-of-type {\n",
       "        vertical-align: middle;\n",
       "    }\n",
       "\n",
       "    .dataframe tbody tr th {\n",
       "        vertical-align: top;\n",
       "    }\n",
       "\n",
       "    .dataframe thead th {\n",
       "        text-align: right;\n",
       "    }\n",
       "</style>\n",
       "<table border=\"1\" class=\"dataframe\">\n",
       "  <thead>\n",
       "    <tr style=\"text-align: right;\">\n",
       "      <th></th>\n",
       "      <th>Number of people fully vaccinated per 100 people in total population</th>\n",
       "    </tr>\n",
       "  </thead>\n",
       "  <tbody>\n",
       "    <tr>\n",
       "      <th>2021-11-09</th>\n",
       "      <td>62.955211</td>\n",
       "    </tr>\n",
       "  </tbody>\n",
       "</table>\n",
       "</div>"
      ],
      "text/plain": [
       "            Number of people fully vaccinated per 100 people in total population\n",
       "2021-11-09                                          62.955211                   "
      ]
     },
     "execution_count": 58,
     "metadata": {},
     "output_type": "execute_result"
    }
   ],
   "source": [
    "pd.DataFrame(prediction, columns=['Number of people fully vaccinated per 100 people in total population']).tail(1)"
   ]
  },
  {
   "cell_type": "markdown",
   "metadata": {},
   "source": [
    "From the results we can say that percentage of people vaccinated in Lithuania after next 30 days should be similar to the number above."
   ]
  }
 ],
 "metadata": {
  "interpreter": {
   "hash": "31988ec4efb078c568e270cbee2e0369cb9699924389bb9f96dad601ce81bab9"
  },
  "kernelspec": {
   "display_name": "Python 3",
   "language": "python",
   "name": "python3"
  },
  "language_info": {
   "codemirror_mode": {
    "name": "ipython",
    "version": 3
   },
   "file_extension": ".py",
   "mimetype": "text/x-python",
   "name": "python",
   "nbconvert_exporter": "python",
   "pygments_lexer": "ipython3",
   "version": "3.8.8"
  }
 },
 "nbformat": 4,
 "nbformat_minor": 4
}
