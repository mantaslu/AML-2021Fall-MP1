{
 "cells": [
  {
   "cell_type": "markdown",
   "metadata": {},
   "source": [
    "<a id='main' name=\"main\"></a>\n",
    "# Viral Data Analysis\n",
    "\n",
    "Date: 2021.10.09\n",
    "\n",
    "Author: © 2021 Anonymous course participant\n",
    "\n",
    "This notebook is part of an individual project for [KTU IF](https://fi.ktu.edu/)  [P176M010 Advanced Machine Learning](https://admissions.ktu.edu/programme/m-software-engineering/#P176M010) class led by [M. Lukoševičius](http://mantas.info/).\n",
    "\n",
    "Here we analyze open COVID-19 data from [Our World in Data](https://ourworldindata.org/) to answer the following questions:\n",
    "\n",
    "1. [Ignoring countries that ever dropped below 0.9 HDI during the dates being analysed, how has the average percentage of male smokers changed in Europe in the 2nd month of 2020, compared to the 2nd month of 2021?\n",
    "](#Q1)\n",
    "2. [How does diabetes prevalence correlate with GDP per capita? Compare Europe to North America.](#Q2)\n",
    "3. [Can we predict the tests per case in Europe for countries with population higher than 5 million based on total cases, total deaths and stringency index?](#Q3)\n",
    "\n",
    "This notebook is partially based on:\n",
    "\n",
    "https://www.statology.org/pandas-correlation-between-two-columns/\n",
    "\n",
    "https://www.w3schools.com/python/python_ml_multiple_regression.asp\n",
    "\n",
    "https://www.youtube.com/watch?v=b0L47BeklTE&ab_channel=RylanFowers\n",
    "\n",
    "This work is licensed under a <a rel=\"license\" href=\"http://creativecommons.org/licenses/by/4.0/\">Creative Commons Attribution 4.0 International license</a>. <a rel=\"license\" href=\"http://creativecommons.org/licenses/by/4.0/\"><img alt=\"Creative Commons licencija\" style=\"border-width:0\" src=\"https://i.creativecommons.org/l/by/4.0/80x15.png\" /></a> "
   ]
  },
  {
   "cell_type": "markdown",
   "metadata": {},
   "source": [
    "## Load the data"
   ]
  },
  {
   "cell_type": "code",
   "execution_count": 1,
   "metadata": {},
   "outputs": [],
   "source": [
    "import numpy as np\n",
    "import numpy.ma as ma\n",
    "import pandas as pd\n",
    "import matplotlib.pyplot as plt\n",
    "from matplotlib.dates import DateFormatter\n",
    "from scipy.stats import pearsonr\n",
    "from sklearn import linear_model\n",
    "from sklearn.model_selection import train_test_split\n",
    "from sklearn.neighbors import KNeighborsRegressor"
   ]
  },
  {
   "cell_type": "markdown",
   "metadata": {},
   "source": [
    "Download the data to cache locally. Do this once (a day), and comment out, not to DoS the server. (adopted from https://stackoverflow.com/a/35997720)."
   ]
  },
  {
   "cell_type": "code",
   "execution_count": 2,
   "metadata": {},
   "outputs": [],
   "source": [
    "# import requests\n",
    "# fname = 'owid-covid-data.csv'\n",
    "# url = 'https://covid.ourworldindata.org/data/' + fname\n",
    "# r = requests.get(url)\n",
    "# open(fname, 'wb').write(r.content)"
   ]
  },
  {
   "cell_type": "markdown",
   "metadata": {},
   "source": [
    "Load the file to Pandas."
   ]
  },
  {
   "cell_type": "code",
   "execution_count": 3,
   "metadata": {},
   "outputs": [],
   "source": [
    "#url = \"https://covid.ourworldindata.org/data/owid-covid-data.csv\"\n",
    "# download the file locally when developing, not to DoS the server:\n",
    "url = \"owid-covid-data.csv\" \n",
    "dfNew = pd.read_csv(url, parse_dates=[3])"
   ]
  },
  {
   "cell_type": "markdown",
   "metadata": {},
   "source": [
    "Check the columns available."
   ]
  },
  {
   "cell_type": "code",
   "execution_count": 4,
   "metadata": {
    "scrolled": true
   },
   "outputs": [
    {
     "name": "stdout",
     "output_type": "stream",
     "text": [
      "<class 'pandas.core.frame.DataFrame'>\n",
      "RangeIndex: 122379 entries, 0 to 122378\n",
      "Data columns (total 65 columns):\n",
      " #   Column                                   Non-Null Count   Dtype         \n",
      "---  ------                                   --------------   -----         \n",
      " 0   iso_code                                 122379 non-null  object        \n",
      " 1   continent                                116810 non-null  object        \n",
      " 2   location                                 122379 non-null  object        \n",
      " 3   date                                     122379 non-null  datetime64[ns]\n",
      " 4   total_cases                              116124 non-null  float64       \n",
      " 5   new_cases                                116120 non-null  float64       \n",
      " 6   new_cases_smoothed                       115106 non-null  float64       \n",
      " 7   total_deaths                             105293 non-null  float64       \n",
      " 8   new_deaths                               105446 non-null  float64       \n",
      " 9   new_deaths_smoothed                      115106 non-null  float64       \n",
      " 10  total_cases_per_million                  115513 non-null  float64       \n",
      " 11  new_cases_per_million                    115509 non-null  float64       \n",
      " 12  new_cases_smoothed_per_million           114500 non-null  float64       \n",
      " 13  total_deaths_per_million                 104695 non-null  float64       \n",
      " 14  new_deaths_per_million                   104848 non-null  float64       \n",
      " 15  new_deaths_smoothed_per_million          114500 non-null  float64       \n",
      " 16  reproduction_rate                        98688 non-null   float64       \n",
      " 17  icu_patients                             14456 non-null   float64       \n",
      " 18  icu_patients_per_million                 14456 non-null   float64       \n",
      " 19  hosp_patients                            16513 non-null   float64       \n",
      " 20  hosp_patients_per_million                16513 non-null   float64       \n",
      " 21  weekly_icu_admissions                    1268 non-null    float64       \n",
      " 22  weekly_icu_admissions_per_million        1268 non-null    float64       \n",
      " 23  weekly_hosp_admissions                   2089 non-null    float64       \n",
      " 24  weekly_hosp_admissions_per_million       2089 non-null    float64       \n",
      " 25  new_tests                                52485 non-null   float64       \n",
      " 26  total_tests                              52585 non-null   float64       \n",
      " 27  total_tests_per_thousand                 52585 non-null   float64       \n",
      " 28  new_tests_per_thousand                   52485 non-null   float64       \n",
      " 29  new_tests_smoothed                       63120 non-null   float64       \n",
      " 30  new_tests_smoothed_per_thousand          63120 non-null   float64       \n",
      " 31  positive_rate                            59247 non-null   float64       \n",
      " 32  tests_per_case                           58607 non-null   float64       \n",
      " 33  tests_units                              65054 non-null   object        \n",
      " 34  total_vaccinations                       28415 non-null   float64       \n",
      " 35  people_vaccinated                        26986 non-null   float64       \n",
      " 36  people_fully_vaccinated                  23894 non-null   float64       \n",
      " 37  total_boosters                           3135 non-null    float64       \n",
      " 38  new_vaccinations                         23545 non-null   float64       \n",
      " 39  new_vaccinations_smoothed                50735 non-null   float64       \n",
      " 40  total_vaccinations_per_hundred           28415 non-null   float64       \n",
      " 41  people_vaccinated_per_hundred            26986 non-null   float64       \n",
      " 42  people_fully_vaccinated_per_hundred      23894 non-null   float64       \n",
      " 43  total_boosters_per_hundred               3135 non-null    float64       \n",
      " 44  new_vaccinations_smoothed_per_million    50735 non-null   float64       \n",
      " 45  stringency_index                         101988 non-null  float64       \n",
      " 46  population                               121512 non-null  float64       \n",
      " 47  population_density                       113096 non-null  float64       \n",
      " 48  median_age                               107981 non-null  float64       \n",
      " 49  aged_65_older                            106781 non-null  float64       \n",
      " 50  aged_70_older                            107389 non-null  float64       \n",
      " 51  gdp_per_capita                           108625 non-null  float64       \n",
      " 52  extreme_poverty                          72857 non-null   float64       \n",
      " 53  cardiovasc_death_rate                    108263 non-null  float64       \n",
      " 54  diabetes_prevalence                      111651 non-null  float64       \n",
      " 55  female_smokers                           84513 non-null   float64       \n",
      " 56  male_smokers                             83287 non-null   float64       \n",
      " 57  handwashing_facilities                   54396 non-null   float64       \n",
      " 58  hospital_beds_per_thousand               98418 non-null   float64       \n",
      " 59  life_expectancy                          116062 non-null  float64       \n",
      " 60  human_development_index                  108354 non-null  float64       \n",
      " 61  excess_mortality_cumulative_absolute     4322 non-null    float64       \n",
      " 62  excess_mortality_cumulative              4322 non-null    float64       \n",
      " 63  excess_mortality                         4322 non-null    float64       \n",
      " 64  excess_mortality_cumulative_per_million  4322 non-null    float64       \n",
      "dtypes: datetime64[ns](1), float64(60), object(4)\n",
      "memory usage: 60.7+ MB\n"
     ]
    }
   ],
   "source": [
    "dfNew.info()"
   ]
  },
  {
   "cell_type": "markdown",
   "metadata": {},
   "source": [
    "The columns are explained [here](https://github.com/owid/covid-19-data/blob/master/public/data/owid-covid-codebook.csv)."
   ]
  },
  {
   "cell_type": "code",
   "execution_count": 5,
   "metadata": {
    "scrolled": false
   },
   "outputs": [
    {
     "data": {
      "text/html": [
       "<div>\n",
       "<style scoped>\n",
       "    .dataframe tbody tr th:only-of-type {\n",
       "        vertical-align: middle;\n",
       "    }\n",
       "\n",
       "    .dataframe tbody tr th {\n",
       "        vertical-align: top;\n",
       "    }\n",
       "\n",
       "    .dataframe thead th {\n",
       "        text-align: right;\n",
       "    }\n",
       "</style>\n",
       "<table border=\"1\" class=\"dataframe\">\n",
       "  <thead>\n",
       "    <tr style=\"text-align: right;\">\n",
       "      <th></th>\n",
       "      <th>total_cases</th>\n",
       "      <th>new_cases</th>\n",
       "      <th>new_cases_smoothed</th>\n",
       "      <th>total_deaths</th>\n",
       "      <th>new_deaths</th>\n",
       "      <th>new_deaths_smoothed</th>\n",
       "      <th>total_cases_per_million</th>\n",
       "      <th>new_cases_per_million</th>\n",
       "      <th>new_cases_smoothed_per_million</th>\n",
       "      <th>total_deaths_per_million</th>\n",
       "      <th>...</th>\n",
       "      <th>female_smokers</th>\n",
       "      <th>male_smokers</th>\n",
       "      <th>handwashing_facilities</th>\n",
       "      <th>hospital_beds_per_thousand</th>\n",
       "      <th>life_expectancy</th>\n",
       "      <th>human_development_index</th>\n",
       "      <th>excess_mortality_cumulative_absolute</th>\n",
       "      <th>excess_mortality_cumulative</th>\n",
       "      <th>excess_mortality</th>\n",
       "      <th>excess_mortality_cumulative_per_million</th>\n",
       "    </tr>\n",
       "  </thead>\n",
       "  <tbody>\n",
       "    <tr>\n",
       "      <th>count</th>\n",
       "      <td>1.161240e+05</td>\n",
       "      <td>116120.000000</td>\n",
       "      <td>115106.000000</td>\n",
       "      <td>1.052930e+05</td>\n",
       "      <td>105446.000000</td>\n",
       "      <td>115106.000000</td>\n",
       "      <td>115513.000000</td>\n",
       "      <td>115509.000000</td>\n",
       "      <td>114500.000000</td>\n",
       "      <td>104695.000000</td>\n",
       "      <td>...</td>\n",
       "      <td>84513.000000</td>\n",
       "      <td>83287.000000</td>\n",
       "      <td>54396.000000</td>\n",
       "      <td>98418.000000</td>\n",
       "      <td>116062.000000</td>\n",
       "      <td>108354.000000</td>\n",
       "      <td>4322.000000</td>\n",
       "      <td>4322.000000</td>\n",
       "      <td>4322.000000</td>\n",
       "      <td>4322.000000</td>\n",
       "    </tr>\n",
       "    <tr>\n",
       "      <th>mean</th>\n",
       "      <td>1.454556e+06</td>\n",
       "      <td>6455.572597</td>\n",
       "      <td>6477.611828</td>\n",
       "      <td>3.676693e+04</td>\n",
       "      <td>144.804545</td>\n",
       "      <td>132.061251</td>\n",
       "      <td>18013.583980</td>\n",
       "      <td>83.798493</td>\n",
       "      <td>83.831677</td>\n",
       "      <td>375.863109</td>\n",
       "      <td>...</td>\n",
       "      <td>10.591777</td>\n",
       "      <td>32.740049</td>\n",
       "      <td>50.735039</td>\n",
       "      <td>3.023182</td>\n",
       "      <td>73.259437</td>\n",
       "      <td>0.726449</td>\n",
       "      <td>28164.447617</td>\n",
       "      <td>8.037462</td>\n",
       "      <td>15.032927</td>\n",
       "      <td>693.873443</td>\n",
       "    </tr>\n",
       "    <tr>\n",
       "      <th>std</th>\n",
       "      <td>9.727910e+06</td>\n",
       "      <td>39298.448196</td>\n",
       "      <td>38905.459780</td>\n",
       "      <td>2.190308e+05</td>\n",
       "      <td>789.372914</td>\n",
       "      <td>739.213727</td>\n",
       "      <td>30564.061418</td>\n",
       "      <td>195.094758</td>\n",
       "      <td>164.220915</td>\n",
       "      <td>633.900178</td>\n",
       "      <td>...</td>\n",
       "      <td>10.504517</td>\n",
       "      <td>13.506522</td>\n",
       "      <td>31.752870</td>\n",
       "      <td>2.452657</td>\n",
       "      <td>7.539937</td>\n",
       "      <td>0.150209</td>\n",
       "      <td>82695.599668</td>\n",
       "      <td>15.932903</td>\n",
       "      <td>31.102516</td>\n",
       "      <td>1098.524489</td>\n",
       "    </tr>\n",
       "    <tr>\n",
       "      <th>min</th>\n",
       "      <td>1.000000e+00</td>\n",
       "      <td>-74347.000000</td>\n",
       "      <td>-6223.000000</td>\n",
       "      <td>1.000000e+00</td>\n",
       "      <td>-1918.000000</td>\n",
       "      <td>-232.143000</td>\n",
       "      <td>0.001000</td>\n",
       "      <td>-3125.829000</td>\n",
       "      <td>-272.971000</td>\n",
       "      <td>0.001000</td>\n",
       "      <td>...</td>\n",
       "      <td>0.100000</td>\n",
       "      <td>7.700000</td>\n",
       "      <td>1.188000</td>\n",
       "      <td>0.100000</td>\n",
       "      <td>53.280000</td>\n",
       "      <td>0.394000</td>\n",
       "      <td>-31959.400000</td>\n",
       "      <td>-27.350000</td>\n",
       "      <td>-95.920000</td>\n",
       "      <td>-1728.844404</td>\n",
       "    </tr>\n",
       "    <tr>\n",
       "      <th>25%</th>\n",
       "      <td>2.023000e+03</td>\n",
       "      <td>3.000000</td>\n",
       "      <td>9.286000</td>\n",
       "      <td>6.900000e+01</td>\n",
       "      <td>0.000000</td>\n",
       "      <td>0.000000</td>\n",
       "      <td>354.835000</td>\n",
       "      <td>0.281000</td>\n",
       "      <td>1.558000</td>\n",
       "      <td>10.367500</td>\n",
       "      <td>...</td>\n",
       "      <td>1.900000</td>\n",
       "      <td>21.600000</td>\n",
       "      <td>19.351000</td>\n",
       "      <td>1.300000</td>\n",
       "      <td>67.920000</td>\n",
       "      <td>0.602000</td>\n",
       "      <td>-265.500000</td>\n",
       "      <td>-1.437500</td>\n",
       "      <td>-1.427500</td>\n",
       "      <td>-58.952356</td>\n",
       "    </tr>\n",
       "    <tr>\n",
       "      <th>50%</th>\n",
       "      <td>2.111750e+04</td>\n",
       "      <td>93.000000</td>\n",
       "      <td>115.500000</td>\n",
       "      <td>6.080000e+02</td>\n",
       "      <td>2.000000</td>\n",
       "      <td>1.714000</td>\n",
       "      <td>2764.542000</td>\n",
       "      <td>10.733000</td>\n",
       "      <td>14.832000</td>\n",
       "      <td>69.648000</td>\n",
       "      <td>...</td>\n",
       "      <td>6.300000</td>\n",
       "      <td>31.400000</td>\n",
       "      <td>49.839000</td>\n",
       "      <td>2.400000</td>\n",
       "      <td>74.620000</td>\n",
       "      <td>0.744000</td>\n",
       "      <td>1266.100000</td>\n",
       "      <td>4.355000</td>\n",
       "      <td>5.670000</td>\n",
       "      <td>242.865156</td>\n",
       "    </tr>\n",
       "    <tr>\n",
       "      <th>75%</th>\n",
       "      <td>2.169360e+05</td>\n",
       "      <td>928.000000</td>\n",
       "      <td>981.000000</td>\n",
       "      <td>5.264000e+03</td>\n",
       "      <td>19.000000</td>\n",
       "      <td>15.857000</td>\n",
       "      <td>21906.109000</td>\n",
       "      <td>81.646000</td>\n",
       "      <td>91.165500</td>\n",
       "      <td>456.018000</td>\n",
       "      <td>...</td>\n",
       "      <td>19.300000</td>\n",
       "      <td>41.100000</td>\n",
       "      <td>82.502000</td>\n",
       "      <td>3.861000</td>\n",
       "      <td>78.740000</td>\n",
       "      <td>0.848000</td>\n",
       "      <td>17289.675000</td>\n",
       "      <td>12.907500</td>\n",
       "      <td>21.155000</td>\n",
       "      <td>1159.448112</td>\n",
       "    </tr>\n",
       "    <tr>\n",
       "      <th>max</th>\n",
       "      <td>2.375782e+08</td>\n",
       "      <td>905948.000000</td>\n",
       "      <td>826439.429000</td>\n",
       "      <td>4.847462e+06</td>\n",
       "      <td>17977.000000</td>\n",
       "      <td>14722.857000</td>\n",
       "      <td>219654.231000</td>\n",
       "      <td>8620.690000</td>\n",
       "      <td>3385.473000</td>\n",
       "      <td>5984.547000</td>\n",
       "      <td>...</td>\n",
       "      <td>44.000000</td>\n",
       "      <td>78.100000</td>\n",
       "      <td>100.000000</td>\n",
       "      <td>13.800000</td>\n",
       "      <td>86.750000</td>\n",
       "      <td>0.957000</td>\n",
       "      <td>693243.800000</td>\n",
       "      <td>106.830000</td>\n",
       "      <td>373.280000</td>\n",
       "      <td>6098.955872</td>\n",
       "    </tr>\n",
       "  </tbody>\n",
       "</table>\n",
       "<p>8 rows × 60 columns</p>\n",
       "</div>"
      ],
      "text/plain": [
       "        total_cases      new_cases  new_cases_smoothed  total_deaths  \\\n",
       "count  1.161240e+05  116120.000000       115106.000000  1.052930e+05   \n",
       "mean   1.454556e+06    6455.572597         6477.611828  3.676693e+04   \n",
       "std    9.727910e+06   39298.448196        38905.459780  2.190308e+05   \n",
       "min    1.000000e+00  -74347.000000        -6223.000000  1.000000e+00   \n",
       "25%    2.023000e+03       3.000000            9.286000  6.900000e+01   \n",
       "50%    2.111750e+04      93.000000          115.500000  6.080000e+02   \n",
       "75%    2.169360e+05     928.000000          981.000000  5.264000e+03   \n",
       "max    2.375782e+08  905948.000000       826439.429000  4.847462e+06   \n",
       "\n",
       "          new_deaths  new_deaths_smoothed  total_cases_per_million  \\\n",
       "count  105446.000000        115106.000000            115513.000000   \n",
       "mean      144.804545           132.061251             18013.583980   \n",
       "std       789.372914           739.213727             30564.061418   \n",
       "min     -1918.000000          -232.143000                 0.001000   \n",
       "25%         0.000000             0.000000               354.835000   \n",
       "50%         2.000000             1.714000              2764.542000   \n",
       "75%        19.000000            15.857000             21906.109000   \n",
       "max     17977.000000         14722.857000            219654.231000   \n",
       "\n",
       "       new_cases_per_million  new_cases_smoothed_per_million  \\\n",
       "count          115509.000000                   114500.000000   \n",
       "mean               83.798493                       83.831677   \n",
       "std               195.094758                      164.220915   \n",
       "min             -3125.829000                     -272.971000   \n",
       "25%                 0.281000                        1.558000   \n",
       "50%                10.733000                       14.832000   \n",
       "75%                81.646000                       91.165500   \n",
       "max              8620.690000                     3385.473000   \n",
       "\n",
       "       total_deaths_per_million  ...  female_smokers  male_smokers  \\\n",
       "count             104695.000000  ...    84513.000000  83287.000000   \n",
       "mean                 375.863109  ...       10.591777     32.740049   \n",
       "std                  633.900178  ...       10.504517     13.506522   \n",
       "min                    0.001000  ...        0.100000      7.700000   \n",
       "25%                   10.367500  ...        1.900000     21.600000   \n",
       "50%                   69.648000  ...        6.300000     31.400000   \n",
       "75%                  456.018000  ...       19.300000     41.100000   \n",
       "max                 5984.547000  ...       44.000000     78.100000   \n",
       "\n",
       "       handwashing_facilities  hospital_beds_per_thousand  life_expectancy  \\\n",
       "count            54396.000000                98418.000000    116062.000000   \n",
       "mean                50.735039                    3.023182        73.259437   \n",
       "std                 31.752870                    2.452657         7.539937   \n",
       "min                  1.188000                    0.100000        53.280000   \n",
       "25%                 19.351000                    1.300000        67.920000   \n",
       "50%                 49.839000                    2.400000        74.620000   \n",
       "75%                 82.502000                    3.861000        78.740000   \n",
       "max                100.000000                   13.800000        86.750000   \n",
       "\n",
       "       human_development_index  excess_mortality_cumulative_absolute  \\\n",
       "count            108354.000000                           4322.000000   \n",
       "mean                  0.726449                          28164.447617   \n",
       "std                   0.150209                          82695.599668   \n",
       "min                   0.394000                         -31959.400000   \n",
       "25%                   0.602000                           -265.500000   \n",
       "50%                   0.744000                           1266.100000   \n",
       "75%                   0.848000                          17289.675000   \n",
       "max                   0.957000                         693243.800000   \n",
       "\n",
       "       excess_mortality_cumulative  excess_mortality  \\\n",
       "count                  4322.000000       4322.000000   \n",
       "mean                      8.037462         15.032927   \n",
       "std                      15.932903         31.102516   \n",
       "min                     -27.350000        -95.920000   \n",
       "25%                      -1.437500         -1.427500   \n",
       "50%                       4.355000          5.670000   \n",
       "75%                      12.907500         21.155000   \n",
       "max                     106.830000        373.280000   \n",
       "\n",
       "       excess_mortality_cumulative_per_million  \n",
       "count                              4322.000000  \n",
       "mean                                693.873443  \n",
       "std                                1098.524489  \n",
       "min                               -1728.844404  \n",
       "25%                                 -58.952356  \n",
       "50%                                 242.865156  \n",
       "75%                                1159.448112  \n",
       "max                                6098.955872  \n",
       "\n",
       "[8 rows x 60 columns]"
      ]
     },
     "execution_count": 5,
     "metadata": {},
     "output_type": "execute_result"
    }
   ],
   "source": [
    "dfNew.describe()"
   ]
  },
  {
   "cell_type": "markdown",
   "metadata": {},
   "source": [
    "[back to the top](#main)\n",
    "<a id='Q1' name='Q1'></a>\n",
    "## 1. Ignoring countries that ever dropped below 0.9 HDI during the dates being analysed, how has the average percentage of male smokers changed in Europe in the 2nd month of 2020, compared to the 2nd month of 2021?\n",
    " "
   ]
  },
  {
   "cell_type": "code",
   "execution_count": 6,
   "metadata": {
    "scrolled": true
   },
   "outputs": [
    {
     "data": {
      "text/html": [
       "<div>\n",
       "<style scoped>\n",
       "    .dataframe tbody tr th:only-of-type {\n",
       "        vertical-align: middle;\n",
       "    }\n",
       "\n",
       "    .dataframe tbody tr th {\n",
       "        vertical-align: top;\n",
       "    }\n",
       "\n",
       "    .dataframe thead th {\n",
       "        text-align: right;\n",
       "    }\n",
       "</style>\n",
       "<table border=\"1\" class=\"dataframe\">\n",
       "  <thead>\n",
       "    <tr style=\"text-align: right;\">\n",
       "      <th></th>\n",
       "      <th>continent</th>\n",
       "      <th>location</th>\n",
       "      <th>date</th>\n",
       "      <th>human_development_index</th>\n",
       "      <th>male_smokers</th>\n",
       "    </tr>\n",
       "  </thead>\n",
       "  <tbody>\n",
       "    <tr>\n",
       "      <th>1199</th>\n",
       "      <td>Europe</td>\n",
       "      <td>Albania</td>\n",
       "      <td>2020-02-25</td>\n",
       "      <td>0.795</td>\n",
       "      <td>51.2</td>\n",
       "    </tr>\n",
       "    <tr>\n",
       "      <th>1200</th>\n",
       "      <td>Europe</td>\n",
       "      <td>Albania</td>\n",
       "      <td>2020-02-26</td>\n",
       "      <td>0.795</td>\n",
       "      <td>51.2</td>\n",
       "    </tr>\n",
       "    <tr>\n",
       "      <th>1201</th>\n",
       "      <td>Europe</td>\n",
       "      <td>Albania</td>\n",
       "      <td>2020-02-27</td>\n",
       "      <td>0.795</td>\n",
       "      <td>51.2</td>\n",
       "    </tr>\n",
       "    <tr>\n",
       "      <th>1202</th>\n",
       "      <td>Europe</td>\n",
       "      <td>Albania</td>\n",
       "      <td>2020-02-28</td>\n",
       "      <td>0.795</td>\n",
       "      <td>51.2</td>\n",
       "    </tr>\n",
       "    <tr>\n",
       "      <th>1203</th>\n",
       "      <td>Europe</td>\n",
       "      <td>Albania</td>\n",
       "      <td>2020-02-29</td>\n",
       "      <td>0.795</td>\n",
       "      <td>51.2</td>\n",
       "    </tr>\n",
       "    <tr>\n",
       "      <th>...</th>\n",
       "      <td>...</td>\n",
       "      <td>...</td>\n",
       "      <td>...</td>\n",
       "      <td>...</td>\n",
       "      <td>...</td>\n",
       "    </tr>\n",
       "    <tr>\n",
       "      <th>115744</th>\n",
       "      <td>Europe</td>\n",
       "      <td>United Kingdom</td>\n",
       "      <td>2021-02-24</td>\n",
       "      <td>0.932</td>\n",
       "      <td>24.7</td>\n",
       "    </tr>\n",
       "    <tr>\n",
       "      <th>115745</th>\n",
       "      <td>Europe</td>\n",
       "      <td>United Kingdom</td>\n",
       "      <td>2021-02-25</td>\n",
       "      <td>0.932</td>\n",
       "      <td>24.7</td>\n",
       "    </tr>\n",
       "    <tr>\n",
       "      <th>115746</th>\n",
       "      <td>Europe</td>\n",
       "      <td>United Kingdom</td>\n",
       "      <td>2021-02-26</td>\n",
       "      <td>0.932</td>\n",
       "      <td>24.7</td>\n",
       "    </tr>\n",
       "    <tr>\n",
       "      <th>115747</th>\n",
       "      <td>Europe</td>\n",
       "      <td>United Kingdom</td>\n",
       "      <td>2021-02-27</td>\n",
       "      <td>0.932</td>\n",
       "      <td>24.7</td>\n",
       "    </tr>\n",
       "    <tr>\n",
       "      <th>115748</th>\n",
       "      <td>Europe</td>\n",
       "      <td>United Kingdom</td>\n",
       "      <td>2021-02-28</td>\n",
       "      <td>0.932</td>\n",
       "      <td>24.7</td>\n",
       "    </tr>\n",
       "  </tbody>\n",
       "</table>\n",
       "<p>1534 rows × 5 columns</p>\n",
       "</div>"
      ],
      "text/plain": [
       "       continent        location       date  human_development_index  \\\n",
       "1199      Europe         Albania 2020-02-25                    0.795   \n",
       "1200      Europe         Albania 2020-02-26                    0.795   \n",
       "1201      Europe         Albania 2020-02-27                    0.795   \n",
       "1202      Europe         Albania 2020-02-28                    0.795   \n",
       "1203      Europe         Albania 2020-02-29                    0.795   \n",
       "...          ...             ...        ...                      ...   \n",
       "115744    Europe  United Kingdom 2021-02-24                    0.932   \n",
       "115745    Europe  United Kingdom 2021-02-25                    0.932   \n",
       "115746    Europe  United Kingdom 2021-02-26                    0.932   \n",
       "115747    Europe  United Kingdom 2021-02-27                    0.932   \n",
       "115748    Europe  United Kingdom 2021-02-28                    0.932   \n",
       "\n",
       "        male_smokers  \n",
       "1199            51.2  \n",
       "1200            51.2  \n",
       "1201            51.2  \n",
       "1202            51.2  \n",
       "1203            51.2  \n",
       "...              ...  \n",
       "115744          24.7  \n",
       "115745          24.7  \n",
       "115746          24.7  \n",
       "115747          24.7  \n",
       "115748          24.7  \n",
       "\n",
       "[1534 rows x 5 columns]"
      ]
     },
     "execution_count": 6,
     "metadata": {},
     "output_type": "execute_result"
    }
   ],
   "source": [
    "#Firstly we create a smaller table of data that we will use.\n",
    "df = dfNew\n",
    "rows = df['continent'] ==\"Europe\" #we select rows that have data about Europe\n",
    "columns = [\"continent\"] + [\"location\"] + [\"date\"] + [\"human_development_index\"] + [\"male_smokers\"] #we filter out relevant columns\n",
    "df = df.loc[rows, columns]  # retrieve selected rows and columns\n",
    "df = df[(df['date'] >= '2020-2-1') & (df['date'] < '2020-3-1') | (df['date'] >= '2021-2-1') & (df['date'] < '2021-3-01')] #filter out relevant dates\n",
    "df = df.dropna() # remove any rows without values\n",
    "df #print out the data frame"
   ]
  },
  {
   "cell_type": "markdown",
   "metadata": {},
   "source": [
    "What we've got so far is a smaller version of the data table with only the values we will need. Only data from the Europe continent, columns of location, date, HDI and male smoker percentage. We have already filtered out the data with only dates of 2020-02 and 2021-02."
   ]
  },
  {
   "cell_type": "code",
   "execution_count": 7,
   "metadata": {
    "scrolled": false
   },
   "outputs": [
    {
     "data": {
      "text/plain": [
       "['Albania',\n",
       " 'Andorra',\n",
       " 'Belarus',\n",
       " 'Bosnia and Herzegovina',\n",
       " 'Bulgaria',\n",
       " 'Croatia',\n",
       " 'Cyprus',\n",
       " 'Estonia',\n",
       " 'Greece',\n",
       " 'Hungary',\n",
       " 'Italy',\n",
       " 'Latvia',\n",
       " 'Lithuania',\n",
       " 'Malta',\n",
       " 'Moldova',\n",
       " 'Montenegro',\n",
       " 'Poland',\n",
       " 'Portugal',\n",
       " 'Romania',\n",
       " 'Russia',\n",
       " 'Serbia',\n",
       " 'Slovakia',\n",
       " 'Ukraine']"
      ]
     },
     "execution_count": 7,
     "metadata": {},
     "output_type": "execute_result"
    }
   ],
   "source": [
    "uniqueCountries = df['location'].unique() #get all of the unique countries from our data table\n",
    "ignoreCountries = [] #this list will hold all of the countries that should be ignored\n",
    "for Country in uniqueCountries:\n",
    "    df1 = df[df['location'] == Country]    #new dataForm with only the current Country in for cycle\n",
    "    if (df1['human_development_index'] < 0.9).any(): #if that country has ever reached HDI lower than 0.9\n",
    "        ignoreCountries.append(Country) #add it to the ignore list\n",
    "ignoreCountries #show ignore list"
   ]
  },
  {
   "cell_type": "markdown",
   "metadata": {},
   "source": [
    "We've got a list of countries that we will be ignoring due to the part of the question \"Ignoring countries that ever dropped below 0.9 HDI during the dates being analysed\"."
   ]
  },
  {
   "cell_type": "code",
   "execution_count": 8,
   "metadata": {
    "scrolled": true
   },
   "outputs": [
    {
     "data": {
      "text/html": [
       "<div>\n",
       "<style scoped>\n",
       "    .dataframe tbody tr th:only-of-type {\n",
       "        vertical-align: middle;\n",
       "    }\n",
       "\n",
       "    .dataframe tbody tr th {\n",
       "        vertical-align: top;\n",
       "    }\n",
       "\n",
       "    .dataframe thead th {\n",
       "        text-align: right;\n",
       "    }\n",
       "</style>\n",
       "<table border=\"1\" class=\"dataframe\">\n",
       "  <thead>\n",
       "    <tr style=\"text-align: right;\">\n",
       "      <th></th>\n",
       "      <th>continent</th>\n",
       "      <th>location</th>\n",
       "      <th>date</th>\n",
       "      <th>human_development_index</th>\n",
       "      <th>male_smokers</th>\n",
       "    </tr>\n",
       "  </thead>\n",
       "  <tbody>\n",
       "    <tr>\n",
       "      <th>7038</th>\n",
       "      <td>Europe</td>\n",
       "      <td>Austria</td>\n",
       "      <td>2020-02-25</td>\n",
       "      <td>0.922</td>\n",
       "      <td>30.9</td>\n",
       "    </tr>\n",
       "    <tr>\n",
       "      <th>7039</th>\n",
       "      <td>Europe</td>\n",
       "      <td>Austria</td>\n",
       "      <td>2020-02-26</td>\n",
       "      <td>0.922</td>\n",
       "      <td>30.9</td>\n",
       "    </tr>\n",
       "    <tr>\n",
       "      <th>7040</th>\n",
       "      <td>Europe</td>\n",
       "      <td>Austria</td>\n",
       "      <td>2020-02-27</td>\n",
       "      <td>0.922</td>\n",
       "      <td>30.9</td>\n",
       "    </tr>\n",
       "    <tr>\n",
       "      <th>7041</th>\n",
       "      <td>Europe</td>\n",
       "      <td>Austria</td>\n",
       "      <td>2020-02-28</td>\n",
       "      <td>0.922</td>\n",
       "      <td>30.9</td>\n",
       "    </tr>\n",
       "    <tr>\n",
       "      <th>7042</th>\n",
       "      <td>Europe</td>\n",
       "      <td>Austria</td>\n",
       "      <td>2020-02-29</td>\n",
       "      <td>0.922</td>\n",
       "      <td>30.9</td>\n",
       "    </tr>\n",
       "    <tr>\n",
       "      <th>...</th>\n",
       "      <td>...</td>\n",
       "      <td>...</td>\n",
       "      <td>...</td>\n",
       "      <td>...</td>\n",
       "      <td>...</td>\n",
       "    </tr>\n",
       "    <tr>\n",
       "      <th>115744</th>\n",
       "      <td>Europe</td>\n",
       "      <td>United Kingdom</td>\n",
       "      <td>2021-02-24</td>\n",
       "      <td>0.932</td>\n",
       "      <td>24.7</td>\n",
       "    </tr>\n",
       "    <tr>\n",
       "      <th>115745</th>\n",
       "      <td>Europe</td>\n",
       "      <td>United Kingdom</td>\n",
       "      <td>2021-02-25</td>\n",
       "      <td>0.932</td>\n",
       "      <td>24.7</td>\n",
       "    </tr>\n",
       "    <tr>\n",
       "      <th>115746</th>\n",
       "      <td>Europe</td>\n",
       "      <td>United Kingdom</td>\n",
       "      <td>2021-02-26</td>\n",
       "      <td>0.932</td>\n",
       "      <td>24.7</td>\n",
       "    </tr>\n",
       "    <tr>\n",
       "      <th>115747</th>\n",
       "      <td>Europe</td>\n",
       "      <td>United Kingdom</td>\n",
       "      <td>2021-02-27</td>\n",
       "      <td>0.932</td>\n",
       "      <td>24.7</td>\n",
       "    </tr>\n",
       "    <tr>\n",
       "      <th>115748</th>\n",
       "      <td>Europe</td>\n",
       "      <td>United Kingdom</td>\n",
       "      <td>2021-02-28</td>\n",
       "      <td>0.932</td>\n",
       "      <td>24.7</td>\n",
       "    </tr>\n",
       "  </tbody>\n",
       "</table>\n",
       "<p>765 rows × 5 columns</p>\n",
       "</div>"
      ],
      "text/plain": [
       "       continent        location       date  human_development_index  \\\n",
       "7038      Europe         Austria 2020-02-25                    0.922   \n",
       "7039      Europe         Austria 2020-02-26                    0.922   \n",
       "7040      Europe         Austria 2020-02-27                    0.922   \n",
       "7041      Europe         Austria 2020-02-28                    0.922   \n",
       "7042      Europe         Austria 2020-02-29                    0.922   \n",
       "...          ...             ...        ...                      ...   \n",
       "115744    Europe  United Kingdom 2021-02-24                    0.932   \n",
       "115745    Europe  United Kingdom 2021-02-25                    0.932   \n",
       "115746    Europe  United Kingdom 2021-02-26                    0.932   \n",
       "115747    Europe  United Kingdom 2021-02-27                    0.932   \n",
       "115748    Europe  United Kingdom 2021-02-28                    0.932   \n",
       "\n",
       "        male_smokers  \n",
       "7038            30.9  \n",
       "7039            30.9  \n",
       "7040            30.9  \n",
       "7041            30.9  \n",
       "7042            30.9  \n",
       "...              ...  \n",
       "115744          24.7  \n",
       "115745          24.7  \n",
       "115746          24.7  \n",
       "115747          24.7  \n",
       "115748          24.7  \n",
       "\n",
       "[765 rows x 5 columns]"
      ]
     },
     "execution_count": 8,
     "metadata": {},
     "output_type": "execute_result"
    }
   ],
   "source": [
    "df = df[~df['location'].isin(ignoreCountries)] #remove any countries that are in the ignore list\n",
    "df # show data"
   ]
  },
  {
   "cell_type": "markdown",
   "metadata": {},
   "source": [
    "This is all the data we will be working with for this task. The number of rows has been roughtly slashed in half and only countries with HDI => 0.9 over those two months are staying."
   ]
  },
  {
   "cell_type": "code",
   "execution_count": 9,
   "metadata": {
    "scrolled": true
   },
   "outputs": [
    {
     "data": {
      "image/png": "[encoded data removed]",
      "text/plain": [
       "<Figure size 1080x504 with 1 Axes>"
      ]
     },
     "metadata": {
      "needs_background": "light"
     },
     "output_type": "display_data"
    }
   ],
   "source": [
    "df2020 = df #make a seperate dataForm for the year 2020\n",
    "df2020 = df2020[(df2020['date'] >= '2020-2-1') & (df2020['date'] < '2020-3-1')] # filter out correct year\n",
    "df2020 = df2020.groupby('date', as_index=False, sort=False)['male_smokers'].mean() #clump all countries together by date and average out their smoker percentage\n",
    "df2020.plot(x ='date', y='male_smokers', kind = 'line', figsize=(15,7), ylabel=\"percentage of male smokers\", title=\"Percentage of male smokers in 2020-02\") #plot a graph\n",
    "plt.show() #show the graph"
   ]
  },
  {
   "cell_type": "markdown",
   "metadata": {},
   "source": [
    "We've got a graph that shows how the percentage of smokers shifts during the second month of 2020 in the European countries with HDI of 0.9 or higher. It fluctuates by up to 4%."
   ]
  },
  {
   "cell_type": "code",
   "execution_count": 10,
   "metadata": {},
   "outputs": [
    {
     "data": {
      "image/png": "[encoded data removed]",
      "text/plain": [
       "<Figure size 1080x504 with 1 Axes>"
      ]
     },
     "metadata": {
      "needs_background": "light"
     },
     "output_type": "display_data"
    }
   ],
   "source": [
    "df2021 = df #make a seperate dataForm for the year 2021\n",
    "df2021 = df2021[(df2021['date'] >= '2021-2-1') & (df2021['date'] < '2021-3-1')] # filter out correct year\n",
    "df2021 = df2021.groupby('date', as_index=False, sort=False)['male_smokers'].mean() #clump all countries together by date and average out their smoker percentage\n",
    "df2021.plot(x ='date', y='male_smokers', kind = 'line', color='red', figsize=(15,7), ylabel=\"percentage of male smokers\", title=\"Percentage of male smokers in 2021-02\") #plot a graph\n",
    "plt.show() #show the graph"
   ]
  },
  {
   "cell_type": "markdown",
   "metadata": {},
   "source": [
    "We've got a graph that shows how the percentage of smokers shifts during the second month of 2021 in the European countries with HDI of 0.9 or higher. It seems that either smokers are very consistent, or that there were no actual measures of smoking percentages and is simply left unchanged throughout the month for all of the European countries as the graph is completely flat."
   ]
  },
  {
   "cell_type": "code",
   "execution_count": 11,
   "metadata": {},
   "outputs": [
    {
     "data": {
      "image/png": "[encoded data removed]",
      "text/plain": [
       "<Figure size 1080x504 with 1 Axes>"
      ]
     },
     "metadata": {
      "needs_background": "light"
     },
     "output_type": "display_data"
    }
   ],
   "source": [
    "df2020['Date_2'] = df2020['date'].apply(lambda x: x.replace(year = 2000)) #replacing the year to 2000\n",
    "df2021['Date_2'] = df2021['date'].apply(lambda x: x.replace(year = 2000)) #so that both lines could be shown on one graph\n",
    "ax = plt.gca() #get current axis\n",
    "df2020.plot(x ='Date_2', y='male_smokers', kind = 'line', figsize=(15,7), ylabel=\"percentage of male smokers\", xlabel=\"date\", title=\"Percentage of male smokers\", ax=ax, label='smokers in 2020') #plot a graph for 2020\n",
    "df2021.plot(x ='Date_2', y='male_smokers', kind = 'line', color='red', figsize=(15,7), ylabel=\"percentage of male smokers\", xlabel=\"date\", title=\"Percentage of male smokers\", ax=ax, label='smokers in 2021') #plot a graph for 2021\n",
    "date_form = DateFormatter(\"%m-%d\") #remove the year from the date\n",
    "ax.xaxis.set_major_formatter(date_form) #apply the date format\n",
    "plt.show() #show the graph"
   ]
  },
  {
   "cell_type": "code",
   "execution_count": 12,
   "metadata": {},
   "outputs": [
    {
     "data": {
      "image/png": "[encoded data removed]",
      "text/plain": [
       "<Figure size 1080x504 with 1 Axes>"
      ]
     },
     "metadata": {
      "needs_background": "light"
     },
     "output_type": "display_data"
    }
   ],
   "source": [
    "dfDifference = df2021['male_smokers'] - df2020['male_smokers'] #subtracting the percentages of smokers to see difference\n",
    "ax = plt.gca() #get current axis\n",
    "dfDifference.plot(x ='date', y='male_smokers', kind = 'line', color='orange', figsize=(15,7), ylabel=\"difference in percentages\", xlabel=\"date\", title=\"The difference of percentages in smokers 2021 compared to 2020 February\", ax=ax, label='difference') #plot a graph for differences\n",
    "date_form = DateFormatter(\"%d\") #removing years\n",
    "ax.xaxis.set_major_formatter(date_form) #applying format\n",
    "plt.legend() #adding a legend\n",
    "plt.show() #showing graph"
   ]
  },
  {
   "cell_type": "markdown",
   "metadata": {},
   "source": [
    "This is the result of the first task. A difference in percentages of smokers in 2021 compared to 2020 on February. Unfortunately the graph for 2021 smokers was flat, so the final result isn't too interesting. Either way, if we are to assume that the data is correct, lockdowns and generally grim situation in the world has not had a significant impact on the habbits of smokers as the difference fluctuates no more than 2%."
   ]
  },
  {
   "cell_type": "markdown",
   "metadata": {},
   "source": [
    "[back to the top](#main)\n",
    "<a id='Q2' name='Q2'></a>\n",
    "## 2. How does diabetes prevalence correlate with GDP per capita? Compare Europe to North America."
   ]
  },
  {
   "cell_type": "code",
   "execution_count": 13,
   "metadata": {},
   "outputs": [
    {
     "data": {
      "text/html": [
       "<div>\n",
       "<style scoped>\n",
       "    .dataframe tbody tr th:only-of-type {\n",
       "        vertical-align: middle;\n",
       "    }\n",
       "\n",
       "    .dataframe tbody tr th {\n",
       "        vertical-align: top;\n",
       "    }\n",
       "\n",
       "    .dataframe thead th {\n",
       "        text-align: right;\n",
       "    }\n",
       "</style>\n",
       "<table border=\"1\" class=\"dataframe\">\n",
       "  <thead>\n",
       "    <tr style=\"text-align: right;\">\n",
       "      <th></th>\n",
       "      <th>continent</th>\n",
       "      <th>gdp_per_capita</th>\n",
       "      <th>diabetes_prevalence</th>\n",
       "    </tr>\n",
       "  </thead>\n",
       "  <tbody>\n",
       "    <tr>\n",
       "      <th>1199</th>\n",
       "      <td>Europe</td>\n",
       "      <td>11803.431</td>\n",
       "      <td>10.08</td>\n",
       "    </tr>\n",
       "    <tr>\n",
       "      <th>1200</th>\n",
       "      <td>Europe</td>\n",
       "      <td>11803.431</td>\n",
       "      <td>10.08</td>\n",
       "    </tr>\n",
       "    <tr>\n",
       "      <th>1201</th>\n",
       "      <td>Europe</td>\n",
       "      <td>11803.431</td>\n",
       "      <td>10.08</td>\n",
       "    </tr>\n",
       "    <tr>\n",
       "      <th>1202</th>\n",
       "      <td>Europe</td>\n",
       "      <td>11803.431</td>\n",
       "      <td>10.08</td>\n",
       "    </tr>\n",
       "    <tr>\n",
       "      <th>1203</th>\n",
       "      <td>Europe</td>\n",
       "      <td>11803.431</td>\n",
       "      <td>10.08</td>\n",
       "    </tr>\n",
       "    <tr>\n",
       "      <th>...</th>\n",
       "      <td>...</td>\n",
       "      <td>...</td>\n",
       "      <td>...</td>\n",
       "    </tr>\n",
       "    <tr>\n",
       "      <th>115967</th>\n",
       "      <td>Europe</td>\n",
       "      <td>39753.244</td>\n",
       "      <td>4.28</td>\n",
       "    </tr>\n",
       "    <tr>\n",
       "      <th>115968</th>\n",
       "      <td>Europe</td>\n",
       "      <td>39753.244</td>\n",
       "      <td>4.28</td>\n",
       "    </tr>\n",
       "    <tr>\n",
       "      <th>115969</th>\n",
       "      <td>Europe</td>\n",
       "      <td>39753.244</td>\n",
       "      <td>4.28</td>\n",
       "    </tr>\n",
       "    <tr>\n",
       "      <th>115970</th>\n",
       "      <td>Europe</td>\n",
       "      <td>39753.244</td>\n",
       "      <td>4.28</td>\n",
       "    </tr>\n",
       "    <tr>\n",
       "      <th>115971</th>\n",
       "      <td>Europe</td>\n",
       "      <td>39753.244</td>\n",
       "      <td>4.28</td>\n",
       "    </tr>\n",
       "  </tbody>\n",
       "</table>\n",
       "<p>24508 rows × 3 columns</p>\n",
       "</div>"
      ],
      "text/plain": [
       "       continent  gdp_per_capita  diabetes_prevalence\n",
       "1199      Europe       11803.431                10.08\n",
       "1200      Europe       11803.431                10.08\n",
       "1201      Europe       11803.431                10.08\n",
       "1202      Europe       11803.431                10.08\n",
       "1203      Europe       11803.431                10.08\n",
       "...          ...             ...                  ...\n",
       "115967    Europe       39753.244                 4.28\n",
       "115968    Europe       39753.244                 4.28\n",
       "115969    Europe       39753.244                 4.28\n",
       "115970    Europe       39753.244                 4.28\n",
       "115971    Europe       39753.244                 4.28\n",
       "\n",
       "[24508 rows x 3 columns]"
      ]
     },
     "execution_count": 13,
     "metadata": {},
     "output_type": "execute_result"
    }
   ],
   "source": [
    "#Firstly we create a smaller table of data that we will use.\n",
    "#For Europe\n",
    "dfEU = dfNew\n",
    "rows = dfEU['continent'] ==\"Europe\" #we select rows that have data about Europe\n",
    "columns = [\"continent\"] + [\"gdp_per_capita\"] + [\"diabetes_prevalence\"] #we filter out relevant columns\n",
    "dfEU = dfEU.loc[rows, columns]  # retrieve selected rows and columns\n",
    "dfEU = dfEU.dropna() # remove any rows without values\n",
    "dfEU #print out the data frame"
   ]
  },
  {
   "cell_type": "markdown",
   "metadata": {},
   "source": [
    "Relevant data for this task for Europe"
   ]
  },
  {
   "cell_type": "code",
   "execution_count": 14,
   "metadata": {},
   "outputs": [
    {
     "data": {
      "text/html": [
       "<div>\n",
       "<style scoped>\n",
       "    .dataframe tbody tr th:only-of-type {\n",
       "        vertical-align: middle;\n",
       "    }\n",
       "\n",
       "    .dataframe tbody tr th {\n",
       "        vertical-align: top;\n",
       "    }\n",
       "\n",
       "    .dataframe thead th {\n",
       "        text-align: right;\n",
       "    }\n",
       "</style>\n",
       "<table border=\"1\" class=\"dataframe\">\n",
       "  <thead>\n",
       "    <tr style=\"text-align: right;\">\n",
       "      <th></th>\n",
       "      <th>continent</th>\n",
       "      <th>gdp_per_capita</th>\n",
       "      <th>diabetes_prevalence</th>\n",
       "    </tr>\n",
       "  </thead>\n",
       "  <tbody>\n",
       "    <tr>\n",
       "      <th>3781</th>\n",
       "      <td>North America</td>\n",
       "      <td>21490.943</td>\n",
       "      <td>13.17</td>\n",
       "    </tr>\n",
       "    <tr>\n",
       "      <th>3782</th>\n",
       "      <td>North America</td>\n",
       "      <td>21490.943</td>\n",
       "      <td>13.17</td>\n",
       "    </tr>\n",
       "    <tr>\n",
       "      <th>3783</th>\n",
       "      <td>North America</td>\n",
       "      <td>21490.943</td>\n",
       "      <td>13.17</td>\n",
       "    </tr>\n",
       "    <tr>\n",
       "      <th>3784</th>\n",
       "      <td>North America</td>\n",
       "      <td>21490.943</td>\n",
       "      <td>13.17</td>\n",
       "    </tr>\n",
       "    <tr>\n",
       "      <th>3785</th>\n",
       "      <td>North America</td>\n",
       "      <td>21490.943</td>\n",
       "      <td>13.17</td>\n",
       "    </tr>\n",
       "    <tr>\n",
       "      <th>...</th>\n",
       "      <td>...</td>\n",
       "      <td>...</td>\n",
       "      <td>...</td>\n",
       "    </tr>\n",
       "    <tr>\n",
       "      <th>116594</th>\n",
       "      <td>North America</td>\n",
       "      <td>54225.446</td>\n",
       "      <td>10.79</td>\n",
       "    </tr>\n",
       "    <tr>\n",
       "      <th>116595</th>\n",
       "      <td>North America</td>\n",
       "      <td>54225.446</td>\n",
       "      <td>10.79</td>\n",
       "    </tr>\n",
       "    <tr>\n",
       "      <th>116596</th>\n",
       "      <td>North America</td>\n",
       "      <td>54225.446</td>\n",
       "      <td>10.79</td>\n",
       "    </tr>\n",
       "    <tr>\n",
       "      <th>116597</th>\n",
       "      <td>North America</td>\n",
       "      <td>54225.446</td>\n",
       "      <td>10.79</td>\n",
       "    </tr>\n",
       "    <tr>\n",
       "      <th>116598</th>\n",
       "      <td>North America</td>\n",
       "      <td>54225.446</td>\n",
       "      <td>10.79</td>\n",
       "    </tr>\n",
       "  </tbody>\n",
       "</table>\n",
       "<p>13579 rows × 3 columns</p>\n",
       "</div>"
      ],
      "text/plain": [
       "            continent  gdp_per_capita  diabetes_prevalence\n",
       "3781    North America       21490.943                13.17\n",
       "3782    North America       21490.943                13.17\n",
       "3783    North America       21490.943                13.17\n",
       "3784    North America       21490.943                13.17\n",
       "3785    North America       21490.943                13.17\n",
       "...               ...             ...                  ...\n",
       "116594  North America       54225.446                10.79\n",
       "116595  North America       54225.446                10.79\n",
       "116596  North America       54225.446                10.79\n",
       "116597  North America       54225.446                10.79\n",
       "116598  North America       54225.446                10.79\n",
       "\n",
       "[13579 rows x 3 columns]"
      ]
     },
     "execution_count": 14,
     "metadata": {},
     "output_type": "execute_result"
    }
   ],
   "source": [
    "#For NA\n",
    "dfNA = dfNew\n",
    "rows = dfNA['continent'] ==\"North America\" #we select rows that have data about Europe\n",
    "columns = [\"continent\"] + [\"gdp_per_capita\"] + [\"diabetes_prevalence\"] #we filter out relevant columns\n",
    "dfNA = dfNA.loc[rows, columns]  # retrieve selected rows and columns\n",
    "dfNA = dfNA.dropna() # remove any rows without values\n",
    "dfNA #print out the data frame"
   ]
  },
  {
   "cell_type": "markdown",
   "metadata": {},
   "source": [
    "Relevant data for this task for NA"
   ]
  },
  {
   "cell_type": "code",
   "execution_count": 15,
   "metadata": {},
   "outputs": [
    {
     "data": {
      "text/plain": [
       "(-0.4848421103797472, 0.0)"
      ]
     },
     "execution_count": 15,
     "metadata": {},
     "output_type": "execute_result"
    }
   ],
   "source": [
    "pearsonr(dfEU['gdp_per_capita'], dfEU['diabetes_prevalence']) #using pearsonr get correlation and p-value"
   ]
  },
  {
   "cell_type": "markdown",
   "metadata": {},
   "source": [
    "_Here is our correlation between GDP per capita and diabetes prevalence for Europe.\n",
    "The number onthe left is the correlation, while the number on the right is a p-value, which shows whether or not a correlation coefficient is statistically significant. The lower the p-value, the more significant it is._\n",
    "\n",
    "Based on the results, correlation between these two statistics is quite significant negatively which tells us that as values in the GDP per capita increase, the values in the Diabetes prevalence tend to decrease.\n",
    "\n",
    "Meaning that poorer countries in Europe tend to have more diabetic people."
   ]
  },
  {
   "cell_type": "code",
   "execution_count": 16,
   "metadata": {},
   "outputs": [
    {
     "data": {
      "text/plain": [
       "(0.08922275502977095, 2.077014318867439e-25)"
      ]
     },
     "execution_count": 16,
     "metadata": {},
     "output_type": "execute_result"
    }
   ],
   "source": [
    "pearsonr(dfNA['gdp_per_capita'], dfNA['diabetes_prevalence']) #using pearsonr get correlation and p-value"
   ]
  },
  {
   "cell_type": "markdown",
   "metadata": {},
   "source": [
    "_Here is our correlation between GDP per capita and diabetes prevalence for North America.\n",
    "The number on the left is the correlation, while the number on the right is a p-value, which shows whether or not a correlation coefficient is statistically significant. The lower the p-value, the more significant it is._\n",
    "\n",
    "Based on the results, correlation between these two statistics is very low which tells us that values are essentially unaffected by one another or are affected very slightly."
   ]
  },
  {
   "cell_type": "code",
   "execution_count": 17,
   "metadata": {
    "scrolled": true
   },
   "outputs": [
    {
     "data": {
      "image/png": "[encoded data removed]",
      "text/plain": [
       "<Figure size 432x288 with 1 Axes>"
      ]
     },
     "metadata": {
      "needs_background": "light"
     },
     "output_type": "display_data"
    }
   ],
   "source": [
    "fig = plt.figure()\n",
    "ax = fig.add_axes([0,0,1,1])\n",
    "conts = ['EU correlation', 'NA correlation']\n",
    "values = [dfEU['gdp_per_capita'].corr(dfEU['diabetes_prevalence']),dfNA['gdp_per_capita'].corr(dfNA['diabetes_prevalence'])]\n",
    "ax.bar(conts,values)\n",
    "plt.axhline(1)\n",
    "plt.axhline(-1) #drawing lines for min/0/max\n",
    "plt.axhline(0, color='gray')\n",
    "plt.title('EU and NA GDP per capita and diabetes correlation comparison')\n",
    "plt.xlabel('Continent')\n",
    "plt.ylabel('Correlation')\n",
    "plt.show()"
   ]
  },
  {
   "cell_type": "markdown",
   "metadata": {},
   "source": [
    "Same result in a graph. Can more clearly see that EU's correlation is significant, but negative, while NA's correlation is weak, but positive."
   ]
  },
  {
   "cell_type": "markdown",
   "metadata": {},
   "source": [
    "[back to the top](#main)\n",
    "<a id='Q3' name='Q3'></a>\n",
    "## 3. Can we predict the tests per case in Europe for countries with population higher than 5 million based on total cases, total deaths and stringency index?"
   ]
  },
  {
   "cell_type": "code",
   "execution_count": 18,
   "metadata": {},
   "outputs": [
    {
     "data": {
      "text/html": [
       "<div>\n",
       "<style scoped>\n",
       "    .dataframe tbody tr th:only-of-type {\n",
       "        vertical-align: middle;\n",
       "    }\n",
       "\n",
       "    .dataframe tbody tr th {\n",
       "        vertical-align: top;\n",
       "    }\n",
       "\n",
       "    .dataframe thead th {\n",
       "        text-align: right;\n",
       "    }\n",
       "</style>\n",
       "<table border=\"1\" class=\"dataframe\">\n",
       "  <thead>\n",
       "    <tr style=\"text-align: right;\">\n",
       "      <th></th>\n",
       "      <th>tests_per_case</th>\n",
       "      <th>total_cases</th>\n",
       "      <th>total_deaths</th>\n",
       "      <th>stringency_index</th>\n",
       "    </tr>\n",
       "    <tr>\n",
       "      <th>date</th>\n",
       "      <th></th>\n",
       "      <th></th>\n",
       "      <th></th>\n",
       "      <th></th>\n",
       "    </tr>\n",
       "  </thead>\n",
       "  <tbody>\n",
       "    <tr>\n",
       "      <th>2020-03-02</th>\n",
       "      <td>10.500000</td>\n",
       "      <td>2.036000e+03</td>\n",
       "      <td>52.000000</td>\n",
       "      <td>61.570000</td>\n",
       "    </tr>\n",
       "    <tr>\n",
       "      <th>2020-03-03</th>\n",
       "      <td>7.900000</td>\n",
       "      <td>2.502000e+03</td>\n",
       "      <td>79.000000</td>\n",
       "      <td>61.570000</td>\n",
       "    </tr>\n",
       "    <tr>\n",
       "      <th>2020-03-04</th>\n",
       "      <td>7.700000</td>\n",
       "      <td>3.089000e+03</td>\n",
       "      <td>107.000000</td>\n",
       "      <td>69.910000</td>\n",
       "    </tr>\n",
       "    <tr>\n",
       "      <th>2020-03-05</th>\n",
       "      <td>6.400000</td>\n",
       "      <td>3.858000e+03</td>\n",
       "      <td>148.000000</td>\n",
       "      <td>71.760000</td>\n",
       "    </tr>\n",
       "    <tr>\n",
       "      <th>2020-03-06</th>\n",
       "      <td>5.500000</td>\n",
       "      <td>4.636000e+03</td>\n",
       "      <td>197.000000</td>\n",
       "      <td>71.760000</td>\n",
       "    </tr>\n",
       "    <tr>\n",
       "      <th>...</th>\n",
       "      <td>...</td>\n",
       "      <td>...</td>\n",
       "      <td>...</td>\n",
       "      <td>...</td>\n",
       "    </tr>\n",
       "    <tr>\n",
       "      <th>2021-10-03</th>\n",
       "      <td>45.823529</td>\n",
       "      <td>1.517678e+06</td>\n",
       "      <td>31611.529412</td>\n",
       "      <td>40.548824</td>\n",
       "    </tr>\n",
       "    <tr>\n",
       "      <th>2021-10-04</th>\n",
       "      <td>56.175000</td>\n",
       "      <td>1.281612e+06</td>\n",
       "      <td>28105.583333</td>\n",
       "      <td>39.775000</td>\n",
       "    </tr>\n",
       "    <tr>\n",
       "      <th>2021-10-05</th>\n",
       "      <td>61.733333</td>\n",
       "      <td>1.357700e+06</td>\n",
       "      <td>30807.777778</td>\n",
       "      <td>39.350000</td>\n",
       "    </tr>\n",
       "    <tr>\n",
       "      <th>2021-10-06</th>\n",
       "      <td>71.385714</td>\n",
       "      <td>1.699498e+06</td>\n",
       "      <td>39348.714286</td>\n",
       "      <td>44.244286</td>\n",
       "    </tr>\n",
       "    <tr>\n",
       "      <th>2021-10-07</th>\n",
       "      <td>99.300000</td>\n",
       "      <td>4.692274e+06</td>\n",
       "      <td>131198.000000</td>\n",
       "      <td>68.980000</td>\n",
       "    </tr>\n",
       "  </tbody>\n",
       "</table>\n",
       "<p>585 rows × 4 columns</p>\n",
       "</div>"
      ],
      "text/plain": [
       "            tests_per_case   total_cases   total_deaths  stringency_index\n",
       "date                                                                     \n",
       "2020-03-02       10.500000  2.036000e+03      52.000000         61.570000\n",
       "2020-03-03        7.900000  2.502000e+03      79.000000         61.570000\n",
       "2020-03-04        7.700000  3.089000e+03     107.000000         69.910000\n",
       "2020-03-05        6.400000  3.858000e+03     148.000000         71.760000\n",
       "2020-03-06        5.500000  4.636000e+03     197.000000         71.760000\n",
       "...                    ...           ...            ...               ...\n",
       "2021-10-03       45.823529  1.517678e+06   31611.529412         40.548824\n",
       "2021-10-04       56.175000  1.281612e+06   28105.583333         39.775000\n",
       "2021-10-05       61.733333  1.357700e+06   30807.777778         39.350000\n",
       "2021-10-06       71.385714  1.699498e+06   39348.714286         44.244286\n",
       "2021-10-07       99.300000  4.692274e+06  131198.000000         68.980000\n",
       "\n",
       "[585 rows x 4 columns]"
      ]
     },
     "execution_count": 18,
     "metadata": {},
     "output_type": "execute_result"
    }
   ],
   "source": [
    "#Firstly we create a smaller table of data that we will use.\n",
    "dfp = dfNew\n",
    "rows = dfp['continent'] ==\"Europe\" #we select rows that have data about Europe\n",
    "columns = [\"continent\"] + [\"date\"] + [\"population\"] + [\"tests_per_case\"] + [\"total_cases\"] + [\"total_deaths\"] + [\"stringency_index\"] #we filter out relevant columns\n",
    "dfp = dfp.loc[rows, columns]  # retrieve selected rows and columns\n",
    "dfp = dfp[(dfp['population'] > 5000000)] #filter out relevant data\n",
    "dfp = dfp.dropna() # remove any rows without values\n",
    "dfp = dfp.groupby(\"date\", as_index=True)[['tests_per_case', 'total_cases', 'total_deaths', 'stringency_index']].mean() #clump all countries together by date and average out statistics\n",
    "dfp #print out the data frame"
   ]
  },
  {
   "cell_type": "markdown",
   "metadata": {},
   "source": [
    "We've got the table we'll be working with for this task."
   ]
  },
  {
   "cell_type": "code",
   "execution_count": 19,
   "metadata": {},
   "outputs": [
    {
     "data": {
      "text/plain": [
       "0.34756616686094854"
      ]
     },
     "execution_count": 19,
     "metadata": {},
     "output_type": "execute_result"
    }
   ],
   "source": [
    "X = dfp[['total_cases', 'total_deaths', 'stringency_index']] #split table into variables\n",
    "y = dfp['tests_per_case'] #split table into results\n",
    "X_train, X_test, y_train, y_test = train_test_split(X, y, test_size=0.2, random_state=133) #split it 20% test 80% train, with a \"133\" randomness seed\n",
    "\n",
    "regr = linear_model.LinearRegression() #assign model\n",
    "regr.fit(X_train, y_train) #train the model\n",
    "score = regr.score(X_test.values, y_test.values) #get training score\n",
    "score #show score"
   ]
  },
  {
   "cell_type": "markdown",
   "metadata": {},
   "source": [
    "We've split the table into training and tests, trained a LinearRegression model and got it's score of 0.347, which is decent, but most likely will only yield some basic tendencies."
   ]
  },
  {
   "cell_type": "code",
   "execution_count": 20,
   "metadata": {},
   "outputs": [
    {
     "data": {
      "text/html": [
       "<div>\n",
       "<style scoped>\n",
       "    .dataframe tbody tr th:only-of-type {\n",
       "        vertical-align: middle;\n",
       "    }\n",
       "\n",
       "    .dataframe tbody tr th {\n",
       "        vertical-align: top;\n",
       "    }\n",
       "\n",
       "    .dataframe thead th {\n",
       "        text-align: right;\n",
       "    }\n",
       "</style>\n",
       "<table border=\"1\" class=\"dataframe\">\n",
       "  <thead>\n",
       "    <tr style=\"text-align: right;\">\n",
       "      <th></th>\n",
       "      <th>prediction</th>\n",
       "    </tr>\n",
       "    <tr>\n",
       "      <th>date</th>\n",
       "      <th></th>\n",
       "    </tr>\n",
       "  </thead>\n",
       "  <tbody>\n",
       "    <tr>\n",
       "      <th>2020-07-20</th>\n",
       "      <td>112.953110</td>\n",
       "    </tr>\n",
       "    <tr>\n",
       "      <th>2020-11-15</th>\n",
       "      <td>36.812449</td>\n",
       "    </tr>\n",
       "    <tr>\n",
       "      <th>2020-06-22</th>\n",
       "      <td>118.253451</td>\n",
       "    </tr>\n",
       "    <tr>\n",
       "      <th>2020-05-31</th>\n",
       "      <td>77.438329</td>\n",
       "    </tr>\n",
       "    <tr>\n",
       "      <th>2020-03-31</th>\n",
       "      <td>-5.849489</td>\n",
       "    </tr>\n",
       "    <tr>\n",
       "      <th>...</th>\n",
       "      <td>...</td>\n",
       "    </tr>\n",
       "    <tr>\n",
       "      <th>2020-12-03</th>\n",
       "      <td>47.515036</td>\n",
       "    </tr>\n",
       "    <tr>\n",
       "      <th>2020-10-24</th>\n",
       "      <td>77.618488</td>\n",
       "    </tr>\n",
       "    <tr>\n",
       "      <th>2020-07-19</th>\n",
       "      <td>112.378071</td>\n",
       "    </tr>\n",
       "    <tr>\n",
       "      <th>2020-07-25</th>\n",
       "      <td>113.011150</td>\n",
       "    </tr>\n",
       "    <tr>\n",
       "      <th>2021-02-08</th>\n",
       "      <td>57.666711</td>\n",
       "    </tr>\n",
       "  </tbody>\n",
       "</table>\n",
       "<p>117 rows × 1 columns</p>\n",
       "</div>"
      ],
      "text/plain": [
       "            prediction\n",
       "date                  \n",
       "2020-07-20  112.953110\n",
       "2020-11-15   36.812449\n",
       "2020-06-22  118.253451\n",
       "2020-05-31   77.438329\n",
       "2020-03-31   -5.849489\n",
       "...                ...\n",
       "2020-12-03   47.515036\n",
       "2020-10-24   77.618488\n",
       "2020-07-19  112.378071\n",
       "2020-07-25  113.011150\n",
       "2021-02-08   57.666711\n",
       "\n",
       "[117 rows x 1 columns]"
      ]
     },
     "execution_count": 20,
     "metadata": {},
     "output_type": "execute_result"
    }
   ],
   "source": [
    "y_prediction = pd.DataFrame((regr.predict(X_test)), columns=['prediction']) #make predictions with test variables\n",
    "y_prediction.index=y_test.index #make indexes in the tables same\n",
    "y_prediction #show got results"
   ]
  },
  {
   "cell_type": "markdown",
   "metadata": {},
   "source": [
    "This is a table of predictions we've got by using the test the model we've trained and test variables."
   ]
  },
  {
   "cell_type": "code",
   "execution_count": 21,
   "metadata": {},
   "outputs": [
    {
     "data": {
      "image/png": "[encoded data removed]",
      "text/plain": [
       "<Figure size 1080x504 with 1 Axes>"
      ]
     },
     "metadata": {
      "needs_background": "light"
     },
     "output_type": "display_data"
    }
   ],
   "source": [
    "fig,ax = plt.subplots() #make a figure\n",
    "y_test.plot(figsize=(15,7), title=f\"real values vs predictions with score: {score}\", label='real tests per case', ax=ax) #add real results\n",
    "y_prediction.plot(figsize=(15,7), title=f\"real values vs predictions with score: {score}\", ylabel=\"tests per case\", xlabel=\"date\", ax=ax) #add predictions\n",
    "plt.legend() #add a legend\n",
    "plt.show() #show figure"
   ]
  },
  {
   "cell_type": "markdown",
   "metadata": {},
   "source": [
    "And here is our final result graph. As already noticed from the model score, the multiple regression model was able to only predict tendencies, vaguely following the real graph. Bigger training data and picking variables that correlate with tests per case better could improve the predictions. Nonetheless, using what we have, the model was still able to predict somewhat resembling data."
   ]
  },
  {
   "cell_type": "markdown",
   "metadata": {},
   "source": [
    "[back to the top](#main)"
   ]
  }
 ],
 "metadata": {
  "interpreter": {
   "hash": "31988ec4efb078c568e270cbee2e0369cb9699924389bb9f96dad601ce81bab9"
  },
  "kernelspec": {
   "display_name": "Python 3",
   "language": "python",
   "name": "python3"
  },
  "language_info": {
   "codemirror_mode": {
    "name": "ipython",
    "version": 3
   },
   "file_extension": ".py",
   "mimetype": "text/x-python",
   "name": "python",
   "nbconvert_exporter": "python",
   "pygments_lexer": "ipython3",
   "version": "3.9.5"
  }
 },
 "nbformat": 4,
 "nbformat_minor": 4
}
